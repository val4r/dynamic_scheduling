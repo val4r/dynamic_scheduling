{
 "cells": [
  {
   "cell_type": "code",
   "execution_count": 1,
   "id": "ab380f79-888c-40dd-bd98-2374258d0e56",
   "metadata": {},
   "outputs": [],
   "source": [
    "using CSV\n",
    "using DataFrames"
   ]
  },
  {
   "cell_type": "code",
   "execution_count": 2,
   "id": "9bc1bcfe-6ecf-47f1-b5f6-e6c536204233",
   "metadata": {},
   "outputs": [
    {
     "data": {
      "text/plain": [
       "bottleneck_metrics (generic function with 1 method)"
      ]
     },
     "execution_count": 2,
     "metadata": {},
     "output_type": "execute_result"
    }
   ],
   "source": [
    "include(\"create_model.jl\")\n",
    "include(\"structures.jl\")\n",
    "include(\"visualization_functions.jl\")\n",
    "include(\"auxiliary_functions.jl\")"
   ]
  },
  {
   "cell_type": "code",
   "execution_count": 3,
   "id": "7d0d4207-d164-42b8-b52c-a0ebbfdb0836",
   "metadata": {},
   "outputs": [
    {
     "data": {
      "text/html": [
       "<div><div style = \"float: left;\"><span>3468×16 DataFrame</span></div><div style = \"float: right;\"><span style = \"font-style: italic;\">3443 rows omitted</span></div><div style = \"clear: both;\"></div></div><div class = \"data-frame\" style = \"overflow-x: scroll;\"><table class = \"data-frame\" style = \"margin-bottom: 6px;\"><thead><tr class = \"header\"><th class = \"rowNumber\" style = \"font-weight: bold; text-align: right;\">Row</th><th style = \"text-align: left;\">Order</th><th style = \"text-align: left;\">Job</th><th style = \"text-align: left;\">Path</th><th style = \"text-align: left;\">Arrival</th><th style = \"text-align: left;\">Resource_idx</th><th style = \"text-align: left;\">Resource_2</th><th style = \"text-align: left;\">Resource_3</th><th style = \"text-align: left;\">Resource_4</th><th style = \"text-align: left;\">Resource_5</th><th style = \"text-align: left;\">Resource_6</th><th style = \"text-align: left;\">Resource_7</th><th style = \"text-align: left;\">job_WC</th><th style = \"text-align: left;\">Duration</th><th style = \"text-align: left;\">MinDelivery</th><th style = \"text-align: left;\">Slack</th><th style = \"text-align: left;\">Duedate</th></tr><tr class = \"subheader headerLastRow\"><th class = \"rowNumber\" style = \"font-weight: bold; text-align: right;\"></th><th title = \"Int64\" style = \"text-align: left;\">Int64</th><th title = \"Int64\" style = \"text-align: left;\">Int64</th><th title = \"Int64\" style = \"text-align: left;\">Int64</th><th title = \"Int64\" style = \"text-align: left;\">Int64</th><th title = \"Int64\" style = \"text-align: left;\">Int64</th><th title = \"Float64\" style = \"text-align: left;\">Float64</th><th title = \"Float64\" style = \"text-align: left;\">Float64</th><th title = \"Float64\" style = \"text-align: left;\">Float64</th><th title = \"Float64\" style = \"text-align: left;\">Float64</th><th title = \"Float64\" style = \"text-align: left;\">Float64</th><th title = \"Float64\" style = \"text-align: left;\">Float64</th><th title = \"Float64\" style = \"text-align: left;\">Float64</th><th title = \"Int64\" style = \"text-align: left;\">Int64</th><th title = \"Int64\" style = \"text-align: left;\">Int64</th><th title = \"Float64\" style = \"text-align: left;\">Float64</th><th title = \"Int64\" style = \"text-align: left;\">Int64</th></tr></thead><tbody><tr><td class = \"rowNumber\" style = \"font-weight: bold; text-align: right;\">1</td><td style = \"text-align: right;\">1</td><td style = \"text-align: right;\">1</td><td style = \"text-align: right;\">9</td><td style = \"text-align: right;\">1</td><td style = \"text-align: right;\">3</td><td style = \"text-align: right;\">0.0</td><td style = \"text-align: right;\">5.98325</td><td style = \"text-align: right;\">0.0</td><td style = \"text-align: right;\">0.0</td><td style = \"text-align: right;\">0.0</td><td style = \"text-align: right;\">0.0</td><td style = \"text-align: right;\">5.98325</td><td style = \"text-align: right;\">2</td><td style = \"text-align: right;\">6</td><td style = \"text-align: right;\">3.0</td><td style = \"text-align: right;\">10</td></tr><tr><td class = \"rowNumber\" style = \"font-weight: bold; text-align: right;\">2</td><td style = \"text-align: right;\">1</td><td style = \"text-align: right;\">2</td><td style = \"text-align: right;\">9</td><td style = \"text-align: right;\">1</td><td style = \"text-align: right;\">5</td><td style = \"text-align: right;\">0.0</td><td style = \"text-align: right;\">0.0</td><td style = \"text-align: right;\">0.0</td><td style = \"text-align: right;\">3.99601</td><td style = \"text-align: right;\">0.0</td><td style = \"text-align: right;\">0.0</td><td style = \"text-align: right;\">3.99601</td><td style = \"text-align: right;\">2</td><td style = \"text-align: right;\">6</td><td style = \"text-align: right;\">3.0</td><td style = \"text-align: right;\">10</td></tr><tr><td class = \"rowNumber\" style = \"font-weight: bold; text-align: right;\">3</td><td style = \"text-align: right;\">1</td><td style = \"text-align: right;\">3</td><td style = \"text-align: right;\">9</td><td style = \"text-align: right;\">1</td><td style = \"text-align: right;\">7</td><td style = \"text-align: right;\">0.0</td><td style = \"text-align: right;\">0.0</td><td style = \"text-align: right;\">0.0</td><td style = \"text-align: right;\">0.0</td><td style = \"text-align: right;\">0.0</td><td style = \"text-align: right;\">0.577784</td><td style = \"text-align: right;\">0.577784</td><td style = \"text-align: right;\">2</td><td style = \"text-align: right;\">6</td><td style = \"text-align: right;\">3.0</td><td style = \"text-align: right;\">10</td></tr><tr><td class = \"rowNumber\" style = \"font-weight: bold; text-align: right;\">4</td><td style = \"text-align: right;\">2</td><td style = \"text-align: right;\">4</td><td style = \"text-align: right;\">6</td><td style = \"text-align: right;\">1</td><td style = \"text-align: right;\">2</td><td style = \"text-align: right;\">8.1297</td><td style = \"text-align: right;\">0.0</td><td style = \"text-align: right;\">0.0</td><td style = \"text-align: right;\">0.0</td><td style = \"text-align: right;\">0.0</td><td style = \"text-align: right;\">0.0</td><td style = \"text-align: right;\">8.1297</td><td style = \"text-align: right;\">4</td><td style = \"text-align: right;\">7</td><td style = \"text-align: right;\">3.05</td><td style = \"text-align: right;\">12</td></tr><tr><td class = \"rowNumber\" style = \"font-weight: bold; text-align: right;\">5</td><td style = \"text-align: right;\">2</td><td style = \"text-align: right;\">5</td><td style = \"text-align: right;\">6</td><td style = \"text-align: right;\">1</td><td style = \"text-align: right;\">3</td><td style = \"text-align: right;\">0.0</td><td style = \"text-align: right;\">4.45847</td><td style = \"text-align: right;\">0.0</td><td style = \"text-align: right;\">0.0</td><td style = \"text-align: right;\">0.0</td><td style = \"text-align: right;\">0.0</td><td style = \"text-align: right;\">4.45847</td><td style = \"text-align: right;\">1</td><td style = \"text-align: right;\">7</td><td style = \"text-align: right;\">3.05</td><td style = \"text-align: right;\">12</td></tr><tr><td class = \"rowNumber\" style = \"font-weight: bold; text-align: right;\">6</td><td style = \"text-align: right;\">2</td><td style = \"text-align: right;\">6</td><td style = \"text-align: right;\">6</td><td style = \"text-align: right;\">1</td><td style = \"text-align: right;\">7</td><td style = \"text-align: right;\">0.0</td><td style = \"text-align: right;\">0.0</td><td style = \"text-align: right;\">0.0</td><td style = \"text-align: right;\">0.0</td><td style = \"text-align: right;\">0.0</td><td style = \"text-align: right;\">0.702172</td><td style = \"text-align: right;\">0.702172</td><td style = \"text-align: right;\">2</td><td style = \"text-align: right;\">7</td><td style = \"text-align: right;\">3.05</td><td style = \"text-align: right;\">12</td></tr><tr><td class = \"rowNumber\" style = \"font-weight: bold; text-align: right;\">7</td><td style = \"text-align: right;\">3</td><td style = \"text-align: right;\">7</td><td style = \"text-align: right;\">6</td><td style = \"text-align: right;\">1</td><td style = \"text-align: right;\">2</td><td style = \"text-align: right;\">1.79666</td><td style = \"text-align: right;\">0.0</td><td style = \"text-align: right;\">0.0</td><td style = \"text-align: right;\">0.0</td><td style = \"text-align: right;\">0.0</td><td style = \"text-align: right;\">0.0</td><td style = \"text-align: right;\">1.79666</td><td style = \"text-align: right;\">1</td><td style = \"text-align: right;\">5</td><td style = \"text-align: right;\">2.05</td><td style = \"text-align: right;\">9</td></tr><tr><td class = \"rowNumber\" style = \"font-weight: bold; text-align: right;\">8</td><td style = \"text-align: right;\">3</td><td style = \"text-align: right;\">8</td><td style = \"text-align: right;\">6</td><td style = \"text-align: right;\">1</td><td style = \"text-align: right;\">3</td><td style = \"text-align: right;\">0.0</td><td style = \"text-align: right;\">5.01364</td><td style = \"text-align: right;\">0.0</td><td style = \"text-align: right;\">0.0</td><td style = \"text-align: right;\">0.0</td><td style = \"text-align: right;\">0.0</td><td style = \"text-align: right;\">5.01364</td><td style = \"text-align: right;\">2</td><td style = \"text-align: right;\">5</td><td style = \"text-align: right;\">2.05</td><td style = \"text-align: right;\">9</td></tr><tr><td class = \"rowNumber\" style = \"font-weight: bold; text-align: right;\">9</td><td style = \"text-align: right;\">3</td><td style = \"text-align: right;\">9</td><td style = \"text-align: right;\">6</td><td style = \"text-align: right;\">1</td><td style = \"text-align: right;\">7</td><td style = \"text-align: right;\">0.0</td><td style = \"text-align: right;\">0.0</td><td style = \"text-align: right;\">0.0</td><td style = \"text-align: right;\">0.0</td><td style = \"text-align: right;\">0.0</td><td style = \"text-align: right;\">1.20562</td><td style = \"text-align: right;\">1.20562</td><td style = \"text-align: right;\">2</td><td style = \"text-align: right;\">5</td><td style = \"text-align: right;\">2.05</td><td style = \"text-align: right;\">9</td></tr><tr><td class = \"rowNumber\" style = \"font-weight: bold; text-align: right;\">10</td><td style = \"text-align: right;\">4</td><td style = \"text-align: right;\">10</td><td style = \"text-align: right;\">9</td><td style = \"text-align: right;\">1</td><td style = \"text-align: right;\">3</td><td style = \"text-align: right;\">0.0</td><td style = \"text-align: right;\">4.98846</td><td style = \"text-align: right;\">0.0</td><td style = \"text-align: right;\">0.0</td><td style = \"text-align: right;\">0.0</td><td style = \"text-align: right;\">0.0</td><td style = \"text-align: right;\">4.98846</td><td style = \"text-align: right;\">2</td><td style = \"text-align: right;\">9</td><td style = \"text-align: right;\">4.05</td><td style = \"text-align: right;\">15</td></tr><tr><td class = \"rowNumber\" style = \"font-weight: bold; text-align: right;\">11</td><td style = \"text-align: right;\">4</td><td style = \"text-align: right;\">11</td><td style = \"text-align: right;\">9</td><td style = \"text-align: right;\">1</td><td style = \"text-align: right;\">5</td><td style = \"text-align: right;\">0.0</td><td style = \"text-align: right;\">0.0</td><td style = \"text-align: right;\">0.0</td><td style = \"text-align: right;\">11.7626</td><td style = \"text-align: right;\">0.0</td><td style = \"text-align: right;\">0.0</td><td style = \"text-align: right;\">11.7626</td><td style = \"text-align: right;\">5</td><td style = \"text-align: right;\">9</td><td style = \"text-align: right;\">4.05</td><td style = \"text-align: right;\">15</td></tr><tr><td class = \"rowNumber\" style = \"font-weight: bold; text-align: right;\">12</td><td style = \"text-align: right;\">4</td><td style = \"text-align: right;\">12</td><td style = \"text-align: right;\">9</td><td style = \"text-align: right;\">1</td><td style = \"text-align: right;\">7</td><td style = \"text-align: right;\">0.0</td><td style = \"text-align: right;\">0.0</td><td style = \"text-align: right;\">0.0</td><td style = \"text-align: right;\">0.0</td><td style = \"text-align: right;\">0.0</td><td style = \"text-align: right;\">0.606213</td><td style = \"text-align: right;\">0.606213</td><td style = \"text-align: right;\">2</td><td style = \"text-align: right;\">9</td><td style = \"text-align: right;\">4.05</td><td style = \"text-align: right;\">15</td></tr><tr><td class = \"rowNumber\" style = \"font-weight: bold; text-align: right;\">13</td><td style = \"text-align: right;\">5</td><td style = \"text-align: right;\">13</td><td style = \"text-align: right;\">9</td><td style = \"text-align: right;\">1</td><td style = \"text-align: right;\">3</td><td style = \"text-align: right;\">0.0</td><td style = \"text-align: right;\">7.32977</td><td style = \"text-align: right;\">0.0</td><td style = \"text-align: right;\">0.0</td><td style = \"text-align: right;\">0.0</td><td style = \"text-align: right;\">0.0</td><td style = \"text-align: right;\">7.32977</td><td style = \"text-align: right;\">2</td><td style = \"text-align: right;\">6</td><td style = \"text-align: right;\">3.0</td><td style = \"text-align: right;\">10</td></tr><tr><td style = \"text-align: right;\">&vellip;</td><td style = \"text-align: right;\">&vellip;</td><td style = \"text-align: right;\">&vellip;</td><td style = \"text-align: right;\">&vellip;</td><td style = \"text-align: right;\">&vellip;</td><td style = \"text-align: right;\">&vellip;</td><td style = \"text-align: right;\">&vellip;</td><td style = \"text-align: right;\">&vellip;</td><td style = \"text-align: right;\">&vellip;</td><td style = \"text-align: right;\">&vellip;</td><td style = \"text-align: right;\">&vellip;</td><td style = \"text-align: right;\">&vellip;</td><td style = \"text-align: right;\">&vellip;</td><td style = \"text-align: right;\">&vellip;</td><td style = \"text-align: right;\">&vellip;</td><td style = \"text-align: right;\">&vellip;</td><td style = \"text-align: right;\">&vellip;</td></tr><tr><td class = \"rowNumber\" style = \"font-weight: bold; text-align: right;\">3457</td><td style = \"text-align: right;\">997</td><td style = \"text-align: right;\">3457</td><td style = \"text-align: right;\">6</td><td style = \"text-align: right;\">101</td><td style = \"text-align: right;\">2</td><td style = \"text-align: right;\">9.25951</td><td style = \"text-align: right;\">0.0</td><td style = \"text-align: right;\">0.0</td><td style = \"text-align: right;\">0.0</td><td style = \"text-align: right;\">0.0</td><td style = \"text-align: right;\">0.0</td><td style = \"text-align: right;\">9.25951</td><td style = \"text-align: right;\">4</td><td style = \"text-align: right;\">7</td><td style = \"text-align: right;\">3.05</td><td style = \"text-align: right;\">112</td></tr><tr><td class = \"rowNumber\" style = \"font-weight: bold; text-align: right;\">3458</td><td style = \"text-align: right;\">997</td><td style = \"text-align: right;\">3458</td><td style = \"text-align: right;\">6</td><td style = \"text-align: right;\">101</td><td style = \"text-align: right;\">3</td><td style = \"text-align: right;\">0.0</td><td style = \"text-align: right;\">2.48693</td><td style = \"text-align: right;\">0.0</td><td style = \"text-align: right;\">0.0</td><td style = \"text-align: right;\">0.0</td><td style = \"text-align: right;\">0.0</td><td style = \"text-align: right;\">2.48693</td><td style = \"text-align: right;\">1</td><td style = \"text-align: right;\">7</td><td style = \"text-align: right;\">3.05</td><td style = \"text-align: right;\">112</td></tr><tr><td class = \"rowNumber\" style = \"font-weight: bold; text-align: right;\">3459</td><td style = \"text-align: right;\">997</td><td style = \"text-align: right;\">3459</td><td style = \"text-align: right;\">6</td><td style = \"text-align: right;\">101</td><td style = \"text-align: right;\">7</td><td style = \"text-align: right;\">0.0</td><td style = \"text-align: right;\">0.0</td><td style = \"text-align: right;\">0.0</td><td style = \"text-align: right;\">0.0</td><td style = \"text-align: right;\">0.0</td><td style = \"text-align: right;\">0.926368</td><td style = \"text-align: right;\">0.926368</td><td style = \"text-align: right;\">2</td><td style = \"text-align: right;\">7</td><td style = \"text-align: right;\">3.05</td><td style = \"text-align: right;\">112</td></tr><tr><td class = \"rowNumber\" style = \"font-weight: bold; text-align: right;\">3460</td><td style = \"text-align: right;\">998</td><td style = \"text-align: right;\">3460</td><td style = \"text-align: right;\">8</td><td style = \"text-align: right;\">102</td><td style = \"text-align: right;\">3</td><td style = \"text-align: right;\">0.0</td><td style = \"text-align: right;\">9.57554</td><td style = \"text-align: right;\">0.0</td><td style = \"text-align: right;\">0.0</td><td style = \"text-align: right;\">0.0</td><td style = \"text-align: right;\">0.0</td><td style = \"text-align: right;\">9.57554</td><td style = \"text-align: right;\">2</td><td style = \"text-align: right;\">8</td><td style = \"text-align: right;\">4.0</td><td style = \"text-align: right;\">114</td></tr><tr><td class = \"rowNumber\" style = \"font-weight: bold; text-align: right;\">3461</td><td style = \"text-align: right;\">998</td><td style = \"text-align: right;\">3461</td><td style = \"text-align: right;\">8</td><td style = \"text-align: right;\">102</td><td style = \"text-align: right;\">4</td><td style = \"text-align: right;\">0.0</td><td style = \"text-align: right;\">0.0</td><td style = \"text-align: right;\">9.22183</td><td style = \"text-align: right;\">0.0</td><td style = \"text-align: right;\">0.0</td><td style = \"text-align: right;\">0.0</td><td style = \"text-align: right;\">9.22183</td><td style = \"text-align: right;\">4</td><td style = \"text-align: right;\">8</td><td style = \"text-align: right;\">4.0</td><td style = \"text-align: right;\">114</td></tr><tr><td class = \"rowNumber\" style = \"font-weight: bold; text-align: right;\">3462</td><td style = \"text-align: right;\">998</td><td style = \"text-align: right;\">3462</td><td style = \"text-align: right;\">8</td><td style = \"text-align: right;\">102</td><td style = \"text-align: right;\">7</td><td style = \"text-align: right;\">0.0</td><td style = \"text-align: right;\">0.0</td><td style = \"text-align: right;\">0.0</td><td style = \"text-align: right;\">0.0</td><td style = \"text-align: right;\">0.0</td><td style = \"text-align: right;\">1.05807</td><td style = \"text-align: right;\">1.05807</td><td style = \"text-align: right;\">2</td><td style = \"text-align: right;\">8</td><td style = \"text-align: right;\">4.0</td><td style = \"text-align: right;\">114</td></tr><tr><td class = \"rowNumber\" style = \"font-weight: bold; text-align: right;\">3463</td><td style = \"text-align: right;\">999</td><td style = \"text-align: right;\">3463</td><td style = \"text-align: right;\">9</td><td style = \"text-align: right;\">102</td><td style = \"text-align: right;\">3</td><td style = \"text-align: right;\">0.0</td><td style = \"text-align: right;\">3.25427</td><td style = \"text-align: right;\">0.0</td><td style = \"text-align: right;\">0.0</td><td style = \"text-align: right;\">0.0</td><td style = \"text-align: right;\">0.0</td><td style = \"text-align: right;\">3.25427</td><td style = \"text-align: right;\">1</td><td style = \"text-align: right;\">5</td><td style = \"text-align: right;\">2.05</td><td style = \"text-align: right;\">110</td></tr><tr><td class = \"rowNumber\" style = \"font-weight: bold; text-align: right;\">3464</td><td style = \"text-align: right;\">999</td><td style = \"text-align: right;\">3464</td><td style = \"text-align: right;\">9</td><td style = \"text-align: right;\">102</td><td style = \"text-align: right;\">5</td><td style = \"text-align: right;\">0.0</td><td style = \"text-align: right;\">0.0</td><td style = \"text-align: right;\">0.0</td><td style = \"text-align: right;\">4.72311</td><td style = \"text-align: right;\">0.0</td><td style = \"text-align: right;\">0.0</td><td style = \"text-align: right;\">4.72311</td><td style = \"text-align: right;\">2</td><td style = \"text-align: right;\">5</td><td style = \"text-align: right;\">2.05</td><td style = \"text-align: right;\">110</td></tr><tr><td class = \"rowNumber\" style = \"font-weight: bold; text-align: right;\">3465</td><td style = \"text-align: right;\">999</td><td style = \"text-align: right;\">3465</td><td style = \"text-align: right;\">9</td><td style = \"text-align: right;\">102</td><td style = \"text-align: right;\">7</td><td style = \"text-align: right;\">0.0</td><td style = \"text-align: right;\">0.0</td><td style = \"text-align: right;\">0.0</td><td style = \"text-align: right;\">0.0</td><td style = \"text-align: right;\">0.0</td><td style = \"text-align: right;\">0.190569</td><td style = \"text-align: right;\">0.190569</td><td style = \"text-align: right;\">2</td><td style = \"text-align: right;\">5</td><td style = \"text-align: right;\">2.05</td><td style = \"text-align: right;\">110</td></tr><tr><td class = \"rowNumber\" style = \"font-weight: bold; text-align: right;\">3466</td><td style = \"text-align: right;\">1000</td><td style = \"text-align: right;\">3466</td><td style = \"text-align: right;\">9</td><td style = \"text-align: right;\">102</td><td style = \"text-align: right;\">3</td><td style = \"text-align: right;\">0.0</td><td style = \"text-align: right;\">3.65764</td><td style = \"text-align: right;\">0.0</td><td style = \"text-align: right;\">0.0</td><td style = \"text-align: right;\">0.0</td><td style = \"text-align: right;\">0.0</td><td style = \"text-align: right;\">3.65764</td><td style = \"text-align: right;\">1</td><td style = \"text-align: right;\">5</td><td style = \"text-align: right;\">2.05</td><td style = \"text-align: right;\">110</td></tr><tr><td class = \"rowNumber\" style = \"font-weight: bold; text-align: right;\">3467</td><td style = \"text-align: right;\">1000</td><td style = \"text-align: right;\">3467</td><td style = \"text-align: right;\">9</td><td style = \"text-align: right;\">102</td><td style = \"text-align: right;\">5</td><td style = \"text-align: right;\">0.0</td><td style = \"text-align: right;\">0.0</td><td style = \"text-align: right;\">0.0</td><td style = \"text-align: right;\">3.30983</td><td style = \"text-align: right;\">0.0</td><td style = \"text-align: right;\">0.0</td><td style = \"text-align: right;\">3.30983</td><td style = \"text-align: right;\">2</td><td style = \"text-align: right;\">5</td><td style = \"text-align: right;\">2.05</td><td style = \"text-align: right;\">110</td></tr><tr><td class = \"rowNumber\" style = \"font-weight: bold; text-align: right;\">3468</td><td style = \"text-align: right;\">1000</td><td style = \"text-align: right;\">3468</td><td style = \"text-align: right;\">9</td><td style = \"text-align: right;\">102</td><td style = \"text-align: right;\">7</td><td style = \"text-align: right;\">0.0</td><td style = \"text-align: right;\">0.0</td><td style = \"text-align: right;\">0.0</td><td style = \"text-align: right;\">0.0</td><td style = \"text-align: right;\">0.0</td><td style = \"text-align: right;\">1.38545</td><td style = \"text-align: right;\">1.38545</td><td style = \"text-align: right;\">2</td><td style = \"text-align: right;\">5</td><td style = \"text-align: right;\">2.05</td><td style = \"text-align: right;\">110</td></tr></tbody></table></div>"
      ],
      "text/latex": [
       "\\begin{tabular}{r|ccccccccc}\n",
       "\t& Order & Job & Path & Arrival & Resource\\_idx & Resource\\_2 & Resource\\_3 & Resource\\_4 & \\\\\n",
       "\t\\hline\n",
       "\t& Int64 & Int64 & Int64 & Int64 & Int64 & Float64 & Float64 & Float64 & \\\\\n",
       "\t\\hline\n",
       "\t1 & 1 & 1 & 9 & 1 & 3 & 0.0 & 5.98325 & 0.0 & $\\dots$ \\\\\n",
       "\t2 & 1 & 2 & 9 & 1 & 5 & 0.0 & 0.0 & 0.0 & $\\dots$ \\\\\n",
       "\t3 & 1 & 3 & 9 & 1 & 7 & 0.0 & 0.0 & 0.0 & $\\dots$ \\\\\n",
       "\t4 & 2 & 4 & 6 & 1 & 2 & 8.1297 & 0.0 & 0.0 & $\\dots$ \\\\\n",
       "\t5 & 2 & 5 & 6 & 1 & 3 & 0.0 & 4.45847 & 0.0 & $\\dots$ \\\\\n",
       "\t6 & 2 & 6 & 6 & 1 & 7 & 0.0 & 0.0 & 0.0 & $\\dots$ \\\\\n",
       "\t7 & 3 & 7 & 6 & 1 & 2 & 1.79666 & 0.0 & 0.0 & $\\dots$ \\\\\n",
       "\t8 & 3 & 8 & 6 & 1 & 3 & 0.0 & 5.01364 & 0.0 & $\\dots$ \\\\\n",
       "\t9 & 3 & 9 & 6 & 1 & 7 & 0.0 & 0.0 & 0.0 & $\\dots$ \\\\\n",
       "\t10 & 4 & 10 & 9 & 1 & 3 & 0.0 & 4.98846 & 0.0 & $\\dots$ \\\\\n",
       "\t11 & 4 & 11 & 9 & 1 & 5 & 0.0 & 0.0 & 0.0 & $\\dots$ \\\\\n",
       "\t12 & 4 & 12 & 9 & 1 & 7 & 0.0 & 0.0 & 0.0 & $\\dots$ \\\\\n",
       "\t13 & 5 & 13 & 9 & 1 & 3 & 0.0 & 7.32977 & 0.0 & $\\dots$ \\\\\n",
       "\t14 & 5 & 14 & 9 & 1 & 5 & 0.0 & 0.0 & 0.0 & $\\dots$ \\\\\n",
       "\t15 & 5 & 15 & 9 & 1 & 7 & 0.0 & 0.0 & 0.0 & $\\dots$ \\\\\n",
       "\t16 & 6 & 16 & 3 & 1 & 2 & 3.66406 & 0.0 & 0.0 & $\\dots$ \\\\\n",
       "\t17 & 6 & 17 & 3 & 1 & 3 & 0.0 & 3.60958 & 0.0 & $\\dots$ \\\\\n",
       "\t18 & 6 & 18 & 3 & 1 & 5 & 0.0 & 0.0 & 0.0 & $\\dots$ \\\\\n",
       "\t19 & 6 & 19 & 3 & 1 & 7 & 0.0 & 0.0 & 0.0 & $\\dots$ \\\\\n",
       "\t20 & 7 & 20 & 8 & 1 & 3 & 0.0 & 3.11727 & 0.0 & $\\dots$ \\\\\n",
       "\t21 & 7 & 21 & 8 & 1 & 4 & 0.0 & 0.0 & 4.94525 & $\\dots$ \\\\\n",
       "\t22 & 7 & 22 & 8 & 1 & 7 & 0.0 & 0.0 & 0.0 & $\\dots$ \\\\\n",
       "\t23 & 8 & 23 & 9 & 2 & 3 & 0.0 & 3.91279 & 0.0 & $\\dots$ \\\\\n",
       "\t24 & 8 & 24 & 9 & 2 & 5 & 0.0 & 0.0 & 0.0 & $\\dots$ \\\\\n",
       "\t25 & 8 & 25 & 9 & 2 & 7 & 0.0 & 0.0 & 0.0 & $\\dots$ \\\\\n",
       "\t26 & 9 & 26 & 6 & 2 & 2 & 5.66074 & 0.0 & 0.0 & $\\dots$ \\\\\n",
       "\t27 & 9 & 27 & 6 & 2 & 3 & 0.0 & 6.52914 & 0.0 & $\\dots$ \\\\\n",
       "\t28 & 9 & 28 & 6 & 2 & 7 & 0.0 & 0.0 & 0.0 & $\\dots$ \\\\\n",
       "\t29 & 10 & 29 & 4 & 2 & 2 & 6.89443 & 0.0 & 0.0 & $\\dots$ \\\\\n",
       "\t30 & 10 & 30 & 4 & 2 & 3 & 0.0 & 7.3972 & 0.0 & $\\dots$ \\\\\n",
       "\t$\\dots$ & $\\dots$ & $\\dots$ & $\\dots$ & $\\dots$ & $\\dots$ & $\\dots$ & $\\dots$ & $\\dots$ &  \\\\\n",
       "\\end{tabular}\n"
      ],
      "text/plain": [
       "\u001b[1m3468×16 DataFrame\u001b[0m\n",
       "\u001b[1m  Row \u001b[0m│\u001b[1m Order \u001b[0m\u001b[1m Job   \u001b[0m\u001b[1m Path  \u001b[0m\u001b[1m Arrival \u001b[0m\u001b[1m Resource_idx \u001b[0m\u001b[1m Resource_2 \u001b[0m\u001b[1m Resource_3 \u001b[0m\u001b[1m Re\u001b[0m ⋯\n",
       "      │\u001b[90m Int64 \u001b[0m\u001b[90m Int64 \u001b[0m\u001b[90m Int64 \u001b[0m\u001b[90m Int64   \u001b[0m\u001b[90m Int64        \u001b[0m\u001b[90m Float64    \u001b[0m\u001b[90m Float64    \u001b[0m\u001b[90m Fl\u001b[0m ⋯\n",
       "──────┼─────────────────────────────────────────────────────────────────────────\n",
       "    1 │     1      1      9        1             3     0.0         5.98325     ⋯\n",
       "    2 │     1      2      9        1             5     0.0         0.0\n",
       "    3 │     1      3      9        1             7     0.0         0.0\n",
       "    4 │     2      4      6        1             2     8.1297      0.0\n",
       "    5 │     2      5      6        1             3     0.0         4.45847     ⋯\n",
       "    6 │     2      6      6        1             7     0.0         0.0\n",
       "    7 │     3      7      6        1             2     1.79666     0.0\n",
       "    8 │     3      8      6        1             3     0.0         5.01364\n",
       "    9 │     3      9      6        1             7     0.0         0.0         ⋯\n",
       "   10 │     4     10      9        1             3     0.0         4.98846\n",
       "   11 │     4     11      9        1             5     0.0         0.0\n",
       "  ⋮   │   ⋮      ⋮      ⋮       ⋮          ⋮            ⋮           ⋮          ⋱\n",
       " 3459 │   997   3459      6      101             7     0.0         0.0\n",
       " 3460 │   998   3460      8      102             3     0.0         9.57554     ⋯\n",
       " 3461 │   998   3461      8      102             4     0.0         0.0\n",
       " 3462 │   998   3462      8      102             7     0.0         0.0\n",
       " 3463 │   999   3463      9      102             3     0.0         3.25427\n",
       " 3464 │   999   3464      9      102             5     0.0         0.0         ⋯\n",
       " 3465 │   999   3465      9      102             7     0.0         0.0\n",
       " 3466 │  1000   3466      9      102             3     0.0         3.65764\n",
       " 3467 │  1000   3467      9      102             5     0.0         0.0\n",
       " 3468 │  1000   3468      9      102             7     0.0         0.0         ⋯\n",
       "\u001b[36m                                                 9 columns and 3447 rows omitted\u001b[0m"
      ]
     },
     "execution_count": 3,
     "metadata": {},
     "output_type": "execute_result"
    }
   ],
   "source": [
    "#NEW DATA:\n",
    "newdata = CSV.read(\"data/input_data/input_data_30-10-2024_seed_42.csv\", DataFrame; delim=';')"
   ]
  },
  {
   "cell_type": "code",
   "execution_count": 4,
   "id": "a920b987-05a7-4ab3-be1c-4cf486312904",
   "metadata": {},
   "outputs": [
    {
     "data": {
      "text/html": [
       "<div><div style = \"float: left;\"><span>103×16 DataFrame</span></div><div style = \"float: right;\"><span style = \"font-style: italic;\">78 rows omitted</span></div><div style = \"clear: both;\"></div></div><div class = \"data-frame\" style = \"overflow-x: scroll;\"><table class = \"data-frame\" style = \"margin-bottom: 6px;\"><thead><tr class = \"header\"><th class = \"rowNumber\" style = \"font-weight: bold; text-align: right;\">Row</th><th style = \"text-align: left;\">Order</th><th style = \"text-align: left;\">Job</th><th style = \"text-align: left;\">Path</th><th style = \"text-align: left;\">Arrival</th><th style = \"text-align: left;\">Resource_idx</th><th style = \"text-align: left;\">Resource_2</th><th style = \"text-align: left;\">Resource_3</th><th style = \"text-align: left;\">Resource_4</th><th style = \"text-align: left;\">Resource_5</th><th style = \"text-align: left;\">Resource_6</th><th style = \"text-align: left;\">Resource_7</th><th style = \"text-align: left;\">job_WC</th><th style = \"text-align: left;\">Duration</th><th style = \"text-align: left;\">MinDelivery</th><th style = \"text-align: left;\">Slack</th><th style = \"text-align: left;\">Duedate</th></tr><tr class = \"subheader headerLastRow\"><th class = \"rowNumber\" style = \"font-weight: bold; text-align: right;\"></th><th title = \"Int64\" style = \"text-align: left;\">Int64</th><th title = \"Int64\" style = \"text-align: left;\">Int64</th><th title = \"Int64\" style = \"text-align: left;\">Int64</th><th title = \"Int64\" style = \"text-align: left;\">Int64</th><th title = \"Int64\" style = \"text-align: left;\">Int64</th><th title = \"Float64\" style = \"text-align: left;\">Float64</th><th title = \"Float64\" style = \"text-align: left;\">Float64</th><th title = \"Float64\" style = \"text-align: left;\">Float64</th><th title = \"Float64\" style = \"text-align: left;\">Float64</th><th title = \"Float64\" style = \"text-align: left;\">Float64</th><th title = \"Float64\" style = \"text-align: left;\">Float64</th><th title = \"Float64\" style = \"text-align: left;\">Float64</th><th title = \"Int64\" style = \"text-align: left;\">Int64</th><th title = \"Int64\" style = \"text-align: left;\">Int64</th><th title = \"Float64\" style = \"text-align: left;\">Float64</th><th title = \"Int64\" style = \"text-align: left;\">Int64</th></tr></thead><tbody><tr><td class = \"rowNumber\" style = \"font-weight: bold; text-align: right;\">1</td><td style = \"text-align: right;\">1</td><td style = \"text-align: right;\">1</td><td style = \"text-align: right;\">9</td><td style = \"text-align: right;\">1</td><td style = \"text-align: right;\">3</td><td style = \"text-align: right;\">0.0</td><td style = \"text-align: right;\">5.98325</td><td style = \"text-align: right;\">0.0</td><td style = \"text-align: right;\">0.0</td><td style = \"text-align: right;\">0.0</td><td style = \"text-align: right;\">0.0</td><td style = \"text-align: right;\">5.98325</td><td style = \"text-align: right;\">2</td><td style = \"text-align: right;\">6</td><td style = \"text-align: right;\">3.0</td><td style = \"text-align: right;\">10</td></tr><tr><td class = \"rowNumber\" style = \"font-weight: bold; text-align: right;\">2</td><td style = \"text-align: right;\">1</td><td style = \"text-align: right;\">2</td><td style = \"text-align: right;\">9</td><td style = \"text-align: right;\">1</td><td style = \"text-align: right;\">5</td><td style = \"text-align: right;\">0.0</td><td style = \"text-align: right;\">0.0</td><td style = \"text-align: right;\">0.0</td><td style = \"text-align: right;\">3.99601</td><td style = \"text-align: right;\">0.0</td><td style = \"text-align: right;\">0.0</td><td style = \"text-align: right;\">3.99601</td><td style = \"text-align: right;\">2</td><td style = \"text-align: right;\">6</td><td style = \"text-align: right;\">3.0</td><td style = \"text-align: right;\">10</td></tr><tr><td class = \"rowNumber\" style = \"font-weight: bold; text-align: right;\">3</td><td style = \"text-align: right;\">1</td><td style = \"text-align: right;\">3</td><td style = \"text-align: right;\">9</td><td style = \"text-align: right;\">1</td><td style = \"text-align: right;\">7</td><td style = \"text-align: right;\">0.0</td><td style = \"text-align: right;\">0.0</td><td style = \"text-align: right;\">0.0</td><td style = \"text-align: right;\">0.0</td><td style = \"text-align: right;\">0.0</td><td style = \"text-align: right;\">0.577784</td><td style = \"text-align: right;\">0.577784</td><td style = \"text-align: right;\">2</td><td style = \"text-align: right;\">6</td><td style = \"text-align: right;\">3.0</td><td style = \"text-align: right;\">10</td></tr><tr><td class = \"rowNumber\" style = \"font-weight: bold; text-align: right;\">4</td><td style = \"text-align: right;\">2</td><td style = \"text-align: right;\">4</td><td style = \"text-align: right;\">6</td><td style = \"text-align: right;\">1</td><td style = \"text-align: right;\">2</td><td style = \"text-align: right;\">8.1297</td><td style = \"text-align: right;\">0.0</td><td style = \"text-align: right;\">0.0</td><td style = \"text-align: right;\">0.0</td><td style = \"text-align: right;\">0.0</td><td style = \"text-align: right;\">0.0</td><td style = \"text-align: right;\">8.1297</td><td style = \"text-align: right;\">4</td><td style = \"text-align: right;\">7</td><td style = \"text-align: right;\">3.05</td><td style = \"text-align: right;\">12</td></tr><tr><td class = \"rowNumber\" style = \"font-weight: bold; text-align: right;\">5</td><td style = \"text-align: right;\">2</td><td style = \"text-align: right;\">5</td><td style = \"text-align: right;\">6</td><td style = \"text-align: right;\">1</td><td style = \"text-align: right;\">3</td><td style = \"text-align: right;\">0.0</td><td style = \"text-align: right;\">4.45847</td><td style = \"text-align: right;\">0.0</td><td style = \"text-align: right;\">0.0</td><td style = \"text-align: right;\">0.0</td><td style = \"text-align: right;\">0.0</td><td style = \"text-align: right;\">4.45847</td><td style = \"text-align: right;\">1</td><td style = \"text-align: right;\">7</td><td style = \"text-align: right;\">3.05</td><td style = \"text-align: right;\">12</td></tr><tr><td class = \"rowNumber\" style = \"font-weight: bold; text-align: right;\">6</td><td style = \"text-align: right;\">2</td><td style = \"text-align: right;\">6</td><td style = \"text-align: right;\">6</td><td style = \"text-align: right;\">1</td><td style = \"text-align: right;\">7</td><td style = \"text-align: right;\">0.0</td><td style = \"text-align: right;\">0.0</td><td style = \"text-align: right;\">0.0</td><td style = \"text-align: right;\">0.0</td><td style = \"text-align: right;\">0.0</td><td style = \"text-align: right;\">0.702172</td><td style = \"text-align: right;\">0.702172</td><td style = \"text-align: right;\">2</td><td style = \"text-align: right;\">7</td><td style = \"text-align: right;\">3.05</td><td style = \"text-align: right;\">12</td></tr><tr><td class = \"rowNumber\" style = \"font-weight: bold; text-align: right;\">7</td><td style = \"text-align: right;\">3</td><td style = \"text-align: right;\">7</td><td style = \"text-align: right;\">6</td><td style = \"text-align: right;\">1</td><td style = \"text-align: right;\">2</td><td style = \"text-align: right;\">1.79666</td><td style = \"text-align: right;\">0.0</td><td style = \"text-align: right;\">0.0</td><td style = \"text-align: right;\">0.0</td><td style = \"text-align: right;\">0.0</td><td style = \"text-align: right;\">0.0</td><td style = \"text-align: right;\">1.79666</td><td style = \"text-align: right;\">1</td><td style = \"text-align: right;\">5</td><td style = \"text-align: right;\">2.05</td><td style = \"text-align: right;\">9</td></tr><tr><td class = \"rowNumber\" style = \"font-weight: bold; text-align: right;\">8</td><td style = \"text-align: right;\">3</td><td style = \"text-align: right;\">8</td><td style = \"text-align: right;\">6</td><td style = \"text-align: right;\">1</td><td style = \"text-align: right;\">3</td><td style = \"text-align: right;\">0.0</td><td style = \"text-align: right;\">5.01364</td><td style = \"text-align: right;\">0.0</td><td style = \"text-align: right;\">0.0</td><td style = \"text-align: right;\">0.0</td><td style = \"text-align: right;\">0.0</td><td style = \"text-align: right;\">5.01364</td><td style = \"text-align: right;\">2</td><td style = \"text-align: right;\">5</td><td style = \"text-align: right;\">2.05</td><td style = \"text-align: right;\">9</td></tr><tr><td class = \"rowNumber\" style = \"font-weight: bold; text-align: right;\">9</td><td style = \"text-align: right;\">3</td><td style = \"text-align: right;\">9</td><td style = \"text-align: right;\">6</td><td style = \"text-align: right;\">1</td><td style = \"text-align: right;\">7</td><td style = \"text-align: right;\">0.0</td><td style = \"text-align: right;\">0.0</td><td style = \"text-align: right;\">0.0</td><td style = \"text-align: right;\">0.0</td><td style = \"text-align: right;\">0.0</td><td style = \"text-align: right;\">1.20562</td><td style = \"text-align: right;\">1.20562</td><td style = \"text-align: right;\">2</td><td style = \"text-align: right;\">5</td><td style = \"text-align: right;\">2.05</td><td style = \"text-align: right;\">9</td></tr><tr><td class = \"rowNumber\" style = \"font-weight: bold; text-align: right;\">10</td><td style = \"text-align: right;\">4</td><td style = \"text-align: right;\">10</td><td style = \"text-align: right;\">9</td><td style = \"text-align: right;\">1</td><td style = \"text-align: right;\">3</td><td style = \"text-align: right;\">0.0</td><td style = \"text-align: right;\">4.98846</td><td style = \"text-align: right;\">0.0</td><td style = \"text-align: right;\">0.0</td><td style = \"text-align: right;\">0.0</td><td style = \"text-align: right;\">0.0</td><td style = \"text-align: right;\">4.98846</td><td style = \"text-align: right;\">2</td><td style = \"text-align: right;\">9</td><td style = \"text-align: right;\">4.05</td><td style = \"text-align: right;\">15</td></tr><tr><td class = \"rowNumber\" style = \"font-weight: bold; text-align: right;\">11</td><td style = \"text-align: right;\">4</td><td style = \"text-align: right;\">11</td><td style = \"text-align: right;\">9</td><td style = \"text-align: right;\">1</td><td style = \"text-align: right;\">5</td><td style = \"text-align: right;\">0.0</td><td style = \"text-align: right;\">0.0</td><td style = \"text-align: right;\">0.0</td><td style = \"text-align: right;\">11.7626</td><td style = \"text-align: right;\">0.0</td><td style = \"text-align: right;\">0.0</td><td style = \"text-align: right;\">11.7626</td><td style = \"text-align: right;\">5</td><td style = \"text-align: right;\">9</td><td style = \"text-align: right;\">4.05</td><td style = \"text-align: right;\">15</td></tr><tr><td class = \"rowNumber\" style = \"font-weight: bold; text-align: right;\">12</td><td style = \"text-align: right;\">4</td><td style = \"text-align: right;\">12</td><td style = \"text-align: right;\">9</td><td style = \"text-align: right;\">1</td><td style = \"text-align: right;\">7</td><td style = \"text-align: right;\">0.0</td><td style = \"text-align: right;\">0.0</td><td style = \"text-align: right;\">0.0</td><td style = \"text-align: right;\">0.0</td><td style = \"text-align: right;\">0.0</td><td style = \"text-align: right;\">0.606213</td><td style = \"text-align: right;\">0.606213</td><td style = \"text-align: right;\">2</td><td style = \"text-align: right;\">9</td><td style = \"text-align: right;\">4.05</td><td style = \"text-align: right;\">15</td></tr><tr><td class = \"rowNumber\" style = \"font-weight: bold; text-align: right;\">13</td><td style = \"text-align: right;\">5</td><td style = \"text-align: right;\">13</td><td style = \"text-align: right;\">9</td><td style = \"text-align: right;\">1</td><td style = \"text-align: right;\">3</td><td style = \"text-align: right;\">0.0</td><td style = \"text-align: right;\">7.32977</td><td style = \"text-align: right;\">0.0</td><td style = \"text-align: right;\">0.0</td><td style = \"text-align: right;\">0.0</td><td style = \"text-align: right;\">0.0</td><td style = \"text-align: right;\">7.32977</td><td style = \"text-align: right;\">2</td><td style = \"text-align: right;\">6</td><td style = \"text-align: right;\">3.0</td><td style = \"text-align: right;\">10</td></tr><tr><td style = \"text-align: right;\">&vellip;</td><td style = \"text-align: right;\">&vellip;</td><td style = \"text-align: right;\">&vellip;</td><td style = \"text-align: right;\">&vellip;</td><td style = \"text-align: right;\">&vellip;</td><td style = \"text-align: right;\">&vellip;</td><td style = \"text-align: right;\">&vellip;</td><td style = \"text-align: right;\">&vellip;</td><td style = \"text-align: right;\">&vellip;</td><td style = \"text-align: right;\">&vellip;</td><td style = \"text-align: right;\">&vellip;</td><td style = \"text-align: right;\">&vellip;</td><td style = \"text-align: right;\">&vellip;</td><td style = \"text-align: right;\">&vellip;</td><td style = \"text-align: right;\">&vellip;</td><td style = \"text-align: right;\">&vellip;</td><td style = \"text-align: right;\">&vellip;</td></tr><tr><td class = \"rowNumber\" style = \"font-weight: bold; text-align: right;\">92</td><td style = \"text-align: right;\">26</td><td style = \"text-align: right;\">92</td><td style = \"text-align: right;\">5</td><td style = \"text-align: right;\">3</td><td style = \"text-align: right;\">6</td><td style = \"text-align: right;\">0.0</td><td style = \"text-align: right;\">0.0</td><td style = \"text-align: right;\">0.0</td><td style = \"text-align: right;\">0.0</td><td style = \"text-align: right;\">9.78201</td><td style = \"text-align: right;\">0.0</td><td style = \"text-align: right;\">9.78201</td><td style = \"text-align: right;\">4</td><td style = \"text-align: right;\">11</td><td style = \"text-align: right;\">5.05</td><td style = \"text-align: right;\">20</td></tr><tr><td class = \"rowNumber\" style = \"font-weight: bold; text-align: right;\">93</td><td style = \"text-align: right;\">26</td><td style = \"text-align: right;\">93</td><td style = \"text-align: right;\">5</td><td style = \"text-align: right;\">3</td><td style = \"text-align: right;\">7</td><td style = \"text-align: right;\">0.0</td><td style = \"text-align: right;\">0.0</td><td style = \"text-align: right;\">0.0</td><td style = \"text-align: right;\">0.0</td><td style = \"text-align: right;\">0.0</td><td style = \"text-align: right;\">0.866033</td><td style = \"text-align: right;\">0.866033</td><td style = \"text-align: right;\">2</td><td style = \"text-align: right;\">11</td><td style = \"text-align: right;\">5.05</td><td style = \"text-align: right;\">20</td></tr><tr><td class = \"rowNumber\" style = \"font-weight: bold; text-align: right;\">94</td><td style = \"text-align: right;\">27</td><td style = \"text-align: right;\">94</td><td style = \"text-align: right;\">6</td><td style = \"text-align: right;\">3</td><td style = \"text-align: right;\">2</td><td style = \"text-align: right;\">4.64708</td><td style = \"text-align: right;\">0.0</td><td style = \"text-align: right;\">0.0</td><td style = \"text-align: right;\">0.0</td><td style = \"text-align: right;\">0.0</td><td style = \"text-align: right;\">0.0</td><td style = \"text-align: right;\">4.64708</td><td style = \"text-align: right;\">2</td><td style = \"text-align: right;\">5</td><td style = \"text-align: right;\">2.05</td><td style = \"text-align: right;\">11</td></tr><tr><td class = \"rowNumber\" style = \"font-weight: bold; text-align: right;\">95</td><td style = \"text-align: right;\">27</td><td style = \"text-align: right;\">95</td><td style = \"text-align: right;\">6</td><td style = \"text-align: right;\">3</td><td style = \"text-align: right;\">3</td><td style = \"text-align: right;\">0.0</td><td style = \"text-align: right;\">3.85609</td><td style = \"text-align: right;\">0.0</td><td style = \"text-align: right;\">0.0</td><td style = \"text-align: right;\">0.0</td><td style = \"text-align: right;\">0.0</td><td style = \"text-align: right;\">3.85609</td><td style = \"text-align: right;\">1</td><td style = \"text-align: right;\">5</td><td style = \"text-align: right;\">2.05</td><td style = \"text-align: right;\">11</td></tr><tr><td class = \"rowNumber\" style = \"font-weight: bold; text-align: right;\">96</td><td style = \"text-align: right;\">27</td><td style = \"text-align: right;\">96</td><td style = \"text-align: right;\">6</td><td style = \"text-align: right;\">3</td><td style = \"text-align: right;\">7</td><td style = \"text-align: right;\">0.0</td><td style = \"text-align: right;\">0.0</td><td style = \"text-align: right;\">0.0</td><td style = \"text-align: right;\">0.0</td><td style = \"text-align: right;\">0.0</td><td style = \"text-align: right;\">0.978176</td><td style = \"text-align: right;\">0.978176</td><td style = \"text-align: right;\">2</td><td style = \"text-align: right;\">5</td><td style = \"text-align: right;\">2.05</td><td style = \"text-align: right;\">11</td></tr><tr><td class = \"rowNumber\" style = \"font-weight: bold; text-align: right;\">97</td><td style = \"text-align: right;\">28</td><td style = \"text-align: right;\">97</td><td style = \"text-align: right;\">11</td><td style = \"text-align: right;\">3</td><td style = \"text-align: right;\">3</td><td style = \"text-align: right;\">0.0</td><td style = \"text-align: right;\">2.8093</td><td style = \"text-align: right;\">0.0</td><td style = \"text-align: right;\">0.0</td><td style = \"text-align: right;\">0.0</td><td style = \"text-align: right;\">0.0</td><td style = \"text-align: right;\">2.8093</td><td style = \"text-align: right;\">1</td><td style = \"text-align: right;\">8</td><td style = \"text-align: right;\">4.0</td><td style = \"text-align: right;\">15</td></tr><tr><td class = \"rowNumber\" style = \"font-weight: bold; text-align: right;\">98</td><td style = \"text-align: right;\">28</td><td style = \"text-align: right;\">98</td><td style = \"text-align: right;\">11</td><td style = \"text-align: right;\">3</td><td style = \"text-align: right;\">6</td><td style = \"text-align: right;\">0.0</td><td style = \"text-align: right;\">0.0</td><td style = \"text-align: right;\">0.0</td><td style = \"text-align: right;\">0.0</td><td style = \"text-align: right;\">10.8902</td><td style = \"text-align: right;\">0.0</td><td style = \"text-align: right;\">10.8902</td><td style = \"text-align: right;\">5</td><td style = \"text-align: right;\">8</td><td style = \"text-align: right;\">4.0</td><td style = \"text-align: right;\">15</td></tr><tr><td class = \"rowNumber\" style = \"font-weight: bold; text-align: right;\">99</td><td style = \"text-align: right;\">28</td><td style = \"text-align: right;\">99</td><td style = \"text-align: right;\">11</td><td style = \"text-align: right;\">3</td><td style = \"text-align: right;\">7</td><td style = \"text-align: right;\">0.0</td><td style = \"text-align: right;\">0.0</td><td style = \"text-align: right;\">0.0</td><td style = \"text-align: right;\">0.0</td><td style = \"text-align: right;\">0.0</td><td style = \"text-align: right;\">0.440057</td><td style = \"text-align: right;\">0.440057</td><td style = \"text-align: right;\">2</td><td style = \"text-align: right;\">8</td><td style = \"text-align: right;\">4.0</td><td style = \"text-align: right;\">15</td></tr><tr><td class = \"rowNumber\" style = \"font-weight: bold; text-align: right;\">100</td><td style = \"text-align: right;\">29</td><td style = \"text-align: right;\">100</td><td style = \"text-align: right;\">5</td><td style = \"text-align: right;\">3</td><td style = \"text-align: right;\">2</td><td style = \"text-align: right;\">3.6617</td><td style = \"text-align: right;\">0.0</td><td style = \"text-align: right;\">0.0</td><td style = \"text-align: right;\">0.0</td><td style = \"text-align: right;\">0.0</td><td style = \"text-align: right;\">0.0</td><td style = \"text-align: right;\">3.6617</td><td style = \"text-align: right;\">2</td><td style = \"text-align: right;\">11</td><td style = \"text-align: right;\">5.05</td><td style = \"text-align: right;\">20</td></tr><tr><td class = \"rowNumber\" style = \"font-weight: bold; text-align: right;\">101</td><td style = \"text-align: right;\">29</td><td style = \"text-align: right;\">101</td><td style = \"text-align: right;\">5</td><td style = \"text-align: right;\">3</td><td style = \"text-align: right;\">3</td><td style = \"text-align: right;\">0.0</td><td style = \"text-align: right;\">6.05086</td><td style = \"text-align: right;\">0.0</td><td style = \"text-align: right;\">0.0</td><td style = \"text-align: right;\">0.0</td><td style = \"text-align: right;\">0.0</td><td style = \"text-align: right;\">6.05086</td><td style = \"text-align: right;\">2</td><td style = \"text-align: right;\">11</td><td style = \"text-align: right;\">5.05</td><td style = \"text-align: right;\">20</td></tr><tr><td class = \"rowNumber\" style = \"font-weight: bold; text-align: right;\">102</td><td style = \"text-align: right;\">29</td><td style = \"text-align: right;\">102</td><td style = \"text-align: right;\">5</td><td style = \"text-align: right;\">3</td><td style = \"text-align: right;\">6</td><td style = \"text-align: right;\">0.0</td><td style = \"text-align: right;\">0.0</td><td style = \"text-align: right;\">0.0</td><td style = \"text-align: right;\">0.0</td><td style = \"text-align: right;\">11.8605</td><td style = \"text-align: right;\">0.0</td><td style = \"text-align: right;\">11.8605</td><td style = \"text-align: right;\">5</td><td style = \"text-align: right;\">11</td><td style = \"text-align: right;\">5.05</td><td style = \"text-align: right;\">20</td></tr><tr><td class = \"rowNumber\" style = \"font-weight: bold; text-align: right;\">103</td><td style = \"text-align: right;\">29</td><td style = \"text-align: right;\">103</td><td style = \"text-align: right;\">5</td><td style = \"text-align: right;\">3</td><td style = \"text-align: right;\">7</td><td style = \"text-align: right;\">0.0</td><td style = \"text-align: right;\">0.0</td><td style = \"text-align: right;\">0.0</td><td style = \"text-align: right;\">0.0</td><td style = \"text-align: right;\">0.0</td><td style = \"text-align: right;\">0.430008</td><td style = \"text-align: right;\">0.430008</td><td style = \"text-align: right;\">2</td><td style = \"text-align: right;\">11</td><td style = \"text-align: right;\">5.05</td><td style = \"text-align: right;\">20</td></tr></tbody></table></div>"
      ],
      "text/latex": [
       "\\begin{tabular}{r|ccccccccc}\n",
       "\t& Order & Job & Path & Arrival & Resource\\_idx & Resource\\_2 & Resource\\_3 & Resource\\_4 & \\\\\n",
       "\t\\hline\n",
       "\t& Int64 & Int64 & Int64 & Int64 & Int64 & Float64 & Float64 & Float64 & \\\\\n",
       "\t\\hline\n",
       "\t1 & 1 & 1 & 9 & 1 & 3 & 0.0 & 5.98325 & 0.0 & $\\dots$ \\\\\n",
       "\t2 & 1 & 2 & 9 & 1 & 5 & 0.0 & 0.0 & 0.0 & $\\dots$ \\\\\n",
       "\t3 & 1 & 3 & 9 & 1 & 7 & 0.0 & 0.0 & 0.0 & $\\dots$ \\\\\n",
       "\t4 & 2 & 4 & 6 & 1 & 2 & 8.1297 & 0.0 & 0.0 & $\\dots$ \\\\\n",
       "\t5 & 2 & 5 & 6 & 1 & 3 & 0.0 & 4.45847 & 0.0 & $\\dots$ \\\\\n",
       "\t6 & 2 & 6 & 6 & 1 & 7 & 0.0 & 0.0 & 0.0 & $\\dots$ \\\\\n",
       "\t7 & 3 & 7 & 6 & 1 & 2 & 1.79666 & 0.0 & 0.0 & $\\dots$ \\\\\n",
       "\t8 & 3 & 8 & 6 & 1 & 3 & 0.0 & 5.01364 & 0.0 & $\\dots$ \\\\\n",
       "\t9 & 3 & 9 & 6 & 1 & 7 & 0.0 & 0.0 & 0.0 & $\\dots$ \\\\\n",
       "\t10 & 4 & 10 & 9 & 1 & 3 & 0.0 & 4.98846 & 0.0 & $\\dots$ \\\\\n",
       "\t11 & 4 & 11 & 9 & 1 & 5 & 0.0 & 0.0 & 0.0 & $\\dots$ \\\\\n",
       "\t12 & 4 & 12 & 9 & 1 & 7 & 0.0 & 0.0 & 0.0 & $\\dots$ \\\\\n",
       "\t13 & 5 & 13 & 9 & 1 & 3 & 0.0 & 7.32977 & 0.0 & $\\dots$ \\\\\n",
       "\t14 & 5 & 14 & 9 & 1 & 5 & 0.0 & 0.0 & 0.0 & $\\dots$ \\\\\n",
       "\t15 & 5 & 15 & 9 & 1 & 7 & 0.0 & 0.0 & 0.0 & $\\dots$ \\\\\n",
       "\t16 & 6 & 16 & 3 & 1 & 2 & 3.66406 & 0.0 & 0.0 & $\\dots$ \\\\\n",
       "\t17 & 6 & 17 & 3 & 1 & 3 & 0.0 & 3.60958 & 0.0 & $\\dots$ \\\\\n",
       "\t18 & 6 & 18 & 3 & 1 & 5 & 0.0 & 0.0 & 0.0 & $\\dots$ \\\\\n",
       "\t19 & 6 & 19 & 3 & 1 & 7 & 0.0 & 0.0 & 0.0 & $\\dots$ \\\\\n",
       "\t20 & 7 & 20 & 8 & 1 & 3 & 0.0 & 3.11727 & 0.0 & $\\dots$ \\\\\n",
       "\t21 & 7 & 21 & 8 & 1 & 4 & 0.0 & 0.0 & 4.94525 & $\\dots$ \\\\\n",
       "\t22 & 7 & 22 & 8 & 1 & 7 & 0.0 & 0.0 & 0.0 & $\\dots$ \\\\\n",
       "\t23 & 8 & 23 & 9 & 2 & 3 & 0.0 & 3.91279 & 0.0 & $\\dots$ \\\\\n",
       "\t24 & 8 & 24 & 9 & 2 & 5 & 0.0 & 0.0 & 0.0 & $\\dots$ \\\\\n",
       "\t25 & 8 & 25 & 9 & 2 & 7 & 0.0 & 0.0 & 0.0 & $\\dots$ \\\\\n",
       "\t26 & 9 & 26 & 6 & 2 & 2 & 5.66074 & 0.0 & 0.0 & $\\dots$ \\\\\n",
       "\t27 & 9 & 27 & 6 & 2 & 3 & 0.0 & 6.52914 & 0.0 & $\\dots$ \\\\\n",
       "\t28 & 9 & 28 & 6 & 2 & 7 & 0.0 & 0.0 & 0.0 & $\\dots$ \\\\\n",
       "\t29 & 10 & 29 & 4 & 2 & 2 & 6.89443 & 0.0 & 0.0 & $\\dots$ \\\\\n",
       "\t30 & 10 & 30 & 4 & 2 & 3 & 0.0 & 7.3972 & 0.0 & $\\dots$ \\\\\n",
       "\t$\\dots$ & $\\dots$ & $\\dots$ & $\\dots$ & $\\dots$ & $\\dots$ & $\\dots$ & $\\dots$ & $\\dots$ &  \\\\\n",
       "\\end{tabular}\n"
      ],
      "text/plain": [
       "\u001b[1m103×16 DataFrame\u001b[0m\n",
       "\u001b[1m Row \u001b[0m│\u001b[1m Order \u001b[0m\u001b[1m Job   \u001b[0m\u001b[1m Path  \u001b[0m\u001b[1m Arrival \u001b[0m\u001b[1m Resource_idx \u001b[0m\u001b[1m Resource_2 \u001b[0m\u001b[1m Resource_3 \u001b[0m\u001b[1m Res\u001b[0m ⋯\n",
       "     │\u001b[90m Int64 \u001b[0m\u001b[90m Int64 \u001b[0m\u001b[90m Int64 \u001b[0m\u001b[90m Int64   \u001b[0m\u001b[90m Int64        \u001b[0m\u001b[90m Float64    \u001b[0m\u001b[90m Float64    \u001b[0m\u001b[90m Flo\u001b[0m ⋯\n",
       "─────┼──────────────────────────────────────────────────────────────────────────\n",
       "   1 │     1      1      9        1             3     0.0         5.98325      ⋯\n",
       "   2 │     1      2      9        1             5     0.0         0.0\n",
       "   3 │     1      3      9        1             7     0.0         0.0\n",
       "   4 │     2      4      6        1             2     8.1297      0.0\n",
       "   5 │     2      5      6        1             3     0.0         4.45847      ⋯\n",
       "   6 │     2      6      6        1             7     0.0         0.0\n",
       "   7 │     3      7      6        1             2     1.79666     0.0\n",
       "   8 │     3      8      6        1             3     0.0         5.01364\n",
       "   9 │     3      9      6        1             7     0.0         0.0          ⋯\n",
       "  10 │     4     10      9        1             3     0.0         4.98846\n",
       "  11 │     4     11      9        1             5     0.0         0.0\n",
       "  ⋮  │   ⋮      ⋮      ⋮       ⋮          ⋮            ⋮           ⋮           ⋱\n",
       "  94 │    27     94      6        3             2     4.64708     0.0\n",
       "  95 │    27     95      6        3             3     0.0         3.85609      ⋯\n",
       "  96 │    27     96      6        3             7     0.0         0.0\n",
       "  97 │    28     97     11        3             3     0.0         2.8093\n",
       "  98 │    28     98     11        3             6     0.0         0.0\n",
       "  99 │    28     99     11        3             7     0.0         0.0          ⋯\n",
       " 100 │    29    100      5        3             2     3.6617      0.0\n",
       " 101 │    29    101      5        3             3     0.0         6.05086\n",
       " 102 │    29    102      5        3             6     0.0         0.0\n",
       " 103 │    29    103      5        3             7     0.0         0.0          ⋯\n",
       "\u001b[36m                                                   9 columns and 82 rows omitted\u001b[0m"
      ]
     },
     "execution_count": 4,
     "metadata": {},
     "output_type": "execute_result"
    }
   ],
   "source": [
    "newdata = newdata[1:103,:]"
   ]
  },
  {
   "cell_type": "code",
   "execution_count": 5,
   "id": "0b4810dc-bb43-4d38-b140-2a04b2f6e190",
   "metadata": {},
   "outputs": [
    {
     "data": {
      "text/plain": [
       "29"
      ]
     },
     "execution_count": 5,
     "metadata": {},
     "output_type": "execute_result"
    }
   ],
   "source": [
    "I = length(newdata.Job)\n",
    "K = maximum(newdata.Resource_idx)-1\n",
    "capacity = [6, 6, 6, 8, 9, 2]\n",
    "P = newdata.Duration\n",
    "D = newdata.Duedate\n",
    "A = newdata.Arrival\n",
    "T = 130 #Number of time steps\n",
    "M = 10000; \n",
    "WC = Matrix(newdata[:,6:11])\n",
    "OA = newdata.Arrival;\n",
    "MinDelivery = newdata.MinDelivery\n",
    "N_order = maximum(newdata.Order)"
   ]
  },
  {
   "cell_type": "code",
   "execution_count": 6,
   "id": "75a6f489-f8f9-4058-b855-c2eb94ee7011",
   "metadata": {},
   "outputs": [
    {
     "data": {
      "text/plain": [
       "\"fixed\""
      ]
     },
     "execution_count": 6,
     "metadata": {},
     "output_type": "execute_result"
    }
   ],
   "source": [
    "workload_distribution = \"free\"\n",
    "timing_template = \"fixed\""
   ]
  },
  {
   "cell_type": "code",
   "execution_count": 7,
   "id": "47922830-6f04-42c9-87e4-df691dfe4169",
   "metadata": {},
   "outputs": [
    {
     "data": {
      "text/plain": [
       "A JuMP Model\n",
       "├ solver: HiGHS\n",
       "├ objective_sense: FEASIBILITY_SENSE\n",
       "├ num_variables: 0\n",
       "├ num_constraints: 0\n",
       "└ Names registered in the model: none"
      ]
     },
     "execution_count": 7,
     "metadata": {},
     "output_type": "execute_result"
    }
   ],
   "source": [
    "prec_consts = all_precedence_constraints(newdata)\n",
    "model = Model(HiGHS.Optimizer)"
   ]
  },
  {
   "cell_type": "code",
   "execution_count": 8,
   "id": "f9f33159-1ab0-40ac-b021-399ad399ddb3",
   "metadata": {},
   "outputs": [
    {
     "data": {
      "text/latex": [
       "$ Max\\_tardiness $"
      ],
      "text/plain": [
       "Max_tardiness"
      ]
     },
     "execution_count": 8,
     "metadata": {},
     "output_type": "execute_result"
    }
   ],
   "source": [
    "@variable(model, C[1:I] >= 0) #Completion times\n",
    "@variable(model, R[1:I, 1:K, 1:T] >=0) #Resource workloads\n",
    "@variable(model, tardiness[1:I] >= 0) #Tardiness of jobs\n",
    "@variable(model, Max_tardiness >= 0) #Tardiness of job with largest tardiness\n",
    "@variable(model, c[1:I, 1:T], Bin) #Job completion\n",
    "@variable(model, X[1:I, 1:T], Bin) #1 if work i is ongoing\n",
    "    \n",
    "    \n",
    "    \n",
    "for i in 1:I\n",
    "    @constraint(model, sum(c[i, t] for t in 1:T) == 1)\n",
    "end\n",
    "    \n",
    "\n",
    "    \n",
    "for i in 1:I   \n",
    "    @constraint(model, sum(t*c[i,t] for t in 1:T) == C[i]) \n",
    "end\n",
    "    \n",
    "    \n",
    "for i in 1:I\n",
    "    @constraint(model, C[i] - P[i] >= A[i])\n",
    "end\n",
    "    \n",
    "#Capacity constraint: Capacity of any machine shall not be exceeded at any time step\n",
    "for t in 1:T\n",
    "    for k in 1:K\n",
    "        @constraint(model, (capacity[k] - sum(R[i, k, t] for i in 1:I)) >= 0)\n",
    "    end\n",
    "end\n",
    "\n",
    "\n",
    "for i in 1:I\n",
    "    for t in 1:T\n",
    "        @constraint(model, X[i,t] == sum(c[i,u] for u in (t+1):(t+P[i]) if u <= T))\n",
    "    end\n",
    "end\n",
    "    \n",
    "\n",
    "#Tardiness constraint:\n",
    "for i in 1:I\n",
    "    @constraint(model,  C[i] - D[i] <= tardiness[i])\n",
    "end\n",
    "\n",
    "#Max tardiness:\n",
    "for i in 1:I\n",
    "    @constraint(model, Max_tardiness >= tardiness[i])\n",
    "end\n",
    "\n",
    "all_jobs = collect(keys(prec_consts))\n",
    "for job in all_jobs\n",
    "    if timing_template == \"fixed\" #finish time of predecessor == starting time of successor\n",
    "        successor = prec_consts[job]\n",
    "        @constraint(model, model[:C][job] == model[:C][successor] - P[successor]) #if job is in job window, so will its successor also be\n",
    "    elseif timing_template == \"free\"\n",
    "        successor = prec_consts[job]\n",
    "        @constraint(model, model[:C][job] <= model[:C][successor] - P[successor]) #if job is in job window, so will its successor also be\n",
    "    else\n",
    "        print(\"error\")\n",
    "    end\n",
    "end\n",
    "\n",
    "if workload_distribution == \"even\"\n",
    "    for i in 1:I\n",
    "        for t in 1:T\n",
    "            for k in 1:K\n",
    "                #NOTICE: j: job index, i: index of job in vector. i has to be used accessing P_w\n",
    "                #Model variables can be accessed with j.\n",
    "                @constraint(model, model[:R][i,k,t] == WC[i,k]*model[:X][i,t]/P[i]) #(even workload distribution)\n",
    "            end\n",
    "        end\n",
    "    end\n",
    "elseif workload_distribution == \"free\"\n",
    "    for i in 1:I\n",
    "        for k in 1:K\n",
    "            @constraint(model, sum(model[:R][i,k,t] for t in 1:T) == WC[i,k]) #(free workload distribution)\n",
    "            for t in 1:T\n",
    "                @constraint(model, model[:R][i,k,t] <= (M*model[:X][i,t]))  \n",
    "            end\n",
    "        end\n",
    "    end\n",
    "else\n",
    "    print(\"error\")\n",
    "end\n",
    "\n",
    "@objective(model, Min,  Max_tardiness)"
   ]
  },
  {
   "cell_type": "code",
   "execution_count": null,
   "id": "5a657008-afe4-4d65-b1e9-fe21c4009cb8",
   "metadata": {},
   "outputs": [],
   "source": [
    "#set_silent(model)\n",
    "set_optimizer_attribute(model, \"mip_rel_gap\", 0.05) \n",
    "@time optimize!(model)"
   ]
  },
  {
   "cell_type": "code",
   "execution_count": null,
   "id": "92ac03ac-ff2a-41f5-9a17-734575388732",
   "metadata": {},
   "outputs": [],
   "source": [
    "O = newdata.Order\n",
    "create_gantt_chart(c, T, P, I, O)"
   ]
  },
  {
   "cell_type": "code",
   "execution_count": null,
   "id": "80cd465c-442f-4d61-b427-19be5a039521",
   "metadata": {},
   "outputs": [],
   "source": []
  }
 ],
 "metadata": {
  "kernelspec": {
   "display_name": "Julia 1.11.0",
   "language": "julia",
   "name": "julia-1.11"
  },
  "language_info": {
   "file_extension": ".jl",
   "mimetype": "application/julia",
   "name": "julia",
   "version": "1.11.0"
  }
 },
 "nbformat": 4,
 "nbformat_minor": 5
}
