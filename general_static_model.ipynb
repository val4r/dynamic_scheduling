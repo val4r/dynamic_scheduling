{
 "cells": [
  {
   "cell_type": "code",
   "execution_count": 1,
   "id": "ab380f79-888c-40dd-bd98-2374258d0e56",
   "metadata": {},
   "outputs": [],
   "source": [
    "using CSV\n",
    "using DataFrames"
   ]
  },
  {
   "cell_type": "code",
   "execution_count": 2,
   "id": "9bc1bcfe-6ecf-47f1-b5f6-e6c536204233",
   "metadata": {},
   "outputs": [
    {
     "data": {
      "text/plain": [
       "bottleneck_metrics (generic function with 1 method)"
      ]
     },
     "execution_count": 2,
     "metadata": {},
     "output_type": "execute_result"
    }
   ],
   "source": [
    "include(\"create_model.jl\")\n",
    "include(\"structures.jl\")\n",
    "include(\"visualization_functions.jl\")\n",
    "include(\"auxiliary_functions.jl\")"
   ]
  },
  {
   "cell_type": "code",
   "execution_count": 3,
   "id": "7d0d4207-d164-42b8-b52c-a0ebbfdb0836",
   "metadata": {},
   "outputs": [
    {
     "data": {
      "text/html": [
       "<div><div style = \"float: left;\"><span>3468×16 DataFrame</span></div><div style = \"float: right;\"><span style = \"font-style: italic;\">3443 rows omitted</span></div><div style = \"clear: both;\"></div></div><div class = \"data-frame\" style = \"overflow-x: scroll;\"><table class = \"data-frame\" style = \"margin-bottom: 6px;\"><thead><tr class = \"header\"><th class = \"rowNumber\" style = \"font-weight: bold; text-align: right;\">Row</th><th style = \"text-align: left;\">Order</th><th style = \"text-align: left;\">Job</th><th style = \"text-align: left;\">Path</th><th style = \"text-align: left;\">Arrival</th><th style = \"text-align: left;\">Resource_idx</th><th style = \"text-align: left;\">Resource_2</th><th style = \"text-align: left;\">Resource_3</th><th style = \"text-align: left;\">Resource_4</th><th style = \"text-align: left;\">Resource_5</th><th style = \"text-align: left;\">Resource_6</th><th style = \"text-align: left;\">Resource_7</th><th style = \"text-align: left;\">job_WC</th><th style = \"text-align: left;\">Duration</th><th style = \"text-align: left;\">MinDelivery</th><th style = \"text-align: left;\">Slack</th><th style = \"text-align: left;\">Duedate</th></tr><tr class = \"subheader headerLastRow\"><th class = \"rowNumber\" style = \"font-weight: bold; text-align: right;\"></th><th title = \"Int64\" style = \"text-align: left;\">Int64</th><th title = \"Int64\" style = \"text-align: left;\">Int64</th><th title = \"Int64\" style = \"text-align: left;\">Int64</th><th title = \"Int64\" style = \"text-align: left;\">Int64</th><th title = \"Int64\" style = \"text-align: left;\">Int64</th><th title = \"Float64\" style = \"text-align: left;\">Float64</th><th title = \"Float64\" style = \"text-align: left;\">Float64</th><th title = \"Float64\" style = \"text-align: left;\">Float64</th><th title = \"Float64\" style = \"text-align: left;\">Float64</th><th title = \"Float64\" style = \"text-align: left;\">Float64</th><th title = \"Float64\" style = \"text-align: left;\">Float64</th><th title = \"Float64\" style = \"text-align: left;\">Float64</th><th title = \"Int64\" style = \"text-align: left;\">Int64</th><th title = \"Int64\" style = \"text-align: left;\">Int64</th><th title = \"Float64\" style = \"text-align: left;\">Float64</th><th title = \"Int64\" style = \"text-align: left;\">Int64</th></tr></thead><tbody><tr><td class = \"rowNumber\" style = \"font-weight: bold; text-align: right;\">1</td><td style = \"text-align: right;\">1</td><td style = \"text-align: right;\">1</td><td style = \"text-align: right;\">9</td><td style = \"text-align: right;\">1</td><td style = \"text-align: right;\">3</td><td style = \"text-align: right;\">0.0</td><td style = \"text-align: right;\">5.98325</td><td style = \"text-align: right;\">0.0</td><td style = \"text-align: right;\">0.0</td><td style = \"text-align: right;\">0.0</td><td style = \"text-align: right;\">0.0</td><td style = \"text-align: right;\">5.98325</td><td style = \"text-align: right;\">2</td><td style = \"text-align: right;\">6</td><td style = \"text-align: right;\">3.0</td><td style = \"text-align: right;\">10</td></tr><tr><td class = \"rowNumber\" style = \"font-weight: bold; text-align: right;\">2</td><td style = \"text-align: right;\">1</td><td style = \"text-align: right;\">2</td><td style = \"text-align: right;\">9</td><td style = \"text-align: right;\">1</td><td style = \"text-align: right;\">5</td><td style = \"text-align: right;\">0.0</td><td style = \"text-align: right;\">0.0</td><td style = \"text-align: right;\">0.0</td><td style = \"text-align: right;\">3.99601</td><td style = \"text-align: right;\">0.0</td><td style = \"text-align: right;\">0.0</td><td style = \"text-align: right;\">3.99601</td><td style = \"text-align: right;\">2</td><td style = \"text-align: right;\">6</td><td style = \"text-align: right;\">3.0</td><td style = \"text-align: right;\">10</td></tr><tr><td class = \"rowNumber\" style = \"font-weight: bold; text-align: right;\">3</td><td style = \"text-align: right;\">1</td><td style = \"text-align: right;\">3</td><td style = \"text-align: right;\">9</td><td style = \"text-align: right;\">1</td><td style = \"text-align: right;\">7</td><td style = \"text-align: right;\">0.0</td><td style = \"text-align: right;\">0.0</td><td style = \"text-align: right;\">0.0</td><td style = \"text-align: right;\">0.0</td><td style = \"text-align: right;\">0.0</td><td style = \"text-align: right;\">0.577784</td><td style = \"text-align: right;\">0.577784</td><td style = \"text-align: right;\">2</td><td style = \"text-align: right;\">6</td><td style = \"text-align: right;\">3.0</td><td style = \"text-align: right;\">10</td></tr><tr><td class = \"rowNumber\" style = \"font-weight: bold; text-align: right;\">4</td><td style = \"text-align: right;\">2</td><td style = \"text-align: right;\">4</td><td style = \"text-align: right;\">6</td><td style = \"text-align: right;\">1</td><td style = \"text-align: right;\">2</td><td style = \"text-align: right;\">8.1297</td><td style = \"text-align: right;\">0.0</td><td style = \"text-align: right;\">0.0</td><td style = \"text-align: right;\">0.0</td><td style = \"text-align: right;\">0.0</td><td style = \"text-align: right;\">0.0</td><td style = \"text-align: right;\">8.1297</td><td style = \"text-align: right;\">4</td><td style = \"text-align: right;\">7</td><td style = \"text-align: right;\">3.05</td><td style = \"text-align: right;\">12</td></tr><tr><td class = \"rowNumber\" style = \"font-weight: bold; text-align: right;\">5</td><td style = \"text-align: right;\">2</td><td style = \"text-align: right;\">5</td><td style = \"text-align: right;\">6</td><td style = \"text-align: right;\">1</td><td style = \"text-align: right;\">3</td><td style = \"text-align: right;\">0.0</td><td style = \"text-align: right;\">4.45847</td><td style = \"text-align: right;\">0.0</td><td style = \"text-align: right;\">0.0</td><td style = \"text-align: right;\">0.0</td><td style = \"text-align: right;\">0.0</td><td style = \"text-align: right;\">4.45847</td><td style = \"text-align: right;\">1</td><td style = \"text-align: right;\">7</td><td style = \"text-align: right;\">3.05</td><td style = \"text-align: right;\">12</td></tr><tr><td class = \"rowNumber\" style = \"font-weight: bold; text-align: right;\">6</td><td style = \"text-align: right;\">2</td><td style = \"text-align: right;\">6</td><td style = \"text-align: right;\">6</td><td style = \"text-align: right;\">1</td><td style = \"text-align: right;\">7</td><td style = \"text-align: right;\">0.0</td><td style = \"text-align: right;\">0.0</td><td style = \"text-align: right;\">0.0</td><td style = \"text-align: right;\">0.0</td><td style = \"text-align: right;\">0.0</td><td style = \"text-align: right;\">0.702172</td><td style = \"text-align: right;\">0.702172</td><td style = \"text-align: right;\">2</td><td style = \"text-align: right;\">7</td><td style = \"text-align: right;\">3.05</td><td style = \"text-align: right;\">12</td></tr><tr><td class = \"rowNumber\" style = \"font-weight: bold; text-align: right;\">7</td><td style = \"text-align: right;\">3</td><td style = \"text-align: right;\">7</td><td style = \"text-align: right;\">6</td><td style = \"text-align: right;\">1</td><td style = \"text-align: right;\">2</td><td style = \"text-align: right;\">1.79666</td><td style = \"text-align: right;\">0.0</td><td style = \"text-align: right;\">0.0</td><td style = \"text-align: right;\">0.0</td><td style = \"text-align: right;\">0.0</td><td style = \"text-align: right;\">0.0</td><td style = \"text-align: right;\">1.79666</td><td style = \"text-align: right;\">1</td><td style = \"text-align: right;\">5</td><td style = \"text-align: right;\">2.05</td><td style = \"text-align: right;\">9</td></tr><tr><td class = \"rowNumber\" style = \"font-weight: bold; text-align: right;\">8</td><td style = \"text-align: right;\">3</td><td style = \"text-align: right;\">8</td><td style = \"text-align: right;\">6</td><td style = \"text-align: right;\">1</td><td style = \"text-align: right;\">3</td><td style = \"text-align: right;\">0.0</td><td style = \"text-align: right;\">5.01364</td><td style = \"text-align: right;\">0.0</td><td style = \"text-align: right;\">0.0</td><td style = \"text-align: right;\">0.0</td><td style = \"text-align: right;\">0.0</td><td style = \"text-align: right;\">5.01364</td><td style = \"text-align: right;\">2</td><td style = \"text-align: right;\">5</td><td style = \"text-align: right;\">2.05</td><td style = \"text-align: right;\">9</td></tr><tr><td class = \"rowNumber\" style = \"font-weight: bold; text-align: right;\">9</td><td style = \"text-align: right;\">3</td><td style = \"text-align: right;\">9</td><td style = \"text-align: right;\">6</td><td style = \"text-align: right;\">1</td><td style = \"text-align: right;\">7</td><td style = \"text-align: right;\">0.0</td><td style = \"text-align: right;\">0.0</td><td style = \"text-align: right;\">0.0</td><td style = \"text-align: right;\">0.0</td><td style = \"text-align: right;\">0.0</td><td style = \"text-align: right;\">1.20562</td><td style = \"text-align: right;\">1.20562</td><td style = \"text-align: right;\">2</td><td style = \"text-align: right;\">5</td><td style = \"text-align: right;\">2.05</td><td style = \"text-align: right;\">9</td></tr><tr><td class = \"rowNumber\" style = \"font-weight: bold; text-align: right;\">10</td><td style = \"text-align: right;\">4</td><td style = \"text-align: right;\">10</td><td style = \"text-align: right;\">9</td><td style = \"text-align: right;\">1</td><td style = \"text-align: right;\">3</td><td style = \"text-align: right;\">0.0</td><td style = \"text-align: right;\">4.98846</td><td style = \"text-align: right;\">0.0</td><td style = \"text-align: right;\">0.0</td><td style = \"text-align: right;\">0.0</td><td style = \"text-align: right;\">0.0</td><td style = \"text-align: right;\">4.98846</td><td style = \"text-align: right;\">2</td><td style = \"text-align: right;\">9</td><td style = \"text-align: right;\">4.05</td><td style = \"text-align: right;\">15</td></tr><tr><td class = \"rowNumber\" style = \"font-weight: bold; text-align: right;\">11</td><td style = \"text-align: right;\">4</td><td style = \"text-align: right;\">11</td><td style = \"text-align: right;\">9</td><td style = \"text-align: right;\">1</td><td style = \"text-align: right;\">5</td><td style = \"text-align: right;\">0.0</td><td style = \"text-align: right;\">0.0</td><td style = \"text-align: right;\">0.0</td><td style = \"text-align: right;\">11.7626</td><td style = \"text-align: right;\">0.0</td><td style = \"text-align: right;\">0.0</td><td style = \"text-align: right;\">11.7626</td><td style = \"text-align: right;\">5</td><td style = \"text-align: right;\">9</td><td style = \"text-align: right;\">4.05</td><td style = \"text-align: right;\">15</td></tr><tr><td class = \"rowNumber\" style = \"font-weight: bold; text-align: right;\">12</td><td style = \"text-align: right;\">4</td><td style = \"text-align: right;\">12</td><td style = \"text-align: right;\">9</td><td style = \"text-align: right;\">1</td><td style = \"text-align: right;\">7</td><td style = \"text-align: right;\">0.0</td><td style = \"text-align: right;\">0.0</td><td style = \"text-align: right;\">0.0</td><td style = \"text-align: right;\">0.0</td><td style = \"text-align: right;\">0.0</td><td style = \"text-align: right;\">0.606213</td><td style = \"text-align: right;\">0.606213</td><td style = \"text-align: right;\">2</td><td style = \"text-align: right;\">9</td><td style = \"text-align: right;\">4.05</td><td style = \"text-align: right;\">15</td></tr><tr><td class = \"rowNumber\" style = \"font-weight: bold; text-align: right;\">13</td><td style = \"text-align: right;\">5</td><td style = \"text-align: right;\">13</td><td style = \"text-align: right;\">9</td><td style = \"text-align: right;\">1</td><td style = \"text-align: right;\">3</td><td style = \"text-align: right;\">0.0</td><td style = \"text-align: right;\">7.32977</td><td style = \"text-align: right;\">0.0</td><td style = \"text-align: right;\">0.0</td><td style = \"text-align: right;\">0.0</td><td style = \"text-align: right;\">0.0</td><td style = \"text-align: right;\">7.32977</td><td style = \"text-align: right;\">2</td><td style = \"text-align: right;\">6</td><td style = \"text-align: right;\">3.0</td><td style = \"text-align: right;\">10</td></tr><tr><td style = \"text-align: right;\">&vellip;</td><td style = \"text-align: right;\">&vellip;</td><td style = \"text-align: right;\">&vellip;</td><td style = \"text-align: right;\">&vellip;</td><td style = \"text-align: right;\">&vellip;</td><td style = \"text-align: right;\">&vellip;</td><td style = \"text-align: right;\">&vellip;</td><td style = \"text-align: right;\">&vellip;</td><td style = \"text-align: right;\">&vellip;</td><td style = \"text-align: right;\">&vellip;</td><td style = \"text-align: right;\">&vellip;</td><td style = \"text-align: right;\">&vellip;</td><td style = \"text-align: right;\">&vellip;</td><td style = \"text-align: right;\">&vellip;</td><td style = \"text-align: right;\">&vellip;</td><td style = \"text-align: right;\">&vellip;</td><td style = \"text-align: right;\">&vellip;</td></tr><tr><td class = \"rowNumber\" style = \"font-weight: bold; text-align: right;\">3457</td><td style = \"text-align: right;\">997</td><td style = \"text-align: right;\">3457</td><td style = \"text-align: right;\">6</td><td style = \"text-align: right;\">101</td><td style = \"text-align: right;\">2</td><td style = \"text-align: right;\">9.25951</td><td style = \"text-align: right;\">0.0</td><td style = \"text-align: right;\">0.0</td><td style = \"text-align: right;\">0.0</td><td style = \"text-align: right;\">0.0</td><td style = \"text-align: right;\">0.0</td><td style = \"text-align: right;\">9.25951</td><td style = \"text-align: right;\">4</td><td style = \"text-align: right;\">7</td><td style = \"text-align: right;\">3.05</td><td style = \"text-align: right;\">112</td></tr><tr><td class = \"rowNumber\" style = \"font-weight: bold; text-align: right;\">3458</td><td style = \"text-align: right;\">997</td><td style = \"text-align: right;\">3458</td><td style = \"text-align: right;\">6</td><td style = \"text-align: right;\">101</td><td style = \"text-align: right;\">3</td><td style = \"text-align: right;\">0.0</td><td style = \"text-align: right;\">2.48693</td><td style = \"text-align: right;\">0.0</td><td style = \"text-align: right;\">0.0</td><td style = \"text-align: right;\">0.0</td><td style = \"text-align: right;\">0.0</td><td style = \"text-align: right;\">2.48693</td><td style = \"text-align: right;\">1</td><td style = \"text-align: right;\">7</td><td style = \"text-align: right;\">3.05</td><td style = \"text-align: right;\">112</td></tr><tr><td class = \"rowNumber\" style = \"font-weight: bold; text-align: right;\">3459</td><td style = \"text-align: right;\">997</td><td style = \"text-align: right;\">3459</td><td style = \"text-align: right;\">6</td><td style = \"text-align: right;\">101</td><td style = \"text-align: right;\">7</td><td style = \"text-align: right;\">0.0</td><td style = \"text-align: right;\">0.0</td><td style = \"text-align: right;\">0.0</td><td style = \"text-align: right;\">0.0</td><td style = \"text-align: right;\">0.0</td><td style = \"text-align: right;\">0.926368</td><td style = \"text-align: right;\">0.926368</td><td style = \"text-align: right;\">2</td><td style = \"text-align: right;\">7</td><td style = \"text-align: right;\">3.05</td><td style = \"text-align: right;\">112</td></tr><tr><td class = \"rowNumber\" style = \"font-weight: bold; text-align: right;\">3460</td><td style = \"text-align: right;\">998</td><td style = \"text-align: right;\">3460</td><td style = \"text-align: right;\">8</td><td style = \"text-align: right;\">102</td><td style = \"text-align: right;\">3</td><td style = \"text-align: right;\">0.0</td><td style = \"text-align: right;\">9.57554</td><td style = \"text-align: right;\">0.0</td><td style = \"text-align: right;\">0.0</td><td style = \"text-align: right;\">0.0</td><td style = \"text-align: right;\">0.0</td><td style = \"text-align: right;\">9.57554</td><td style = \"text-align: right;\">2</td><td style = \"text-align: right;\">8</td><td style = \"text-align: right;\">4.0</td><td style = \"text-align: right;\">114</td></tr><tr><td class = \"rowNumber\" style = \"font-weight: bold; text-align: right;\">3461</td><td style = \"text-align: right;\">998</td><td style = \"text-align: right;\">3461</td><td style = \"text-align: right;\">8</td><td style = \"text-align: right;\">102</td><td style = \"text-align: right;\">4</td><td style = \"text-align: right;\">0.0</td><td style = \"text-align: right;\">0.0</td><td style = \"text-align: right;\">9.22183</td><td style = \"text-align: right;\">0.0</td><td style = \"text-align: right;\">0.0</td><td style = \"text-align: right;\">0.0</td><td style = \"text-align: right;\">9.22183</td><td style = \"text-align: right;\">4</td><td style = \"text-align: right;\">8</td><td style = \"text-align: right;\">4.0</td><td style = \"text-align: right;\">114</td></tr><tr><td class = \"rowNumber\" style = \"font-weight: bold; text-align: right;\">3462</td><td style = \"text-align: right;\">998</td><td style = \"text-align: right;\">3462</td><td style = \"text-align: right;\">8</td><td style = \"text-align: right;\">102</td><td style = \"text-align: right;\">7</td><td style = \"text-align: right;\">0.0</td><td style = \"text-align: right;\">0.0</td><td style = \"text-align: right;\">0.0</td><td style = \"text-align: right;\">0.0</td><td style = \"text-align: right;\">0.0</td><td style = \"text-align: right;\">1.05807</td><td style = \"text-align: right;\">1.05807</td><td style = \"text-align: right;\">2</td><td style = \"text-align: right;\">8</td><td style = \"text-align: right;\">4.0</td><td style = \"text-align: right;\">114</td></tr><tr><td class = \"rowNumber\" style = \"font-weight: bold; text-align: right;\">3463</td><td style = \"text-align: right;\">999</td><td style = \"text-align: right;\">3463</td><td style = \"text-align: right;\">9</td><td style = \"text-align: right;\">102</td><td style = \"text-align: right;\">3</td><td style = \"text-align: right;\">0.0</td><td style = \"text-align: right;\">3.25427</td><td style = \"text-align: right;\">0.0</td><td style = \"text-align: right;\">0.0</td><td style = \"text-align: right;\">0.0</td><td style = \"text-align: right;\">0.0</td><td style = \"text-align: right;\">3.25427</td><td style = \"text-align: right;\">1</td><td style = \"text-align: right;\">5</td><td style = \"text-align: right;\">2.05</td><td style = \"text-align: right;\">110</td></tr><tr><td class = \"rowNumber\" style = \"font-weight: bold; text-align: right;\">3464</td><td style = \"text-align: right;\">999</td><td style = \"text-align: right;\">3464</td><td style = \"text-align: right;\">9</td><td style = \"text-align: right;\">102</td><td style = \"text-align: right;\">5</td><td style = \"text-align: right;\">0.0</td><td style = \"text-align: right;\">0.0</td><td style = \"text-align: right;\">0.0</td><td style = \"text-align: right;\">4.72311</td><td style = \"text-align: right;\">0.0</td><td style = \"text-align: right;\">0.0</td><td style = \"text-align: right;\">4.72311</td><td style = \"text-align: right;\">2</td><td style = \"text-align: right;\">5</td><td style = \"text-align: right;\">2.05</td><td style = \"text-align: right;\">110</td></tr><tr><td class = \"rowNumber\" style = \"font-weight: bold; text-align: right;\">3465</td><td style = \"text-align: right;\">999</td><td style = \"text-align: right;\">3465</td><td style = \"text-align: right;\">9</td><td style = \"text-align: right;\">102</td><td style = \"text-align: right;\">7</td><td style = \"text-align: right;\">0.0</td><td style = \"text-align: right;\">0.0</td><td style = \"text-align: right;\">0.0</td><td style = \"text-align: right;\">0.0</td><td style = \"text-align: right;\">0.0</td><td style = \"text-align: right;\">0.190569</td><td style = \"text-align: right;\">0.190569</td><td style = \"text-align: right;\">2</td><td style = \"text-align: right;\">5</td><td style = \"text-align: right;\">2.05</td><td style = \"text-align: right;\">110</td></tr><tr><td class = \"rowNumber\" style = \"font-weight: bold; text-align: right;\">3466</td><td style = \"text-align: right;\">1000</td><td style = \"text-align: right;\">3466</td><td style = \"text-align: right;\">9</td><td style = \"text-align: right;\">102</td><td style = \"text-align: right;\">3</td><td style = \"text-align: right;\">0.0</td><td style = \"text-align: right;\">3.65764</td><td style = \"text-align: right;\">0.0</td><td style = \"text-align: right;\">0.0</td><td style = \"text-align: right;\">0.0</td><td style = \"text-align: right;\">0.0</td><td style = \"text-align: right;\">3.65764</td><td style = \"text-align: right;\">1</td><td style = \"text-align: right;\">5</td><td style = \"text-align: right;\">2.05</td><td style = \"text-align: right;\">110</td></tr><tr><td class = \"rowNumber\" style = \"font-weight: bold; text-align: right;\">3467</td><td style = \"text-align: right;\">1000</td><td style = \"text-align: right;\">3467</td><td style = \"text-align: right;\">9</td><td style = \"text-align: right;\">102</td><td style = \"text-align: right;\">5</td><td style = \"text-align: right;\">0.0</td><td style = \"text-align: right;\">0.0</td><td style = \"text-align: right;\">0.0</td><td style = \"text-align: right;\">3.30983</td><td style = \"text-align: right;\">0.0</td><td style = \"text-align: right;\">0.0</td><td style = \"text-align: right;\">3.30983</td><td style = \"text-align: right;\">2</td><td style = \"text-align: right;\">5</td><td style = \"text-align: right;\">2.05</td><td style = \"text-align: right;\">110</td></tr><tr><td class = \"rowNumber\" style = \"font-weight: bold; text-align: right;\">3468</td><td style = \"text-align: right;\">1000</td><td style = \"text-align: right;\">3468</td><td style = \"text-align: right;\">9</td><td style = \"text-align: right;\">102</td><td style = \"text-align: right;\">7</td><td style = \"text-align: right;\">0.0</td><td style = \"text-align: right;\">0.0</td><td style = \"text-align: right;\">0.0</td><td style = \"text-align: right;\">0.0</td><td style = \"text-align: right;\">0.0</td><td style = \"text-align: right;\">1.38545</td><td style = \"text-align: right;\">1.38545</td><td style = \"text-align: right;\">2</td><td style = \"text-align: right;\">5</td><td style = \"text-align: right;\">2.05</td><td style = \"text-align: right;\">110</td></tr></tbody></table></div>"
      ],
      "text/latex": [
       "\\begin{tabular}{r|ccccccccc}\n",
       "\t& Order & Job & Path & Arrival & Resource\\_idx & Resource\\_2 & Resource\\_3 & Resource\\_4 & \\\\\n",
       "\t\\hline\n",
       "\t& Int64 & Int64 & Int64 & Int64 & Int64 & Float64 & Float64 & Float64 & \\\\\n",
       "\t\\hline\n",
       "\t1 & 1 & 1 & 9 & 1 & 3 & 0.0 & 5.98325 & 0.0 & $\\dots$ \\\\\n",
       "\t2 & 1 & 2 & 9 & 1 & 5 & 0.0 & 0.0 & 0.0 & $\\dots$ \\\\\n",
       "\t3 & 1 & 3 & 9 & 1 & 7 & 0.0 & 0.0 & 0.0 & $\\dots$ \\\\\n",
       "\t4 & 2 & 4 & 6 & 1 & 2 & 8.1297 & 0.0 & 0.0 & $\\dots$ \\\\\n",
       "\t5 & 2 & 5 & 6 & 1 & 3 & 0.0 & 4.45847 & 0.0 & $\\dots$ \\\\\n",
       "\t6 & 2 & 6 & 6 & 1 & 7 & 0.0 & 0.0 & 0.0 & $\\dots$ \\\\\n",
       "\t7 & 3 & 7 & 6 & 1 & 2 & 1.79666 & 0.0 & 0.0 & $\\dots$ \\\\\n",
       "\t8 & 3 & 8 & 6 & 1 & 3 & 0.0 & 5.01364 & 0.0 & $\\dots$ \\\\\n",
       "\t9 & 3 & 9 & 6 & 1 & 7 & 0.0 & 0.0 & 0.0 & $\\dots$ \\\\\n",
       "\t10 & 4 & 10 & 9 & 1 & 3 & 0.0 & 4.98846 & 0.0 & $\\dots$ \\\\\n",
       "\t11 & 4 & 11 & 9 & 1 & 5 & 0.0 & 0.0 & 0.0 & $\\dots$ \\\\\n",
       "\t12 & 4 & 12 & 9 & 1 & 7 & 0.0 & 0.0 & 0.0 & $\\dots$ \\\\\n",
       "\t13 & 5 & 13 & 9 & 1 & 3 & 0.0 & 7.32977 & 0.0 & $\\dots$ \\\\\n",
       "\t14 & 5 & 14 & 9 & 1 & 5 & 0.0 & 0.0 & 0.0 & $\\dots$ \\\\\n",
       "\t15 & 5 & 15 & 9 & 1 & 7 & 0.0 & 0.0 & 0.0 & $\\dots$ \\\\\n",
       "\t16 & 6 & 16 & 3 & 1 & 2 & 3.66406 & 0.0 & 0.0 & $\\dots$ \\\\\n",
       "\t17 & 6 & 17 & 3 & 1 & 3 & 0.0 & 3.60958 & 0.0 & $\\dots$ \\\\\n",
       "\t18 & 6 & 18 & 3 & 1 & 5 & 0.0 & 0.0 & 0.0 & $\\dots$ \\\\\n",
       "\t19 & 6 & 19 & 3 & 1 & 7 & 0.0 & 0.0 & 0.0 & $\\dots$ \\\\\n",
       "\t20 & 7 & 20 & 8 & 1 & 3 & 0.0 & 3.11727 & 0.0 & $\\dots$ \\\\\n",
       "\t21 & 7 & 21 & 8 & 1 & 4 & 0.0 & 0.0 & 4.94525 & $\\dots$ \\\\\n",
       "\t22 & 7 & 22 & 8 & 1 & 7 & 0.0 & 0.0 & 0.0 & $\\dots$ \\\\\n",
       "\t23 & 8 & 23 & 9 & 2 & 3 & 0.0 & 3.91279 & 0.0 & $\\dots$ \\\\\n",
       "\t24 & 8 & 24 & 9 & 2 & 5 & 0.0 & 0.0 & 0.0 & $\\dots$ \\\\\n",
       "\t25 & 8 & 25 & 9 & 2 & 7 & 0.0 & 0.0 & 0.0 & $\\dots$ \\\\\n",
       "\t26 & 9 & 26 & 6 & 2 & 2 & 5.66074 & 0.0 & 0.0 & $\\dots$ \\\\\n",
       "\t27 & 9 & 27 & 6 & 2 & 3 & 0.0 & 6.52914 & 0.0 & $\\dots$ \\\\\n",
       "\t28 & 9 & 28 & 6 & 2 & 7 & 0.0 & 0.0 & 0.0 & $\\dots$ \\\\\n",
       "\t29 & 10 & 29 & 4 & 2 & 2 & 6.89443 & 0.0 & 0.0 & $\\dots$ \\\\\n",
       "\t30 & 10 & 30 & 4 & 2 & 3 & 0.0 & 7.3972 & 0.0 & $\\dots$ \\\\\n",
       "\t$\\dots$ & $\\dots$ & $\\dots$ & $\\dots$ & $\\dots$ & $\\dots$ & $\\dots$ & $\\dots$ & $\\dots$ &  \\\\\n",
       "\\end{tabular}\n"
      ],
      "text/plain": [
       "\u001b[1m3468×16 DataFrame\u001b[0m\n",
       "\u001b[1m  Row \u001b[0m│\u001b[1m Order \u001b[0m\u001b[1m Job   \u001b[0m\u001b[1m Path  \u001b[0m\u001b[1m Arrival \u001b[0m\u001b[1m Resource_idx \u001b[0m\u001b[1m Resource_2 \u001b[0m\u001b[1m Resource_3 \u001b[0m\u001b[1m Re\u001b[0m ⋯\n",
       "      │\u001b[90m Int64 \u001b[0m\u001b[90m Int64 \u001b[0m\u001b[90m Int64 \u001b[0m\u001b[90m Int64   \u001b[0m\u001b[90m Int64        \u001b[0m\u001b[90m Float64    \u001b[0m\u001b[90m Float64    \u001b[0m\u001b[90m Fl\u001b[0m ⋯\n",
       "──────┼─────────────────────────────────────────────────────────────────────────\n",
       "    1 │     1      1      9        1             3     0.0         5.98325     ⋯\n",
       "    2 │     1      2      9        1             5     0.0         0.0\n",
       "    3 │     1      3      9        1             7     0.0         0.0\n",
       "    4 │     2      4      6        1             2     8.1297      0.0\n",
       "    5 │     2      5      6        1             3     0.0         4.45847     ⋯\n",
       "    6 │     2      6      6        1             7     0.0         0.0\n",
       "    7 │     3      7      6        1             2     1.79666     0.0\n",
       "    8 │     3      8      6        1             3     0.0         5.01364\n",
       "    9 │     3      9      6        1             7     0.0         0.0         ⋯\n",
       "   10 │     4     10      9        1             3     0.0         4.98846\n",
       "   11 │     4     11      9        1             5     0.0         0.0\n",
       "  ⋮   │   ⋮      ⋮      ⋮       ⋮          ⋮            ⋮           ⋮          ⋱\n",
       " 3459 │   997   3459      6      101             7     0.0         0.0\n",
       " 3460 │   998   3460      8      102             3     0.0         9.57554     ⋯\n",
       " 3461 │   998   3461      8      102             4     0.0         0.0\n",
       " 3462 │   998   3462      8      102             7     0.0         0.0\n",
       " 3463 │   999   3463      9      102             3     0.0         3.25427\n",
       " 3464 │   999   3464      9      102             5     0.0         0.0         ⋯\n",
       " 3465 │   999   3465      9      102             7     0.0         0.0\n",
       " 3466 │  1000   3466      9      102             3     0.0         3.65764\n",
       " 3467 │  1000   3467      9      102             5     0.0         0.0\n",
       " 3468 │  1000   3468      9      102             7     0.0         0.0         ⋯\n",
       "\u001b[36m                                                 9 columns and 3447 rows omitted\u001b[0m"
      ]
     },
     "execution_count": 3,
     "metadata": {},
     "output_type": "execute_result"
    }
   ],
   "source": [
    "#NEW DATA:\n",
    "newdata = CSV.read(\"data/input_data/input_data_30-10-2024_seed_42.csv\", DataFrame; delim=';')"
   ]
  },
  {
   "cell_type": "code",
   "execution_count": 4,
   "id": "a920b987-05a7-4ab3-be1c-4cf486312904",
   "metadata": {},
   "outputs": [
    {
     "data": {
      "text/html": [
       "<div><div style = \"float: left;\"><span>103×16 DataFrame</span></div><div style = \"float: right;\"><span style = \"font-style: italic;\">78 rows omitted</span></div><div style = \"clear: both;\"></div></div><div class = \"data-frame\" style = \"overflow-x: scroll;\"><table class = \"data-frame\" style = \"margin-bottom: 6px;\"><thead><tr class = \"header\"><th class = \"rowNumber\" style = \"font-weight: bold; text-align: right;\">Row</th><th style = \"text-align: left;\">Order</th><th style = \"text-align: left;\">Job</th><th style = \"text-align: left;\">Path</th><th style = \"text-align: left;\">Arrival</th><th style = \"text-align: left;\">Resource_idx</th><th style = \"text-align: left;\">Resource_2</th><th style = \"text-align: left;\">Resource_3</th><th style = \"text-align: left;\">Resource_4</th><th style = \"text-align: left;\">Resource_5</th><th style = \"text-align: left;\">Resource_6</th><th style = \"text-align: left;\">Resource_7</th><th style = \"text-align: left;\">job_WC</th><th style = \"text-align: left;\">Duration</th><th style = \"text-align: left;\">MinDelivery</th><th style = \"text-align: left;\">Slack</th><th style = \"text-align: left;\">Duedate</th></tr><tr class = \"subheader headerLastRow\"><th class = \"rowNumber\" style = \"font-weight: bold; text-align: right;\"></th><th title = \"Int64\" style = \"text-align: left;\">Int64</th><th title = \"Int64\" style = \"text-align: left;\">Int64</th><th title = \"Int64\" style = \"text-align: left;\">Int64</th><th title = \"Int64\" style = \"text-align: left;\">Int64</th><th title = \"Int64\" style = \"text-align: left;\">Int64</th><th title = \"Float64\" style = \"text-align: left;\">Float64</th><th title = \"Float64\" style = \"text-align: left;\">Float64</th><th title = \"Float64\" style = \"text-align: left;\">Float64</th><th title = \"Float64\" style = \"text-align: left;\">Float64</th><th title = \"Float64\" style = \"text-align: left;\">Float64</th><th title = \"Float64\" style = \"text-align: left;\">Float64</th><th title = \"Float64\" style = \"text-align: left;\">Float64</th><th title = \"Int64\" style = \"text-align: left;\">Int64</th><th title = \"Int64\" style = \"text-align: left;\">Int64</th><th title = \"Float64\" style = \"text-align: left;\">Float64</th><th title = \"Int64\" style = \"text-align: left;\">Int64</th></tr></thead><tbody><tr><td class = \"rowNumber\" style = \"font-weight: bold; text-align: right;\">1</td><td style = \"text-align: right;\">1</td><td style = \"text-align: right;\">1</td><td style = \"text-align: right;\">9</td><td style = \"text-align: right;\">1</td><td style = \"text-align: right;\">3</td><td style = \"text-align: right;\">0.0</td><td style = \"text-align: right;\">5.98325</td><td style = \"text-align: right;\">0.0</td><td style = \"text-align: right;\">0.0</td><td style = \"text-align: right;\">0.0</td><td style = \"text-align: right;\">0.0</td><td style = \"text-align: right;\">5.98325</td><td style = \"text-align: right;\">2</td><td style = \"text-align: right;\">6</td><td style = \"text-align: right;\">3.0</td><td style = \"text-align: right;\">10</td></tr><tr><td class = \"rowNumber\" style = \"font-weight: bold; text-align: right;\">2</td><td style = \"text-align: right;\">1</td><td style = \"text-align: right;\">2</td><td style = \"text-align: right;\">9</td><td style = \"text-align: right;\">1</td><td style = \"text-align: right;\">5</td><td style = \"text-align: right;\">0.0</td><td style = \"text-align: right;\">0.0</td><td style = \"text-align: right;\">0.0</td><td style = \"text-align: right;\">3.99601</td><td style = \"text-align: right;\">0.0</td><td style = \"text-align: right;\">0.0</td><td style = \"text-align: right;\">3.99601</td><td style = \"text-align: right;\">2</td><td style = \"text-align: right;\">6</td><td style = \"text-align: right;\">3.0</td><td style = \"text-align: right;\">10</td></tr><tr><td class = \"rowNumber\" style = \"font-weight: bold; text-align: right;\">3</td><td style = \"text-align: right;\">1</td><td style = \"text-align: right;\">3</td><td style = \"text-align: right;\">9</td><td style = \"text-align: right;\">1</td><td style = \"text-align: right;\">7</td><td style = \"text-align: right;\">0.0</td><td style = \"text-align: right;\">0.0</td><td style = \"text-align: right;\">0.0</td><td style = \"text-align: right;\">0.0</td><td style = \"text-align: right;\">0.0</td><td style = \"text-align: right;\">0.577784</td><td style = \"text-align: right;\">0.577784</td><td style = \"text-align: right;\">2</td><td style = \"text-align: right;\">6</td><td style = \"text-align: right;\">3.0</td><td style = \"text-align: right;\">10</td></tr><tr><td class = \"rowNumber\" style = \"font-weight: bold; text-align: right;\">4</td><td style = \"text-align: right;\">2</td><td style = \"text-align: right;\">4</td><td style = \"text-align: right;\">6</td><td style = \"text-align: right;\">1</td><td style = \"text-align: right;\">2</td><td style = \"text-align: right;\">8.1297</td><td style = \"text-align: right;\">0.0</td><td style = \"text-align: right;\">0.0</td><td style = \"text-align: right;\">0.0</td><td style = \"text-align: right;\">0.0</td><td style = \"text-align: right;\">0.0</td><td style = \"text-align: right;\">8.1297</td><td style = \"text-align: right;\">4</td><td style = \"text-align: right;\">7</td><td style = \"text-align: right;\">3.05</td><td style = \"text-align: right;\">12</td></tr><tr><td class = \"rowNumber\" style = \"font-weight: bold; text-align: right;\">5</td><td style = \"text-align: right;\">2</td><td style = \"text-align: right;\">5</td><td style = \"text-align: right;\">6</td><td style = \"text-align: right;\">1</td><td style = \"text-align: right;\">3</td><td style = \"text-align: right;\">0.0</td><td style = \"text-align: right;\">4.45847</td><td style = \"text-align: right;\">0.0</td><td style = \"text-align: right;\">0.0</td><td style = \"text-align: right;\">0.0</td><td style = \"text-align: right;\">0.0</td><td style = \"text-align: right;\">4.45847</td><td style = \"text-align: right;\">1</td><td style = \"text-align: right;\">7</td><td style = \"text-align: right;\">3.05</td><td style = \"text-align: right;\">12</td></tr><tr><td class = \"rowNumber\" style = \"font-weight: bold; text-align: right;\">6</td><td style = \"text-align: right;\">2</td><td style = \"text-align: right;\">6</td><td style = \"text-align: right;\">6</td><td style = \"text-align: right;\">1</td><td style = \"text-align: right;\">7</td><td style = \"text-align: right;\">0.0</td><td style = \"text-align: right;\">0.0</td><td style = \"text-align: right;\">0.0</td><td style = \"text-align: right;\">0.0</td><td style = \"text-align: right;\">0.0</td><td style = \"text-align: right;\">0.702172</td><td style = \"text-align: right;\">0.702172</td><td style = \"text-align: right;\">2</td><td style = \"text-align: right;\">7</td><td style = \"text-align: right;\">3.05</td><td style = \"text-align: right;\">12</td></tr><tr><td class = \"rowNumber\" style = \"font-weight: bold; text-align: right;\">7</td><td style = \"text-align: right;\">3</td><td style = \"text-align: right;\">7</td><td style = \"text-align: right;\">6</td><td style = \"text-align: right;\">1</td><td style = \"text-align: right;\">2</td><td style = \"text-align: right;\">1.79666</td><td style = \"text-align: right;\">0.0</td><td style = \"text-align: right;\">0.0</td><td style = \"text-align: right;\">0.0</td><td style = \"text-align: right;\">0.0</td><td style = \"text-align: right;\">0.0</td><td style = \"text-align: right;\">1.79666</td><td style = \"text-align: right;\">1</td><td style = \"text-align: right;\">5</td><td style = \"text-align: right;\">2.05</td><td style = \"text-align: right;\">9</td></tr><tr><td class = \"rowNumber\" style = \"font-weight: bold; text-align: right;\">8</td><td style = \"text-align: right;\">3</td><td style = \"text-align: right;\">8</td><td style = \"text-align: right;\">6</td><td style = \"text-align: right;\">1</td><td style = \"text-align: right;\">3</td><td style = \"text-align: right;\">0.0</td><td style = \"text-align: right;\">5.01364</td><td style = \"text-align: right;\">0.0</td><td style = \"text-align: right;\">0.0</td><td style = \"text-align: right;\">0.0</td><td style = \"text-align: right;\">0.0</td><td style = \"text-align: right;\">5.01364</td><td style = \"text-align: right;\">2</td><td style = \"text-align: right;\">5</td><td style = \"text-align: right;\">2.05</td><td style = \"text-align: right;\">9</td></tr><tr><td class = \"rowNumber\" style = \"font-weight: bold; text-align: right;\">9</td><td style = \"text-align: right;\">3</td><td style = \"text-align: right;\">9</td><td style = \"text-align: right;\">6</td><td style = \"text-align: right;\">1</td><td style = \"text-align: right;\">7</td><td style = \"text-align: right;\">0.0</td><td style = \"text-align: right;\">0.0</td><td style = \"text-align: right;\">0.0</td><td style = \"text-align: right;\">0.0</td><td style = \"text-align: right;\">0.0</td><td style = \"text-align: right;\">1.20562</td><td style = \"text-align: right;\">1.20562</td><td style = \"text-align: right;\">2</td><td style = \"text-align: right;\">5</td><td style = \"text-align: right;\">2.05</td><td style = \"text-align: right;\">9</td></tr><tr><td class = \"rowNumber\" style = \"font-weight: bold; text-align: right;\">10</td><td style = \"text-align: right;\">4</td><td style = \"text-align: right;\">10</td><td style = \"text-align: right;\">9</td><td style = \"text-align: right;\">1</td><td style = \"text-align: right;\">3</td><td style = \"text-align: right;\">0.0</td><td style = \"text-align: right;\">4.98846</td><td style = \"text-align: right;\">0.0</td><td style = \"text-align: right;\">0.0</td><td style = \"text-align: right;\">0.0</td><td style = \"text-align: right;\">0.0</td><td style = \"text-align: right;\">4.98846</td><td style = \"text-align: right;\">2</td><td style = \"text-align: right;\">9</td><td style = \"text-align: right;\">4.05</td><td style = \"text-align: right;\">15</td></tr><tr><td class = \"rowNumber\" style = \"font-weight: bold; text-align: right;\">11</td><td style = \"text-align: right;\">4</td><td style = \"text-align: right;\">11</td><td style = \"text-align: right;\">9</td><td style = \"text-align: right;\">1</td><td style = \"text-align: right;\">5</td><td style = \"text-align: right;\">0.0</td><td style = \"text-align: right;\">0.0</td><td style = \"text-align: right;\">0.0</td><td style = \"text-align: right;\">11.7626</td><td style = \"text-align: right;\">0.0</td><td style = \"text-align: right;\">0.0</td><td style = \"text-align: right;\">11.7626</td><td style = \"text-align: right;\">5</td><td style = \"text-align: right;\">9</td><td style = \"text-align: right;\">4.05</td><td style = \"text-align: right;\">15</td></tr><tr><td class = \"rowNumber\" style = \"font-weight: bold; text-align: right;\">12</td><td style = \"text-align: right;\">4</td><td style = \"text-align: right;\">12</td><td style = \"text-align: right;\">9</td><td style = \"text-align: right;\">1</td><td style = \"text-align: right;\">7</td><td style = \"text-align: right;\">0.0</td><td style = \"text-align: right;\">0.0</td><td style = \"text-align: right;\">0.0</td><td style = \"text-align: right;\">0.0</td><td style = \"text-align: right;\">0.0</td><td style = \"text-align: right;\">0.606213</td><td style = \"text-align: right;\">0.606213</td><td style = \"text-align: right;\">2</td><td style = \"text-align: right;\">9</td><td style = \"text-align: right;\">4.05</td><td style = \"text-align: right;\">15</td></tr><tr><td class = \"rowNumber\" style = \"font-weight: bold; text-align: right;\">13</td><td style = \"text-align: right;\">5</td><td style = \"text-align: right;\">13</td><td style = \"text-align: right;\">9</td><td style = \"text-align: right;\">1</td><td style = \"text-align: right;\">3</td><td style = \"text-align: right;\">0.0</td><td style = \"text-align: right;\">7.32977</td><td style = \"text-align: right;\">0.0</td><td style = \"text-align: right;\">0.0</td><td style = \"text-align: right;\">0.0</td><td style = \"text-align: right;\">0.0</td><td style = \"text-align: right;\">7.32977</td><td style = \"text-align: right;\">2</td><td style = \"text-align: right;\">6</td><td style = \"text-align: right;\">3.0</td><td style = \"text-align: right;\">10</td></tr><tr><td style = \"text-align: right;\">&vellip;</td><td style = \"text-align: right;\">&vellip;</td><td style = \"text-align: right;\">&vellip;</td><td style = \"text-align: right;\">&vellip;</td><td style = \"text-align: right;\">&vellip;</td><td style = \"text-align: right;\">&vellip;</td><td style = \"text-align: right;\">&vellip;</td><td style = \"text-align: right;\">&vellip;</td><td style = \"text-align: right;\">&vellip;</td><td style = \"text-align: right;\">&vellip;</td><td style = \"text-align: right;\">&vellip;</td><td style = \"text-align: right;\">&vellip;</td><td style = \"text-align: right;\">&vellip;</td><td style = \"text-align: right;\">&vellip;</td><td style = \"text-align: right;\">&vellip;</td><td style = \"text-align: right;\">&vellip;</td><td style = \"text-align: right;\">&vellip;</td></tr><tr><td class = \"rowNumber\" style = \"font-weight: bold; text-align: right;\">92</td><td style = \"text-align: right;\">26</td><td style = \"text-align: right;\">92</td><td style = \"text-align: right;\">5</td><td style = \"text-align: right;\">3</td><td style = \"text-align: right;\">6</td><td style = \"text-align: right;\">0.0</td><td style = \"text-align: right;\">0.0</td><td style = \"text-align: right;\">0.0</td><td style = \"text-align: right;\">0.0</td><td style = \"text-align: right;\">9.78201</td><td style = \"text-align: right;\">0.0</td><td style = \"text-align: right;\">9.78201</td><td style = \"text-align: right;\">4</td><td style = \"text-align: right;\">11</td><td style = \"text-align: right;\">5.05</td><td style = \"text-align: right;\">20</td></tr><tr><td class = \"rowNumber\" style = \"font-weight: bold; text-align: right;\">93</td><td style = \"text-align: right;\">26</td><td style = \"text-align: right;\">93</td><td style = \"text-align: right;\">5</td><td style = \"text-align: right;\">3</td><td style = \"text-align: right;\">7</td><td style = \"text-align: right;\">0.0</td><td style = \"text-align: right;\">0.0</td><td style = \"text-align: right;\">0.0</td><td style = \"text-align: right;\">0.0</td><td style = \"text-align: right;\">0.0</td><td style = \"text-align: right;\">0.866033</td><td style = \"text-align: right;\">0.866033</td><td style = \"text-align: right;\">2</td><td style = \"text-align: right;\">11</td><td style = \"text-align: right;\">5.05</td><td style = \"text-align: right;\">20</td></tr><tr><td class = \"rowNumber\" style = \"font-weight: bold; text-align: right;\">94</td><td style = \"text-align: right;\">27</td><td style = \"text-align: right;\">94</td><td style = \"text-align: right;\">6</td><td style = \"text-align: right;\">3</td><td style = \"text-align: right;\">2</td><td style = \"text-align: right;\">4.64708</td><td style = \"text-align: right;\">0.0</td><td style = \"text-align: right;\">0.0</td><td style = \"text-align: right;\">0.0</td><td style = \"text-align: right;\">0.0</td><td style = \"text-align: right;\">0.0</td><td style = \"text-align: right;\">4.64708</td><td style = \"text-align: right;\">2</td><td style = \"text-align: right;\">5</td><td style = \"text-align: right;\">2.05</td><td style = \"text-align: right;\">11</td></tr><tr><td class = \"rowNumber\" style = \"font-weight: bold; text-align: right;\">95</td><td style = \"text-align: right;\">27</td><td style = \"text-align: right;\">95</td><td style = \"text-align: right;\">6</td><td style = \"text-align: right;\">3</td><td style = \"text-align: right;\">3</td><td style = \"text-align: right;\">0.0</td><td style = \"text-align: right;\">3.85609</td><td style = \"text-align: right;\">0.0</td><td style = \"text-align: right;\">0.0</td><td style = \"text-align: right;\">0.0</td><td style = \"text-align: right;\">0.0</td><td style = \"text-align: right;\">3.85609</td><td style = \"text-align: right;\">1</td><td style = \"text-align: right;\">5</td><td style = \"text-align: right;\">2.05</td><td style = \"text-align: right;\">11</td></tr><tr><td class = \"rowNumber\" style = \"font-weight: bold; text-align: right;\">96</td><td style = \"text-align: right;\">27</td><td style = \"text-align: right;\">96</td><td style = \"text-align: right;\">6</td><td style = \"text-align: right;\">3</td><td style = \"text-align: right;\">7</td><td style = \"text-align: right;\">0.0</td><td style = \"text-align: right;\">0.0</td><td style = \"text-align: right;\">0.0</td><td style = \"text-align: right;\">0.0</td><td style = \"text-align: right;\">0.0</td><td style = \"text-align: right;\">0.978176</td><td style = \"text-align: right;\">0.978176</td><td style = \"text-align: right;\">2</td><td style = \"text-align: right;\">5</td><td style = \"text-align: right;\">2.05</td><td style = \"text-align: right;\">11</td></tr><tr><td class = \"rowNumber\" style = \"font-weight: bold; text-align: right;\">97</td><td style = \"text-align: right;\">28</td><td style = \"text-align: right;\">97</td><td style = \"text-align: right;\">11</td><td style = \"text-align: right;\">3</td><td style = \"text-align: right;\">3</td><td style = \"text-align: right;\">0.0</td><td style = \"text-align: right;\">2.8093</td><td style = \"text-align: right;\">0.0</td><td style = \"text-align: right;\">0.0</td><td style = \"text-align: right;\">0.0</td><td style = \"text-align: right;\">0.0</td><td style = \"text-align: right;\">2.8093</td><td style = \"text-align: right;\">1</td><td style = \"text-align: right;\">8</td><td style = \"text-align: right;\">4.0</td><td style = \"text-align: right;\">15</td></tr><tr><td class = \"rowNumber\" style = \"font-weight: bold; text-align: right;\">98</td><td style = \"text-align: right;\">28</td><td style = \"text-align: right;\">98</td><td style = \"text-align: right;\">11</td><td style = \"text-align: right;\">3</td><td style = \"text-align: right;\">6</td><td style = \"text-align: right;\">0.0</td><td style = \"text-align: right;\">0.0</td><td style = \"text-align: right;\">0.0</td><td style = \"text-align: right;\">0.0</td><td style = \"text-align: right;\">10.8902</td><td style = \"text-align: right;\">0.0</td><td style = \"text-align: right;\">10.8902</td><td style = \"text-align: right;\">5</td><td style = \"text-align: right;\">8</td><td style = \"text-align: right;\">4.0</td><td style = \"text-align: right;\">15</td></tr><tr><td class = \"rowNumber\" style = \"font-weight: bold; text-align: right;\">99</td><td style = \"text-align: right;\">28</td><td style = \"text-align: right;\">99</td><td style = \"text-align: right;\">11</td><td style = \"text-align: right;\">3</td><td style = \"text-align: right;\">7</td><td style = \"text-align: right;\">0.0</td><td style = \"text-align: right;\">0.0</td><td style = \"text-align: right;\">0.0</td><td style = \"text-align: right;\">0.0</td><td style = \"text-align: right;\">0.0</td><td style = \"text-align: right;\">0.440057</td><td style = \"text-align: right;\">0.440057</td><td style = \"text-align: right;\">2</td><td style = \"text-align: right;\">8</td><td style = \"text-align: right;\">4.0</td><td style = \"text-align: right;\">15</td></tr><tr><td class = \"rowNumber\" style = \"font-weight: bold; text-align: right;\">100</td><td style = \"text-align: right;\">29</td><td style = \"text-align: right;\">100</td><td style = \"text-align: right;\">5</td><td style = \"text-align: right;\">3</td><td style = \"text-align: right;\">2</td><td style = \"text-align: right;\">3.6617</td><td style = \"text-align: right;\">0.0</td><td style = \"text-align: right;\">0.0</td><td style = \"text-align: right;\">0.0</td><td style = \"text-align: right;\">0.0</td><td style = \"text-align: right;\">0.0</td><td style = \"text-align: right;\">3.6617</td><td style = \"text-align: right;\">2</td><td style = \"text-align: right;\">11</td><td style = \"text-align: right;\">5.05</td><td style = \"text-align: right;\">20</td></tr><tr><td class = \"rowNumber\" style = \"font-weight: bold; text-align: right;\">101</td><td style = \"text-align: right;\">29</td><td style = \"text-align: right;\">101</td><td style = \"text-align: right;\">5</td><td style = \"text-align: right;\">3</td><td style = \"text-align: right;\">3</td><td style = \"text-align: right;\">0.0</td><td style = \"text-align: right;\">6.05086</td><td style = \"text-align: right;\">0.0</td><td style = \"text-align: right;\">0.0</td><td style = \"text-align: right;\">0.0</td><td style = \"text-align: right;\">0.0</td><td style = \"text-align: right;\">6.05086</td><td style = \"text-align: right;\">2</td><td style = \"text-align: right;\">11</td><td style = \"text-align: right;\">5.05</td><td style = \"text-align: right;\">20</td></tr><tr><td class = \"rowNumber\" style = \"font-weight: bold; text-align: right;\">102</td><td style = \"text-align: right;\">29</td><td style = \"text-align: right;\">102</td><td style = \"text-align: right;\">5</td><td style = \"text-align: right;\">3</td><td style = \"text-align: right;\">6</td><td style = \"text-align: right;\">0.0</td><td style = \"text-align: right;\">0.0</td><td style = \"text-align: right;\">0.0</td><td style = \"text-align: right;\">0.0</td><td style = \"text-align: right;\">11.8605</td><td style = \"text-align: right;\">0.0</td><td style = \"text-align: right;\">11.8605</td><td style = \"text-align: right;\">5</td><td style = \"text-align: right;\">11</td><td style = \"text-align: right;\">5.05</td><td style = \"text-align: right;\">20</td></tr><tr><td class = \"rowNumber\" style = \"font-weight: bold; text-align: right;\">103</td><td style = \"text-align: right;\">29</td><td style = \"text-align: right;\">103</td><td style = \"text-align: right;\">5</td><td style = \"text-align: right;\">3</td><td style = \"text-align: right;\">7</td><td style = \"text-align: right;\">0.0</td><td style = \"text-align: right;\">0.0</td><td style = \"text-align: right;\">0.0</td><td style = \"text-align: right;\">0.0</td><td style = \"text-align: right;\">0.0</td><td style = \"text-align: right;\">0.430008</td><td style = \"text-align: right;\">0.430008</td><td style = \"text-align: right;\">2</td><td style = \"text-align: right;\">11</td><td style = \"text-align: right;\">5.05</td><td style = \"text-align: right;\">20</td></tr></tbody></table></div>"
      ],
      "text/latex": [
       "\\begin{tabular}{r|ccccccccc}\n",
       "\t& Order & Job & Path & Arrival & Resource\\_idx & Resource\\_2 & Resource\\_3 & Resource\\_4 & \\\\\n",
       "\t\\hline\n",
       "\t& Int64 & Int64 & Int64 & Int64 & Int64 & Float64 & Float64 & Float64 & \\\\\n",
       "\t\\hline\n",
       "\t1 & 1 & 1 & 9 & 1 & 3 & 0.0 & 5.98325 & 0.0 & $\\dots$ \\\\\n",
       "\t2 & 1 & 2 & 9 & 1 & 5 & 0.0 & 0.0 & 0.0 & $\\dots$ \\\\\n",
       "\t3 & 1 & 3 & 9 & 1 & 7 & 0.0 & 0.0 & 0.0 & $\\dots$ \\\\\n",
       "\t4 & 2 & 4 & 6 & 1 & 2 & 8.1297 & 0.0 & 0.0 & $\\dots$ \\\\\n",
       "\t5 & 2 & 5 & 6 & 1 & 3 & 0.0 & 4.45847 & 0.0 & $\\dots$ \\\\\n",
       "\t6 & 2 & 6 & 6 & 1 & 7 & 0.0 & 0.0 & 0.0 & $\\dots$ \\\\\n",
       "\t7 & 3 & 7 & 6 & 1 & 2 & 1.79666 & 0.0 & 0.0 & $\\dots$ \\\\\n",
       "\t8 & 3 & 8 & 6 & 1 & 3 & 0.0 & 5.01364 & 0.0 & $\\dots$ \\\\\n",
       "\t9 & 3 & 9 & 6 & 1 & 7 & 0.0 & 0.0 & 0.0 & $\\dots$ \\\\\n",
       "\t10 & 4 & 10 & 9 & 1 & 3 & 0.0 & 4.98846 & 0.0 & $\\dots$ \\\\\n",
       "\t11 & 4 & 11 & 9 & 1 & 5 & 0.0 & 0.0 & 0.0 & $\\dots$ \\\\\n",
       "\t12 & 4 & 12 & 9 & 1 & 7 & 0.0 & 0.0 & 0.0 & $\\dots$ \\\\\n",
       "\t13 & 5 & 13 & 9 & 1 & 3 & 0.0 & 7.32977 & 0.0 & $\\dots$ \\\\\n",
       "\t14 & 5 & 14 & 9 & 1 & 5 & 0.0 & 0.0 & 0.0 & $\\dots$ \\\\\n",
       "\t15 & 5 & 15 & 9 & 1 & 7 & 0.0 & 0.0 & 0.0 & $\\dots$ \\\\\n",
       "\t16 & 6 & 16 & 3 & 1 & 2 & 3.66406 & 0.0 & 0.0 & $\\dots$ \\\\\n",
       "\t17 & 6 & 17 & 3 & 1 & 3 & 0.0 & 3.60958 & 0.0 & $\\dots$ \\\\\n",
       "\t18 & 6 & 18 & 3 & 1 & 5 & 0.0 & 0.0 & 0.0 & $\\dots$ \\\\\n",
       "\t19 & 6 & 19 & 3 & 1 & 7 & 0.0 & 0.0 & 0.0 & $\\dots$ \\\\\n",
       "\t20 & 7 & 20 & 8 & 1 & 3 & 0.0 & 3.11727 & 0.0 & $\\dots$ \\\\\n",
       "\t21 & 7 & 21 & 8 & 1 & 4 & 0.0 & 0.0 & 4.94525 & $\\dots$ \\\\\n",
       "\t22 & 7 & 22 & 8 & 1 & 7 & 0.0 & 0.0 & 0.0 & $\\dots$ \\\\\n",
       "\t23 & 8 & 23 & 9 & 2 & 3 & 0.0 & 3.91279 & 0.0 & $\\dots$ \\\\\n",
       "\t24 & 8 & 24 & 9 & 2 & 5 & 0.0 & 0.0 & 0.0 & $\\dots$ \\\\\n",
       "\t25 & 8 & 25 & 9 & 2 & 7 & 0.0 & 0.0 & 0.0 & $\\dots$ \\\\\n",
       "\t26 & 9 & 26 & 6 & 2 & 2 & 5.66074 & 0.0 & 0.0 & $\\dots$ \\\\\n",
       "\t27 & 9 & 27 & 6 & 2 & 3 & 0.0 & 6.52914 & 0.0 & $\\dots$ \\\\\n",
       "\t28 & 9 & 28 & 6 & 2 & 7 & 0.0 & 0.0 & 0.0 & $\\dots$ \\\\\n",
       "\t29 & 10 & 29 & 4 & 2 & 2 & 6.89443 & 0.0 & 0.0 & $\\dots$ \\\\\n",
       "\t30 & 10 & 30 & 4 & 2 & 3 & 0.0 & 7.3972 & 0.0 & $\\dots$ \\\\\n",
       "\t$\\dots$ & $\\dots$ & $\\dots$ & $\\dots$ & $\\dots$ & $\\dots$ & $\\dots$ & $\\dots$ & $\\dots$ &  \\\\\n",
       "\\end{tabular}\n"
      ],
      "text/plain": [
       "\u001b[1m103×16 DataFrame\u001b[0m\n",
       "\u001b[1m Row \u001b[0m│\u001b[1m Order \u001b[0m\u001b[1m Job   \u001b[0m\u001b[1m Path  \u001b[0m\u001b[1m Arrival \u001b[0m\u001b[1m Resource_idx \u001b[0m\u001b[1m Resource_2 \u001b[0m\u001b[1m Resource_3 \u001b[0m\u001b[1m Res\u001b[0m ⋯\n",
       "     │\u001b[90m Int64 \u001b[0m\u001b[90m Int64 \u001b[0m\u001b[90m Int64 \u001b[0m\u001b[90m Int64   \u001b[0m\u001b[90m Int64        \u001b[0m\u001b[90m Float64    \u001b[0m\u001b[90m Float64    \u001b[0m\u001b[90m Flo\u001b[0m ⋯\n",
       "─────┼──────────────────────────────────────────────────────────────────────────\n",
       "   1 │     1      1      9        1             3     0.0         5.98325      ⋯\n",
       "   2 │     1      2      9        1             5     0.0         0.0\n",
       "   3 │     1      3      9        1             7     0.0         0.0\n",
       "   4 │     2      4      6        1             2     8.1297      0.0\n",
       "   5 │     2      5      6        1             3     0.0         4.45847      ⋯\n",
       "   6 │     2      6      6        1             7     0.0         0.0\n",
       "   7 │     3      7      6        1             2     1.79666     0.0\n",
       "   8 │     3      8      6        1             3     0.0         5.01364\n",
       "   9 │     3      9      6        1             7     0.0         0.0          ⋯\n",
       "  10 │     4     10      9        1             3     0.0         4.98846\n",
       "  11 │     4     11      9        1             5     0.0         0.0\n",
       "  ⋮  │   ⋮      ⋮      ⋮       ⋮          ⋮            ⋮           ⋮           ⋱\n",
       "  94 │    27     94      6        3             2     4.64708     0.0\n",
       "  95 │    27     95      6        3             3     0.0         3.85609      ⋯\n",
       "  96 │    27     96      6        3             7     0.0         0.0\n",
       "  97 │    28     97     11        3             3     0.0         2.8093\n",
       "  98 │    28     98     11        3             6     0.0         0.0\n",
       "  99 │    28     99     11        3             7     0.0         0.0          ⋯\n",
       " 100 │    29    100      5        3             2     3.6617      0.0\n",
       " 101 │    29    101      5        3             3     0.0         6.05086\n",
       " 102 │    29    102      5        3             6     0.0         0.0\n",
       " 103 │    29    103      5        3             7     0.0         0.0          ⋯\n",
       "\u001b[36m                                                   9 columns and 82 rows omitted\u001b[0m"
      ]
     },
     "execution_count": 4,
     "metadata": {},
     "output_type": "execute_result"
    }
   ],
   "source": [
    "newdata = newdata[1:103,:]"
   ]
  },
  {
   "cell_type": "code",
   "execution_count": 5,
   "id": "0b4810dc-bb43-4d38-b140-2a04b2f6e190",
   "metadata": {},
   "outputs": [
    {
     "data": {
      "text/plain": [
       "29"
      ]
     },
     "execution_count": 5,
     "metadata": {},
     "output_type": "execute_result"
    }
   ],
   "source": [
    "I = length(newdata.Job)\n",
    "K = maximum(newdata.Resource_idx)-1\n",
    "capacity = [6, 6, 6, 8, 9, 2]\n",
    "P = newdata.Duration\n",
    "D = newdata.Duedate\n",
    "A = newdata.Arrival\n",
    "T = 130 #Number of time steps\n",
    "M = 10000; \n",
    "WC = Matrix(newdata[:,6:11])\n",
    "OA = newdata.Arrival;\n",
    "MinDelivery = newdata.MinDelivery\n",
    "N_order = maximum(newdata.Order)"
   ]
  },
  {
   "cell_type": "code",
   "execution_count": 6,
   "id": "75a6f489-f8f9-4058-b855-c2eb94ee7011",
   "metadata": {},
   "outputs": [
    {
     "data": {
      "text/plain": [
       "\"fixed\""
      ]
     },
     "execution_count": 6,
     "metadata": {},
     "output_type": "execute_result"
    }
   ],
   "source": [
    "workload_distribution = \"free\"\n",
    "timing_template = \"fixed\""
   ]
  },
  {
   "cell_type": "code",
   "execution_count": 7,
   "id": "47922830-6f04-42c9-87e4-df691dfe4169",
   "metadata": {},
   "outputs": [
    {
     "data": {
      "text/plain": [
       "A JuMP Model\n",
       "├ solver: HiGHS\n",
       "├ objective_sense: FEASIBILITY_SENSE\n",
       "├ num_variables: 0\n",
       "├ num_constraints: 0\n",
       "└ Names registered in the model: none"
      ]
     },
     "execution_count": 7,
     "metadata": {},
     "output_type": "execute_result"
    }
   ],
   "source": [
    "prec_consts = all_precedence_constraints(newdata)\n",
    "model = Model(HiGHS.Optimizer)"
   ]
  },
  {
   "cell_type": "code",
   "execution_count": 8,
   "id": "f9f33159-1ab0-40ac-b021-399ad399ddb3",
   "metadata": {},
   "outputs": [
    {
     "data": {
      "text/latex": [
       "$ Max\\_tardiness $"
      ],
      "text/plain": [
       "Max_tardiness"
      ]
     },
     "execution_count": 8,
     "metadata": {},
     "output_type": "execute_result"
    }
   ],
   "source": [
    "@variable(model, C[1:I] >= 0) #Completion times\n",
    "@variable(model, R[1:I, 1:K, 1:T] >=0) #Resource workloads\n",
    "@variable(model, tardiness[1:I] >= 0) #Tardiness of jobs\n",
    "@variable(model, Max_tardiness >= 0) #Tardiness of job with largest tardiness\n",
    "@variable(model, c[1:I, 1:T], Bin) #Job completion\n",
    "@variable(model, X[1:I, 1:T], Bin) #1 if work i is ongoing\n",
    "    \n",
    "    \n",
    "    \n",
    "for i in 1:I\n",
    "    @constraint(model, sum(c[i, t] for t in 1:T) == 1)\n",
    "end\n",
    "    \n",
    "#equation 3\n",
    "    \n",
    "for i in 1:I   \n",
    "    @constraint(model, sum(t*c[i,t] for t in 1:T) == C[i]) \n",
    "end\n",
    "    \n",
    "    #equation 5\n",
    "    #TODO: TARKISTA!!!!!!!!!!!!!!!!!!!!!!!!!!!!!!!!!!!!!!!!!!!!!!!!!!!!!!!!!!!!!!!!!!!!!!!!!!!!!!!!!!!!\n",
    "    \n",
    "for i in 1:I\n",
    "    @constraint(model, C[i] - P[i] >= A[i])\n",
    "end\n",
    "    \n",
    "    #Capacity constraint: Capacity of any machine shall not be exceeded at any time step\n",
    "    #FIXME: LIIAN SUURIA KUORMIA NYT PAIKOTELLEN!!!\n",
    "    #Voisiko johtua siitä, että osa duuneista jotka kuormittavat resurssia, eivät ole välttämättä työikkunan duuneissa, ja täten alla oleva summaus ei summaa \n",
    "    #kaikkia töitä?\n",
    "    #TODO: luo muuttuja, johon tallennetaan jäädytettyjen töiden R-muuttujat. Ei siis välttämättä opt-malli-muuttuja.\n",
    "for t in 1:T\n",
    "    for k in 1:K\n",
    "        @constraint(model, (capacity[k] - sum(R[i, k, t] for i in 1:I)) >= 0)\n",
    "    end\n",
    "end\n",
    "    \n",
    "    #Fixed version\n",
    "for i in 1:I\n",
    "    for t in 1:T\n",
    "        @constraint(model, X[i,t] == sum(c[i,u] for u in (t+1):(t+P[i]) if u <= T))\n",
    "    end\n",
    "end\n",
    "    \n",
    "\n",
    "    #Tardiness constraint:\n",
    "    #TODO: TARKISTA!!!!!!!!!!!!!!!!!!!!!!!!!!!!!!!!!!!!!!!!!!!!!!!!!!!!!!!!!!!!!!!!!!!!!!!!!!!!!!!!!!!!\n",
    "for i in 1:I\n",
    "    @constraint(model,  C[i] - D[i] <= tardiness[i])\n",
    "end\n",
    "\n",
    "    #Max tardiness:\n",
    "for i in 1:I\n",
    "    @constraint(model, Max_tardiness >= tardiness[i])\n",
    "end\n",
    "\n",
    "all_jobs = collect(keys(prec_consts))\n",
    "for job in all_jobs\n",
    "    if timing_template == \"fixed\" #finish time of predecessor == starting time of successor\n",
    "        successor = prec_consts[job]\n",
    "        @constraint(model, model[:C][job] == model[:C][successor] - P[successor]) #if job is in job window, so will its successor also be\n",
    "    elseif timing_template == \"free\"\n",
    "        successor = prec_consts[job]\n",
    "        @constraint(model, model[:C][job] <= model[:C][successor] - P[successor]) #if job is in job window, so will its successor also be\n",
    "    else\n",
    "        print(\"error\")\n",
    "    end\n",
    "end\n",
    "\n",
    "if workload_distribution == \"even\"\n",
    "    for i in 1:I\n",
    "        for t in 1:T\n",
    "            for k in 1:K\n",
    "                #NOTICE: j: job index, i: index of job in vector. i has to be used accessing P_w\n",
    "                #Model variables can be accessed with j.\n",
    "                @constraint(model, model[:R][i,k,t] == WC[i,k]*model[:X][i,t]/P[i]) #equation 11 (even workload distribution)\n",
    "            end\n",
    "        end\n",
    "    end\n",
    "elseif workload_distribution == \"free\"\n",
    "    for i in 1:I\n",
    "        for k in 1:K\n",
    "            @constraint(model, sum(model[:R][i,k,t] for t in 1:T) == WC[i,k]) #equation 9 (free workload distribution)\n",
    "            for t in 1:T\n",
    "                @constraint(model, model[:R][i,k,t] <= (M*model[:X][i,t]))  #equation 10\n",
    "            end\n",
    "        end\n",
    "    end\n",
    "else\n",
    "    print(\"error\")\n",
    "end\n",
    "\n",
    "@objective(model, Min,  Max_tardiness)"
   ]
  },
  {
   "cell_type": "code",
   "execution_count": null,
   "id": "5a657008-afe4-4d65-b1e9-fe21c4009cb8",
   "metadata": {},
   "outputs": [],
   "source": [
    "#set_silent(model)\n",
    "set_optimizer_attribute(model, \"mip_rel_gap\", 0.05) \n",
    "@time optimize!(model)"
   ]
  },
  {
   "cell_type": "code",
   "execution_count": 10,
   "id": "92ac03ac-ff2a-41f5-9a17-734575388732",
   "metadata": {},
   "outputs": [
    {
     "data": {
      "application/vnd.vega.v5+json": {
       "$schema": "https://vega.github.io/schema/vega/v5.json",
       "axes": [
        {
         "aria": false,
         "domain": false,
         "grid": true,
         "gridScale": "y",
         "labels": false,
         "maxExtent": 0,
         "minExtent": 0,
         "orient": "bottom",
         "scale": "x",
         "tickCount": {
          "signal": "ceil(width/40)"
         },
         "ticks": false,
         "zindex": 0
        },
        {
         "grid": false,
         "labelFlush": true,
         "labelOverlap": true,
         "orient": "bottom",
         "scale": "x",
         "tickCount": {
          "signal": "ceil(width/40)"
         },
         "title": "start, stop",
         "zindex": 0
        },
        {
         "grid": false,
         "orient": "left",
         "scale": "y",
         "title": "job",
         "zindex": 0
        }
       ],
       "background": "white",
       "data": [
        {
         "name": "source_0",
         "values": [
          {
           "job": 1,
           "order": 1,
           "start": 1,
           "stop": 3
          },
          {
           "job": 2,
           "order": 1,
           "start": 3,
           "stop": 5
          },
          {
           "job": 3,
           "order": 1,
           "start": 5,
           "stop": 7
          },
          {
           "job": 4,
           "order": 2,
           "start": 1,
           "stop": 5
          },
          {
           "job": 5,
           "order": 2,
           "start": 5,
           "stop": 6
          },
          {
           "job": 6,
           "order": 2,
           "start": 6,
           "stop": 8
          },
          {
           "job": 7,
           "order": 3,
           "start": 1,
           "stop": 2
          },
          {
           "job": 8,
           "order": 3,
           "start": 2,
           "stop": 4
          },
          {
           "job": 9,
           "order": 3,
           "start": 4,
           "stop": 6
          },
          {
           "job": 10,
           "order": 4,
           "start": 1,
           "stop": 3
          },
          {
           "job": 11,
           "order": 4,
           "start": 3,
           "stop": 8
          },
          {
           "job": 12,
           "order": 4,
           "start": 8,
           "stop": 10
          },
          {
           "job": 13,
           "order": 5,
           "start": 3,
           "stop": 5
          },
          {
           "job": 14,
           "order": 5,
           "start": 5,
           "stop": 7
          },
          {
           "job": 15,
           "order": 5,
           "start": 7,
           "stop": 9
          },
          {
           "job": 16,
           "order": 6,
           "start": 1,
           "stop": 3
          },
          {
           "job": 17,
           "order": 6,
           "start": 3,
           "stop": 4
          },
          {
           "job": 18,
           "order": 6,
           "start": 4,
           "stop": 6
          },
          {
           "job": 19,
           "order": 6,
           "start": 6,
           "stop": 8
          },
          {
           "job": 20,
           "order": 7,
           "start": 1,
           "stop": 2
          },
          {
           "job": 21,
           "order": 7,
           "start": 2,
           "stop": 4
          },
          {
           "job": 22,
           "order": 7,
           "start": 4,
           "stop": 6
          },
          {
           "job": 23,
           "order": 8,
           "start": 3,
           "stop": 4
          },
          {
           "job": 24,
           "order": 8,
           "start": 4,
           "stop": 7
          },
          {
           "job": 25,
           "order": 8,
           "start": 7,
           "stop": 9
          },
          {
           "job": 26,
           "order": 9,
           "start": 2,
           "stop": 5
          },
          {
           "job": 27,
           "order": 9,
           "start": 5,
           "stop": 7
          },
          {
           "job": 28,
           "order": 9,
           "start": 7,
           "stop": 9
          },
          {
           "job": 29,
           "order": 10,
           "start": 2,
           "stop": 5
          },
          {
           "job": 30,
           "order": 10,
           "start": 5,
           "stop": 7
          },
          {
           "job": 31,
           "order": 10,
           "start": 7,
           "stop": 10
          },
          {
           "job": 32,
           "order": 10,
           "start": 10,
           "stop": 14
          },
          {
           "job": 33,
           "order": 10,
           "start": 14,
           "stop": 16
          }
         ]
        },
        {
         "name": "data_0",
         "source": "source_0",
         "transform": [
          {
           "expr": "isValid(datum[\"start\"]) && isFinite(+datum[\"start\"])",
           "type": "filter"
          }
         ]
        }
       ],
       "legends": [
        {
         "fill": "color",
         "symbolType": "square",
         "title": "order"
        }
       ],
       "marks": [
        {
         "encode": {
          "update": {
           "ariaRoleDescription": {
            "value": "bar"
           },
           "description": {
            "signal": "\"start: \" + (format(datum[\"start\"], \"\")) + \"; job: \" + (isValid(datum[\"job\"]) ? datum[\"job\"] : \"\"+datum[\"job\"]) + \"; stop: \" + (format(datum[\"stop\"], \"\")) + \"; order: \" + (isValid(datum[\"order\"]) ? datum[\"order\"] : \"\"+datum[\"order\"])"
           },
           "fill": {
            "field": "order",
            "scale": "color"
           },
           "height": {
            "signal": "max(0.25, bandwidth('y'))"
           },
           "x": {
            "field": "start",
            "scale": "x"
           },
           "x2": {
            "field": "stop",
            "scale": "x"
           },
           "y": {
            "field": "job",
            "scale": "y"
           }
          }
         },
         "from": {
          "data": "data_0"
         },
         "name": "marks",
         "style": [
          "bar"
         ],
         "type": "rect"
        }
       ],
       "padding": 5,
       "scales": [
        {
         "domain": {
          "data": "data_0",
          "fields": [
           "start",
           "stop"
          ]
         },
         "name": "x",
         "nice": true,
         "range": [
          0,
          {
           "signal": "width"
          }
         ],
         "type": "linear",
         "zero": true
        },
        {
         "domain": {
          "data": "data_0",
          "field": "job",
          "sort": true
         },
         "name": "y",
         "paddingInner": 0.1,
         "paddingOuter": 0.05,
         "range": {
          "step": {
           "signal": "y_step"
          }
         },
         "type": "band"
        },
        {
         "domain": {
          "data": "data_0",
          "field": "order",
          "sort": true
         },
         "name": "color",
         "range": "category",
         "type": "ordinal"
        }
       ],
       "signals": [
        {
         "name": "y_step",
         "value": 20
        },
        {
         "name": "height",
         "update": "bandspace(domain('y').length, 0.1, 0.05) * y_step"
        }
       ],
       "style": "cell",
       "width": 200
      },
      "image/png": "[encoded data removed]",
      "image/svg+xml": [
       "<svg xmlns=\"http://www.w3.org/2000/svg\" xmlns:xlink=\"http://www.w3.org/1999/xlink\" version=\"1.1\" class=\"marks\" width=\"291\" height=\"702\" viewBox=\"0 0 291 702\"><rect width=\"291\" height=\"702\" fill=\"white\"/><g fill=\"none\" stroke-miterlimit=\"10\" transform=\"translate(38,5)\"><g class=\"mark-group role-frame root\" role=\"graphics-object\" aria-roledescription=\"group mark container\"><g transform=\"translate(0,0)\"><path class=\"background\" aria-hidden=\"true\" d=\"M0.5,0.5h200v660h-200Z\" stroke=\"#ddd\"/><g><g class=\"mark-group role-axis\" aria-hidden=\"true\"><g transform=\"translate(0.5,660.5)\"><path class=\"background\" aria-hidden=\"true\" d=\"M0,0h0v0h0Z\" pointer-events=\"none\"/><g><g class=\"mark-rule role-axis-grid\" pointer-events=\"none\"><line transform=\"translate(0,0)\" x2=\"0\" y2=\"-660\" stroke=\"#ddd\" stroke-width=\"1\" opacity=\"1\"/><line transform=\"translate(63,0)\" x2=\"0\" y2=\"-660\" stroke=\"#ddd\" stroke-width=\"1\" opacity=\"1\"/><line transform=\"translate(125,0)\" x2=\"0\" y2=\"-660\" stroke=\"#ddd\" stroke-width=\"1\" opacity=\"1\"/><line transform=\"translate(188,0)\" x2=\"0\" y2=\"-660\" stroke=\"#ddd\" stroke-width=\"1\" opacity=\"1\"/></g></g><path class=\"foreground\" aria-hidden=\"true\" d=\"\" pointer-events=\"none\" display=\"none\"/></g></g><g class=\"mark-group role-axis\" role=\"graphics-symbol\" aria-roledescription=\"axis\" aria-label=\"X-axis titled 'start, stop' for a linear scale with values from 0 to 16\"><g transform=\"translate(0.5,660.5)\"><path class=\"background\" aria-hidden=\"true\" d=\"M0,0h0v0h0Z\" pointer-events=\"none\"/><g><g class=\"mark-rule role-axis-tick\" pointer-events=\"none\"><line transform=\"translate(0,0)\" x2=\"0\" y2=\"5\" stroke=\"#888\" stroke-width=\"1\" opacity=\"1\"/><line transform=\"translate(63,0)\" x2=\"0\" y2=\"5\" stroke=\"#888\" stroke-width=\"1\" opacity=\"1\"/><line transform=\"translate(125,0)\" x2=\"0\" y2=\"5\" stroke=\"#888\" stroke-width=\"1\" opacity=\"1\"/><line transform=\"translate(188,0)\" x2=\"0\" y2=\"5\" stroke=\"#888\" stroke-width=\"1\" opacity=\"1\"/></g><g class=\"mark-text role-axis-label\" pointer-events=\"none\"><text text-anchor=\"start\" transform=\"translate(0,15)\" font-family=\"sans-serif\" font-size=\"10px\" fill=\"#000\" opacity=\"1\">0</text><text text-anchor=\"middle\" transform=\"translate(62.5,15)\" font-family=\"sans-serif\" font-size=\"10px\" fill=\"#000\" opacity=\"1\">5</text><text text-anchor=\"middle\" transform=\"translate(125,15)\" font-family=\"sans-serif\" font-size=\"10px\" fill=\"#000\" opacity=\"1\">10</text><text text-anchor=\"middle\" transform=\"translate(187.5,15)\" font-family=\"sans-serif\" font-size=\"10px\" fill=\"#000\" opacity=\"1\">15</text></g><g class=\"mark-rule role-axis-domain\" pointer-events=\"none\"><line transform=\"translate(0,0)\" x2=\"200\" y2=\"0\" stroke=\"#888\" stroke-width=\"1\" opacity=\"1\"/></g><g class=\"mark-text role-axis-title\" pointer-events=\"none\"><text text-anchor=\"middle\" transform=\"translate(100,30)\" font-family=\"sans-serif\" font-size=\"11px\" font-weight=\"bold\" fill=\"#000\" opacity=\"1\">start, stop</text></g></g><path class=\"foreground\" aria-hidden=\"true\" d=\"\" pointer-events=\"none\" display=\"none\"/></g></g><g class=\"mark-group role-axis\" role=\"graphics-symbol\" aria-roledescription=\"axis\" aria-label=\"Y-axis titled 'job' for a discrete scale with 33 values: 1, 2, 3, 4, 5, ending with 33\"><g transform=\"translate(0.5,0.5)\"><path class=\"background\" aria-hidden=\"true\" d=\"M0,0h0v0h0Z\" pointer-events=\"none\"/><g><g class=\"mark-rule role-axis-tick\" pointer-events=\"none\"><line transform=\"translate(0,10)\" x2=\"-5\" y2=\"0\" stroke=\"#888\" stroke-width=\"1\" opacity=\"1\"/><line transform=\"translate(0,30)\" x2=\"-5\" y2=\"0\" stroke=\"#888\" stroke-width=\"1\" opacity=\"1\"/><line transform=\"translate(0,50)\" x2=\"-5\" y2=\"0\" stroke=\"#888\" stroke-width=\"1\" opacity=\"1\"/><line transform=\"translate(0,70)\" x2=\"-5\" y2=\"0\" stroke=\"#888\" stroke-width=\"1\" opacity=\"1\"/><line transform=\"translate(0,90)\" x2=\"-5\" y2=\"0\" stroke=\"#888\" stroke-width=\"1\" opacity=\"1\"/><line transform=\"translate(0,110)\" x2=\"-5\" y2=\"0\" stroke=\"#888\" stroke-width=\"1\" opacity=\"1\"/><line transform=\"translate(0,130)\" x2=\"-5\" y2=\"0\" stroke=\"#888\" stroke-width=\"1\" opacity=\"1\"/><line transform=\"translate(0,150)\" x2=\"-5\" y2=\"0\" stroke=\"#888\" stroke-width=\"1\" opacity=\"1\"/><line transform=\"translate(0,170)\" x2=\"-5\" y2=\"0\" stroke=\"#888\" stroke-width=\"1\" opacity=\"1\"/><line transform=\"translate(0,190)\" x2=\"-5\" y2=\"0\" stroke=\"#888\" stroke-width=\"1\" opacity=\"1\"/><line transform=\"translate(0,210)\" x2=\"-5\" y2=\"0\" stroke=\"#888\" stroke-width=\"1\" opacity=\"1\"/><line transform=\"translate(0,230)\" x2=\"-5\" y2=\"0\" stroke=\"#888\" stroke-width=\"1\" opacity=\"1\"/><line transform=\"translate(0,250)\" x2=\"-5\" y2=\"0\" stroke=\"#888\" stroke-width=\"1\" opacity=\"1\"/><line transform=\"translate(0,270)\" x2=\"-5\" y2=\"0\" stroke=\"#888\" stroke-width=\"1\" opacity=\"1\"/><line transform=\"translate(0,290)\" x2=\"-5\" y2=\"0\" stroke=\"#888\" stroke-width=\"1\" opacity=\"1\"/><line transform=\"translate(0,310)\" x2=\"-5\" y2=\"0\" stroke=\"#888\" stroke-width=\"1\" opacity=\"1\"/><line transform=\"translate(0,330)\" x2=\"-5\" y2=\"0\" stroke=\"#888\" stroke-width=\"1\" opacity=\"1\"/><line transform=\"translate(0,350)\" x2=\"-5\" y2=\"0\" stroke=\"#888\" stroke-width=\"1\" opacity=\"1\"/><line transform=\"translate(0,370)\" x2=\"-5\" y2=\"0\" stroke=\"#888\" stroke-width=\"1\" opacity=\"1\"/><line transform=\"translate(0,390)\" x2=\"-5\" y2=\"0\" stroke=\"#888\" stroke-width=\"1\" opacity=\"1\"/><line transform=\"translate(0,410)\" x2=\"-5\" y2=\"0\" stroke=\"#888\" stroke-width=\"1\" opacity=\"1\"/><line transform=\"translate(0,430)\" x2=\"-5\" y2=\"0\" stroke=\"#888\" stroke-width=\"1\" opacity=\"1\"/><line transform=\"translate(0,450)\" x2=\"-5\" y2=\"0\" stroke=\"#888\" stroke-width=\"1\" opacity=\"1\"/><line transform=\"translate(0,470)\" x2=\"-5\" y2=\"0\" stroke=\"#888\" stroke-width=\"1\" opacity=\"1\"/><line transform=\"translate(0,490)\" x2=\"-5\" y2=\"0\" stroke=\"#888\" stroke-width=\"1\" opacity=\"1\"/><line transform=\"translate(0,510)\" x2=\"-5\" y2=\"0\" stroke=\"#888\" stroke-width=\"1\" opacity=\"1\"/><line transform=\"translate(0,530)\" x2=\"-5\" y2=\"0\" stroke=\"#888\" stroke-width=\"1\" opacity=\"1\"/><line transform=\"translate(0,550)\" x2=\"-5\" y2=\"0\" stroke=\"#888\" stroke-width=\"1\" opacity=\"1\"/><line transform=\"translate(0,570)\" x2=\"-5\" y2=\"0\" stroke=\"#888\" stroke-width=\"1\" opacity=\"1\"/><line transform=\"translate(0,590)\" x2=\"-5\" y2=\"0\" stroke=\"#888\" stroke-width=\"1\" opacity=\"1\"/><line transform=\"translate(0,610)\" x2=\"-5\" y2=\"0\" stroke=\"#888\" stroke-width=\"1\" opacity=\"1\"/><line transform=\"translate(0,630)\" x2=\"-5\" y2=\"0\" stroke=\"#888\" stroke-width=\"1\" opacity=\"1\"/><line transform=\"translate(0,650)\" x2=\"-5\" y2=\"0\" stroke=\"#888\" stroke-width=\"1\" opacity=\"1\"/></g><g class=\"mark-text role-axis-label\" pointer-events=\"none\"><text text-anchor=\"end\" transform=\"translate(-7,12.5)\" font-family=\"sans-serif\" font-size=\"10px\" fill=\"#000\" opacity=\"1\">1</text><text text-anchor=\"end\" transform=\"translate(-7,32.5)\" font-family=\"sans-serif\" font-size=\"10px\" fill=\"#000\" opacity=\"1\">2</text><text text-anchor=\"end\" transform=\"translate(-7,52.5)\" font-family=\"sans-serif\" font-size=\"10px\" fill=\"#000\" opacity=\"1\">3</text><text text-anchor=\"end\" transform=\"translate(-7,72.5)\" font-family=\"sans-serif\" font-size=\"10px\" fill=\"#000\" opacity=\"1\">4</text><text text-anchor=\"end\" transform=\"translate(-7,92.5)\" font-family=\"sans-serif\" font-size=\"10px\" fill=\"#000\" opacity=\"1\">5</text><text text-anchor=\"end\" transform=\"translate(-7,112.5)\" font-family=\"sans-serif\" font-size=\"10px\" fill=\"#000\" opacity=\"1\">6</text><text text-anchor=\"end\" transform=\"translate(-7,132.5)\" font-family=\"sans-serif\" font-size=\"10px\" fill=\"#000\" opacity=\"1\">7</text><text text-anchor=\"end\" transform=\"translate(-7,152.5)\" font-family=\"sans-serif\" font-size=\"10px\" fill=\"#000\" opacity=\"1\">8</text><text text-anchor=\"end\" transform=\"translate(-7,172.5)\" font-family=\"sans-serif\" font-size=\"10px\" fill=\"#000\" opacity=\"1\">9</text><text text-anchor=\"end\" transform=\"translate(-7,192.5)\" font-family=\"sans-serif\" font-size=\"10px\" fill=\"#000\" opacity=\"1\">10</text><text text-anchor=\"end\" transform=\"translate(-7,212.5)\" font-family=\"sans-serif\" font-size=\"10px\" fill=\"#000\" opacity=\"1\">11</text><text text-anchor=\"end\" transform=\"translate(-7,232.5)\" font-family=\"sans-serif\" font-size=\"10px\" fill=\"#000\" opacity=\"1\">12</text><text text-anchor=\"end\" transform=\"translate(-7,252.5)\" font-family=\"sans-serif\" font-size=\"10px\" fill=\"#000\" opacity=\"1\">13</text><text text-anchor=\"end\" transform=\"translate(-7,272.5)\" font-family=\"sans-serif\" font-size=\"10px\" fill=\"#000\" opacity=\"1\">14</text><text text-anchor=\"end\" transform=\"translate(-7,292.5)\" font-family=\"sans-serif\" font-size=\"10px\" fill=\"#000\" opacity=\"1\">15</text><text text-anchor=\"end\" transform=\"translate(-7,312.5)\" font-family=\"sans-serif\" font-size=\"10px\" fill=\"#000\" opacity=\"1\">16</text><text text-anchor=\"end\" transform=\"translate(-7,332.5)\" font-family=\"sans-serif\" font-size=\"10px\" fill=\"#000\" opacity=\"1\">17</text><text text-anchor=\"end\" transform=\"translate(-7,352.5)\" font-family=\"sans-serif\" font-size=\"10px\" fill=\"#000\" opacity=\"1\">18</text><text text-anchor=\"end\" transform=\"translate(-7,372.5)\" font-family=\"sans-serif\" font-size=\"10px\" fill=\"#000\" opacity=\"1\">19</text><text text-anchor=\"end\" transform=\"translate(-7,392.5)\" font-family=\"sans-serif\" font-size=\"10px\" fill=\"#000\" opacity=\"1\">20</text><text text-anchor=\"end\" transform=\"translate(-7,412.5)\" font-family=\"sans-serif\" font-size=\"10px\" fill=\"#000\" opacity=\"1\">21</text><text text-anchor=\"end\" transform=\"translate(-7,432.5)\" font-family=\"sans-serif\" font-size=\"10px\" fill=\"#000\" opacity=\"1\">22</text><text text-anchor=\"end\" transform=\"translate(-7,452.5)\" font-family=\"sans-serif\" font-size=\"10px\" fill=\"#000\" opacity=\"1\">23</text><text text-anchor=\"end\" transform=\"translate(-7,472.5)\" font-family=\"sans-serif\" font-size=\"10px\" fill=\"#000\" opacity=\"1\">24</text><text text-anchor=\"end\" transform=\"translate(-7,492.5)\" font-family=\"sans-serif\" font-size=\"10px\" fill=\"#000\" opacity=\"1\">25</text><text text-anchor=\"end\" transform=\"translate(-7,512.5)\" font-family=\"sans-serif\" font-size=\"10px\" fill=\"#000\" opacity=\"1\">26</text><text text-anchor=\"end\" transform=\"translate(-7,532.5)\" font-family=\"sans-serif\" font-size=\"10px\" fill=\"#000\" opacity=\"1\">27</text><text text-anchor=\"end\" transform=\"translate(-7,552.5)\" font-family=\"sans-serif\" font-size=\"10px\" fill=\"#000\" opacity=\"1\">28</text><text text-anchor=\"end\" transform=\"translate(-7,572.5)\" font-family=\"sans-serif\" font-size=\"10px\" fill=\"#000\" opacity=\"1\">29</text><text text-anchor=\"end\" transform=\"translate(-7,592.5)\" font-family=\"sans-serif\" font-size=\"10px\" fill=\"#000\" opacity=\"1\">30</text><text text-anchor=\"end\" transform=\"translate(-7,612.5)\" font-family=\"sans-serif\" font-size=\"10px\" fill=\"#000\" opacity=\"1\">31</text><text text-anchor=\"end\" transform=\"translate(-7,632.5)\" font-family=\"sans-serif\" font-size=\"10px\" fill=\"#000\" opacity=\"1\">32</text><text text-anchor=\"end\" transform=\"translate(-7,652.5)\" font-family=\"sans-serif\" font-size=\"10px\" fill=\"#000\" opacity=\"1\">33</text></g><g class=\"mark-rule role-axis-domain\" pointer-events=\"none\"><line transform=\"translate(0,0)\" x2=\"0\" y2=\"660\" stroke=\"#888\" stroke-width=\"1\" opacity=\"1\"/></g><g class=\"mark-text role-axis-title\" pointer-events=\"none\"><text text-anchor=\"middle\" transform=\"translate(-21.91796875,330) rotate(-90) translate(0,-2)\" font-family=\"sans-serif\" font-size=\"11px\" font-weight=\"bold\" fill=\"#000\" opacity=\"1\">job</text></g></g><path class=\"foreground\" aria-hidden=\"true\" d=\"\" pointer-events=\"none\" display=\"none\"/></g></g><g class=\"mark-rect role-mark marks\" role=\"graphics-object\" aria-roledescription=\"rect mark container\"><path aria-label=\"start: 1; job: 1; stop: 3; order: 1\" role=\"graphics-symbol\" aria-roledescription=\"bar\" d=\"M12.5,1h25v18h-25Z\" fill=\"#4c78a8\"/><path aria-label=\"start: 3; job: 2; stop: 5; order: 1\" role=\"graphics-symbol\" aria-roledescription=\"bar\" d=\"M37.5,21h25v18h-25Z\" fill=\"#4c78a8\"/><path aria-label=\"start: 5; job: 3; stop: 7; order: 1\" role=\"graphics-symbol\" aria-roledescription=\"bar\" d=\"M62.5,41h25v18h-25Z\" fill=\"#4c78a8\"/><path aria-label=\"start: 1; job: 4; stop: 5; order: 2\" role=\"graphics-symbol\" aria-roledescription=\"bar\" d=\"M12.5,61h50v18h-50Z\" fill=\"#f58518\"/><path aria-label=\"start: 5; job: 5; stop: 6; order: 2\" role=\"graphics-symbol\" aria-roledescription=\"bar\" d=\"M62.5,81h12.5v18h-12.5Z\" fill=\"#f58518\"/><path aria-label=\"start: 6; job: 6; stop: 8; order: 2\" role=\"graphics-symbol\" aria-roledescription=\"bar\" d=\"M75,101h25v18h-25Z\" fill=\"#f58518\"/><path aria-label=\"start: 1; job: 7; stop: 2; order: 3\" role=\"graphics-symbol\" aria-roledescription=\"bar\" d=\"M12.5,121h12.5v18h-12.5Z\" fill=\"#e45756\"/><path aria-label=\"start: 2; job: 8; stop: 4; order: 3\" role=\"graphics-symbol\" aria-roledescription=\"bar\" d=\"M25,141h25v18h-25Z\" fill=\"#e45756\"/><path aria-label=\"start: 4; job: 9; stop: 6; order: 3\" role=\"graphics-symbol\" aria-roledescription=\"bar\" d=\"M50,161h25v18h-25Z\" fill=\"#e45756\"/><path aria-label=\"start: 1; job: 10; stop: 3; order: 4\" role=\"graphics-symbol\" aria-roledescription=\"bar\" d=\"M12.5,181h25v18h-25Z\" fill=\"#72b7b2\"/><path aria-label=\"start: 3; job: 11; stop: 8; order: 4\" role=\"graphics-symbol\" aria-roledescription=\"bar\" d=\"M37.5,201h62.5v18h-62.5Z\" fill=\"#72b7b2\"/><path aria-label=\"start: 8; job: 12; stop: 10; order: 4\" role=\"graphics-symbol\" aria-roledescription=\"bar\" d=\"M100,221h25v18h-25Z\" fill=\"#72b7b2\"/><path aria-label=\"start: 3; job: 13; stop: 5; order: 5\" role=\"graphics-symbol\" aria-roledescription=\"bar\" d=\"M37.5,241h25v18h-25Z\" fill=\"#54a24b\"/><path aria-label=\"start: 5; job: 14; stop: 7; order: 5\" role=\"graphics-symbol\" aria-roledescription=\"bar\" d=\"M62.5,261h25v18h-25Z\" fill=\"#54a24b\"/><path aria-label=\"start: 7; job: 15; stop: 9; order: 5\" role=\"graphics-symbol\" aria-roledescription=\"bar\" d=\"M87.5,281h25v18h-25Z\" fill=\"#54a24b\"/><path aria-label=\"start: 1; job: 16; stop: 3; order: 6\" role=\"graphics-symbol\" aria-roledescription=\"bar\" d=\"M12.5,301h25v18h-25Z\" fill=\"#eeca3b\"/><path aria-label=\"start: 3; job: 17; stop: 4; order: 6\" role=\"graphics-symbol\" aria-roledescription=\"bar\" d=\"M37.5,321h12.5v18h-12.5Z\" fill=\"#eeca3b\"/><path aria-label=\"start: 4; job: 18; stop: 6; order: 6\" role=\"graphics-symbol\" aria-roledescription=\"bar\" d=\"M50,341h25v18h-25Z\" fill=\"#eeca3b\"/><path aria-label=\"start: 6; job: 19; stop: 8; order: 6\" role=\"graphics-symbol\" aria-roledescription=\"bar\" d=\"M75,361h25v18h-25Z\" fill=\"#eeca3b\"/><path aria-label=\"start: 1; job: 20; stop: 2; order: 7\" role=\"graphics-symbol\" aria-roledescription=\"bar\" d=\"M12.5,381h12.5v18h-12.5Z\" fill=\"#b279a2\"/><path aria-label=\"start: 2; job: 21; stop: 4; order: 7\" role=\"graphics-symbol\" aria-roledescription=\"bar\" d=\"M25,401h25v18h-25Z\" fill=\"#b279a2\"/><path aria-label=\"start: 4; job: 22; stop: 6; order: 7\" role=\"graphics-symbol\" aria-roledescription=\"bar\" d=\"M50,421h25v18h-25Z\" fill=\"#b279a2\"/><path aria-label=\"start: 3; job: 23; stop: 4; order: 8\" role=\"graphics-symbol\" aria-roledescription=\"bar\" d=\"M37.5,441h12.5v18h-12.5Z\" fill=\"#ff9da6\"/><path aria-label=\"start: 4; job: 24; stop: 7; order: 8\" role=\"graphics-symbol\" aria-roledescription=\"bar\" d=\"M50,461h37.5v18h-37.5Z\" fill=\"#ff9da6\"/><path aria-label=\"start: 7; job: 25; stop: 9; order: 8\" role=\"graphics-symbol\" aria-roledescription=\"bar\" d=\"M87.5,481h25v18h-25Z\" fill=\"#ff9da6\"/><path aria-label=\"start: 2; job: 26; stop: 5; order: 9\" role=\"graphics-symbol\" aria-roledescription=\"bar\" d=\"M25,501h37.5v18h-37.5Z\" fill=\"#9d755d\"/><path aria-label=\"start: 5; job: 27; stop: 7; order: 9\" role=\"graphics-symbol\" aria-roledescription=\"bar\" d=\"M62.5,521h25v18h-25Z\" fill=\"#9d755d\"/><path aria-label=\"start: 7; job: 28; stop: 9; order: 9\" role=\"graphics-symbol\" aria-roledescription=\"bar\" d=\"M87.5,541h25v18h-25Z\" fill=\"#9d755d\"/><path aria-label=\"start: 2; job: 29; stop: 5; order: 10\" role=\"graphics-symbol\" aria-roledescription=\"bar\" d=\"M25,561h37.5v18h-37.5Z\" fill=\"#bab0ac\"/><path aria-label=\"start: 5; job: 30; stop: 7; order: 10\" role=\"graphics-symbol\" aria-roledescription=\"bar\" d=\"M62.5,581h25v18h-25Z\" fill=\"#bab0ac\"/><path aria-label=\"start: 7; job: 31; stop: 10; order: 10\" role=\"graphics-symbol\" aria-roledescription=\"bar\" d=\"M87.5,601h37.5v18h-37.5Z\" fill=\"#bab0ac\"/><path aria-label=\"start: 10; job: 32; stop: 14; order: 10\" role=\"graphics-symbol\" aria-roledescription=\"bar\" d=\"M125,621h50v18h-50Z\" fill=\"#bab0ac\"/><path aria-label=\"start: 14; job: 33; stop: 16; order: 10\" role=\"graphics-symbol\" aria-roledescription=\"bar\" d=\"M175,641h25v18h-25Z\" fill=\"#bab0ac\"/></g><g class=\"mark-group role-legend\" role=\"graphics-symbol\" aria-roledescription=\"legend\" aria-label=\"Symbol legend titled 'order' for fill color with 10 values: 1, 2, 3, 4, 5, ending with 10\"><g transform=\"translate(218,0)\"><path class=\"background\" aria-hidden=\"true\" d=\"M0,0h30v144h-30Z\" pointer-events=\"none\"/><g><g class=\"mark-group role-legend-entry\"><g transform=\"translate(0,16)\"><path class=\"background\" aria-hidden=\"true\" d=\"M0,0h0v0h0Z\" pointer-events=\"none\"/><g><g class=\"mark-group role-scope\" role=\"graphics-object\" aria-roledescription=\"group mark container\"><g transform=\"translate(0,0)\"><path class=\"background\" aria-hidden=\"true\" d=\"M0,0h26.91796875v11h-26.91796875Z\" pointer-events=\"none\" opacity=\"1\"/><g><g class=\"mark-symbol role-legend-symbol\" pointer-events=\"none\"><path transform=\"translate(6,6)\" d=\"M-5,-5h10v10h-10Z\" fill=\"#4c78a8\" stroke-width=\"1.5\" opacity=\"1\"/></g><g class=\"mark-text role-legend-label\" pointer-events=\"none\"><text text-anchor=\"start\" transform=\"translate(16,9)\" font-family=\"sans-serif\" font-size=\"10px\" fill=\"#000\" opacity=\"1\">1</text></g></g><path class=\"foreground\" aria-hidden=\"true\" d=\"\" pointer-events=\"none\" display=\"none\"/></g><g transform=\"translate(0,13)\"><path class=\"background\" aria-hidden=\"true\" d=\"M0,0h26.91796875v11h-26.91796875Z\" pointer-events=\"none\" opacity=\"1\"/><g><g class=\"mark-symbol role-legend-symbol\" pointer-events=\"none\"><path transform=\"translate(6,6)\" d=\"M-5,-5h10v10h-10Z\" fill=\"#f58518\" stroke-width=\"1.5\" opacity=\"1\"/></g><g class=\"mark-text role-legend-label\" pointer-events=\"none\"><text text-anchor=\"start\" transform=\"translate(16,9)\" font-family=\"sans-serif\" font-size=\"10px\" fill=\"#000\" opacity=\"1\">2</text></g></g><path class=\"foreground\" aria-hidden=\"true\" d=\"\" pointer-events=\"none\" display=\"none\"/></g><g transform=\"translate(0,26)\"><path class=\"background\" aria-hidden=\"true\" d=\"M0,0h26.91796875v11h-26.91796875Z\" pointer-events=\"none\" opacity=\"1\"/><g><g class=\"mark-symbol role-legend-symbol\" pointer-events=\"none\"><path transform=\"translate(6,6)\" d=\"M-5,-5h10v10h-10Z\" fill=\"#e45756\" stroke-width=\"1.5\" opacity=\"1\"/></g><g class=\"mark-text role-legend-label\" pointer-events=\"none\"><text text-anchor=\"start\" transform=\"translate(16,9)\" font-family=\"sans-serif\" font-size=\"10px\" fill=\"#000\" opacity=\"1\">3</text></g></g><path class=\"foreground\" aria-hidden=\"true\" d=\"\" pointer-events=\"none\" display=\"none\"/></g><g transform=\"translate(0,39)\"><path class=\"background\" aria-hidden=\"true\" d=\"M0,0h26.91796875v11h-26.91796875Z\" pointer-events=\"none\" opacity=\"1\"/><g><g class=\"mark-symbol role-legend-symbol\" pointer-events=\"none\"><path transform=\"translate(6,6)\" d=\"M-5,-5h10v10h-10Z\" fill=\"#72b7b2\" stroke-width=\"1.5\" opacity=\"1\"/></g><g class=\"mark-text role-legend-label\" pointer-events=\"none\"><text text-anchor=\"start\" transform=\"translate(16,9)\" font-family=\"sans-serif\" font-size=\"10px\" fill=\"#000\" opacity=\"1\">4</text></g></g><path class=\"foreground\" aria-hidden=\"true\" d=\"\" pointer-events=\"none\" display=\"none\"/></g><g transform=\"translate(0,52)\"><path class=\"background\" aria-hidden=\"true\" d=\"M0,0h26.91796875v11h-26.91796875Z\" pointer-events=\"none\" opacity=\"1\"/><g><g class=\"mark-symbol role-legend-symbol\" pointer-events=\"none\"><path transform=\"translate(6,6)\" d=\"M-5,-5h10v10h-10Z\" fill=\"#54a24b\" stroke-width=\"1.5\" opacity=\"1\"/></g><g class=\"mark-text role-legend-label\" pointer-events=\"none\"><text text-anchor=\"start\" transform=\"translate(16,9)\" font-family=\"sans-serif\" font-size=\"10px\" fill=\"#000\" opacity=\"1\">5</text></g></g><path class=\"foreground\" aria-hidden=\"true\" d=\"\" pointer-events=\"none\" display=\"none\"/></g><g transform=\"translate(0,65)\"><path class=\"background\" aria-hidden=\"true\" d=\"M0,0h26.91796875v11h-26.91796875Z\" pointer-events=\"none\" opacity=\"1\"/><g><g class=\"mark-symbol role-legend-symbol\" pointer-events=\"none\"><path transform=\"translate(6,6)\" d=\"M-5,-5h10v10h-10Z\" fill=\"#eeca3b\" stroke-width=\"1.5\" opacity=\"1\"/></g><g class=\"mark-text role-legend-label\" pointer-events=\"none\"><text text-anchor=\"start\" transform=\"translate(16,9)\" font-family=\"sans-serif\" font-size=\"10px\" fill=\"#000\" opacity=\"1\">6</text></g></g><path class=\"foreground\" aria-hidden=\"true\" d=\"\" pointer-events=\"none\" display=\"none\"/></g><g transform=\"translate(0,78)\"><path class=\"background\" aria-hidden=\"true\" d=\"M0,0h26.91796875v11h-26.91796875Z\" pointer-events=\"none\" opacity=\"1\"/><g><g class=\"mark-symbol role-legend-symbol\" pointer-events=\"none\"><path transform=\"translate(6,6)\" d=\"M-5,-5h10v10h-10Z\" fill=\"#b279a2\" stroke-width=\"1.5\" opacity=\"1\"/></g><g class=\"mark-text role-legend-label\" pointer-events=\"none\"><text text-anchor=\"start\" transform=\"translate(16,9)\" font-family=\"sans-serif\" font-size=\"10px\" fill=\"#000\" opacity=\"1\">7</text></g></g><path class=\"foreground\" aria-hidden=\"true\" d=\"\" pointer-events=\"none\" display=\"none\"/></g><g transform=\"translate(0,91)\"><path class=\"background\" aria-hidden=\"true\" d=\"M0,0h26.91796875v11h-26.91796875Z\" pointer-events=\"none\" opacity=\"1\"/><g><g class=\"mark-symbol role-legend-symbol\" pointer-events=\"none\"><path transform=\"translate(6,6)\" d=\"M-5,-5h10v10h-10Z\" fill=\"#ff9da6\" stroke-width=\"1.5\" opacity=\"1\"/></g><g class=\"mark-text role-legend-label\" pointer-events=\"none\"><text text-anchor=\"start\" transform=\"translate(16,9)\" font-family=\"sans-serif\" font-size=\"10px\" fill=\"#000\" opacity=\"1\">8</text></g></g><path class=\"foreground\" aria-hidden=\"true\" d=\"\" pointer-events=\"none\" display=\"none\"/></g><g transform=\"translate(0,104)\"><path class=\"background\" aria-hidden=\"true\" d=\"M0,0h26.91796875v11h-26.91796875Z\" pointer-events=\"none\" opacity=\"1\"/><g><g class=\"mark-symbol role-legend-symbol\" pointer-events=\"none\"><path transform=\"translate(6,6)\" d=\"M-5,-5h10v10h-10Z\" fill=\"#9d755d\" stroke-width=\"1.5\" opacity=\"1\"/></g><g class=\"mark-text role-legend-label\" pointer-events=\"none\"><text text-anchor=\"start\" transform=\"translate(16,9)\" font-family=\"sans-serif\" font-size=\"10px\" fill=\"#000\" opacity=\"1\">9</text></g></g><path class=\"foreground\" aria-hidden=\"true\" d=\"\" pointer-events=\"none\" display=\"none\"/></g><g transform=\"translate(0,117)\"><path class=\"background\" aria-hidden=\"true\" d=\"M0,0h26.91796875v11h-26.91796875Z\" pointer-events=\"none\" opacity=\"1\"/><g><g class=\"mark-symbol role-legend-symbol\" pointer-events=\"none\"><path transform=\"translate(6,6)\" d=\"M-5,-5h10v10h-10Z\" fill=\"#bab0ac\" stroke-width=\"1.5\" opacity=\"1\"/></g><g class=\"mark-text role-legend-label\" pointer-events=\"none\"><text text-anchor=\"start\" transform=\"translate(16,9)\" font-family=\"sans-serif\" font-size=\"10px\" fill=\"#000\" opacity=\"1\">10</text></g></g><path class=\"foreground\" aria-hidden=\"true\" d=\"\" pointer-events=\"none\" display=\"none\"/></g></g></g><path class=\"foreground\" aria-hidden=\"true\" d=\"\" pointer-events=\"none\" display=\"none\"/></g></g><g class=\"mark-text role-legend-title\" pointer-events=\"none\"><text text-anchor=\"start\" transform=\"translate(0,9)\" font-family=\"sans-serif\" font-size=\"11px\" font-weight=\"bold\" fill=\"#000\" opacity=\"1\">order</text></g></g><path class=\"foreground\" aria-hidden=\"true\" d=\"\" pointer-events=\"none\" display=\"none\"/></g></g></g><path class=\"foreground\" aria-hidden=\"true\" d=\"\" display=\"none\"/></g></g></g></svg>"
      ],
      "text/plain": [
       "@vlplot(\n",
       "    mark=\"bar\",\n",
       "    encoding={\n",
       "        y={\n",
       "            field=\"job\",\n",
       "            type=\"nominal\"\n",
       "        },\n",
       "        x={\n",
       "            field=\"start\"\n",
       "        },\n",
       "        x2={\n",
       "            field=\"stop\"\n",
       "        },\n",
       "        color={\n",
       "            field=\"order\",\n",
       "            type=\"nominal\"\n",
       "        }\n",
       "    },\n",
       "    data={\n",
       "        values=...\n",
       "    }\n",
       ")"
      ]
     },
     "execution_count": 10,
     "metadata": {},
     "output_type": "execute_result"
    }
   ],
   "source": [
    "O = newdata.Order\n",
    "create_gantt_chart(c, T, P, I, O)"
   ]
  },
  {
   "cell_type": "code",
   "execution_count": null,
   "id": "80cd465c-442f-4d61-b427-19be5a039521",
   "metadata": {},
   "outputs": [],
   "source": []
  }
 ],
 "metadata": {
  "kernelspec": {
   "display_name": "Julia 1.11.0",
   "language": "julia",
   "name": "julia-1.11"
  },
  "language_info": {
   "file_extension": ".jl",
   "mimetype": "application/julia",
   "name": "julia",
   "version": "1.11.0"
  }
 },
 "nbformat": 4,
 "nbformat_minor": 5
}
