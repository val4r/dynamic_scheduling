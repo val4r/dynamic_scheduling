{
 "cells": [
  {
   "cell_type": "code",
   "execution_count": 1,
   "id": "62850005-8218-4ba5-9242-b1cba9cdda90",
   "metadata": {},
   "outputs": [],
   "source": [
    "using CSV\n",
    "using DataFrames"
   ]
  },
  {
   "cell_type": "code",
   "execution_count": 10,
   "id": "afd8d9ef-4118-4936-b191-c2592b6a501d",
   "metadata": {},
   "outputs": [
    {
     "data": {
      "text/plain": [
       "bottleneck_metrics (generic function with 1 method)"
      ]
     },
     "execution_count": 10,
     "metadata": {},
     "output_type": "execute_result"
    }
   ],
   "source": [
    "include(\"general_create_model.jl\")\n",
    "include(\"structures.jl\")\n",
    "include(\"visualization_functions.jl\")\n",
    "include(\"auxiliary_functions.jl\")"
   ]
  },
  {
   "cell_type": "code",
   "execution_count": 3,
   "id": "ee5e9305-a0c3-4418-a25f-4646d87ccc8d",
   "metadata": {},
   "outputs": [
    {
     "data": {
      "text/html": [
       "<div><div style = \"float: left;\"><span>3468×16 DataFrame</span></div><div style = \"float: right;\"><span style = \"font-style: italic;\">3443 rows omitted</span></div><div style = \"clear: both;\"></div></div><div class = \"data-frame\" style = \"overflow-x: scroll;\"><table class = \"data-frame\" style = \"margin-bottom: 6px;\"><thead><tr class = \"header\"><th class = \"rowNumber\" style = \"font-weight: bold; text-align: right;\">Row</th><th style = \"text-align: left;\">Order</th><th style = \"text-align: left;\">Job</th><th style = \"text-align: left;\">Path</th><th style = \"text-align: left;\">Arrival</th><th style = \"text-align: left;\">Resource_idx</th><th style = \"text-align: left;\">Resource_2</th><th style = \"text-align: left;\">Resource_3</th><th style = \"text-align: left;\">Resource_4</th><th style = \"text-align: left;\">Resource_5</th><th style = \"text-align: left;\">Resource_6</th><th style = \"text-align: left;\">Resource_7</th><th style = \"text-align: left;\">job_WC</th><th style = \"text-align: left;\">Duration</th><th style = \"text-align: left;\">MinDelivery</th><th style = \"text-align: left;\">Slack</th><th style = \"text-align: left;\">Duedate</th></tr><tr class = \"subheader headerLastRow\"><th class = \"rowNumber\" style = \"font-weight: bold; text-align: right;\"></th><th title = \"Int64\" style = \"text-align: left;\">Int64</th><th title = \"Int64\" style = \"text-align: left;\">Int64</th><th title = \"Int64\" style = \"text-align: left;\">Int64</th><th title = \"Int64\" style = \"text-align: left;\">Int64</th><th title = \"Int64\" style = \"text-align: left;\">Int64</th><th title = \"Float64\" style = \"text-align: left;\">Float64</th><th title = \"Float64\" style = \"text-align: left;\">Float64</th><th title = \"Float64\" style = \"text-align: left;\">Float64</th><th title = \"Float64\" style = \"text-align: left;\">Float64</th><th title = \"Float64\" style = \"text-align: left;\">Float64</th><th title = \"Float64\" style = \"text-align: left;\">Float64</th><th title = \"Float64\" style = \"text-align: left;\">Float64</th><th title = \"Int64\" style = \"text-align: left;\">Int64</th><th title = \"Int64\" style = \"text-align: left;\">Int64</th><th title = \"Float64\" style = \"text-align: left;\">Float64</th><th title = \"Int64\" style = \"text-align: left;\">Int64</th></tr></thead><tbody><tr><td class = \"rowNumber\" style = \"font-weight: bold; text-align: right;\">1</td><td style = \"text-align: right;\">1</td><td style = \"text-align: right;\">1</td><td style = \"text-align: right;\">9</td><td style = \"text-align: right;\">1</td><td style = \"text-align: right;\">3</td><td style = \"text-align: right;\">0.0</td><td style = \"text-align: right;\">5.98325</td><td style = \"text-align: right;\">0.0</td><td style = \"text-align: right;\">0.0</td><td style = \"text-align: right;\">0.0</td><td style = \"text-align: right;\">0.0</td><td style = \"text-align: right;\">5.98325</td><td style = \"text-align: right;\">2</td><td style = \"text-align: right;\">6</td><td style = \"text-align: right;\">3.0</td><td style = \"text-align: right;\">10</td></tr><tr><td class = \"rowNumber\" style = \"font-weight: bold; text-align: right;\">2</td><td style = \"text-align: right;\">1</td><td style = \"text-align: right;\">2</td><td style = \"text-align: right;\">9</td><td style = \"text-align: right;\">1</td><td style = \"text-align: right;\">5</td><td style = \"text-align: right;\">0.0</td><td style = \"text-align: right;\">0.0</td><td style = \"text-align: right;\">0.0</td><td style = \"text-align: right;\">3.99601</td><td style = \"text-align: right;\">0.0</td><td style = \"text-align: right;\">0.0</td><td style = \"text-align: right;\">3.99601</td><td style = \"text-align: right;\">2</td><td style = \"text-align: right;\">6</td><td style = \"text-align: right;\">3.0</td><td style = \"text-align: right;\">10</td></tr><tr><td class = \"rowNumber\" style = \"font-weight: bold; text-align: right;\">3</td><td style = \"text-align: right;\">1</td><td style = \"text-align: right;\">3</td><td style = \"text-align: right;\">9</td><td style = \"text-align: right;\">1</td><td style = \"text-align: right;\">7</td><td style = \"text-align: right;\">0.0</td><td style = \"text-align: right;\">0.0</td><td style = \"text-align: right;\">0.0</td><td style = \"text-align: right;\">0.0</td><td style = \"text-align: right;\">0.0</td><td style = \"text-align: right;\">0.577784</td><td style = \"text-align: right;\">0.577784</td><td style = \"text-align: right;\">2</td><td style = \"text-align: right;\">6</td><td style = \"text-align: right;\">3.0</td><td style = \"text-align: right;\">10</td></tr><tr><td class = \"rowNumber\" style = \"font-weight: bold; text-align: right;\">4</td><td style = \"text-align: right;\">2</td><td style = \"text-align: right;\">4</td><td style = \"text-align: right;\">6</td><td style = \"text-align: right;\">1</td><td style = \"text-align: right;\">2</td><td style = \"text-align: right;\">8.1297</td><td style = \"text-align: right;\">0.0</td><td style = \"text-align: right;\">0.0</td><td style = \"text-align: right;\">0.0</td><td style = \"text-align: right;\">0.0</td><td style = \"text-align: right;\">0.0</td><td style = \"text-align: right;\">8.1297</td><td style = \"text-align: right;\">4</td><td style = \"text-align: right;\">7</td><td style = \"text-align: right;\">3.05</td><td style = \"text-align: right;\">12</td></tr><tr><td class = \"rowNumber\" style = \"font-weight: bold; text-align: right;\">5</td><td style = \"text-align: right;\">2</td><td style = \"text-align: right;\">5</td><td style = \"text-align: right;\">6</td><td style = \"text-align: right;\">1</td><td style = \"text-align: right;\">3</td><td style = \"text-align: right;\">0.0</td><td style = \"text-align: right;\">4.45847</td><td style = \"text-align: right;\">0.0</td><td style = \"text-align: right;\">0.0</td><td style = \"text-align: right;\">0.0</td><td style = \"text-align: right;\">0.0</td><td style = \"text-align: right;\">4.45847</td><td style = \"text-align: right;\">1</td><td style = \"text-align: right;\">7</td><td style = \"text-align: right;\">3.05</td><td style = \"text-align: right;\">12</td></tr><tr><td class = \"rowNumber\" style = \"font-weight: bold; text-align: right;\">6</td><td style = \"text-align: right;\">2</td><td style = \"text-align: right;\">6</td><td style = \"text-align: right;\">6</td><td style = \"text-align: right;\">1</td><td style = \"text-align: right;\">7</td><td style = \"text-align: right;\">0.0</td><td style = \"text-align: right;\">0.0</td><td style = \"text-align: right;\">0.0</td><td style = \"text-align: right;\">0.0</td><td style = \"text-align: right;\">0.0</td><td style = \"text-align: right;\">0.702172</td><td style = \"text-align: right;\">0.702172</td><td style = \"text-align: right;\">2</td><td style = \"text-align: right;\">7</td><td style = \"text-align: right;\">3.05</td><td style = \"text-align: right;\">12</td></tr><tr><td class = \"rowNumber\" style = \"font-weight: bold; text-align: right;\">7</td><td style = \"text-align: right;\">3</td><td style = \"text-align: right;\">7</td><td style = \"text-align: right;\">6</td><td style = \"text-align: right;\">1</td><td style = \"text-align: right;\">2</td><td style = \"text-align: right;\">1.79666</td><td style = \"text-align: right;\">0.0</td><td style = \"text-align: right;\">0.0</td><td style = \"text-align: right;\">0.0</td><td style = \"text-align: right;\">0.0</td><td style = \"text-align: right;\">0.0</td><td style = \"text-align: right;\">1.79666</td><td style = \"text-align: right;\">1</td><td style = \"text-align: right;\">5</td><td style = \"text-align: right;\">2.05</td><td style = \"text-align: right;\">9</td></tr><tr><td class = \"rowNumber\" style = \"font-weight: bold; text-align: right;\">8</td><td style = \"text-align: right;\">3</td><td style = \"text-align: right;\">8</td><td style = \"text-align: right;\">6</td><td style = \"text-align: right;\">1</td><td style = \"text-align: right;\">3</td><td style = \"text-align: right;\">0.0</td><td style = \"text-align: right;\">5.01364</td><td style = \"text-align: right;\">0.0</td><td style = \"text-align: right;\">0.0</td><td style = \"text-align: right;\">0.0</td><td style = \"text-align: right;\">0.0</td><td style = \"text-align: right;\">5.01364</td><td style = \"text-align: right;\">2</td><td style = \"text-align: right;\">5</td><td style = \"text-align: right;\">2.05</td><td style = \"text-align: right;\">9</td></tr><tr><td class = \"rowNumber\" style = \"font-weight: bold; text-align: right;\">9</td><td style = \"text-align: right;\">3</td><td style = \"text-align: right;\">9</td><td style = \"text-align: right;\">6</td><td style = \"text-align: right;\">1</td><td style = \"text-align: right;\">7</td><td style = \"text-align: right;\">0.0</td><td style = \"text-align: right;\">0.0</td><td style = \"text-align: right;\">0.0</td><td style = \"text-align: right;\">0.0</td><td style = \"text-align: right;\">0.0</td><td style = \"text-align: right;\">1.20562</td><td style = \"text-align: right;\">1.20562</td><td style = \"text-align: right;\">2</td><td style = \"text-align: right;\">5</td><td style = \"text-align: right;\">2.05</td><td style = \"text-align: right;\">9</td></tr><tr><td class = \"rowNumber\" style = \"font-weight: bold; text-align: right;\">10</td><td style = \"text-align: right;\">4</td><td style = \"text-align: right;\">10</td><td style = \"text-align: right;\">9</td><td style = \"text-align: right;\">1</td><td style = \"text-align: right;\">3</td><td style = \"text-align: right;\">0.0</td><td style = \"text-align: right;\">4.98846</td><td style = \"text-align: right;\">0.0</td><td style = \"text-align: right;\">0.0</td><td style = \"text-align: right;\">0.0</td><td style = \"text-align: right;\">0.0</td><td style = \"text-align: right;\">4.98846</td><td style = \"text-align: right;\">2</td><td style = \"text-align: right;\">9</td><td style = \"text-align: right;\">4.05</td><td style = \"text-align: right;\">15</td></tr><tr><td class = \"rowNumber\" style = \"font-weight: bold; text-align: right;\">11</td><td style = \"text-align: right;\">4</td><td style = \"text-align: right;\">11</td><td style = \"text-align: right;\">9</td><td style = \"text-align: right;\">1</td><td style = \"text-align: right;\">5</td><td style = \"text-align: right;\">0.0</td><td style = \"text-align: right;\">0.0</td><td style = \"text-align: right;\">0.0</td><td style = \"text-align: right;\">11.7626</td><td style = \"text-align: right;\">0.0</td><td style = \"text-align: right;\">0.0</td><td style = \"text-align: right;\">11.7626</td><td style = \"text-align: right;\">5</td><td style = \"text-align: right;\">9</td><td style = \"text-align: right;\">4.05</td><td style = \"text-align: right;\">15</td></tr><tr><td class = \"rowNumber\" style = \"font-weight: bold; text-align: right;\">12</td><td style = \"text-align: right;\">4</td><td style = \"text-align: right;\">12</td><td style = \"text-align: right;\">9</td><td style = \"text-align: right;\">1</td><td style = \"text-align: right;\">7</td><td style = \"text-align: right;\">0.0</td><td style = \"text-align: right;\">0.0</td><td style = \"text-align: right;\">0.0</td><td style = \"text-align: right;\">0.0</td><td style = \"text-align: right;\">0.0</td><td style = \"text-align: right;\">0.606213</td><td style = \"text-align: right;\">0.606213</td><td style = \"text-align: right;\">2</td><td style = \"text-align: right;\">9</td><td style = \"text-align: right;\">4.05</td><td style = \"text-align: right;\">15</td></tr><tr><td class = \"rowNumber\" style = \"font-weight: bold; text-align: right;\">13</td><td style = \"text-align: right;\">5</td><td style = \"text-align: right;\">13</td><td style = \"text-align: right;\">9</td><td style = \"text-align: right;\">1</td><td style = \"text-align: right;\">3</td><td style = \"text-align: right;\">0.0</td><td style = \"text-align: right;\">7.32977</td><td style = \"text-align: right;\">0.0</td><td style = \"text-align: right;\">0.0</td><td style = \"text-align: right;\">0.0</td><td style = \"text-align: right;\">0.0</td><td style = \"text-align: right;\">7.32977</td><td style = \"text-align: right;\">2</td><td style = \"text-align: right;\">6</td><td style = \"text-align: right;\">3.0</td><td style = \"text-align: right;\">10</td></tr><tr><td style = \"text-align: right;\">&vellip;</td><td style = \"text-align: right;\">&vellip;</td><td style = \"text-align: right;\">&vellip;</td><td style = \"text-align: right;\">&vellip;</td><td style = \"text-align: right;\">&vellip;</td><td style = \"text-align: right;\">&vellip;</td><td style = \"text-align: right;\">&vellip;</td><td style = \"text-align: right;\">&vellip;</td><td style = \"text-align: right;\">&vellip;</td><td style = \"text-align: right;\">&vellip;</td><td style = \"text-align: right;\">&vellip;</td><td style = \"text-align: right;\">&vellip;</td><td style = \"text-align: right;\">&vellip;</td><td style = \"text-align: right;\">&vellip;</td><td style = \"text-align: right;\">&vellip;</td><td style = \"text-align: right;\">&vellip;</td><td style = \"text-align: right;\">&vellip;</td></tr><tr><td class = \"rowNumber\" style = \"font-weight: bold; text-align: right;\">3457</td><td style = \"text-align: right;\">997</td><td style = \"text-align: right;\">3457</td><td style = \"text-align: right;\">6</td><td style = \"text-align: right;\">101</td><td style = \"text-align: right;\">2</td><td style = \"text-align: right;\">9.25951</td><td style = \"text-align: right;\">0.0</td><td style = \"text-align: right;\">0.0</td><td style = \"text-align: right;\">0.0</td><td style = \"text-align: right;\">0.0</td><td style = \"text-align: right;\">0.0</td><td style = \"text-align: right;\">9.25951</td><td style = \"text-align: right;\">4</td><td style = \"text-align: right;\">7</td><td style = \"text-align: right;\">3.05</td><td style = \"text-align: right;\">112</td></tr><tr><td class = \"rowNumber\" style = \"font-weight: bold; text-align: right;\">3458</td><td style = \"text-align: right;\">997</td><td style = \"text-align: right;\">3458</td><td style = \"text-align: right;\">6</td><td style = \"text-align: right;\">101</td><td style = \"text-align: right;\">3</td><td style = \"text-align: right;\">0.0</td><td style = \"text-align: right;\">2.48693</td><td style = \"text-align: right;\">0.0</td><td style = \"text-align: right;\">0.0</td><td style = \"text-align: right;\">0.0</td><td style = \"text-align: right;\">0.0</td><td style = \"text-align: right;\">2.48693</td><td style = \"text-align: right;\">1</td><td style = \"text-align: right;\">7</td><td style = \"text-align: right;\">3.05</td><td style = \"text-align: right;\">112</td></tr><tr><td class = \"rowNumber\" style = \"font-weight: bold; text-align: right;\">3459</td><td style = \"text-align: right;\">997</td><td style = \"text-align: right;\">3459</td><td style = \"text-align: right;\">6</td><td style = \"text-align: right;\">101</td><td style = \"text-align: right;\">7</td><td style = \"text-align: right;\">0.0</td><td style = \"text-align: right;\">0.0</td><td style = \"text-align: right;\">0.0</td><td style = \"text-align: right;\">0.0</td><td style = \"text-align: right;\">0.0</td><td style = \"text-align: right;\">0.926368</td><td style = \"text-align: right;\">0.926368</td><td style = \"text-align: right;\">2</td><td style = \"text-align: right;\">7</td><td style = \"text-align: right;\">3.05</td><td style = \"text-align: right;\">112</td></tr><tr><td class = \"rowNumber\" style = \"font-weight: bold; text-align: right;\">3460</td><td style = \"text-align: right;\">998</td><td style = \"text-align: right;\">3460</td><td style = \"text-align: right;\">8</td><td style = \"text-align: right;\">102</td><td style = \"text-align: right;\">3</td><td style = \"text-align: right;\">0.0</td><td style = \"text-align: right;\">9.57554</td><td style = \"text-align: right;\">0.0</td><td style = \"text-align: right;\">0.0</td><td style = \"text-align: right;\">0.0</td><td style = \"text-align: right;\">0.0</td><td style = \"text-align: right;\">9.57554</td><td style = \"text-align: right;\">2</td><td style = \"text-align: right;\">8</td><td style = \"text-align: right;\">4.0</td><td style = \"text-align: right;\">114</td></tr><tr><td class = \"rowNumber\" style = \"font-weight: bold; text-align: right;\">3461</td><td style = \"text-align: right;\">998</td><td style = \"text-align: right;\">3461</td><td style = \"text-align: right;\">8</td><td style = \"text-align: right;\">102</td><td style = \"text-align: right;\">4</td><td style = \"text-align: right;\">0.0</td><td style = \"text-align: right;\">0.0</td><td style = \"text-align: right;\">9.22183</td><td style = \"text-align: right;\">0.0</td><td style = \"text-align: right;\">0.0</td><td style = \"text-align: right;\">0.0</td><td style = \"text-align: right;\">9.22183</td><td style = \"text-align: right;\">4</td><td style = \"text-align: right;\">8</td><td style = \"text-align: right;\">4.0</td><td style = \"text-align: right;\">114</td></tr><tr><td class = \"rowNumber\" style = \"font-weight: bold; text-align: right;\">3462</td><td style = \"text-align: right;\">998</td><td style = \"text-align: right;\">3462</td><td style = \"text-align: right;\">8</td><td style = \"text-align: right;\">102</td><td style = \"text-align: right;\">7</td><td style = \"text-align: right;\">0.0</td><td style = \"text-align: right;\">0.0</td><td style = \"text-align: right;\">0.0</td><td style = \"text-align: right;\">0.0</td><td style = \"text-align: right;\">0.0</td><td style = \"text-align: right;\">1.05807</td><td style = \"text-align: right;\">1.05807</td><td style = \"text-align: right;\">2</td><td style = \"text-align: right;\">8</td><td style = \"text-align: right;\">4.0</td><td style = \"text-align: right;\">114</td></tr><tr><td class = \"rowNumber\" style = \"font-weight: bold; text-align: right;\">3463</td><td style = \"text-align: right;\">999</td><td style = \"text-align: right;\">3463</td><td style = \"text-align: right;\">9</td><td style = \"text-align: right;\">102</td><td style = \"text-align: right;\">3</td><td style = \"text-align: right;\">0.0</td><td style = \"text-align: right;\">3.25427</td><td style = \"text-align: right;\">0.0</td><td style = \"text-align: right;\">0.0</td><td style = \"text-align: right;\">0.0</td><td style = \"text-align: right;\">0.0</td><td style = \"text-align: right;\">3.25427</td><td style = \"text-align: right;\">1</td><td style = \"text-align: right;\">5</td><td style = \"text-align: right;\">2.05</td><td style = \"text-align: right;\">110</td></tr><tr><td class = \"rowNumber\" style = \"font-weight: bold; text-align: right;\">3464</td><td style = \"text-align: right;\">999</td><td style = \"text-align: right;\">3464</td><td style = \"text-align: right;\">9</td><td style = \"text-align: right;\">102</td><td style = \"text-align: right;\">5</td><td style = \"text-align: right;\">0.0</td><td style = \"text-align: right;\">0.0</td><td style = \"text-align: right;\">0.0</td><td style = \"text-align: right;\">4.72311</td><td style = \"text-align: right;\">0.0</td><td style = \"text-align: right;\">0.0</td><td style = \"text-align: right;\">4.72311</td><td style = \"text-align: right;\">2</td><td style = \"text-align: right;\">5</td><td style = \"text-align: right;\">2.05</td><td style = \"text-align: right;\">110</td></tr><tr><td class = \"rowNumber\" style = \"font-weight: bold; text-align: right;\">3465</td><td style = \"text-align: right;\">999</td><td style = \"text-align: right;\">3465</td><td style = \"text-align: right;\">9</td><td style = \"text-align: right;\">102</td><td style = \"text-align: right;\">7</td><td style = \"text-align: right;\">0.0</td><td style = \"text-align: right;\">0.0</td><td style = \"text-align: right;\">0.0</td><td style = \"text-align: right;\">0.0</td><td style = \"text-align: right;\">0.0</td><td style = \"text-align: right;\">0.190569</td><td style = \"text-align: right;\">0.190569</td><td style = \"text-align: right;\">2</td><td style = \"text-align: right;\">5</td><td style = \"text-align: right;\">2.05</td><td style = \"text-align: right;\">110</td></tr><tr><td class = \"rowNumber\" style = \"font-weight: bold; text-align: right;\">3466</td><td style = \"text-align: right;\">1000</td><td style = \"text-align: right;\">3466</td><td style = \"text-align: right;\">9</td><td style = \"text-align: right;\">102</td><td style = \"text-align: right;\">3</td><td style = \"text-align: right;\">0.0</td><td style = \"text-align: right;\">3.65764</td><td style = \"text-align: right;\">0.0</td><td style = \"text-align: right;\">0.0</td><td style = \"text-align: right;\">0.0</td><td style = \"text-align: right;\">0.0</td><td style = \"text-align: right;\">3.65764</td><td style = \"text-align: right;\">1</td><td style = \"text-align: right;\">5</td><td style = \"text-align: right;\">2.05</td><td style = \"text-align: right;\">110</td></tr><tr><td class = \"rowNumber\" style = \"font-weight: bold; text-align: right;\">3467</td><td style = \"text-align: right;\">1000</td><td style = \"text-align: right;\">3467</td><td style = \"text-align: right;\">9</td><td style = \"text-align: right;\">102</td><td style = \"text-align: right;\">5</td><td style = \"text-align: right;\">0.0</td><td style = \"text-align: right;\">0.0</td><td style = \"text-align: right;\">0.0</td><td style = \"text-align: right;\">3.30983</td><td style = \"text-align: right;\">0.0</td><td style = \"text-align: right;\">0.0</td><td style = \"text-align: right;\">3.30983</td><td style = \"text-align: right;\">2</td><td style = \"text-align: right;\">5</td><td style = \"text-align: right;\">2.05</td><td style = \"text-align: right;\">110</td></tr><tr><td class = \"rowNumber\" style = \"font-weight: bold; text-align: right;\">3468</td><td style = \"text-align: right;\">1000</td><td style = \"text-align: right;\">3468</td><td style = \"text-align: right;\">9</td><td style = \"text-align: right;\">102</td><td style = \"text-align: right;\">7</td><td style = \"text-align: right;\">0.0</td><td style = \"text-align: right;\">0.0</td><td style = \"text-align: right;\">0.0</td><td style = \"text-align: right;\">0.0</td><td style = \"text-align: right;\">0.0</td><td style = \"text-align: right;\">1.38545</td><td style = \"text-align: right;\">1.38545</td><td style = \"text-align: right;\">2</td><td style = \"text-align: right;\">5</td><td style = \"text-align: right;\">2.05</td><td style = \"text-align: right;\">110</td></tr></tbody></table></div>"
      ],
      "text/latex": [
       "\\begin{tabular}{r|ccccccccc}\n",
       "\t& Order & Job & Path & Arrival & Resource\\_idx & Resource\\_2 & Resource\\_3 & Resource\\_4 & \\\\\n",
       "\t\\hline\n",
       "\t& Int64 & Int64 & Int64 & Int64 & Int64 & Float64 & Float64 & Float64 & \\\\\n",
       "\t\\hline\n",
       "\t1 & 1 & 1 & 9 & 1 & 3 & 0.0 & 5.98325 & 0.0 & $\\dots$ \\\\\n",
       "\t2 & 1 & 2 & 9 & 1 & 5 & 0.0 & 0.0 & 0.0 & $\\dots$ \\\\\n",
       "\t3 & 1 & 3 & 9 & 1 & 7 & 0.0 & 0.0 & 0.0 & $\\dots$ \\\\\n",
       "\t4 & 2 & 4 & 6 & 1 & 2 & 8.1297 & 0.0 & 0.0 & $\\dots$ \\\\\n",
       "\t5 & 2 & 5 & 6 & 1 & 3 & 0.0 & 4.45847 & 0.0 & $\\dots$ \\\\\n",
       "\t6 & 2 & 6 & 6 & 1 & 7 & 0.0 & 0.0 & 0.0 & $\\dots$ \\\\\n",
       "\t7 & 3 & 7 & 6 & 1 & 2 & 1.79666 & 0.0 & 0.0 & $\\dots$ \\\\\n",
       "\t8 & 3 & 8 & 6 & 1 & 3 & 0.0 & 5.01364 & 0.0 & $\\dots$ \\\\\n",
       "\t9 & 3 & 9 & 6 & 1 & 7 & 0.0 & 0.0 & 0.0 & $\\dots$ \\\\\n",
       "\t10 & 4 & 10 & 9 & 1 & 3 & 0.0 & 4.98846 & 0.0 & $\\dots$ \\\\\n",
       "\t11 & 4 & 11 & 9 & 1 & 5 & 0.0 & 0.0 & 0.0 & $\\dots$ \\\\\n",
       "\t12 & 4 & 12 & 9 & 1 & 7 & 0.0 & 0.0 & 0.0 & $\\dots$ \\\\\n",
       "\t13 & 5 & 13 & 9 & 1 & 3 & 0.0 & 7.32977 & 0.0 & $\\dots$ \\\\\n",
       "\t14 & 5 & 14 & 9 & 1 & 5 & 0.0 & 0.0 & 0.0 & $\\dots$ \\\\\n",
       "\t15 & 5 & 15 & 9 & 1 & 7 & 0.0 & 0.0 & 0.0 & $\\dots$ \\\\\n",
       "\t16 & 6 & 16 & 3 & 1 & 2 & 3.66406 & 0.0 & 0.0 & $\\dots$ \\\\\n",
       "\t17 & 6 & 17 & 3 & 1 & 3 & 0.0 & 3.60958 & 0.0 & $\\dots$ \\\\\n",
       "\t18 & 6 & 18 & 3 & 1 & 5 & 0.0 & 0.0 & 0.0 & $\\dots$ \\\\\n",
       "\t19 & 6 & 19 & 3 & 1 & 7 & 0.0 & 0.0 & 0.0 & $\\dots$ \\\\\n",
       "\t20 & 7 & 20 & 8 & 1 & 3 & 0.0 & 3.11727 & 0.0 & $\\dots$ \\\\\n",
       "\t21 & 7 & 21 & 8 & 1 & 4 & 0.0 & 0.0 & 4.94525 & $\\dots$ \\\\\n",
       "\t22 & 7 & 22 & 8 & 1 & 7 & 0.0 & 0.0 & 0.0 & $\\dots$ \\\\\n",
       "\t23 & 8 & 23 & 9 & 2 & 3 & 0.0 & 3.91279 & 0.0 & $\\dots$ \\\\\n",
       "\t24 & 8 & 24 & 9 & 2 & 5 & 0.0 & 0.0 & 0.0 & $\\dots$ \\\\\n",
       "\t25 & 8 & 25 & 9 & 2 & 7 & 0.0 & 0.0 & 0.0 & $\\dots$ \\\\\n",
       "\t26 & 9 & 26 & 6 & 2 & 2 & 5.66074 & 0.0 & 0.0 & $\\dots$ \\\\\n",
       "\t27 & 9 & 27 & 6 & 2 & 3 & 0.0 & 6.52914 & 0.0 & $\\dots$ \\\\\n",
       "\t28 & 9 & 28 & 6 & 2 & 7 & 0.0 & 0.0 & 0.0 & $\\dots$ \\\\\n",
       "\t29 & 10 & 29 & 4 & 2 & 2 & 6.89443 & 0.0 & 0.0 & $\\dots$ \\\\\n",
       "\t30 & 10 & 30 & 4 & 2 & 3 & 0.0 & 7.3972 & 0.0 & $\\dots$ \\\\\n",
       "\t$\\dots$ & $\\dots$ & $\\dots$ & $\\dots$ & $\\dots$ & $\\dots$ & $\\dots$ & $\\dots$ & $\\dots$ &  \\\\\n",
       "\\end{tabular}\n"
      ],
      "text/plain": [
       "\u001b[1m3468×16 DataFrame\u001b[0m\n",
       "\u001b[1m  Row \u001b[0m│\u001b[1m Order \u001b[0m\u001b[1m Job   \u001b[0m\u001b[1m Path  \u001b[0m\u001b[1m Arrival \u001b[0m\u001b[1m Resource_idx \u001b[0m\u001b[1m Resource_2 \u001b[0m\u001b[1m Resource_3 \u001b[0m\u001b[1m Re\u001b[0m ⋯\n",
       "      │\u001b[90m Int64 \u001b[0m\u001b[90m Int64 \u001b[0m\u001b[90m Int64 \u001b[0m\u001b[90m Int64   \u001b[0m\u001b[90m Int64        \u001b[0m\u001b[90m Float64    \u001b[0m\u001b[90m Float64    \u001b[0m\u001b[90m Fl\u001b[0m ⋯\n",
       "──────┼─────────────────────────────────────────────────────────────────────────\n",
       "    1 │     1      1      9        1             3     0.0         5.98325     ⋯\n",
       "    2 │     1      2      9        1             5     0.0         0.0\n",
       "    3 │     1      3      9        1             7     0.0         0.0\n",
       "    4 │     2      4      6        1             2     8.1297      0.0\n",
       "    5 │     2      5      6        1             3     0.0         4.45847     ⋯\n",
       "    6 │     2      6      6        1             7     0.0         0.0\n",
       "    7 │     3      7      6        1             2     1.79666     0.0\n",
       "    8 │     3      8      6        1             3     0.0         5.01364\n",
       "    9 │     3      9      6        1             7     0.0         0.0         ⋯\n",
       "   10 │     4     10      9        1             3     0.0         4.98846\n",
       "   11 │     4     11      9        1             5     0.0         0.0\n",
       "  ⋮   │   ⋮      ⋮      ⋮       ⋮          ⋮            ⋮           ⋮          ⋱\n",
       " 3459 │   997   3459      6      101             7     0.0         0.0\n",
       " 3460 │   998   3460      8      102             3     0.0         9.57554     ⋯\n",
       " 3461 │   998   3461      8      102             4     0.0         0.0\n",
       " 3462 │   998   3462      8      102             7     0.0         0.0\n",
       " 3463 │   999   3463      9      102             3     0.0         3.25427\n",
       " 3464 │   999   3464      9      102             5     0.0         0.0         ⋯\n",
       " 3465 │   999   3465      9      102             7     0.0         0.0\n",
       " 3466 │  1000   3466      9      102             3     0.0         3.65764\n",
       " 3467 │  1000   3467      9      102             5     0.0         0.0\n",
       " 3468 │  1000   3468      9      102             7     0.0         0.0         ⋯\n",
       "\u001b[36m                                                 9 columns and 3447 rows omitted\u001b[0m"
      ]
     },
     "execution_count": 3,
     "metadata": {},
     "output_type": "execute_result"
    }
   ],
   "source": [
    "#NEW DATA:\n",
    "newdata = CSV.read(\"data/input_data/input_data_30-10-2024_seed_42.csv\", DataFrame; delim=';')"
   ]
  },
  {
   "cell_type": "code",
   "execution_count": 4,
   "id": "4b121837-448f-4031-9787-0e518e38ede6",
   "metadata": {},
   "outputs": [
    {
     "data": {
      "text/html": [
       "<div><div style = \"float: left;\"><span>103×16 DataFrame</span></div><div style = \"float: right;\"><span style = \"font-style: italic;\">78 rows omitted</span></div><div style = \"clear: both;\"></div></div><div class = \"data-frame\" style = \"overflow-x: scroll;\"><table class = \"data-frame\" style = \"margin-bottom: 6px;\"><thead><tr class = \"header\"><th class = \"rowNumber\" style = \"font-weight: bold; text-align: right;\">Row</th><th style = \"text-align: left;\">Order</th><th style = \"text-align: left;\">Job</th><th style = \"text-align: left;\">Path</th><th style = \"text-align: left;\">Arrival</th><th style = \"text-align: left;\">Resource_idx</th><th style = \"text-align: left;\">Resource_2</th><th style = \"text-align: left;\">Resource_3</th><th style = \"text-align: left;\">Resource_4</th><th style = \"text-align: left;\">Resource_5</th><th style = \"text-align: left;\">Resource_6</th><th style = \"text-align: left;\">Resource_7</th><th style = \"text-align: left;\">job_WC</th><th style = \"text-align: left;\">Duration</th><th style = \"text-align: left;\">MinDelivery</th><th style = \"text-align: left;\">Slack</th><th style = \"text-align: left;\">Duedate</th></tr><tr class = \"subheader headerLastRow\"><th class = \"rowNumber\" style = \"font-weight: bold; text-align: right;\"></th><th title = \"Int64\" style = \"text-align: left;\">Int64</th><th title = \"Int64\" style = \"text-align: left;\">Int64</th><th title = \"Int64\" style = \"text-align: left;\">Int64</th><th title = \"Int64\" style = \"text-align: left;\">Int64</th><th title = \"Int64\" style = \"text-align: left;\">Int64</th><th title = \"Float64\" style = \"text-align: left;\">Float64</th><th title = \"Float64\" style = \"text-align: left;\">Float64</th><th title = \"Float64\" style = \"text-align: left;\">Float64</th><th title = \"Float64\" style = \"text-align: left;\">Float64</th><th title = \"Float64\" style = \"text-align: left;\">Float64</th><th title = \"Float64\" style = \"text-align: left;\">Float64</th><th title = \"Float64\" style = \"text-align: left;\">Float64</th><th title = \"Int64\" style = \"text-align: left;\">Int64</th><th title = \"Int64\" style = \"text-align: left;\">Int64</th><th title = \"Float64\" style = \"text-align: left;\">Float64</th><th title = \"Int64\" style = \"text-align: left;\">Int64</th></tr></thead><tbody><tr><td class = \"rowNumber\" style = \"font-weight: bold; text-align: right;\">1</td><td style = \"text-align: right;\">1</td><td style = \"text-align: right;\">1</td><td style = \"text-align: right;\">9</td><td style = \"text-align: right;\">1</td><td style = \"text-align: right;\">3</td><td style = \"text-align: right;\">0.0</td><td style = \"text-align: right;\">5.98325</td><td style = \"text-align: right;\">0.0</td><td style = \"text-align: right;\">0.0</td><td style = \"text-align: right;\">0.0</td><td style = \"text-align: right;\">0.0</td><td style = \"text-align: right;\">5.98325</td><td style = \"text-align: right;\">2</td><td style = \"text-align: right;\">6</td><td style = \"text-align: right;\">3.0</td><td style = \"text-align: right;\">10</td></tr><tr><td class = \"rowNumber\" style = \"font-weight: bold; text-align: right;\">2</td><td style = \"text-align: right;\">1</td><td style = \"text-align: right;\">2</td><td style = \"text-align: right;\">9</td><td style = \"text-align: right;\">1</td><td style = \"text-align: right;\">5</td><td style = \"text-align: right;\">0.0</td><td style = \"text-align: right;\">0.0</td><td style = \"text-align: right;\">0.0</td><td style = \"text-align: right;\">3.99601</td><td style = \"text-align: right;\">0.0</td><td style = \"text-align: right;\">0.0</td><td style = \"text-align: right;\">3.99601</td><td style = \"text-align: right;\">2</td><td style = \"text-align: right;\">6</td><td style = \"text-align: right;\">3.0</td><td style = \"text-align: right;\">10</td></tr><tr><td class = \"rowNumber\" style = \"font-weight: bold; text-align: right;\">3</td><td style = \"text-align: right;\">1</td><td style = \"text-align: right;\">3</td><td style = \"text-align: right;\">9</td><td style = \"text-align: right;\">1</td><td style = \"text-align: right;\">7</td><td style = \"text-align: right;\">0.0</td><td style = \"text-align: right;\">0.0</td><td style = \"text-align: right;\">0.0</td><td style = \"text-align: right;\">0.0</td><td style = \"text-align: right;\">0.0</td><td style = \"text-align: right;\">0.577784</td><td style = \"text-align: right;\">0.577784</td><td style = \"text-align: right;\">2</td><td style = \"text-align: right;\">6</td><td style = \"text-align: right;\">3.0</td><td style = \"text-align: right;\">10</td></tr><tr><td class = \"rowNumber\" style = \"font-weight: bold; text-align: right;\">4</td><td style = \"text-align: right;\">2</td><td style = \"text-align: right;\">4</td><td style = \"text-align: right;\">6</td><td style = \"text-align: right;\">1</td><td style = \"text-align: right;\">2</td><td style = \"text-align: right;\">8.1297</td><td style = \"text-align: right;\">0.0</td><td style = \"text-align: right;\">0.0</td><td style = \"text-align: right;\">0.0</td><td style = \"text-align: right;\">0.0</td><td style = \"text-align: right;\">0.0</td><td style = \"text-align: right;\">8.1297</td><td style = \"text-align: right;\">4</td><td style = \"text-align: right;\">7</td><td style = \"text-align: right;\">3.05</td><td style = \"text-align: right;\">12</td></tr><tr><td class = \"rowNumber\" style = \"font-weight: bold; text-align: right;\">5</td><td style = \"text-align: right;\">2</td><td style = \"text-align: right;\">5</td><td style = \"text-align: right;\">6</td><td style = \"text-align: right;\">1</td><td style = \"text-align: right;\">3</td><td style = \"text-align: right;\">0.0</td><td style = \"text-align: right;\">4.45847</td><td style = \"text-align: right;\">0.0</td><td style = \"text-align: right;\">0.0</td><td style = \"text-align: right;\">0.0</td><td style = \"text-align: right;\">0.0</td><td style = \"text-align: right;\">4.45847</td><td style = \"text-align: right;\">1</td><td style = \"text-align: right;\">7</td><td style = \"text-align: right;\">3.05</td><td style = \"text-align: right;\">12</td></tr><tr><td class = \"rowNumber\" style = \"font-weight: bold; text-align: right;\">6</td><td style = \"text-align: right;\">2</td><td style = \"text-align: right;\">6</td><td style = \"text-align: right;\">6</td><td style = \"text-align: right;\">1</td><td style = \"text-align: right;\">7</td><td style = \"text-align: right;\">0.0</td><td style = \"text-align: right;\">0.0</td><td style = \"text-align: right;\">0.0</td><td style = \"text-align: right;\">0.0</td><td style = \"text-align: right;\">0.0</td><td style = \"text-align: right;\">0.702172</td><td style = \"text-align: right;\">0.702172</td><td style = \"text-align: right;\">2</td><td style = \"text-align: right;\">7</td><td style = \"text-align: right;\">3.05</td><td style = \"text-align: right;\">12</td></tr><tr><td class = \"rowNumber\" style = \"font-weight: bold; text-align: right;\">7</td><td style = \"text-align: right;\">3</td><td style = \"text-align: right;\">7</td><td style = \"text-align: right;\">6</td><td style = \"text-align: right;\">1</td><td style = \"text-align: right;\">2</td><td style = \"text-align: right;\">1.79666</td><td style = \"text-align: right;\">0.0</td><td style = \"text-align: right;\">0.0</td><td style = \"text-align: right;\">0.0</td><td style = \"text-align: right;\">0.0</td><td style = \"text-align: right;\">0.0</td><td style = \"text-align: right;\">1.79666</td><td style = \"text-align: right;\">1</td><td style = \"text-align: right;\">5</td><td style = \"text-align: right;\">2.05</td><td style = \"text-align: right;\">9</td></tr><tr><td class = \"rowNumber\" style = \"font-weight: bold; text-align: right;\">8</td><td style = \"text-align: right;\">3</td><td style = \"text-align: right;\">8</td><td style = \"text-align: right;\">6</td><td style = \"text-align: right;\">1</td><td style = \"text-align: right;\">3</td><td style = \"text-align: right;\">0.0</td><td style = \"text-align: right;\">5.01364</td><td style = \"text-align: right;\">0.0</td><td style = \"text-align: right;\">0.0</td><td style = \"text-align: right;\">0.0</td><td style = \"text-align: right;\">0.0</td><td style = \"text-align: right;\">5.01364</td><td style = \"text-align: right;\">2</td><td style = \"text-align: right;\">5</td><td style = \"text-align: right;\">2.05</td><td style = \"text-align: right;\">9</td></tr><tr><td class = \"rowNumber\" style = \"font-weight: bold; text-align: right;\">9</td><td style = \"text-align: right;\">3</td><td style = \"text-align: right;\">9</td><td style = \"text-align: right;\">6</td><td style = \"text-align: right;\">1</td><td style = \"text-align: right;\">7</td><td style = \"text-align: right;\">0.0</td><td style = \"text-align: right;\">0.0</td><td style = \"text-align: right;\">0.0</td><td style = \"text-align: right;\">0.0</td><td style = \"text-align: right;\">0.0</td><td style = \"text-align: right;\">1.20562</td><td style = \"text-align: right;\">1.20562</td><td style = \"text-align: right;\">2</td><td style = \"text-align: right;\">5</td><td style = \"text-align: right;\">2.05</td><td style = \"text-align: right;\">9</td></tr><tr><td class = \"rowNumber\" style = \"font-weight: bold; text-align: right;\">10</td><td style = \"text-align: right;\">4</td><td style = \"text-align: right;\">10</td><td style = \"text-align: right;\">9</td><td style = \"text-align: right;\">1</td><td style = \"text-align: right;\">3</td><td style = \"text-align: right;\">0.0</td><td style = \"text-align: right;\">4.98846</td><td style = \"text-align: right;\">0.0</td><td style = \"text-align: right;\">0.0</td><td style = \"text-align: right;\">0.0</td><td style = \"text-align: right;\">0.0</td><td style = \"text-align: right;\">4.98846</td><td style = \"text-align: right;\">2</td><td style = \"text-align: right;\">9</td><td style = \"text-align: right;\">4.05</td><td style = \"text-align: right;\">15</td></tr><tr><td class = \"rowNumber\" style = \"font-weight: bold; text-align: right;\">11</td><td style = \"text-align: right;\">4</td><td style = \"text-align: right;\">11</td><td style = \"text-align: right;\">9</td><td style = \"text-align: right;\">1</td><td style = \"text-align: right;\">5</td><td style = \"text-align: right;\">0.0</td><td style = \"text-align: right;\">0.0</td><td style = \"text-align: right;\">0.0</td><td style = \"text-align: right;\">11.7626</td><td style = \"text-align: right;\">0.0</td><td style = \"text-align: right;\">0.0</td><td style = \"text-align: right;\">11.7626</td><td style = \"text-align: right;\">5</td><td style = \"text-align: right;\">9</td><td style = \"text-align: right;\">4.05</td><td style = \"text-align: right;\">15</td></tr><tr><td class = \"rowNumber\" style = \"font-weight: bold; text-align: right;\">12</td><td style = \"text-align: right;\">4</td><td style = \"text-align: right;\">12</td><td style = \"text-align: right;\">9</td><td style = \"text-align: right;\">1</td><td style = \"text-align: right;\">7</td><td style = \"text-align: right;\">0.0</td><td style = \"text-align: right;\">0.0</td><td style = \"text-align: right;\">0.0</td><td style = \"text-align: right;\">0.0</td><td style = \"text-align: right;\">0.0</td><td style = \"text-align: right;\">0.606213</td><td style = \"text-align: right;\">0.606213</td><td style = \"text-align: right;\">2</td><td style = \"text-align: right;\">9</td><td style = \"text-align: right;\">4.05</td><td style = \"text-align: right;\">15</td></tr><tr><td class = \"rowNumber\" style = \"font-weight: bold; text-align: right;\">13</td><td style = \"text-align: right;\">5</td><td style = \"text-align: right;\">13</td><td style = \"text-align: right;\">9</td><td style = \"text-align: right;\">1</td><td style = \"text-align: right;\">3</td><td style = \"text-align: right;\">0.0</td><td style = \"text-align: right;\">7.32977</td><td style = \"text-align: right;\">0.0</td><td style = \"text-align: right;\">0.0</td><td style = \"text-align: right;\">0.0</td><td style = \"text-align: right;\">0.0</td><td style = \"text-align: right;\">7.32977</td><td style = \"text-align: right;\">2</td><td style = \"text-align: right;\">6</td><td style = \"text-align: right;\">3.0</td><td style = \"text-align: right;\">10</td></tr><tr><td style = \"text-align: right;\">&vellip;</td><td style = \"text-align: right;\">&vellip;</td><td style = \"text-align: right;\">&vellip;</td><td style = \"text-align: right;\">&vellip;</td><td style = \"text-align: right;\">&vellip;</td><td style = \"text-align: right;\">&vellip;</td><td style = \"text-align: right;\">&vellip;</td><td style = \"text-align: right;\">&vellip;</td><td style = \"text-align: right;\">&vellip;</td><td style = \"text-align: right;\">&vellip;</td><td style = \"text-align: right;\">&vellip;</td><td style = \"text-align: right;\">&vellip;</td><td style = \"text-align: right;\">&vellip;</td><td style = \"text-align: right;\">&vellip;</td><td style = \"text-align: right;\">&vellip;</td><td style = \"text-align: right;\">&vellip;</td><td style = \"text-align: right;\">&vellip;</td></tr><tr><td class = \"rowNumber\" style = \"font-weight: bold; text-align: right;\">92</td><td style = \"text-align: right;\">26</td><td style = \"text-align: right;\">92</td><td style = \"text-align: right;\">5</td><td style = \"text-align: right;\">3</td><td style = \"text-align: right;\">6</td><td style = \"text-align: right;\">0.0</td><td style = \"text-align: right;\">0.0</td><td style = \"text-align: right;\">0.0</td><td style = \"text-align: right;\">0.0</td><td style = \"text-align: right;\">9.78201</td><td style = \"text-align: right;\">0.0</td><td style = \"text-align: right;\">9.78201</td><td style = \"text-align: right;\">4</td><td style = \"text-align: right;\">11</td><td style = \"text-align: right;\">5.05</td><td style = \"text-align: right;\">20</td></tr><tr><td class = \"rowNumber\" style = \"font-weight: bold; text-align: right;\">93</td><td style = \"text-align: right;\">26</td><td style = \"text-align: right;\">93</td><td style = \"text-align: right;\">5</td><td style = \"text-align: right;\">3</td><td style = \"text-align: right;\">7</td><td style = \"text-align: right;\">0.0</td><td style = \"text-align: right;\">0.0</td><td style = \"text-align: right;\">0.0</td><td style = \"text-align: right;\">0.0</td><td style = \"text-align: right;\">0.0</td><td style = \"text-align: right;\">0.866033</td><td style = \"text-align: right;\">0.866033</td><td style = \"text-align: right;\">2</td><td style = \"text-align: right;\">11</td><td style = \"text-align: right;\">5.05</td><td style = \"text-align: right;\">20</td></tr><tr><td class = \"rowNumber\" style = \"font-weight: bold; text-align: right;\">94</td><td style = \"text-align: right;\">27</td><td style = \"text-align: right;\">94</td><td style = \"text-align: right;\">6</td><td style = \"text-align: right;\">3</td><td style = \"text-align: right;\">2</td><td style = \"text-align: right;\">4.64708</td><td style = \"text-align: right;\">0.0</td><td style = \"text-align: right;\">0.0</td><td style = \"text-align: right;\">0.0</td><td style = \"text-align: right;\">0.0</td><td style = \"text-align: right;\">0.0</td><td style = \"text-align: right;\">4.64708</td><td style = \"text-align: right;\">2</td><td style = \"text-align: right;\">5</td><td style = \"text-align: right;\">2.05</td><td style = \"text-align: right;\">11</td></tr><tr><td class = \"rowNumber\" style = \"font-weight: bold; text-align: right;\">95</td><td style = \"text-align: right;\">27</td><td style = \"text-align: right;\">95</td><td style = \"text-align: right;\">6</td><td style = \"text-align: right;\">3</td><td style = \"text-align: right;\">3</td><td style = \"text-align: right;\">0.0</td><td style = \"text-align: right;\">3.85609</td><td style = \"text-align: right;\">0.0</td><td style = \"text-align: right;\">0.0</td><td style = \"text-align: right;\">0.0</td><td style = \"text-align: right;\">0.0</td><td style = \"text-align: right;\">3.85609</td><td style = \"text-align: right;\">1</td><td style = \"text-align: right;\">5</td><td style = \"text-align: right;\">2.05</td><td style = \"text-align: right;\">11</td></tr><tr><td class = \"rowNumber\" style = \"font-weight: bold; text-align: right;\">96</td><td style = \"text-align: right;\">27</td><td style = \"text-align: right;\">96</td><td style = \"text-align: right;\">6</td><td style = \"text-align: right;\">3</td><td style = \"text-align: right;\">7</td><td style = \"text-align: right;\">0.0</td><td style = \"text-align: right;\">0.0</td><td style = \"text-align: right;\">0.0</td><td style = \"text-align: right;\">0.0</td><td style = \"text-align: right;\">0.0</td><td style = \"text-align: right;\">0.978176</td><td style = \"text-align: right;\">0.978176</td><td style = \"text-align: right;\">2</td><td style = \"text-align: right;\">5</td><td style = \"text-align: right;\">2.05</td><td style = \"text-align: right;\">11</td></tr><tr><td class = \"rowNumber\" style = \"font-weight: bold; text-align: right;\">97</td><td style = \"text-align: right;\">28</td><td style = \"text-align: right;\">97</td><td style = \"text-align: right;\">11</td><td style = \"text-align: right;\">3</td><td style = \"text-align: right;\">3</td><td style = \"text-align: right;\">0.0</td><td style = \"text-align: right;\">2.8093</td><td style = \"text-align: right;\">0.0</td><td style = \"text-align: right;\">0.0</td><td style = \"text-align: right;\">0.0</td><td style = \"text-align: right;\">0.0</td><td style = \"text-align: right;\">2.8093</td><td style = \"text-align: right;\">1</td><td style = \"text-align: right;\">8</td><td style = \"text-align: right;\">4.0</td><td style = \"text-align: right;\">15</td></tr><tr><td class = \"rowNumber\" style = \"font-weight: bold; text-align: right;\">98</td><td style = \"text-align: right;\">28</td><td style = \"text-align: right;\">98</td><td style = \"text-align: right;\">11</td><td style = \"text-align: right;\">3</td><td style = \"text-align: right;\">6</td><td style = \"text-align: right;\">0.0</td><td style = \"text-align: right;\">0.0</td><td style = \"text-align: right;\">0.0</td><td style = \"text-align: right;\">0.0</td><td style = \"text-align: right;\">10.8902</td><td style = \"text-align: right;\">0.0</td><td style = \"text-align: right;\">10.8902</td><td style = \"text-align: right;\">5</td><td style = \"text-align: right;\">8</td><td style = \"text-align: right;\">4.0</td><td style = \"text-align: right;\">15</td></tr><tr><td class = \"rowNumber\" style = \"font-weight: bold; text-align: right;\">99</td><td style = \"text-align: right;\">28</td><td style = \"text-align: right;\">99</td><td style = \"text-align: right;\">11</td><td style = \"text-align: right;\">3</td><td style = \"text-align: right;\">7</td><td style = \"text-align: right;\">0.0</td><td style = \"text-align: right;\">0.0</td><td style = \"text-align: right;\">0.0</td><td style = \"text-align: right;\">0.0</td><td style = \"text-align: right;\">0.0</td><td style = \"text-align: right;\">0.440057</td><td style = \"text-align: right;\">0.440057</td><td style = \"text-align: right;\">2</td><td style = \"text-align: right;\">8</td><td style = \"text-align: right;\">4.0</td><td style = \"text-align: right;\">15</td></tr><tr><td class = \"rowNumber\" style = \"font-weight: bold; text-align: right;\">100</td><td style = \"text-align: right;\">29</td><td style = \"text-align: right;\">100</td><td style = \"text-align: right;\">5</td><td style = \"text-align: right;\">3</td><td style = \"text-align: right;\">2</td><td style = \"text-align: right;\">3.6617</td><td style = \"text-align: right;\">0.0</td><td style = \"text-align: right;\">0.0</td><td style = \"text-align: right;\">0.0</td><td style = \"text-align: right;\">0.0</td><td style = \"text-align: right;\">0.0</td><td style = \"text-align: right;\">3.6617</td><td style = \"text-align: right;\">2</td><td style = \"text-align: right;\">11</td><td style = \"text-align: right;\">5.05</td><td style = \"text-align: right;\">20</td></tr><tr><td class = \"rowNumber\" style = \"font-weight: bold; text-align: right;\">101</td><td style = \"text-align: right;\">29</td><td style = \"text-align: right;\">101</td><td style = \"text-align: right;\">5</td><td style = \"text-align: right;\">3</td><td style = \"text-align: right;\">3</td><td style = \"text-align: right;\">0.0</td><td style = \"text-align: right;\">6.05086</td><td style = \"text-align: right;\">0.0</td><td style = \"text-align: right;\">0.0</td><td style = \"text-align: right;\">0.0</td><td style = \"text-align: right;\">0.0</td><td style = \"text-align: right;\">6.05086</td><td style = \"text-align: right;\">2</td><td style = \"text-align: right;\">11</td><td style = \"text-align: right;\">5.05</td><td style = \"text-align: right;\">20</td></tr><tr><td class = \"rowNumber\" style = \"font-weight: bold; text-align: right;\">102</td><td style = \"text-align: right;\">29</td><td style = \"text-align: right;\">102</td><td style = \"text-align: right;\">5</td><td style = \"text-align: right;\">3</td><td style = \"text-align: right;\">6</td><td style = \"text-align: right;\">0.0</td><td style = \"text-align: right;\">0.0</td><td style = \"text-align: right;\">0.0</td><td style = \"text-align: right;\">0.0</td><td style = \"text-align: right;\">11.8605</td><td style = \"text-align: right;\">0.0</td><td style = \"text-align: right;\">11.8605</td><td style = \"text-align: right;\">5</td><td style = \"text-align: right;\">11</td><td style = \"text-align: right;\">5.05</td><td style = \"text-align: right;\">20</td></tr><tr><td class = \"rowNumber\" style = \"font-weight: bold; text-align: right;\">103</td><td style = \"text-align: right;\">29</td><td style = \"text-align: right;\">103</td><td style = \"text-align: right;\">5</td><td style = \"text-align: right;\">3</td><td style = \"text-align: right;\">7</td><td style = \"text-align: right;\">0.0</td><td style = \"text-align: right;\">0.0</td><td style = \"text-align: right;\">0.0</td><td style = \"text-align: right;\">0.0</td><td style = \"text-align: right;\">0.0</td><td style = \"text-align: right;\">0.430008</td><td style = \"text-align: right;\">0.430008</td><td style = \"text-align: right;\">2</td><td style = \"text-align: right;\">11</td><td style = \"text-align: right;\">5.05</td><td style = \"text-align: right;\">20</td></tr></tbody></table></div>"
      ],
      "text/latex": [
       "\\begin{tabular}{r|ccccccccc}\n",
       "\t& Order & Job & Path & Arrival & Resource\\_idx & Resource\\_2 & Resource\\_3 & Resource\\_4 & \\\\\n",
       "\t\\hline\n",
       "\t& Int64 & Int64 & Int64 & Int64 & Int64 & Float64 & Float64 & Float64 & \\\\\n",
       "\t\\hline\n",
       "\t1 & 1 & 1 & 9 & 1 & 3 & 0.0 & 5.98325 & 0.0 & $\\dots$ \\\\\n",
       "\t2 & 1 & 2 & 9 & 1 & 5 & 0.0 & 0.0 & 0.0 & $\\dots$ \\\\\n",
       "\t3 & 1 & 3 & 9 & 1 & 7 & 0.0 & 0.0 & 0.0 & $\\dots$ \\\\\n",
       "\t4 & 2 & 4 & 6 & 1 & 2 & 8.1297 & 0.0 & 0.0 & $\\dots$ \\\\\n",
       "\t5 & 2 & 5 & 6 & 1 & 3 & 0.0 & 4.45847 & 0.0 & $\\dots$ \\\\\n",
       "\t6 & 2 & 6 & 6 & 1 & 7 & 0.0 & 0.0 & 0.0 & $\\dots$ \\\\\n",
       "\t7 & 3 & 7 & 6 & 1 & 2 & 1.79666 & 0.0 & 0.0 & $\\dots$ \\\\\n",
       "\t8 & 3 & 8 & 6 & 1 & 3 & 0.0 & 5.01364 & 0.0 & $\\dots$ \\\\\n",
       "\t9 & 3 & 9 & 6 & 1 & 7 & 0.0 & 0.0 & 0.0 & $\\dots$ \\\\\n",
       "\t10 & 4 & 10 & 9 & 1 & 3 & 0.0 & 4.98846 & 0.0 & $\\dots$ \\\\\n",
       "\t11 & 4 & 11 & 9 & 1 & 5 & 0.0 & 0.0 & 0.0 & $\\dots$ \\\\\n",
       "\t12 & 4 & 12 & 9 & 1 & 7 & 0.0 & 0.0 & 0.0 & $\\dots$ \\\\\n",
       "\t13 & 5 & 13 & 9 & 1 & 3 & 0.0 & 7.32977 & 0.0 & $\\dots$ \\\\\n",
       "\t14 & 5 & 14 & 9 & 1 & 5 & 0.0 & 0.0 & 0.0 & $\\dots$ \\\\\n",
       "\t15 & 5 & 15 & 9 & 1 & 7 & 0.0 & 0.0 & 0.0 & $\\dots$ \\\\\n",
       "\t16 & 6 & 16 & 3 & 1 & 2 & 3.66406 & 0.0 & 0.0 & $\\dots$ \\\\\n",
       "\t17 & 6 & 17 & 3 & 1 & 3 & 0.0 & 3.60958 & 0.0 & $\\dots$ \\\\\n",
       "\t18 & 6 & 18 & 3 & 1 & 5 & 0.0 & 0.0 & 0.0 & $\\dots$ \\\\\n",
       "\t19 & 6 & 19 & 3 & 1 & 7 & 0.0 & 0.0 & 0.0 & $\\dots$ \\\\\n",
       "\t20 & 7 & 20 & 8 & 1 & 3 & 0.0 & 3.11727 & 0.0 & $\\dots$ \\\\\n",
       "\t21 & 7 & 21 & 8 & 1 & 4 & 0.0 & 0.0 & 4.94525 & $\\dots$ \\\\\n",
       "\t22 & 7 & 22 & 8 & 1 & 7 & 0.0 & 0.0 & 0.0 & $\\dots$ \\\\\n",
       "\t23 & 8 & 23 & 9 & 2 & 3 & 0.0 & 3.91279 & 0.0 & $\\dots$ \\\\\n",
       "\t24 & 8 & 24 & 9 & 2 & 5 & 0.0 & 0.0 & 0.0 & $\\dots$ \\\\\n",
       "\t25 & 8 & 25 & 9 & 2 & 7 & 0.0 & 0.0 & 0.0 & $\\dots$ \\\\\n",
       "\t26 & 9 & 26 & 6 & 2 & 2 & 5.66074 & 0.0 & 0.0 & $\\dots$ \\\\\n",
       "\t27 & 9 & 27 & 6 & 2 & 3 & 0.0 & 6.52914 & 0.0 & $\\dots$ \\\\\n",
       "\t28 & 9 & 28 & 6 & 2 & 7 & 0.0 & 0.0 & 0.0 & $\\dots$ \\\\\n",
       "\t29 & 10 & 29 & 4 & 2 & 2 & 6.89443 & 0.0 & 0.0 & $\\dots$ \\\\\n",
       "\t30 & 10 & 30 & 4 & 2 & 3 & 0.0 & 7.3972 & 0.0 & $\\dots$ \\\\\n",
       "\t$\\dots$ & $\\dots$ & $\\dots$ & $\\dots$ & $\\dots$ & $\\dots$ & $\\dots$ & $\\dots$ & $\\dots$ &  \\\\\n",
       "\\end{tabular}\n"
      ],
      "text/plain": [
       "\u001b[1m103×16 DataFrame\u001b[0m\n",
       "\u001b[1m Row \u001b[0m│\u001b[1m Order \u001b[0m\u001b[1m Job   \u001b[0m\u001b[1m Path  \u001b[0m\u001b[1m Arrival \u001b[0m\u001b[1m Resource_idx \u001b[0m\u001b[1m Resource_2 \u001b[0m\u001b[1m Resource_3 \u001b[0m\u001b[1m Res\u001b[0m ⋯\n",
       "     │\u001b[90m Int64 \u001b[0m\u001b[90m Int64 \u001b[0m\u001b[90m Int64 \u001b[0m\u001b[90m Int64   \u001b[0m\u001b[90m Int64        \u001b[0m\u001b[90m Float64    \u001b[0m\u001b[90m Float64    \u001b[0m\u001b[90m Flo\u001b[0m ⋯\n",
       "─────┼──────────────────────────────────────────────────────────────────────────\n",
       "   1 │     1      1      9        1             3     0.0         5.98325      ⋯\n",
       "   2 │     1      2      9        1             5     0.0         0.0\n",
       "   3 │     1      3      9        1             7     0.0         0.0\n",
       "   4 │     2      4      6        1             2     8.1297      0.0\n",
       "   5 │     2      5      6        1             3     0.0         4.45847      ⋯\n",
       "   6 │     2      6      6        1             7     0.0         0.0\n",
       "   7 │     3      7      6        1             2     1.79666     0.0\n",
       "   8 │     3      8      6        1             3     0.0         5.01364\n",
       "   9 │     3      9      6        1             7     0.0         0.0          ⋯\n",
       "  10 │     4     10      9        1             3     0.0         4.98846\n",
       "  11 │     4     11      9        1             5     0.0         0.0\n",
       "  ⋮  │   ⋮      ⋮      ⋮       ⋮          ⋮            ⋮           ⋮           ⋱\n",
       "  94 │    27     94      6        3             2     4.64708     0.0\n",
       "  95 │    27     95      6        3             3     0.0         3.85609      ⋯\n",
       "  96 │    27     96      6        3             7     0.0         0.0\n",
       "  97 │    28     97     11        3             3     0.0         2.8093\n",
       "  98 │    28     98     11        3             6     0.0         0.0\n",
       "  99 │    28     99     11        3             7     0.0         0.0          ⋯\n",
       " 100 │    29    100      5        3             2     3.6617      0.0\n",
       " 101 │    29    101      5        3             3     0.0         6.05086\n",
       " 102 │    29    102      5        3             6     0.0         0.0\n",
       " 103 │    29    103      5        3             7     0.0         0.0          ⋯\n",
       "\u001b[36m                                                   9 columns and 82 rows omitted\u001b[0m"
      ]
     },
     "execution_count": 4,
     "metadata": {},
     "output_type": "execute_result"
    }
   ],
   "source": [
    "newdata = newdata[1:103,:]"
   ]
  },
  {
   "cell_type": "code",
   "execution_count": 5,
   "id": "c864847e-8326-44f1-aa71-bde9164ecfb2",
   "metadata": {},
   "outputs": [
    {
     "data": {
      "text/plain": [
       "29"
      ]
     },
     "execution_count": 5,
     "metadata": {},
     "output_type": "execute_result"
    }
   ],
   "source": [
    "I = length(newdata.Job)\n",
    "K = maximum(newdata.Resource_idx)-1\n",
    "capacity = [6, 6, 6, 8, 9, 2]\n",
    "P = newdata.Duration\n",
    "D = newdata.Duedate\n",
    "A = newdata.Arrival\n",
    "T = 130 #Number of time steps\n",
    "M = 10000; \n",
    "WC = Matrix(newdata[:,6:11])\n",
    "OA = newdata.Arrival;\n",
    "MinDelivery = newdata.MinDelivery\n",
    "N_order = maximum(newdata.Order)"
   ]
  },
  {
   "cell_type": "code",
   "execution_count": 40,
   "id": "2e7f62af-91a3-4ed6-bd1e-f6609b6230ea",
   "metadata": {},
   "outputs": [
    {
     "name": "stdout",
     "output_type": "stream",
     "text": [
      "-------------------------------------------------------------------------------------------------------\n",
      "DYNAMIC SCHEDULING MODEL, V.V CODE SOLUTIONS AB OY\n",
      "Model parameters:\n",
      "Rescheduling strategy: free_strategy\n",
      "Rescheduling frequency: 3\n",
      "Rescheduling is periodical: true\n",
      "Timing template: fixed\n",
      "Workload distribution is : even\n",
      "Final time step: 50\n",
      "-------------------------------------------------------------------------------------------------------\n",
      "feasible\n",
      "t:1\n",
      "S_a: Int64[]\n",
      "S_w: [1, 2, 3, 4, 5, 6, 7, 8, 9, 10, 11, 12, 14, 15, 16, 17, 18, 19, 20, 21, 22]\n",
      "S_s: [13]\n",
      "S_c: Int64[]\n",
      "____________________________________________________________________________________________________________\n",
      "t:2\n",
      "S_a: [42, 43, 44, 45, 46, 47, 48, 49, 50, 51, 52, 53, 54, 55, 56, 57, 58, 59, 60, 61, 62, 63, 64, 65, 66, 67, 68, 69, 70, 71, 72, 73, 74, 75]\n",
      "S_w: [1, 2, 3, 4, 5, 6, 7, 8, 9, 10, 11, 12, 14, 15, 16, 17, 18, 19, 20, 21, 22, 23, 24, 25, 26, 27, 28, 29, 30, 31, 32, 33, 34, 35, 36, 37, 38, 39, 40, 41]\n",
      "S_s: [13]\n",
      "S_c: Int64[]\n",
      "____________________________________________________________________________________________________________\n",
      "feasible\n",
      "t:3\n",
      "S_a: [42, 43, 44, 45, 46, 47, 48, 49, 50, 51, 52, 53, 54, 55, 56, 57, 58, 59, 60, 61, 62, 63, 64, 65, 66, 67, 68, 69, 70, 71, 72, 73, 74, 75, 76, 77, 78, 79, 80, 81, 82, 83, 84, 85, 86, 87, 88, 89, 90, 91, 92, 93, 94, 95, 96, 97, 98, 99, 100, 101, 102, 103]\n",
      "S_w: [1, 2, 3, 4, 5, 6, 7, 8, 9, 11, 12, 15, 16, 17, 18, 19, 21, 22, 23, 24, 25, 26, 27, 28, 29, 30, 31, 32, 33, 34, 35, 36, 37, 38, 39, 40, 41]\n",
      "S_s: [10, 14, 20]\n",
      "S_c: [13]\n",
      "____________________________________________________________________________________________________________\n",
      "t:4\n",
      "S_a: [45, 46, 47, 48, 49, 50, 51, 52, 53, 54, 55, 56, 57, 58, 59, 60, 61, 62, 63, 64, 65, 66, 67, 68, 69, 70, 71, 72, 73, 74, 75, 76, 77, 78, 79, 80, 81, 82, 83, 84, 85, 86, 87, 88, 89, 90, 91, 92, 93, 94, 95, 96, 97, 98, 99, 100, 101, 102, 103]\n",
      "S_w: [1, 2, 3, 4, 5, 6, 7, 8, 9, 11, 12, 15, 16, 17, 18, 19, 22, 23, 24, 25, 26, 27, 28, 29, 30, 31, 32, 33, 34, 35, 36, 38, 39, 40, 41, 42, 43, 44]\n",
      "S_s: [10, 14, 21, 37]\n",
      "S_c: [13, 20]\n",
      "____________________________________________________________________________________________________________\n",
      "t:5\n",
      "S_a: [47, 48, 49, 50, 51, 52, 53, 54, 55, 56, 57, 58, 59, 60, 61, 62, 63, 64, 65, 66, 67, 68, 69, 70, 71, 72, 73, 74, 75, 76, 77, 78, 79, 80, 81, 82, 83, 84, 85, 86, 87, 88, 89, 90, 91, 92, 93, 94, 95, 96, 97, 98, 99, 100, 101, 102, 103]\n",
      "S_w: [1, 2, 3, 4, 5, 6, 8, 9, 12, 16, 17, 18, 19, 22, 24, 25, 26, 27, 28, 29, 30, 31, 32, 33, 34, 35, 36, 39, 40, 41, 42, 43, 44, 45, 46]\n",
      "S_s: [21, 7, 11, 15, 23, 38]\n",
      "S_c: [13, 20, 10, 37, 14]\n",
      "____________________________________________________________________________________________________________\n",
      "feasible\n",
      "t:6\n",
      "S_a: [52, 53, 54, 55, 56, 57, 58, 59, 60, 61, 62, 63, 64, 65, 66, 67, 68, 69, 70, 71, 72, 73, 74, 75, 76, 77, 78, 79, 80, 81, 82, 83, 84, 85, 86, 87, 88, 89, 90, 91, 92, 93, 94, 95, 96, 97, 98, 99, 100, 101, 102, 103]\n",
      "S_w: [2, 3, 5, 6, 9, 12, 17, 18, 19, 25, 26, 27, 28, 29, 30, 31, 32, 33, 34, 35, 36, 40, 41, 42, 43, 44, 45, 46, 47, 48, 49, 50, 51]\n",
      "S_s: [11, 15, 1, 4, 8, 16, 22, 39, 24]\n",
      "S_c: [13, 20, 10, 37, 14, 21, 23, 7, 38]\n",
      "____________________________________________________________________________________________________________\n",
      "t:7\n",
      "S_a: [59, 60, 61, 62, 63, 64, 65, 66, 67, 68, 69, 70, 71, 72, 73, 74, 75, 76, 77, 78, 79, 80, 81, 82, 83, 84, 85, 86, 87, 88, 89, 90, 91, 92, 93, 94, 95, 96, 97, 98, 99, 100, 101, 102, 103]\n",
      "S_w: [2, 3, 5, 6, 9, 12, 17, 18, 19, 25, 26, 27, 28, 29, 30, 31, 32, 33, 34, 35, 36, 40, 41, 42, 43, 44, 45, 46, 47, 48, 49, 50, 51, 52, 53, 54, 55, 56, 57, 58]\n",
      "S_s: [11, 1, 4, 8, 16, 22, 39, 24]\n",
      "S_c: [13, 20, 10, 37, 14, 21, 23, 7, 38, 15]\n",
      "____________________________________________________________________________________________________________\n",
      "t:8\n",
      "S_a: [59, 60, 61, 62, 63, 64, 65, 66, 67, 68, 69, 70, 71, 72, 73, 74, 75, 76, 77, 78, 79, 80, 81, 82, 83, 84, 85, 86, 87, 88, 89, 90, 91, 92, 93, 94, 95, 96, 97, 98, 99, 100, 101, 102, 103]\n",
      "S_w: [3, 5, 6, 12, 18, 19, 25, 27, 28, 29, 30, 31, 32, 33, 34, 35, 36, 40, 41, 42, 43, 44, 45, 46, 47, 48, 49, 50, 51, 52, 53, 54, 55, 56, 57, 58]\n",
      "S_s: [11, 4, 39, 24, 2, 9, 17, 26]\n",
      "S_c: [13, 20, 10, 37, 14, 21, 23, 7, 38, 15, 1, 8, 22, 16]\n",
      "____________________________________________________________________________________________________________\n",
      "feasible\n",
      "t:9\n",
      "S_a: [63, 64, 65, 66, 67, 68, 69, 70, 71, 72, 73, 74, 75, 76, 77, 78, 79, 80, 81, 82, 83, 84, 85, 86, 87, 88, 89, 90, 91, 92, 93, 94, 95, 96, 97, 98, 99, 100, 101, 102, 103]\n",
      "S_w: [3, 5, 6, 12, 19, 27, 28, 29, 30, 31, 32, 33, 35, 36, 40, 41, 42, 43, 44, 45, 46, 47, 48, 49, 50, 51, 52, 53, 54, 55, 56, 57, 58, 59, 60, 61, 62]\n",
      "S_s: [11, 4, 2, 9, 26, 18, 25, 34]\n",
      "S_c: [13, 20, 10, 37, 14, 21, 23, 7, 38, 15, 1, 8, 22, 16, 39, 17, 24]\n",
      "____________________________________________________________________________________________________________\n",
      "t:10\n",
      "S_a: [66, 67, 68, 69, 70, 71, 72, 73, 74, 75, 76, 77, 78, 79, 80, 81, 82, 83, 84, 85, 86, 87, 88, 89, 90, 91, 92, 93, 94, 95, 96, 97, 98, 99, 100, 101, 102, 103]\n",
      "S_w: [6, 19, 27, 28, 29, 30, 31, 32, 33, 36, 40, 41, 42, 43, 44, 45, 46, 47, 48, 49, 50, 51, 52, 54, 55, 56, 57, 58, 59, 60, 61, 62, 63, 64, 65]\n",
      "S_s: [9, 26, 18, 25, 3, 12, 35, 53, 5]\n",
      "S_c: [13, 20, 10, 37, 14, 21, 23, 7, 38, 15, 1, 8, 22, 16, 39, 17, 24, 11, 2, 34, 4]\n",
      "____________________________________________________________________________________________________________\n",
      "t:11\n",
      "S_a: [71, 72, 73, 74, 75, 76, 77, 78, 79, 80, 81, 82, 83, 84, 85, 86, 87, 88, 89, 90, 91, 92, 93, 94, 95, 96, 97, 98, 99, 100, 101, 102, 103]\n",
      "S_w: [28, 29, 30, 31, 32, 33, 36, 40, 41, 42, 43, 44, 45, 46, 47, 48, 49, 50, 51, 52, 54, 55, 56, 57, 58, 59, 60, 61, 62, 63, 64, 65, 66, 67, 68, 69, 70]\n",
      "S_s: [25, 3, 12, 35, 53, 6, 27, 19]\n",
      "S_c: [13, 20, 10, 37, 14, 21, 23, 7, 38, 15, 1, 8, 22, 16, 39, 17, 24, 11, 2, 34, 4, 9, 18, 5, 26]\n",
      "____________________________________________________________________________________________________________\n",
      "feasible\n",
      "t:12\n",
      "S_a: [74, 75, 76, 77, 78, 79, 80, 81, 82, 83, 84, 85, 86, 87, 88, 89, 90, 91, 92, 93, 94, 95, 96, 97, 98, 99, 100, 101, 102, 103]\n",
      "S_w: [28, 29, 30, 31, 32, 33, 36, 41, 42, 43, 44, 45, 46, 47, 48, 49, 50, 51, 52, 54, 55, 56, 57, 58, 59, 60, 61, 62, 63, 64, 65, 66, 67, 68, 69, 70, 71, 72, 73]\n",
      "S_s: [35, 53, 6, 27, 19, 40]\n",
      "S_c: [13, 20, 10, 37, 14, 21, 23, 7, 38, 15, 1, 8, 22, 16, 39, 17, 24, 11, 2, 34, 4, 9, 18, 5, 26, 25, 12, 3]\n",
      "____________________________________________________________________________________________________________\n",
      "t:13\n",
      "S_a: [75, 76, 77, 78, 79, 80, 81, 82, 83, 84, 85, 86, 87, 88, 89, 90, 91, 92, 93, 94, 95, 96, 97, 98, 99, 100, 101, 102, 103]\n",
      "S_w: [29, 30, 31, 32, 33, 36, 41, 42, 43, 44, 45, 46, 47, 48, 50, 51, 52, 54, 55, 56, 57, 58, 59, 60, 61, 62, 63, 64, 65, 66, 67, 68, 69, 70, 71, 72, 73, 74]\n",
      "S_s: [35, 53, 40, 28, 49]\n",
      "S_c: [13, 20, 10, 37, 14, 21, 23, 7, 38, 15, 1, 8, 22, 16, 39, 17, 24, 11, 2, 34, 4, 9, 18, 5, 26, 25, 12, 3, 6, 19, 27]\n",
      "____________________________________________________________________________________________________________\n",
      "t:14\n",
      "S_a: [77, 78, 79, 80, 81, 82, 83, 84, 85, 86, 87, 88, 89, 90, 91, 92, 93, 94, 95, 96, 97, 98, 99, 100, 101, 102, 103]\n",
      "S_w: [29, 30, 31, 32, 33, 36, 42, 43, 44, 45, 46, 47, 48, 51, 52, 55, 56, 57, 58, 59, 60, 61, 63, 64, 65, 66, 67, 68, 70, 71, 72, 73, 74, 75, 76]\n",
      "S_s: [35, 28, 41, 50, 54, 62, 69]\n",
      "S_c: [13, 20, 10, 37, 14, 21, 23, 7, 38, 15, 1, 8, 22, 16, 39, 17, 24, 11, 2, 34, 4, 9, 18, 5, 26, 25, 12, 3, 6, 19, 27, 53, 49, 40]\n",
      "____________________________________________________________________________________________________________\n",
      "feasible\n",
      "t:15\n",
      "S_a: [82, 83, 84, 85, 86, 87, 88, 89, 90, 91, 92, 93, 94, 95, 96, 97, 98, 99, 100, 101, 102, 103]\n",
      "S_w: [29, 30, 31, 32, 33, 36, 42, 43, 44, 45, 46, 47, 48, 51, 52, 55, 56, 57, 58, 59, 60, 61, 63, 64, 65, 66, 67, 68, 70, 71, 72, 73, 74, 75, 76, 77, 78, 79, 80, 81]\n",
      "S_s: [35, 41, 50, 54, 62, 69]\n",
      "S_c: [13, 20, 10, 37, 14, 21, 23, 7, 38, 15, 1, 8, 22, 16, 39, 17, 24, 11, 2, 34, 4, 9, 18, 5, 26, 25, 12, 3, 6, 19, 27, 53, 49, 40, 28]\n",
      "____________________________________________________________________________________________________________\n",
      "t:16\n",
      "S_a: [82, 83, 84, 85, 86, 87, 88, 89, 90, 91, 92, 93, 94, 95, 96, 97, 98, 99, 100, 101, 102, 103]\n",
      "S_w: [29, 30, 31, 32, 33, 43, 45, 46, 47, 48, 52, 56, 57, 58, 59, 60, 61, 63, 64, 65, 66, 67, 68, 71, 73, 74, 75, 77, 78, 79, 80, 81]\n",
      "S_s: [54, 62, 36, 44, 51, 55, 70, 72, 76, 42]\n",
      "S_c: [13, 20, 10, 37, 14, 21, 23, 7, 38, 15, 1, 8, 22, 16, 39, 17, 24, 11, 2, 34, 4, 9, 18, 5, 26, 25, 12, 3, 6, 19, 27, 53, 49, 40, 28, 35, 50, 69, 41]\n",
      "____________________________________________________________________________________________________________\n",
      "t:17\n",
      "S_a: [90, 91, 92, 93, 94, 95, 96, 97, 98, 99, 100, 101, 102, 103]\n",
      "S_w: [29, 30, 31, 32, 33, 43, 45, 46, 47, 48, 52, 58, 59, 60, 61, 64, 65, 66, 67, 68, 71, 73, 74, 75, 78, 79, 80, 81, 82, 83, 84, 85, 86, 87, 88, 89]\n",
      "S_s: [36, 44, 51, 70, 72, 42, 56, 63, 77, 57]\n",
      "S_c: [13, 20, 10, 37, 14, 21, 23, 7, 38, 15, 1, 8, 22, 16, 39, 17, 24, 11, 2, 34, 4, 9, 18, 5, 26, 25, 12, 3, 6, 19, 27, 53, 49, 40, 28, 35, 50, 69, 41, 54, 55, 76, 62]\n",
      "____________________________________________________________________________________________________________\n",
      "feasible\n",
      "t:18\n",
      "S_a: [94, 95, 96, 97, 98, 99, 100, 101, 102, 103]\n",
      "S_w: [30, 31, 32, 33, 43, 46, 47, 48, 52, 58, 59, 60, 61, 65, 66, 67, 68, 74, 75, 78, 79, 80, 81, 82, 83, 84, 85, 86, 87, 88, 89, 90, 91, 92, 93]\n",
      "S_s: [51, 42, 56, 77, 57, 29, 45, 64, 71, 73]\n",
      "S_c: [13, 20, 10, 37, 14, 21, 23, 7, 38, 15, 1, 8, 22, 16, 39, 17, 24, 11, 2, 34, 4, 9, 18, 5, 26, 25, 12, 3, 6, 19, 27, 53, 49, 40, 28, 35, 50, 69, 41, 54, 55, 76, 62, 36, 70, 63, 44, 72]\n",
      "____________________________________________________________________________________________________________\n",
      "t:19\n",
      "S_a: [99, 100, 101, 102, 103]\n",
      "S_w: [30, 31, 32, 33, 43, 46, 47, 48, 52, 58, 59, 60, 61, 65, 66, 67, 68, 74, 75, 78, 79, 80, 81, 82, 83, 84, 85, 86, 87, 88, 89, 90, 91, 92, 93, 94, 95, 96, 97, 98]\n",
      "S_s: [51, 42, 77, 57, 29, 45, 64, 71, 73]\n",
      "S_c: [13, 20, 10, 37, 14, 21, 23, 7, 38, 15, 1, 8, 22, 16, 39, 17, 24, 11, 2, 34, 4, 9, 18, 5, 26, 25, 12, 3, 6, 19, 27, 53, 49, 40, 28, 35, 50, 69, 41, 54, 55, 76, 62, 36, 70, 63, 44, 72, 56]\n",
      "____________________________________________________________________________________________________________\n",
      "t:20\n",
      "S_a: [99, 100, 101, 102, 103]\n",
      "S_w: [30, 31, 32, 33, 47, 48, 52, 59, 60, 61, 65, 66, 67, 68, 75, 79, 80, 81, 82, 83, 84, 85, 86, 87, 88, 89, 90, 91, 92, 93, 94, 95, 96, 97, 98]\n",
      "S_s: [51, 29, 64, 43, 58, 74, 78, 46]\n",
      "S_c: [13, 20, 10, 37, 14, 21, 23, 7, 38, 15, 1, 8, 22, 16, 39, 17, 24, 11, 2, 34, 4, 9, 18, 5, 26, 25, 12, 3, 6, 19, 27, 53, 49, 40, 28, 35, 50, 69, 41, 54, 55, 76, 62, 36, 70, 63, 44, 72, 56, 42, 57, 45, 71, 77, 73]\n",
      "____________________________________________________________________________________________________________\n",
      "feasible\n",
      "t:21\n",
      "S_a: Int64[]\n",
      "S_w: [31, 32, 33, 47, 48, 52, 60, 61, 66, 67, 68, 75, 79, 80, 81, 82, 83, 84, 85, 86, 87, 88, 89, 91, 92, 93, 94, 95, 96, 97, 98, 99, 100, 101, 102, 103]\n",
      "S_s: [51, 43, 74, 78, 46, 30, 59, 65, 90]\n",
      "S_c: [13, 20, 10, 37, 14, 21, 23, 7, 38, 15, 1, 8, 22, 16, 39, 17, 24, 11, 2, 34, 4, 9, 18, 5, 26, 25, 12, 3, 6, 19, 27, 53, 49, 40, 28, 35, 50, 69, 41, 54, 55, 76, 62, 36, 70, 63, 44, 72, 56, 42, 57, 45, 71, 77, 73, 29, 58, 64]\n",
      "____________________________________________________________________________________________________________\n",
      "t:22\n",
      "S_a: Int64[]\n",
      "S_w: [31, 32, 33, 48, 60, 61, 66, 67, 68, 80, 81, 82, 83, 84, 85, 86, 87, 88, 89, 91, 92, 93, 94, 95, 96, 97, 98, 99, 101, 102, 103]\n",
      "S_s: [78, 30, 59, 65, 90, 47, 52, 75, 100, 79]\n",
      "S_c: [13, 20, 10, 37, 14, 21, 23, 7, 38, 15, 1, 8, 22, 16, 39, 17, 24, 11, 2, 34, 4, 9, 18, 5, 26, 25, 12, 3, 6, 19, 27, 53, 49, 40, 28, 35, 50, 69, 41, 54, 55, 76, 62, 36, 70, 63, 44, 72, 56, 42, 57, 45, 71, 77, 73, 29, 58, 64, 51, 74, 46, 43]\n",
      "____________________________________________________________________________________________________________\n",
      "t:23\n",
      "S_a: Int64[]\n",
      "S_w: [32, 33, 48, 60, 61, 66, 67, 68, 80, 81, 82, 83, 85, 86, 87, 88, 89, 91, 92, 93, 94, 95, 96, 97, 98, 99, 101, 102, 103]\n",
      "S_s: [59, 90, 47, 52, 75, 100, 79, 31, 84]\n",
      "S_c: [13, 20, 10, 37, 14, 21, 23, 7, 38, 15, 1, 8, 22, 16, 39, 17, 24, 11, 2, 34, 4, 9, 18, 5, 26, 25, 12, 3, 6, 19, 27, 53, 49, 40, 28, 35, 50, 69, 41, 54, 55, 76, 62, 36, 70, 63, 44, 72, 56, 42, 57, 45, 71, 77, 73, 29, 58, 64, 51, 74, 46, 43, 78, 65, 30]\n",
      "____________________________________________________________________________________________________________\n",
      "feasible\n",
      "t:24\n",
      "S_a: Int64[]\n",
      "S_w: [32, 33, 48, 60, 61, 66, 67, 68, 80, 81, 82, 83, 86, 88, 89, 92, 93, 95, 96, 97, 98, 99, 102, 103]\n",
      "S_s: [59, 47, 79, 31, 85, 87, 91, 94, 101]\n",
      "S_c: [13, 20, 10, 37, 14, 21, 23, 7, 38, 15, 1, 8, 22, 16, 39, 17, 24, 11, 2, 34, 4, 9, 18, 5, 26, 25, 12, 3, 6, 19, 27, 53, 49, 40, 28, 35, 50, 69, 41, 54, 55, 76, 62, 36, 70, 63, 44, 72, 56, 42, 57, 45, 71, 77, 73, 29, 58, 64, 51, 74, 46, 43, 78, 65, 30, 90, 52, 100, 84, 75]\n",
      "____________________________________________________________________________________________________________\n",
      "t:25\n",
      "S_a: Int64[]\n",
      "S_w: [32, 33, 48, 61, 66, 67, 68, 80, 81, 82, 83, 86, 88, 89, 92, 93, 95, 96, 97, 98, 99, 102, 103]\n",
      "S_s: [47, 31, 85, 87, 91, 94, 101, 60]\n",
      "S_c: [13, 20, 10, 37, 14, 21, 23, 7, 38, 15, 1, 8, 22, 16, 39, 17, 24, 11, 2, 34, 4, 9, 18, 5, 26, 25, 12, 3, 6, 19, 27, 53, 49, 40, 28, 35, 50, 69, 41, 54, 55, 76, 62, 36, 70, 63, 44, 72, 56, 42, 57, 45, 71, 77, 73, 29, 58, 64, 51, 74, 46, 43, 78, 65, 30, 90, 52, 100, 84, 75, 59, 79]\n",
      "____________________________________________________________________________________________________________\n",
      "t:26\n",
      "S_a: Int64[]\n",
      "S_w: [33, 48, 61, 67, 68, 80, 81, 82, 83, 86, 88, 89, 93, 96, 97, 98, 99, 103]\n",
      "S_s: [47, 85, 87, 60, 32, 66, 92, 95, 102]\n",
      "S_c: [13, 20, 10, 37, 14, 21, 23, 7, 38, 15, 1, 8, 22, 16, 39, 17, 24, 11, 2, 34, 4, 9, 18, 5, 26, 25, 12, 3, 6, 19, 27, 53, 49, 40, 28, 35, 50, 69, 41, 54, 55, 76, 62, 36, 70, 63, 44, 72, 56, 42, 57, 45, 71, 77, 73, 29, 58, 64, 51, 74, 46, 43, 78, 65, 30, 90, 52, 100, 84, 75, 59, 79, 31, 91, 101, 94]\n",
      "____________________________________________________________________________________________________________\n",
      "feasible\n",
      "t:27\n",
      "S_a: Int64[]\n",
      "S_w: [33, 48, 61, 67, 68, 81, 82, 83, 89, 93, 98, 99, 103]\n",
      "S_s: [47, 60, 32, 66, 92, 102, 80, 86, 96, 88, 97]\n",
      "S_c: [13, 20, 10, 37, 14, 21, 23, 7, 38, 15, 1, 8, 22, 16, 39, 17, 24, 11, 2, 34, 4, 9, 18, 5, 26, 25, 12, 3, 6, 19, 27, 53, 49, 40, 28, 35, 50, 69, 41, 54, 55, 76, 62, 36, 70, 63, 44, 72, 56, 42, 57, 45, 71, 77, 73, 29, 58, 64, 51, 74, 46, 43, 78, 65, 30, 90, 52, 100, 84, 75, 59, 79, 31, 91, 101, 94, 85, 95, 87]\n",
      "____________________________________________________________________________________________________________\n",
      "t:28\n",
      "S_a: Int64[]\n",
      "S_w: [33, 61, 67, 68, 81, 82, 83, 89, 93, 99, 103]\n",
      "S_s: [60, 32, 66, 92, 102, 80, 86, 96, 88, 48, 98]\n",
      "S_c: [13, 20, 10, 37, 14, 21, 23, 7, 38, 15, 1, 8, 22, 16, 39, 17, 24, 11, 2, 34, 4, 9, 18, 5, 26, 25, 12, 3, 6, 19, 27, 53, 49, 40, 28, 35, 50, 69, 41, 54, 55, 76, 62, 36, 70, 63, 44, 72, 56, 42, 57, 45, 71, 77, 73, 29, 58, 64, 51, 74, 46, 43, 78, 65, 30, 90, 52, 100, 84, 75, 59, 79, 31, 91, 101, 94, 85, 95, 87, 47, 97]\n",
      "____________________________________________________________________________________________________________\n",
      "t:29\n",
      "S_a: Int64[]\n",
      "S_w: [33, 61, 67, 68, 82, 83, 93, 99, 103]\n",
      "S_s: [60, 32, 66, 92, 102, 88, 48, 98, 81, 89]\n",
      "S_c: [13, 20, 10, 37, 14, 21, 23, 7, 38, 15, 1, 8, 22, 16, 39, 17, 24, 11, 2, 34, 4, 9, 18, 5, 26, 25, 12, 3, 6, 19, 27, 53, 49, 40, 28, 35, 50, 69, 41, 54, 55, 76, 62, 36, 70, 63, 44, 72, 56, 42, 57, 45, 71, 77, 73, 29, 58, 64, 51, 74, 46, 43, 78, 65, 30, 90, 52, 100, 84, 75, 59, 79, 31, 91, 101, 94, 85, 95, 87, 47, 97, 80, 96, 86]\n",
      "____________________________________________________________________________________________________________\n",
      "feasible\n",
      "t:30\n",
      "S_a: Int64[]\n",
      "S_w: [67, 68, 82, 83, 99, 103]\n",
      "S_s: [66, 102, 98, 81, 89, 33, 93, 61]\n",
      "S_c: [13, 20, 10, 37, 14, 21, 23, 7, 38, 15, 1, 8, 22, 16, 39, 17, 24, 11, 2, 34, 4, 9, 18, 5, 26, 25, 12, 3, 6, 19, 27, 53, 49, 40, 28, 35, 50, 69, 41, 54, 55, 76, 62, 36, 70, 63, 44, 72, 56, 42, 57, 45, 71, 77, 73, 29, 58, 64, 51, 74, 46, 43, 78, 65, 30, 90, 52, 100, 84, 75, 59, 79, 31, 91, 101, 94, 85, 95, 87, 47, 97, 80, 96, 86, 60, 92, 88, 32, 48]\n",
      "____________________________________________________________________________________________________________\n",
      "t:31\n",
      "S_a: Int64[]\n",
      "S_w: [68, 83, 99]\n",
      "S_s: [98, 33, 93, 61, 67, 82, 103]\n",
      "S_c: [13, 20, 10, 37, 14, 21, 23, 7, 38, 15, 1, 8, 22, 16, 39, 17, 24, 11, 2, 34, 4, 9, 18, 5, 26, 25, 12, 3, 6, 19, 27, 53, 49, 40, 28, 35, 50, 69, 41, 54, 55, 76, 62, 36, 70, 63, 44, 72, 56, 42, 57, 45, 71, 77, 73, 29, 58, 64, 51, 74, 46, 43, 78, 65, 30, 90, 52, 100, 84, 75, 59, 79, 31, 91, 101, 94, 85, 95, 87, 47, 97, 80, 96, 86, 60, 92, 88, 32, 48, 66, 81, 102, 89]\n",
      "____________________________________________________________________________________________________________\n",
      "t:32\n",
      "S_a: Int64[]\n",
      "S_w: [68, 83, 99]\n",
      "S_s: [98, 67, 82, 103]\n",
      "S_c: [13, 20, 10, 37, 14, 21, 23, 7, 38, 15, 1, 8, 22, 16, 39, 17, 24, 11, 2, 34, 4, 9, 18, 5, 26, 25, 12, 3, 6, 19, 27, 53, 49, 40, 28, 35, 50, 69, 41, 54, 55, 76, 62, 36, 70, 63, 44, 72, 56, 42, 57, 45, 71, 77, 73, 29, 58, 64, 51, 74, 46, 43, 78, 65, 30, 90, 52, 100, 84, 75, 59, 79, 31, 91, 101, 94, 85, 95, 87, 47, 97, 80, 96, 86, 60, 92, 88, 32, 48, 66, 81, 102, 89, 33, 61, 93]\n",
      "____________________________________________________________________________________________________________\n",
      "feasible\n",
      "t:33\n",
      "S_a: Int64[]\n",
      "S_w: Int64[]\n",
      "S_s: [103, 68, 99, 83]\n",
      "S_c: [13, 20, 10, 37, 14, 21, 23, 7, 38, 15, 1, 8, 22, 16, 39, 17, 24, 11, 2, 34, 4, 9, 18, 5, 26, 25, 12, 3, 6, 19, 27, 53, 49, 40, 28, 35, 50, 69, 41, 54, 55, 76, 62, 36, 70, 63, 44, 72, 56, 42, 57, 45, 71, 77, 73, 29, 58, 64, 51, 74, 46, 43, 78, 65, 30, 90, 52, 100, 84, 75, 59, 79, 31, 91, 101, 94, 85, 95, 87, 47, 97, 80, 96, 86, 60, 92, 88, 32, 48, 66, 81, 102, 89, 33, 61, 93, 98, 82, 67]\n",
      "____________________________________________________________________________________________________________\n",
      "t:34\n",
      "S_a: Int64[]\n",
      "S_w: Int64[]\n",
      "S_s: [68, 99, 83]\n",
      "S_c: [13, 20, 10, 37, 14, 21, 23, 7, 38, 15, 1, 8, 22, 16, 39, 17, 24, 11, 2, 34, 4, 9, 18, 5, 26, 25, 12, 3, 6, 19, 27, 53, 49, 40, 28, 35, 50, 69, 41, 54, 55, 76, 62, 36, 70, 63, 44, 72, 56, 42, 57, 45, 71, 77, 73, 29, 58, 64, 51, 74, 46, 43, 78, 65, 30, 90, 52, 100, 84, 75, 59, 79, 31, 91, 101, 94, 85, 95, 87, 47, 97, 80, 96, 86, 60, 92, 88, 32, 48, 66, 81, 102, 89, 33, 61, 93, 98, 82, 67, 103]\n",
      "____________________________________________________________________________________________________________\n",
      "t:35\n",
      "S_a: Int64[]\n",
      "S_w: Int64[]\n",
      "S_s: Int64[]\n",
      "S_c: [13, 20, 10, 37, 14, 21, 23, 7, 38, 15, 1, 8, 22, 16, 39, 17, 24, 11, 2, 34, 4, 9, 18, 5, 26, 25, 12, 3, 6, 19, 27, 53, 49, 40, 28, 35, 50, 69, 41, 54, 55, 76, 62, 36, 70, 63, 44, 72, 56, 42, 57, 45, 71, 77, 73, 29, 58, 64, 51, 74, 46, 43, 78, 65, 30, 90, 52, 100, 84, 75, 59, 79, 31, 91, 101, 94, 85, 95, 87, 47, 97, 80, 96, 86, 60, 92, 88, 32, 48, 66, 81, 102, 89, 33, 61, 93, 98, 82, 67, 103, 68, 83, 99]\n",
      "____________________________________________________________________________________________________________\n",
      "feasible\n",
      "t:36\n",
      "S_a: Int64[]\n",
      "S_w: Int64[]\n",
      "S_s: Int64[]\n",
      "S_c: [13, 20, 10, 37, 14, 21, 23, 7, 38, 15, 1, 8, 22, 16, 39, 17, 24, 11, 2, 34, 4, 9, 18, 5, 26, 25, 12, 3, 6, 19, 27, 53, 49, 40, 28, 35, 50, 69, 41, 54, 55, 76, 62, 36, 70, 63, 44, 72, 56, 42, 57, 45, 71, 77, 73, 29, 58, 64, 51, 74, 46, 43, 78, 65, 30, 90, 52, 100, 84, 75, 59, 79, 31, 91, 101, 94, 85, 95, 87, 47, 97, 80, 96, 86, 60, 92, 88, 32, 48, 66, 81, 102, 89, 33, 61, 93, 98, 82, 67, 103, 68, 83, 99]\n",
      "____________________________________________________________________________________________________________\n",
      "t:37\n",
      "S_a: Int64[]\n",
      "S_w: Int64[]\n",
      "S_s: Int64[]\n",
      "S_c: [13, 20, 10, 37, 14, 21, 23, 7, 38, 15, 1, 8, 22, 16, 39, 17, 24, 11, 2, 34, 4, 9, 18, 5, 26, 25, 12, 3, 6, 19, 27, 53, 49, 40, 28, 35, 50, 69, 41, 54, 55, 76, 62, 36, 70, 63, 44, 72, 56, 42, 57, 45, 71, 77, 73, 29, 58, 64, 51, 74, 46, 43, 78, 65, 30, 90, 52, 100, 84, 75, 59, 79, 31, 91, 101, 94, 85, 95, 87, 47, 97, 80, 96, 86, 60, 92, 88, 32, 48, 66, 81, 102, 89, 33, 61, 93, 98, 82, 67, 103, 68, 83, 99]\n",
      "____________________________________________________________________________________________________________\n",
      "t:38\n",
      "S_a: Int64[]\n",
      "S_w: Int64[]\n",
      "S_s: Int64[]\n",
      "S_c: [13, 20, 10, 37, 14, 21, 23, 7, 38, 15, 1, 8, 22, 16, 39, 17, 24, 11, 2, 34, 4, 9, 18, 5, 26, 25, 12, 3, 6, 19, 27, 53, 49, 40, 28, 35, 50, 69, 41, 54, 55, 76, 62, 36, 70, 63, 44, 72, 56, 42, 57, 45, 71, 77, 73, 29, 58, 64, 51, 74, 46, 43, 78, 65, 30, 90, 52, 100, 84, 75, 59, 79, 31, 91, 101, 94, 85, 95, 87, 47, 97, 80, 96, 86, 60, 92, 88, 32, 48, 66, 81, 102, 89, 33, 61, 93, 98, 82, 67, 103, 68, 83, 99]\n",
      "____________________________________________________________________________________________________________\n",
      "feasible\n",
      "t:39\n",
      "S_a: Int64[]\n",
      "S_w: Int64[]\n",
      "S_s: Int64[]\n",
      "S_c: [13, 20, 10, 37, 14, 21, 23, 7, 38, 15, 1, 8, 22, 16, 39, 17, 24, 11, 2, 34, 4, 9, 18, 5, 26, 25, 12, 3, 6, 19, 27, 53, 49, 40, 28, 35, 50, 69, 41, 54, 55, 76, 62, 36, 70, 63, 44, 72, 56, 42, 57, 45, 71, 77, 73, 29, 58, 64, 51, 74, 46, 43, 78, 65, 30, 90, 52, 100, 84, 75, 59, 79, 31, 91, 101, 94, 85, 95, 87, 47, 97, 80, 96, 86, 60, 92, 88, 32, 48, 66, 81, 102, 89, 33, 61, 93, 98, 82, 67, 103, 68, 83, 99]\n",
      "____________________________________________________________________________________________________________\n",
      "t:40\n",
      "S_a: Int64[]\n",
      "S_w: Int64[]\n",
      "S_s: Int64[]\n",
      "S_c: [13, 20, 10, 37, 14, 21, 23, 7, 38, 15, 1, 8, 22, 16, 39, 17, 24, 11, 2, 34, 4, 9, 18, 5, 26, 25, 12, 3, 6, 19, 27, 53, 49, 40, 28, 35, 50, 69, 41, 54, 55, 76, 62, 36, 70, 63, 44, 72, 56, 42, 57, 45, 71, 77, 73, 29, 58, 64, 51, 74, 46, 43, 78, 65, 30, 90, 52, 100, 84, 75, 59, 79, 31, 91, 101, 94, 85, 95, 87, 47, 97, 80, 96, 86, 60, 92, 88, 32, 48, 66, 81, 102, 89, 33, 61, 93, 98, 82, 67, 103, 68, 83, 99]\n",
      "____________________________________________________________________________________________________________\n",
      "t:41\n",
      "S_a: Int64[]\n",
      "S_w: Int64[]\n",
      "S_s: Int64[]\n",
      "S_c: [13, 20, 10, 37, 14, 21, 23, 7, 38, 15, 1, 8, 22, 16, 39, 17, 24, 11, 2, 34, 4, 9, 18, 5, 26, 25, 12, 3, 6, 19, 27, 53, 49, 40, 28, 35, 50, 69, 41, 54, 55, 76, 62, 36, 70, 63, 44, 72, 56, 42, 57, 45, 71, 77, 73, 29, 58, 64, 51, 74, 46, 43, 78, 65, 30, 90, 52, 100, 84, 75, 59, 79, 31, 91, 101, 94, 85, 95, 87, 47, 97, 80, 96, 86, 60, 92, 88, 32, 48, 66, 81, 102, 89, 33, 61, 93, 98, 82, 67, 103, 68, 83, 99]\n",
      "____________________________________________________________________________________________________________\n",
      "feasible\n",
      "t:42\n",
      "S_a: Int64[]\n",
      "S_w: Int64[]\n",
      "S_s: Int64[]\n",
      "S_c: [13, 20, 10, 37, 14, 21, 23, 7, 38, 15, 1, 8, 22, 16, 39, 17, 24, 11, 2, 34, 4, 9, 18, 5, 26, 25, 12, 3, 6, 19, 27, 53, 49, 40, 28, 35, 50, 69, 41, 54, 55, 76, 62, 36, 70, 63, 44, 72, 56, 42, 57, 45, 71, 77, 73, 29, 58, 64, 51, 74, 46, 43, 78, 65, 30, 90, 52, 100, 84, 75, 59, 79, 31, 91, 101, 94, 85, 95, 87, 47, 97, 80, 96, 86, 60, 92, 88, 32, 48, 66, 81, 102, 89, 33, 61, 93, 98, 82, 67, 103, 68, 83, 99]\n",
      "____________________________________________________________________________________________________________\n",
      "t:43\n",
      "S_a: Int64[]\n",
      "S_w: Int64[]\n",
      "S_s: Int64[]\n",
      "S_c: [13, 20, 10, 37, 14, 21, 23, 7, 38, 15, 1, 8, 22, 16, 39, 17, 24, 11, 2, 34, 4, 9, 18, 5, 26, 25, 12, 3, 6, 19, 27, 53, 49, 40, 28, 35, 50, 69, 41, 54, 55, 76, 62, 36, 70, 63, 44, 72, 56, 42, 57, 45, 71, 77, 73, 29, 58, 64, 51, 74, 46, 43, 78, 65, 30, 90, 52, 100, 84, 75, 59, 79, 31, 91, 101, 94, 85, 95, 87, 47, 97, 80, 96, 86, 60, 92, 88, 32, 48, 66, 81, 102, 89, 33, 61, 93, 98, 82, 67, 103, 68, 83, 99]\n",
      "____________________________________________________________________________________________________________\n",
      "t:44\n",
      "S_a: Int64[]\n",
      "S_w: Int64[]\n",
      "S_s: Int64[]\n",
      "S_c: [13, 20, 10, 37, 14, 21, 23, 7, 38, 15, 1, 8, 22, 16, 39, 17, 24, 11, 2, 34, 4, 9, 18, 5, 26, 25, 12, 3, 6, 19, 27, 53, 49, 40, 28, 35, 50, 69, 41, 54, 55, 76, 62, 36, 70, 63, 44, 72, 56, 42, 57, 45, 71, 77, 73, 29, 58, 64, 51, 74, 46, 43, 78, 65, 30, 90, 52, 100, 84, 75, 59, 79, 31, 91, 101, 94, 85, 95, 87, 47, 97, 80, 96, 86, 60, 92, 88, 32, 48, 66, 81, 102, 89, 33, 61, 93, 98, 82, 67, 103, 68, 83, 99]\n",
      "____________________________________________________________________________________________________________\n",
      "feasible\n",
      "t:45\n",
      "S_a: Int64[]\n",
      "S_w: Int64[]\n",
      "S_s: Int64[]\n",
      "S_c: [13, 20, 10, 37, 14, 21, 23, 7, 38, 15, 1, 8, 22, 16, 39, 17, 24, 11, 2, 34, 4, 9, 18, 5, 26, 25, 12, 3, 6, 19, 27, 53, 49, 40, 28, 35, 50, 69, 41, 54, 55, 76, 62, 36, 70, 63, 44, 72, 56, 42, 57, 45, 71, 77, 73, 29, 58, 64, 51, 74, 46, 43, 78, 65, 30, 90, 52, 100, 84, 75, 59, 79, 31, 91, 101, 94, 85, 95, 87, 47, 97, 80, 96, 86, 60, 92, 88, 32, 48, 66, 81, 102, 89, 33, 61, 93, 98, 82, 67, 103, 68, 83, 99]\n",
      "____________________________________________________________________________________________________________\n",
      "t:46\n",
      "S_a: Int64[]\n",
      "S_w: Int64[]\n",
      "S_s: Int64[]\n",
      "S_c: [13, 20, 10, 37, 14, 21, 23, 7, 38, 15, 1, 8, 22, 16, 39, 17, 24, 11, 2, 34, 4, 9, 18, 5, 26, 25, 12, 3, 6, 19, 27, 53, 49, 40, 28, 35, 50, 69, 41, 54, 55, 76, 62, 36, 70, 63, 44, 72, 56, 42, 57, 45, 71, 77, 73, 29, 58, 64, 51, 74, 46, 43, 78, 65, 30, 90, 52, 100, 84, 75, 59, 79, 31, 91, 101, 94, 85, 95, 87, 47, 97, 80, 96, 86, 60, 92, 88, 32, 48, 66, 81, 102, 89, 33, 61, 93, 98, 82, 67, 103, 68, 83, 99]\n",
      "____________________________________________________________________________________________________________\n",
      "t:47\n",
      "S_a: Int64[]\n",
      "S_w: Int64[]\n",
      "S_s: Int64[]\n",
      "S_c: [13, 20, 10, 37, 14, 21, 23, 7, 38, 15, 1, 8, 22, 16, 39, 17, 24, 11, 2, 34, 4, 9, 18, 5, 26, 25, 12, 3, 6, 19, 27, 53, 49, 40, 28, 35, 50, 69, 41, 54, 55, 76, 62, 36, 70, 63, 44, 72, 56, 42, 57, 45, 71, 77, 73, 29, 58, 64, 51, 74, 46, 43, 78, 65, 30, 90, 52, 100, 84, 75, 59, 79, 31, 91, 101, 94, 85, 95, 87, 47, 97, 80, 96, 86, 60, 92, 88, 32, 48, 66, 81, 102, 89, 33, 61, 93, 98, 82, 67, 103, 68, 83, 99]\n",
      "____________________________________________________________________________________________________________\n",
      "feasible\n",
      "t:48\n",
      "S_a: Int64[]\n",
      "S_w: Int64[]\n",
      "S_s: Int64[]\n",
      "S_c: [13, 20, 10, 37, 14, 21, 23, 7, 38, 15, 1, 8, 22, 16, 39, 17, 24, 11, 2, 34, 4, 9, 18, 5, 26, 25, 12, 3, 6, 19, 27, 53, 49, 40, 28, 35, 50, 69, 41, 54, 55, 76, 62, 36, 70, 63, 44, 72, 56, 42, 57, 45, 71, 77, 73, 29, 58, 64, 51, 74, 46, 43, 78, 65, 30, 90, 52, 100, 84, 75, 59, 79, 31, 91, 101, 94, 85, 95, 87, 47, 97, 80, 96, 86, 60, 92, 88, 32, 48, 66, 81, 102, 89, 33, 61, 93, 98, 82, 67, 103, 68, 83, 99]\n",
      "____________________________________________________________________________________________________________\n",
      "t:49\n",
      "S_a: Int64[]\n",
      "S_w: Int64[]\n",
      "S_s: Int64[]\n",
      "S_c: [13, 20, 10, 37, 14, 21, 23, 7, 38, 15, 1, 8, 22, 16, 39, 17, 24, 11, 2, 34, 4, 9, 18, 5, 26, 25, 12, 3, 6, 19, 27, 53, 49, 40, 28, 35, 50, 69, 41, 54, 55, 76, 62, 36, 70, 63, 44, 72, 56, 42, 57, 45, 71, 77, 73, 29, 58, 64, 51, 74, 46, 43, 78, 65, 30, 90, 52, 100, 84, 75, 59, 79, 31, 91, 101, 94, 85, 95, 87, 47, 97, 80, 96, 86, 60, 92, 88, 32, 48, 66, 81, 102, 89, 33, 61, 93, 98, 82, 67, 103, 68, 83, 99]\n",
      "____________________________________________________________________________________________________________\n",
      "t:50\n",
      "S_a: Int64[]\n",
      "S_w: Int64[]\n",
      "S_s: Int64[]\n",
      "S_c: [13, 20, 10, 37, 14, 21, 23, 7, 38, 15, 1, 8, 22, 16, 39, 17, 24, 11, 2, 34, 4, 9, 18, 5, 26, 25, 12, 3, 6, 19, 27, 53, 49, 40, 28, 35, 50, 69, 41, 54, 55, 76, 62, 36, 70, 63, 44, 72, 56, 42, 57, 45, 71, 77, 73, 29, 58, 64, 51, 74, 46, 43, 78, 65, 30, 90, 52, 100, 84, 75, 59, 79, 31, 91, 101, 94, 85, 95, 87, 47, 97, 80, 96, 86, 60, 92, 88, 32, 48, 66, 81, 102, 89, 33, 61, 93, 98, 82, 67, 103, 68, 83, 99]\n",
      "____________________________________________________________________________________________________________\n",
      " 16.604188 seconds (47.88 M allocations: 2.344 GiB, 8.66% gc time, 0.87% compilation time)\n"
     ]
    }
   ],
   "source": [
    "#ROLLING HORIZON MAIN LOOP:\n",
    "\n",
    "#Hard coded variables for dynamic model:\n",
    "RESCHEDULING_FREQ = 3 #Rescheduling frequency in days\n",
    "KAPPA = 40 #Number of jobs allowed in job window\n",
    "\n",
    "#Model parameters:\n",
    "periodical = true #True if rescheduling is done periodically\n",
    "\n",
    "#Rescheduling strategies are \"free_strategy\", \"frozen_strategy\" or \"forward_stragy\")\n",
    "strat = \"free_strategy\"\n",
    "@assert(strat in (\"free_strategy\", \"frozen_strategy\", \"forward_strategy\"))\n",
    "\n",
    "#Timing template: \"fixed\" or \"free\"\n",
    "#Fixed will probably be the only option in final version.\n",
    "timing_template = \"fixed\"\n",
    "@assert(timing_template in (\"fixed\", \"free\"))\n",
    "\n",
    "#Workload distribution: even or free\n",
    "workload_distribution = \"even\"\n",
    "@assert(workload_distribution in (\"even\", \"free\"))\n",
    "\n",
    "\n",
    "#Precedence constraints:\n",
    "#These are declared in \"offline\" manner, because it doesn't really affect the scheduling\n",
    "prec_consts = all_precedence_constraints(newdata)\n",
    "\n",
    "#ROLLING HORIZON PROCEDURE BY FANG & XI\n",
    "T_p = 0 #Predictive period, time steps into future for which arrival of jobs can be predicted, or are known here (not used)\n",
    "T_F = 50 #Final time step\n",
    "S_j = [i for i in 1:I] #\"Set\" of all jobs\n",
    "S_a = Vector{Int64}() #\"Set\" of available jobs\n",
    "S_w = Vector{Int64}() #\"Set\" of jobs in current job window\n",
    "S_c = Vector{Int64}() #\"Set\" of completed jobs\n",
    "S_s = Vector{Int64}() #\"Set\" of started jobs\n",
    "\n",
    "job_arrivals = Dict(zip(S_j, A)) #Dictionary, job id => job arrival time (in days)\n",
    "job_durations = Dict(zip(S_j, P)) #Dictionary, job id => job duration (days)\n",
    "job_starts = Dict(zip(S_j, [100 for i in 1:I])) #Initialize starting times of jobs to very distant future\n",
    "job_completed = Dict(zip(S_j, [100 for i in 1:I])) #Initialize complete times of jobs to very distant future\n",
    "job_due = Dict(zip(S_j, D)) #Dictionary, job id => \n",
    "\n",
    "#Data to be saved from each time step:\n",
    "#Some are for \n",
    "#Some are for debugging purposes only, to be deprecated\n",
    "model_copy = Dict()\n",
    "starts_T = Dict{Int64, Dict{Int64, Int64}}() #start time of jobs at timestep t\n",
    "finish_T = Dict{Int64, Dict{Int64, Int64}}() #finish times of jobs at timestep t\n",
    "resource_load_T = Dict() #load on different resources at timestep t\n",
    "X_T = Dict()\n",
    "C_T = Dict()\n",
    "c_T = Dict()\n",
    "rauxs = Dict()\n",
    "\n",
    "println(\"-------------------------------------------------------------------------------------------------------\")\n",
    "println(\"DYNAMIC SCHEDULING MODEL, V.V CODE SOLUTIONS AB OY\")\n",
    "println(\"Model parameters:\")\n",
    "println(\"Rescheduling strategy: \", strat)\n",
    "println(\"Rescheduling frequency: \", RESCHEDULING_FREQ)\n",
    "println(\"Rescheduling is periodical: \", periodical)\n",
    "println(\"Timing template: \", timing_template)\n",
    "println(\"Workload distribution is : \", workload_distribution)\n",
    "println(\"Final time step: \", T_F)\n",
    "println(\"-------------------------------------------------------------------------------------------------------\")\n",
    "\n",
    "@time for t in 1:T_F\n",
    "    #Phase 1: Update S_a and S_w\n",
    "    #All jobs whose arrival time is less or equal than present time + predictive period AND who are not already in sets S_a S_w, S_c, S_s\n",
    "    available = Vector{Int64}() #Initialize available vector, its emptiness will be checked in Phase 3\n",
    "    available = sort([i for (i,v) in job_arrivals if v<=t+T_p && i ∉ S_a && i ∉ S_w && i ∉ S_s && i ∉ S_c]) \n",
    "    append!(S_a, available) #Move jobs to available jobs\n",
    "    \n",
    "    while((length(S_w) < KAPPA) && (length(S_a) > 0)) #Fill the job window till its length is kappa or available jobs run out\n",
    "         push!(S_w, popfirst!(S_a)) #Push jobs into job window fron available jobs, FIFO-rule is applied\n",
    "    end\n",
    "\n",
    "        \n",
    "    #Phase 2: Update S_w, S_c and S_s. \n",
    "    #Move job to \"started_jobs\", if current timestep is its start time or larger. Start time is defines as first ongoing timestep.\n",
    "    for job in S_w\n",
    "        if(job_starts[job] <= t) #HAS TO BE SOFT INEQUALITY\n",
    "            push!(S_s, job) #Add job to \"set\" of started jobs\n",
    "            filter!(e->e≠job,S_w) #Remove job from job window\n",
    "            job_completed[job] = job_starts[job] + job_durations[job]\n",
    "        end\n",
    "    end\n",
    "\n",
    "    #Move job to \"completed jobs\", if current timestep is its finish time or larger. Finish time is defined here as: start time + duration.\n",
    "    for job in S_s\n",
    "        if (job_starts[job] + job_durations[job]) <= t #if job has finished\n",
    "            push!(S_c, job) #Add job to \"set\" of completed jobs\n",
    "            filter!(e->e≠job,S_s) #Remove job from \"set\" of started jobs \n",
    "            job_completed[job] = job_starts[job] + job_durations[job]\n",
    "        end\n",
    "    end\n",
    "\n",
    "    #Form auxiliary load-arrays. Load information of ongoing jobs are saved here, because those jobs are not in the model anymore after they have \n",
    "    #been started. Auxiliary load-arrays are used to constrain capacity overload. More information in auxiliary_functions.jl and create_model.jl.\n",
    "    raux = R_aux(S_s, t, resource_load_T, K, T, I, RESCHEDULING_FREQ)\n",
    "    rauxs[t] = raux\n",
    "    \n",
    "    #Phase 3: Reschedule jobs (Update start_times)\n",
    "    #Rescheduling is going to happen, if rescheduling strategy is periodical and its correct time period\n",
    "    #OR: resc. strat. is event-driven and there has appeared new available jobs in time step\n",
    "    #OR timestep is 1\n",
    "    #NOTE: event-driven is DEPRECATED!!!!\n",
    "    if t == 1 || ((t % RESCHEDULING_FREQ == 0) && periodical) || (!periodical && (length(available) > 0))\n",
    "        P_w, D_w, A_w, WC_w, OA_w = create_job_window_data(S_w, I, P, D, A, WC, OA)\n",
    "        \n",
    "        #Create model for jobs in the job window\n",
    "        model = create_job_window_model(S_w, P_w, D_w, A_w, WC_w, OA_w, job_starts, capacity, t, raux, prec_consts, workload_distribution, timing_template)\n",
    "        \n",
    "        if strat == \"frozen_strategy\"\n",
    "            scheduled_jobs = find_scheduled_jobs(S_w, job_starts)\n",
    "            model = fix_scheduled_jobs(model, scheduled_jobs, job_starts, job_durations)\n",
    "        elseif strat == \"forward_strategy\"\n",
    "            scheduled_jobs = find_scheduled_jobs(S_w, job_starts)\n",
    "            model = postpone_scheduled_jobs(model, scheduled_jobs, job_starts, job_durations, job_due)\n",
    "        end\n",
    "        #If \"free_strategy\", there is no need for additional constraints\n",
    "        \n",
    "        set_silent(model)\n",
    "        set_optimizer_attribute(model, \"mip_rel_gap\", 0.05) #Relative gap tolerance, |upper bound-lower bound|/|upper bound|\n",
    "        optimize!(model)\n",
    "        #Save models for debugging purposes\n",
    "        model_copy[t] = model\n",
    "\n",
    "        if is_solved_and_feasible(model)\n",
    "            println(\"feasible\")\n",
    "            start_sw = value.(model[:C]) .- P_w #Set new starting time based on model solution (completion time (Model variable) - duration (Model data))\n",
    "            for (i, j) in enumerate(S_w)\n",
    "                job_starts[j] = Int(round(start_sw.data[i])) #Rounding because of numerical inaccuracy\n",
    "            end\n",
    "        else\n",
    "            println(\"infeasible\")\n",
    "            #Jos malli on nyt mahdoton ratkaista, kaikki työt jäävät aikatauluttamatta\n",
    "            #Pitäisikö koettaa aikatauluttaa muokattu työikkuna, josta on poistettu jo kerran aikataulutetut työt?\n",
    "        end\n",
    "        #Save these variables for debugging purposes\n",
    "        resource_load_T[t] = ((model[:R]))\n",
    "        X_T[t] = model[:X]\n",
    "        C_T[t] = model[:C]\n",
    "        c_T[t] = model[:c]\n",
    "    end\n",
    "\n",
    "    #Updating again S_w, S_c and S_s, after rescheduling. If there is no rescheduling, this shouldnt change anything\n",
    "    for job in S_w\n",
    "        if(job_starts[job] <= t) #HAS TO BE SOFT INEQUALITY\n",
    "            push!(S_s, job) #Add job to \"set\" of started jobs\n",
    "            filter!(e->e≠job,S_w) #Remove job from job window\n",
    "            job_completed[job] = job_starts[job] + job_durations[job]\n",
    "        end\n",
    "    end\n",
    "\n",
    "    for job in S_s\n",
    "        if (job_starts[job] + job_durations[job]) <= t #if job has finished\n",
    "            push!(S_c, job) #Add job to \"set\" of completed jobs\n",
    "            filter!(e->e≠job,S_s) #Remove job from \"set\" of started jobs \n",
    "            job_completed[job] = job_starts[job] + job_durations[job]\n",
    "        end\n",
    "    end\n",
    "\n",
    "    #Save data for plotting purposes\n",
    "    starts_T[t] = copy(job_starts)\n",
    "    finish_T[t] = copy(job_completed)\n",
    "\n",
    "\n",
    "    #Test printing:\n",
    "    println(\"t:\", t)\n",
    "    println(\"S_a: \", (S_a))\n",
    "    println(\"S_w: \", (S_w))\n",
    "    println(\"S_s: \", (S_s))\n",
    "    println(\"S_c: \", (S_c))\n",
    "    println(\"____________________________________________________________________________________________________________\")\n",
    "    flush(stdout)\n",
    "    \n",
    "    #Make sure that intersection of different sets is empty\n",
    "    @assert(length(intersect((S_a), (S_w)))==0)\n",
    "    @assert(length(intersect((S_w), (S_s)))==0)\n",
    "    @assert(length(intersect((S_s), (S_c)))==0)\n",
    "end\n"
   ]
  },
  {
   "cell_type": "code",
   "execution_count": 38,
   "id": "46fc3783-8874-480a-8285-397961c1867e",
   "metadata": {},
   "outputs": [
    {
     "data": {
      "text/plain": [
       "20"
      ]
     },
     "execution_count": 38,
     "metadata": {},
     "output_type": "execute_result"
    }
   ],
   "source": [
    "calculate_dynamic_max_tardiness(finish_T[T_F], job_due)"
   ]
  },
  {
   "cell_type": "code",
   "execution_count": 29,
   "id": "b4a158c7-fde2-4774-a05e-f8624aac82d8",
   "metadata": {},
   "outputs": [
    {
     "data": {
      "application/vnd.vega.v5+json": {
       "$schema": "https://vega.github.io/schema/vega/v5.json",
       "axes": [
        {
         "aria": false,
         "domain": false,
         "grid": true,
         "gridScale": "y",
         "labels": false,
         "maxExtent": 0,
         "minExtent": 0,
         "orient": "bottom",
         "scale": "x",
         "tickCount": {
          "signal": "ceil(width/40)"
         },
         "ticks": false,
         "zindex": 0
        },
        {
         "grid": false,
         "labelFlush": true,
         "labelOverlap": true,
         "orient": "bottom",
         "scale": "x",
         "tickCount": {
          "signal": "ceil(width/40)"
         },
         "title": "start, stop",
         "zindex": 0
        },
        {
         "grid": false,
         "orient": "left",
         "scale": "y",
         "title": "job",
         "zindex": 0
        }
       ],
       "background": "white",
       "data": [
        {
         "name": "source_0",
         "values": [
          {
           "job": 1,
           "order": 1,
           "start": 6,
           "stop": 8
          },
          {
           "job": 2,
           "order": 1,
           "start": 8,
           "stop": 10
          },
          {
           "job": 3,
           "order": 1,
           "start": 10,
           "stop": 12
          },
          {
           "job": 4,
           "order": 2,
           "start": 6,
           "stop": 10
          },
          {
           "job": 5,
           "order": 2,
           "start": 10,
           "stop": 11
          },
          {
           "job": 6,
           "order": 2,
           "start": 11,
           "stop": 13
          },
          {
           "job": 7,
           "order": 3,
           "start": 5,
           "stop": 6
          },
          {
           "job": 8,
           "order": 3,
           "start": 6,
           "stop": 8
          },
          {
           "job": 9,
           "order": 3,
           "start": 8,
           "stop": 10
          },
          {
           "job": 10,
           "order": 4,
           "start": 3,
           "stop": 5
          },
          {
           "job": 11,
           "order": 4,
           "start": 5,
           "stop": 10
          },
          {
           "job": 12,
           "order": 4,
           "start": 10,
           "stop": 12
          },
          {
           "job": 13,
           "order": 5,
           "start": 1,
           "stop": 3
          },
          {
           "job": 14,
           "order": 5,
           "start": 3,
           "stop": 5
          },
          {
           "job": 15,
           "order": 5,
           "start": 5,
           "stop": 7
          },
          {
           "job": 16,
           "order": 6,
           "start": 6,
           "stop": 8
          },
          {
           "job": 17,
           "order": 6,
           "start": 8,
           "stop": 9
          },
          {
           "job": 18,
           "order": 6,
           "start": 9,
           "stop": 11
          },
          {
           "job": 19,
           "order": 6,
           "start": 11,
           "stop": 13
          },
          {
           "job": 20,
           "order": 7,
           "start": 3,
           "stop": 4
          },
          {
           "job": 21,
           "order": 7,
           "start": 4,
           "stop": 6
          },
          {
           "job": 22,
           "order": 7,
           "start": 6,
           "stop": 8
          },
          {
           "job": 23,
           "order": 8,
           "start": 5,
           "stop": 6
          },
          {
           "job": 24,
           "order": 8,
           "start": 6,
           "stop": 9
          },
          {
           "job": 25,
           "order": 8,
           "start": 9,
           "stop": 11
          },
          {
           "job": 26,
           "order": 9,
           "start": 8,
           "stop": 11
          },
          {
           "job": 27,
           "order": 9,
           "start": 11,
           "stop": 13
          },
          {
           "job": 28,
           "order": 9,
           "start": 13,
           "stop": 15
          },
          {
           "job": 29,
           "order": 10,
           "start": 18,
           "stop": 21
          },
          {
           "job": 30,
           "order": 10,
           "start": 21,
           "stop": 23
          },
          {
           "job": 31,
           "order": 10,
           "start": 23,
           "stop": 26
          },
          {
           "job": 32,
           "order": 10,
           "start": 26,
           "stop": 30
          },
          {
           "job": 33,
           "order": 10,
           "start": 30,
           "stop": 32
          },
          {
           "job": 34,
           "order": 11,
           "start": 9,
           "stop": 10
          },
          {
           "job": 35,
           "order": 11,
           "start": 10,
           "stop": 16
          },
          {
           "job": 36,
           "order": 11,
           "start": 16,
           "stop": 18
          },
          {
           "job": 37,
           "order": 12,
           "start": 4,
           "stop": 5
          },
          {
           "job": 38,
           "order": 12,
           "start": 5,
           "stop": 6
          },
          {
           "job": 39,
           "order": 12,
           "start": 6,
           "stop": 8
          },
          {
           "job": 40,
           "order": 13,
           "start": 12,
           "stop": 14
          },
          {
           "job": 41,
           "order": 13,
           "start": 14,
           "stop": 16
          },
          {
           "job": 42,
           "order": 13,
           "start": 16,
           "stop": 20
          },
          {
           "job": 43,
           "order": 13,
           "start": 20,
           "stop": 22
          },
          {
           "job": 44,
           "order": 14,
           "start": 16,
           "stop": 18
          },
          {
           "job": 45,
           "order": 14,
           "start": 18,
           "stop": 20
          },
          {
           "job": 46,
           "order": 14,
           "start": 20,
           "stop": 22
          },
          {
           "job": 47,
           "order": 14,
           "start": 22,
           "stop": 28
          },
          {
           "job": 48,
           "order": 14,
           "start": 28,
           "stop": 30
          },
          {
           "job": 49,
           "order": 15,
           "start": 13,
           "stop": 14
          },
          {
           "job": 50,
           "order": 15,
           "start": 14,
           "stop": 16
          },
          {
           "job": 51,
           "order": 15,
           "start": 16,
           "stop": 22
          },
          {
           "job": 52,
           "order": 15,
           "start": 22,
           "stop": 24
          },
          {
           "job": 53,
           "order": 16,
           "start": 10,
           "stop": 14
          },
          {
           "job": 54,
           "order": 16,
           "start": 14,
           "stop": 16
          },
          {
           "job": 55,
           "order": 16,
           "start": 16,
           "stop": 17
          },
          {
           "job": 56,
           "order": 16,
           "start": 17,
           "stop": 19
          },
          {
           "job": 57,
           "order": 17,
           "start": 17,
           "stop": 20
          },
          {
           "job": 58,
           "order": 17,
           "start": 20,
           "stop": 21
          },
          {
           "job": 59,
           "order": 17,
           "start": 21,
           "stop": 25
          },
          {
           "job": 60,
           "order": 17,
           "start": 25,
           "stop": 30
          },
          {
           "job": 61,
           "order": 17,
           "start": 30,
           "stop": 32
          },
          {
           "job": 62,
           "order": 18,
           "start": 14,
           "stop": 17
          },
          {
           "job": 63,
           "order": 18,
           "start": 17,
           "stop": 18
          },
          {
           "job": 64,
           "order": 18,
           "start": 18,
           "stop": 21
          },
          {
           "job": 65,
           "order": 18,
           "start": 21,
           "stop": 23
          },
          {
           "job": 66,
           "order": 19,
           "start": 26,
           "stop": 31
          },
          {
           "job": 67,
           "order": 19,
           "start": 31,
           "stop": 33
          },
          {
           "job": 68,
           "order": 19,
           "start": 33,
           "stop": 35
          },
          {
           "job": 69,
           "order": 20,
           "start": 14,
           "stop": 16
          },
          {
           "job": 70,
           "order": 20,
           "start": 16,
           "stop": 18
          },
          {
           "job": 71,
           "order": 20,
           "start": 18,
           "stop": 20
          },
          {
           "job": 72,
           "order": 21,
           "start": 16,
           "stop": 18
          },
          {
           "job": 73,
           "order": 21,
           "start": 18,
           "stop": 20
          },
          {
           "job": 74,
           "order": 21,
           "start": 20,
           "stop": 22
          },
          {
           "job": 75,
           "order": 21,
           "start": 22,
           "stop": 24
          },
          {
           "job": 76,
           "order": 22,
           "start": 16,
           "stop": 17
          },
          {
           "job": 77,
           "order": 22,
           "start": 17,
           "stop": 20
          },
          {
           "job": 78,
           "order": 22,
           "start": 20,
           "stop": 22
          },
          {
           "job": 79,
           "order": 22,
           "start": 22,
           "stop": 24
          },
          {
           "job": 80,
           "order": 23,
           "start": 27,
           "stop": 29
          },
          {
           "job": 81,
           "order": 23,
           "start": 29,
           "stop": 31
          },
          {
           "job": 82,
           "order": 23,
           "start": 31,
           "stop": 33
          },
          {
           "job": 83,
           "order": 23,
           "start": 33,
           "stop": 35
          },
          {
           "job": 84,
           "order": 24,
           "start": 23,
           "stop": 24
          },
          {
           "job": 85,
           "order": 24,
           "start": 24,
           "stop": 27
          },
          {
           "job": 86,
           "order": 24,
           "start": 27,
           "stop": 29
          },
          {
           "job": 87,
           "order": 25,
           "start": 24,
           "stop": 27
          },
          {
           "job": 88,
           "order": 25,
           "start": 27,
           "stop": 29
          },
          {
           "job": 89,
           "order": 25,
           "start": 29,
           "stop": 31
          },
          {
           "job": 90,
           "order": 26,
           "start": 21,
           "stop": 24
          },
          {
           "job": 91,
           "order": 26,
           "start": 24,
           "stop": 26
          },
          {
           "job": 92,
           "order": 26,
           "start": 26,
           "stop": 30
          },
          {
           "job": 93,
           "order": 26,
           "start": 30,
           "stop": 32
          },
          {
           "job": 94,
           "order": 27,
           "start": 24,
           "stop": 26
          },
          {
           "job": 95,
           "order": 27,
           "start": 26,
           "stop": 27
          },
          {
           "job": 96,
           "order": 27,
           "start": 27,
           "stop": 29
          },
          {
           "job": 97,
           "order": 28,
           "start": 27,
           "stop": 28
          },
          {
           "job": 98,
           "order": 28,
           "start": 28,
           "stop": 33
          },
          {
           "job": 99,
           "order": 28,
           "start": 33,
           "stop": 35
          },
          {
           "job": 100,
           "order": 29,
           "start": 22,
           "stop": 24
          },
          {
           "job": 101,
           "order": 29,
           "start": 24,
           "stop": 26
          },
          {
           "job": 102,
           "order": 29,
           "start": 26,
           "stop": 31
          },
          {
           "job": 103,
           "order": 29,
           "start": 31,
           "stop": 33
          }
         ]
        },
        {
         "name": "data_0",
         "source": "source_0",
         "transform": [
          {
           "expr": "isValid(datum[\"start\"]) && isFinite(+datum[\"start\"])",
           "type": "filter"
          }
         ]
        }
       ],
       "legends": [
        {
         "fill": "color",
         "symbolType": "square",
         "title": "order"
        }
       ],
       "marks": [
        {
         "encode": {
          "update": {
           "ariaRoleDescription": {
            "value": "bar"
           },
           "description": {
            "signal": "\"start: \" + (format(datum[\"start\"], \"\")) + \"; job: \" + (isValid(datum[\"job\"]) ? datum[\"job\"] : \"\"+datum[\"job\"]) + \"; stop: \" + (format(datum[\"stop\"], \"\")) + \"; order: \" + (isValid(datum[\"order\"]) ? datum[\"order\"] : \"\"+datum[\"order\"])"
           },
           "fill": {
            "field": "order",
            "scale": "color"
           },
           "height": {
            "signal": "max(0.25, bandwidth('y'))"
           },
           "x": {
            "field": "start",
            "scale": "x"
           },
           "x2": {
            "field": "stop",
            "scale": "x"
           },
           "y": {
            "field": "job",
            "scale": "y"
           }
          }
         },
         "from": {
          "data": "data_0"
         },
         "name": "layer_0_marks",
         "style": [
          "bar"
         ],
         "type": "rect"
        },
        {
         "encode": {
          "update": {
           "stroke": {
            "value": "black"
           },
           "strokeDash": {
            "value": [
             2,
             2
            ]
           },
           "strokeWidth": {
            "value": 2
           },
           "x": {
            "scale": "x",
            "value": 35
           },
           "y": {
            "value": 0
           },
           "y2": {
            "field": {
             "group": "height"
            }
           }
          }
         },
         "from": {
          "data": "source_0"
         },
         "name": "layer_1_marks",
         "style": [
          "rule"
         ],
         "type": "rule"
        }
       ],
       "padding": 5,
       "scales": [
        {
         "domain": {
          "fields": [
           {
            "data": "data_0",
            "field": "start"
           },
           {
            "data": "data_0",
            "field": "stop"
           },
           [
            35
           ]
          ]
         },
         "name": "x",
         "nice": true,
         "range": [
          0,
          {
           "signal": "width"
          }
         ],
         "type": "linear",
         "zero": true
        },
        {
         "domain": {
          "data": "data_0",
          "field": "job",
          "sort": true
         },
         "name": "y",
         "paddingInner": 0.1,
         "paddingOuter": 0.05,
         "range": {
          "step": {
           "signal": "y_step"
          }
         },
         "type": "band"
        },
        {
         "domain": {
          "data": "data_0",
          "field": "order",
          "sort": true
         },
         "name": "color",
         "range": "category",
         "type": "ordinal"
        }
       ],
       "signals": [
        {
         "name": "y_step",
         "value": 20
        },
        {
         "name": "height",
         "update": "bandspace(domain('y').length, 0.1, 0.05) * y_step"
        }
       ],
       "style": "cell",
       "width": 200
      },
      "image/png": "[encoded data removed]",
      "image/svg+xml": [
       "<svg xmlns=\"http://www.w3.org/2000/svg\" xmlns:xlink=\"http://www.w3.org/1999/xlink\" version=\"1.1\" class=\"marks\" width=\"297\" height=\"2104\" viewBox=\"0 0 297 2104\"><rect width=\"297\" height=\"2104\" fill=\"white\"/><g fill=\"none\" stroke-miterlimit=\"10\" transform=\"translate(44,7)\"><g class=\"mark-group role-frame root\" role=\"graphics-object\" aria-roledescription=\"group mark container\"><g transform=\"translate(0,0)\"><path class=\"background\" aria-hidden=\"true\" d=\"M0.5,0.5h200v2060h-200Z\" stroke=\"#ddd\"/><g><g class=\"mark-group role-axis\" aria-hidden=\"true\"><g transform=\"translate(0.5,2060.5)\"><path class=\"background\" aria-hidden=\"true\" d=\"M0,0h0v0h0Z\" pointer-events=\"none\"/><g><g class=\"mark-rule role-axis-grid\" pointer-events=\"none\"><line transform=\"translate(0,0)\" x2=\"0\" y2=\"-2060\" stroke=\"#ddd\" stroke-width=\"1\" opacity=\"1\"/><line transform=\"translate(29,0)\" x2=\"0\" y2=\"-2060\" stroke=\"#ddd\" stroke-width=\"1\" opacity=\"1\"/><line transform=\"translate(57,0)\" x2=\"0\" y2=\"-2060\" stroke=\"#ddd\" stroke-width=\"1\" opacity=\"1\"/><line transform=\"translate(86,0)\" x2=\"0\" y2=\"-2060\" stroke=\"#ddd\" stroke-width=\"1\" opacity=\"1\"/><line transform=\"translate(114,0)\" x2=\"0\" y2=\"-2060\" stroke=\"#ddd\" stroke-width=\"1\" opacity=\"1\"/><line transform=\"translate(143,0)\" x2=\"0\" y2=\"-2060\" stroke=\"#ddd\" stroke-width=\"1\" opacity=\"1\"/><line transform=\"translate(171,0)\" x2=\"0\" y2=\"-2060\" stroke=\"#ddd\" stroke-width=\"1\" opacity=\"1\"/><line transform=\"translate(200,0)\" x2=\"0\" y2=\"-2060\" stroke=\"#ddd\" stroke-width=\"1\" opacity=\"1\"/></g></g><path class=\"foreground\" aria-hidden=\"true\" d=\"\" pointer-events=\"none\" display=\"none\"/></g></g><g class=\"mark-group role-axis\" role=\"graphics-symbol\" aria-roledescription=\"axis\" aria-label=\"X-axis titled 'start, stop' for a linear scale with values from 0 to 35\"><g transform=\"translate(0.5,2060.5)\"><path class=\"background\" aria-hidden=\"true\" d=\"M0,0h0v0h0Z\" pointer-events=\"none\"/><g><g class=\"mark-rule role-axis-tick\" pointer-events=\"none\"><line transform=\"translate(0,0)\" x2=\"0\" y2=\"5\" stroke=\"#888\" stroke-width=\"1\" opacity=\"1\"/><line transform=\"translate(29,0)\" x2=\"0\" y2=\"5\" stroke=\"#888\" stroke-width=\"1\" opacity=\"1\"/><line transform=\"translate(57,0)\" x2=\"0\" y2=\"5\" stroke=\"#888\" stroke-width=\"1\" opacity=\"1\"/><line transform=\"translate(86,0)\" x2=\"0\" y2=\"5\" stroke=\"#888\" stroke-width=\"1\" opacity=\"1\"/><line transform=\"translate(114,0)\" x2=\"0\" y2=\"5\" stroke=\"#888\" stroke-width=\"1\" opacity=\"1\"/><line transform=\"translate(143,0)\" x2=\"0\" y2=\"5\" stroke=\"#888\" stroke-width=\"1\" opacity=\"1\"/><line transform=\"translate(171,0)\" x2=\"0\" y2=\"5\" stroke=\"#888\" stroke-width=\"1\" opacity=\"1\"/><line transform=\"translate(200,0)\" x2=\"0\" y2=\"5\" stroke=\"#888\" stroke-width=\"1\" opacity=\"1\"/></g><g class=\"mark-text role-axis-label\" pointer-events=\"none\"><text text-anchor=\"start\" transform=\"translate(0,15)\" font-family=\"sans-serif\" font-size=\"10px\" fill=\"#000\" opacity=\"1\">0</text><text text-anchor=\"middle\" transform=\"translate(28.57142857142857,15)\" font-family=\"sans-serif\" font-size=\"10px\" fill=\"#000\" opacity=\"1\">5</text><text text-anchor=\"middle\" transform=\"translate(57.14285714285714,15)\" font-family=\"sans-serif\" font-size=\"10px\" fill=\"#000\" opacity=\"1\">10</text><text text-anchor=\"middle\" transform=\"translate(85.71428571428571,15)\" font-family=\"sans-serif\" font-size=\"10px\" fill=\"#000\" opacity=\"1\">15</text><text text-anchor=\"middle\" transform=\"translate(114.28571428571428,15)\" font-family=\"sans-serif\" font-size=\"10px\" fill=\"#000\" opacity=\"1\">20</text><text text-anchor=\"middle\" transform=\"translate(142.85714285714286,15)\" font-family=\"sans-serif\" font-size=\"10px\" fill=\"#000\" opacity=\"1\">25</text><text text-anchor=\"middle\" transform=\"translate(171.42857142857142,15)\" font-family=\"sans-serif\" font-size=\"10px\" fill=\"#000\" opacity=\"1\">30</text><text text-anchor=\"end\" transform=\"translate(200,15)\" font-family=\"sans-serif\" font-size=\"10px\" fill=\"#000\" opacity=\"1\">35</text></g><g class=\"mark-rule role-axis-domain\" pointer-events=\"none\"><line transform=\"translate(0,0)\" x2=\"200\" y2=\"0\" stroke=\"#888\" stroke-width=\"1\" opacity=\"1\"/></g><g class=\"mark-text role-axis-title\" pointer-events=\"none\"><text text-anchor=\"middle\" transform=\"translate(100,30)\" font-family=\"sans-serif\" font-size=\"11px\" font-weight=\"bold\" fill=\"#000\" opacity=\"1\">start, stop</text></g></g><path class=\"foreground\" aria-hidden=\"true\" d=\"\" pointer-events=\"none\" display=\"none\"/></g></g><g class=\"mark-group role-axis\" role=\"graphics-symbol\" aria-roledescription=\"axis\" aria-label=\"Y-axis titled 'job' for a discrete scale with 103 values: 1, 2, 3, 4, 5, ending with 103\"><g transform=\"translate(0.5,0.5)\"><path class=\"background\" aria-hidden=\"true\" d=\"M0,0h0v0h0Z\" pointer-events=\"none\"/><g><g class=\"mark-rule role-axis-tick\" pointer-events=\"none\"><line transform=\"translate(0,10)\" x2=\"-5\" y2=\"0\" stroke=\"#888\" stroke-width=\"1\" opacity=\"1\"/><line transform=\"translate(0,30)\" x2=\"-5\" y2=\"0\" stroke=\"#888\" stroke-width=\"1\" opacity=\"1\"/><line transform=\"translate(0,50)\" x2=\"-5\" y2=\"0\" stroke=\"#888\" stroke-width=\"1\" opacity=\"1\"/><line transform=\"translate(0,70)\" x2=\"-5\" y2=\"0\" stroke=\"#888\" stroke-width=\"1\" opacity=\"1\"/><line transform=\"translate(0,90)\" x2=\"-5\" y2=\"0\" stroke=\"#888\" stroke-width=\"1\" opacity=\"1\"/><line transform=\"translate(0,110)\" x2=\"-5\" y2=\"0\" stroke=\"#888\" stroke-width=\"1\" opacity=\"1\"/><line transform=\"translate(0,130)\" x2=\"-5\" y2=\"0\" stroke=\"#888\" stroke-width=\"1\" opacity=\"1\"/><line transform=\"translate(0,150)\" x2=\"-5\" y2=\"0\" stroke=\"#888\" stroke-width=\"1\" opacity=\"1\"/><line transform=\"translate(0,170)\" x2=\"-5\" y2=\"0\" stroke=\"#888\" stroke-width=\"1\" opacity=\"1\"/><line transform=\"translate(0,190)\" x2=\"-5\" y2=\"0\" stroke=\"#888\" stroke-width=\"1\" opacity=\"1\"/><line transform=\"translate(0,210)\" x2=\"-5\" y2=\"0\" stroke=\"#888\" stroke-width=\"1\" opacity=\"1\"/><line transform=\"translate(0,230)\" x2=\"-5\" y2=\"0\" stroke=\"#888\" stroke-width=\"1\" opacity=\"1\"/><line transform=\"translate(0,250)\" x2=\"-5\" y2=\"0\" stroke=\"#888\" stroke-width=\"1\" opacity=\"1\"/><line transform=\"translate(0,270)\" x2=\"-5\" y2=\"0\" stroke=\"#888\" stroke-width=\"1\" opacity=\"1\"/><line transform=\"translate(0,290)\" x2=\"-5\" y2=\"0\" stroke=\"#888\" stroke-width=\"1\" opacity=\"1\"/><line transform=\"translate(0,310)\" x2=\"-5\" y2=\"0\" stroke=\"#888\" stroke-width=\"1\" opacity=\"1\"/><line transform=\"translate(0,330)\" x2=\"-5\" y2=\"0\" stroke=\"#888\" stroke-width=\"1\" opacity=\"1\"/><line transform=\"translate(0,350)\" x2=\"-5\" y2=\"0\" stroke=\"#888\" stroke-width=\"1\" opacity=\"1\"/><line transform=\"translate(0,370)\" x2=\"-5\" y2=\"0\" stroke=\"#888\" stroke-width=\"1\" opacity=\"1\"/><line transform=\"translate(0,390)\" x2=\"-5\" y2=\"0\" stroke=\"#888\" stroke-width=\"1\" opacity=\"1\"/><line transform=\"translate(0,410)\" x2=\"-5\" y2=\"0\" stroke=\"#888\" stroke-width=\"1\" opacity=\"1\"/><line transform=\"translate(0,430)\" x2=\"-5\" y2=\"0\" stroke=\"#888\" stroke-width=\"1\" opacity=\"1\"/><line transform=\"translate(0,450)\" x2=\"-5\" y2=\"0\" stroke=\"#888\" stroke-width=\"1\" opacity=\"1\"/><line transform=\"translate(0,470)\" x2=\"-5\" y2=\"0\" stroke=\"#888\" stroke-width=\"1\" opacity=\"1\"/><line transform=\"translate(0,490)\" x2=\"-5\" y2=\"0\" stroke=\"#888\" stroke-width=\"1\" opacity=\"1\"/><line transform=\"translate(0,510)\" x2=\"-5\" y2=\"0\" stroke=\"#888\" stroke-width=\"1\" opacity=\"1\"/><line transform=\"translate(0,530)\" x2=\"-5\" y2=\"0\" stroke=\"#888\" stroke-width=\"1\" opacity=\"1\"/><line transform=\"translate(0,550)\" x2=\"-5\" y2=\"0\" stroke=\"#888\" stroke-width=\"1\" opacity=\"1\"/><line transform=\"translate(0,570)\" x2=\"-5\" y2=\"0\" stroke=\"#888\" stroke-width=\"1\" opacity=\"1\"/><line transform=\"translate(0,590)\" x2=\"-5\" y2=\"0\" stroke=\"#888\" stroke-width=\"1\" opacity=\"1\"/><line transform=\"translate(0,610)\" x2=\"-5\" y2=\"0\" stroke=\"#888\" stroke-width=\"1\" opacity=\"1\"/><line transform=\"translate(0,630)\" x2=\"-5\" y2=\"0\" stroke=\"#888\" stroke-width=\"1\" opacity=\"1\"/><line transform=\"translate(0,650)\" x2=\"-5\" y2=\"0\" stroke=\"#888\" stroke-width=\"1\" opacity=\"1\"/><line transform=\"translate(0,670)\" x2=\"-5\" y2=\"0\" stroke=\"#888\" stroke-width=\"1\" opacity=\"1\"/><line transform=\"translate(0,690)\" x2=\"-5\" y2=\"0\" stroke=\"#888\" stroke-width=\"1\" opacity=\"1\"/><line transform=\"translate(0,710)\" x2=\"-5\" y2=\"0\" stroke=\"#888\" stroke-width=\"1\" opacity=\"1\"/><line transform=\"translate(0,730)\" x2=\"-5\" y2=\"0\" stroke=\"#888\" stroke-width=\"1\" opacity=\"1\"/><line transform=\"translate(0,750)\" x2=\"-5\" y2=\"0\" stroke=\"#888\" stroke-width=\"1\" opacity=\"1\"/><line transform=\"translate(0,770)\" x2=\"-5\" y2=\"0\" stroke=\"#888\" stroke-width=\"1\" opacity=\"1\"/><line transform=\"translate(0,790)\" x2=\"-5\" y2=\"0\" stroke=\"#888\" stroke-width=\"1\" opacity=\"1\"/><line transform=\"translate(0,810)\" x2=\"-5\" y2=\"0\" stroke=\"#888\" stroke-width=\"1\" opacity=\"1\"/><line transform=\"translate(0,830)\" x2=\"-5\" y2=\"0\" stroke=\"#888\" stroke-width=\"1\" opacity=\"1\"/><line transform=\"translate(0,850)\" x2=\"-5\" y2=\"0\" stroke=\"#888\" stroke-width=\"1\" opacity=\"1\"/><line transform=\"translate(0,870)\" x2=\"-5\" y2=\"0\" stroke=\"#888\" stroke-width=\"1\" opacity=\"1\"/><line transform=\"translate(0,890)\" x2=\"-5\" y2=\"0\" stroke=\"#888\" stroke-width=\"1\" opacity=\"1\"/><line transform=\"translate(0,910)\" x2=\"-5\" y2=\"0\" stroke=\"#888\" stroke-width=\"1\" opacity=\"1\"/><line transform=\"translate(0,930)\" x2=\"-5\" y2=\"0\" stroke=\"#888\" stroke-width=\"1\" opacity=\"1\"/><line transform=\"translate(0,950)\" x2=\"-5\" y2=\"0\" stroke=\"#888\" stroke-width=\"1\" opacity=\"1\"/><line transform=\"translate(0,970)\" x2=\"-5\" y2=\"0\" stroke=\"#888\" stroke-width=\"1\" opacity=\"1\"/><line transform=\"translate(0,990)\" x2=\"-5\" y2=\"0\" stroke=\"#888\" stroke-width=\"1\" opacity=\"1\"/><line transform=\"translate(0,1010)\" x2=\"-5\" y2=\"0\" stroke=\"#888\" stroke-width=\"1\" opacity=\"1\"/><line transform=\"translate(0,1030)\" x2=\"-5\" y2=\"0\" stroke=\"#888\" stroke-width=\"1\" opacity=\"1\"/><line transform=\"translate(0,1050)\" x2=\"-5\" y2=\"0\" stroke=\"#888\" stroke-width=\"1\" opacity=\"1\"/><line transform=\"translate(0,1070)\" x2=\"-5\" y2=\"0\" stroke=\"#888\" stroke-width=\"1\" opacity=\"1\"/><line transform=\"translate(0,1090)\" x2=\"-5\" y2=\"0\" stroke=\"#888\" stroke-width=\"1\" opacity=\"1\"/><line transform=\"translate(0,1110)\" x2=\"-5\" y2=\"0\" stroke=\"#888\" stroke-width=\"1\" opacity=\"1\"/><line transform=\"translate(0,1130)\" x2=\"-5\" y2=\"0\" stroke=\"#888\" stroke-width=\"1\" opacity=\"1\"/><line transform=\"translate(0,1150)\" x2=\"-5\" y2=\"0\" stroke=\"#888\" stroke-width=\"1\" opacity=\"1\"/><line transform=\"translate(0,1170)\" x2=\"-5\" y2=\"0\" stroke=\"#888\" stroke-width=\"1\" opacity=\"1\"/><line transform=\"translate(0,1190)\" x2=\"-5\" y2=\"0\" stroke=\"#888\" stroke-width=\"1\" opacity=\"1\"/><line transform=\"translate(0,1210)\" x2=\"-5\" y2=\"0\" stroke=\"#888\" stroke-width=\"1\" opacity=\"1\"/><line transform=\"translate(0,1230)\" x2=\"-5\" y2=\"0\" stroke=\"#888\" stroke-width=\"1\" opacity=\"1\"/><line transform=\"translate(0,1250)\" x2=\"-5\" y2=\"0\" stroke=\"#888\" stroke-width=\"1\" opacity=\"1\"/><line transform=\"translate(0,1270)\" x2=\"-5\" y2=\"0\" stroke=\"#888\" stroke-width=\"1\" opacity=\"1\"/><line transform=\"translate(0,1290)\" x2=\"-5\" y2=\"0\" stroke=\"#888\" stroke-width=\"1\" opacity=\"1\"/><line transform=\"translate(0,1310)\" x2=\"-5\" y2=\"0\" stroke=\"#888\" stroke-width=\"1\" opacity=\"1\"/><line transform=\"translate(0,1330)\" x2=\"-5\" y2=\"0\" stroke=\"#888\" stroke-width=\"1\" opacity=\"1\"/><line transform=\"translate(0,1350)\" x2=\"-5\" y2=\"0\" stroke=\"#888\" stroke-width=\"1\" opacity=\"1\"/><line transform=\"translate(0,1370)\" x2=\"-5\" y2=\"0\" stroke=\"#888\" stroke-width=\"1\" opacity=\"1\"/><line transform=\"translate(0,1390)\" x2=\"-5\" y2=\"0\" stroke=\"#888\" stroke-width=\"1\" opacity=\"1\"/><line transform=\"translate(0,1410)\" x2=\"-5\" y2=\"0\" stroke=\"#888\" stroke-width=\"1\" opacity=\"1\"/><line transform=\"translate(0,1430)\" x2=\"-5\" y2=\"0\" stroke=\"#888\" stroke-width=\"1\" opacity=\"1\"/><line transform=\"translate(0,1450)\" x2=\"-5\" y2=\"0\" stroke=\"#888\" stroke-width=\"1\" opacity=\"1\"/><line transform=\"translate(0,1470)\" x2=\"-5\" y2=\"0\" stroke=\"#888\" stroke-width=\"1\" opacity=\"1\"/><line transform=\"translate(0,1490)\" x2=\"-5\" y2=\"0\" stroke=\"#888\" stroke-width=\"1\" opacity=\"1\"/><line transform=\"translate(0,1510)\" x2=\"-5\" y2=\"0\" stroke=\"#888\" stroke-width=\"1\" opacity=\"1\"/><line transform=\"translate(0,1530)\" x2=\"-5\" y2=\"0\" stroke=\"#888\" stroke-width=\"1\" opacity=\"1\"/><line transform=\"translate(0,1550)\" x2=\"-5\" y2=\"0\" stroke=\"#888\" stroke-width=\"1\" opacity=\"1\"/><line transform=\"translate(0,1570)\" x2=\"-5\" y2=\"0\" stroke=\"#888\" stroke-width=\"1\" opacity=\"1\"/><line transform=\"translate(0,1590)\" x2=\"-5\" y2=\"0\" stroke=\"#888\" stroke-width=\"1\" opacity=\"1\"/><line transform=\"translate(0,1610)\" x2=\"-5\" y2=\"0\" stroke=\"#888\" stroke-width=\"1\" opacity=\"1\"/><line transform=\"translate(0,1630)\" x2=\"-5\" y2=\"0\" stroke=\"#888\" stroke-width=\"1\" opacity=\"1\"/><line transform=\"translate(0,1650)\" x2=\"-5\" y2=\"0\" stroke=\"#888\" stroke-width=\"1\" opacity=\"1\"/><line transform=\"translate(0,1670)\" x2=\"-5\" y2=\"0\" stroke=\"#888\" stroke-width=\"1\" opacity=\"1\"/><line transform=\"translate(0,1690)\" x2=\"-5\" y2=\"0\" stroke=\"#888\" stroke-width=\"1\" opacity=\"1\"/><line transform=\"translate(0,1710)\" x2=\"-5\" y2=\"0\" stroke=\"#888\" stroke-width=\"1\" opacity=\"1\"/><line transform=\"translate(0,1730)\" x2=\"-5\" y2=\"0\" stroke=\"#888\" stroke-width=\"1\" opacity=\"1\"/><line transform=\"translate(0,1750)\" x2=\"-5\" y2=\"0\" stroke=\"#888\" stroke-width=\"1\" opacity=\"1\"/><line transform=\"translate(0,1770)\" x2=\"-5\" y2=\"0\" stroke=\"#888\" stroke-width=\"1\" opacity=\"1\"/><line transform=\"translate(0,1790)\" x2=\"-5\" y2=\"0\" stroke=\"#888\" stroke-width=\"1\" opacity=\"1\"/><line transform=\"translate(0,1810)\" x2=\"-5\" y2=\"0\" stroke=\"#888\" stroke-width=\"1\" opacity=\"1\"/><line transform=\"translate(0,1830)\" x2=\"-5\" y2=\"0\" stroke=\"#888\" stroke-width=\"1\" opacity=\"1\"/><line transform=\"translate(0,1850)\" x2=\"-5\" y2=\"0\" stroke=\"#888\" stroke-width=\"1\" opacity=\"1\"/><line transform=\"translate(0,1870)\" x2=\"-5\" y2=\"0\" stroke=\"#888\" stroke-width=\"1\" opacity=\"1\"/><line transform=\"translate(0,1890)\" x2=\"-5\" y2=\"0\" stroke=\"#888\" stroke-width=\"1\" opacity=\"1\"/><line transform=\"translate(0,1910)\" x2=\"-5\" y2=\"0\" stroke=\"#888\" stroke-width=\"1\" opacity=\"1\"/><line transform=\"translate(0,1930)\" x2=\"-5\" y2=\"0\" stroke=\"#888\" stroke-width=\"1\" opacity=\"1\"/><line transform=\"translate(0,1950)\" x2=\"-5\" y2=\"0\" stroke=\"#888\" stroke-width=\"1\" opacity=\"1\"/><line transform=\"translate(0,1970)\" x2=\"-5\" y2=\"0\" stroke=\"#888\" stroke-width=\"1\" opacity=\"1\"/><line transform=\"translate(0,1990)\" x2=\"-5\" y2=\"0\" stroke=\"#888\" stroke-width=\"1\" opacity=\"1\"/><line transform=\"translate(0,2010)\" x2=\"-5\" y2=\"0\" stroke=\"#888\" stroke-width=\"1\" opacity=\"1\"/><line transform=\"translate(0,2030)\" x2=\"-5\" y2=\"0\" stroke=\"#888\" stroke-width=\"1\" opacity=\"1\"/><line transform=\"translate(0,2050)\" x2=\"-5\" y2=\"0\" stroke=\"#888\" stroke-width=\"1\" opacity=\"1\"/></g><g class=\"mark-text role-axis-label\" pointer-events=\"none\"><text text-anchor=\"end\" transform=\"translate(-7,12.5)\" font-family=\"sans-serif\" font-size=\"10px\" fill=\"#000\" opacity=\"1\">1</text><text text-anchor=\"end\" transform=\"translate(-7,32.5)\" font-family=\"sans-serif\" font-size=\"10px\" fill=\"#000\" opacity=\"1\">2</text><text text-anchor=\"end\" transform=\"translate(-7,52.5)\" font-family=\"sans-serif\" font-size=\"10px\" fill=\"#000\" opacity=\"1\">3</text><text text-anchor=\"end\" transform=\"translate(-7,72.5)\" font-family=\"sans-serif\" font-size=\"10px\" fill=\"#000\" opacity=\"1\">4</text><text text-anchor=\"end\" transform=\"translate(-7,92.5)\" font-family=\"sans-serif\" font-size=\"10px\" fill=\"#000\" opacity=\"1\">5</text><text text-anchor=\"end\" transform=\"translate(-7,112.5)\" font-family=\"sans-serif\" font-size=\"10px\" fill=\"#000\" opacity=\"1\">6</text><text text-anchor=\"end\" transform=\"translate(-7,132.5)\" font-family=\"sans-serif\" font-size=\"10px\" fill=\"#000\" opacity=\"1\">7</text><text text-anchor=\"end\" transform=\"translate(-7,152.5)\" font-family=\"sans-serif\" font-size=\"10px\" fill=\"#000\" opacity=\"1\">8</text><text text-anchor=\"end\" transform=\"translate(-7,172.5)\" font-family=\"sans-serif\" font-size=\"10px\" fill=\"#000\" opacity=\"1\">9</text><text text-anchor=\"end\" transform=\"translate(-7,192.5)\" font-family=\"sans-serif\" font-size=\"10px\" fill=\"#000\" opacity=\"1\">10</text><text text-anchor=\"end\" transform=\"translate(-7,212.5)\" font-family=\"sans-serif\" font-size=\"10px\" fill=\"#000\" opacity=\"1\">11</text><text text-anchor=\"end\" transform=\"translate(-7,232.5)\" font-family=\"sans-serif\" font-size=\"10px\" fill=\"#000\" opacity=\"1\">12</text><text text-anchor=\"end\" transform=\"translate(-7,252.5)\" font-family=\"sans-serif\" font-size=\"10px\" fill=\"#000\" opacity=\"1\">13</text><text text-anchor=\"end\" transform=\"translate(-7,272.5)\" font-family=\"sans-serif\" font-size=\"10px\" fill=\"#000\" opacity=\"1\">14</text><text text-anchor=\"end\" transform=\"translate(-7,292.5)\" font-family=\"sans-serif\" font-size=\"10px\" fill=\"#000\" opacity=\"1\">15</text><text text-anchor=\"end\" transform=\"translate(-7,312.5)\" font-family=\"sans-serif\" font-size=\"10px\" fill=\"#000\" opacity=\"1\">16</text><text text-anchor=\"end\" transform=\"translate(-7,332.5)\" font-family=\"sans-serif\" font-size=\"10px\" fill=\"#000\" opacity=\"1\">17</text><text text-anchor=\"end\" transform=\"translate(-7,352.5)\" font-family=\"sans-serif\" font-size=\"10px\" fill=\"#000\" opacity=\"1\">18</text><text text-anchor=\"end\" transform=\"translate(-7,372.5)\" font-family=\"sans-serif\" font-size=\"10px\" fill=\"#000\" opacity=\"1\">19</text><text text-anchor=\"end\" transform=\"translate(-7,392.5)\" font-family=\"sans-serif\" font-size=\"10px\" fill=\"#000\" opacity=\"1\">20</text><text text-anchor=\"end\" transform=\"translate(-7,412.5)\" font-family=\"sans-serif\" font-size=\"10px\" fill=\"#000\" opacity=\"1\">21</text><text text-anchor=\"end\" transform=\"translate(-7,432.5)\" font-family=\"sans-serif\" font-size=\"10px\" fill=\"#000\" opacity=\"1\">22</text><text text-anchor=\"end\" transform=\"translate(-7,452.5)\" font-family=\"sans-serif\" font-size=\"10px\" fill=\"#000\" opacity=\"1\">23</text><text text-anchor=\"end\" transform=\"translate(-7,472.5)\" font-family=\"sans-serif\" font-size=\"10px\" fill=\"#000\" opacity=\"1\">24</text><text text-anchor=\"end\" transform=\"translate(-7,492.5)\" font-family=\"sans-serif\" font-size=\"10px\" fill=\"#000\" opacity=\"1\">25</text><text text-anchor=\"end\" transform=\"translate(-7,512.5)\" font-family=\"sans-serif\" font-size=\"10px\" fill=\"#000\" opacity=\"1\">26</text><text text-anchor=\"end\" transform=\"translate(-7,532.5)\" font-family=\"sans-serif\" font-size=\"10px\" fill=\"#000\" opacity=\"1\">27</text><text text-anchor=\"end\" transform=\"translate(-7,552.5)\" font-family=\"sans-serif\" font-size=\"10px\" fill=\"#000\" opacity=\"1\">28</text><text text-anchor=\"end\" transform=\"translate(-7,572.5)\" font-family=\"sans-serif\" font-size=\"10px\" fill=\"#000\" opacity=\"1\">29</text><text text-anchor=\"end\" transform=\"translate(-7,592.5)\" font-family=\"sans-serif\" font-size=\"10px\" fill=\"#000\" opacity=\"1\">30</text><text text-anchor=\"end\" transform=\"translate(-7,612.5)\" font-family=\"sans-serif\" font-size=\"10px\" fill=\"#000\" opacity=\"1\">31</text><text text-anchor=\"end\" transform=\"translate(-7,632.5)\" font-family=\"sans-serif\" font-size=\"10px\" fill=\"#000\" opacity=\"1\">32</text><text text-anchor=\"end\" transform=\"translate(-7,652.5)\" font-family=\"sans-serif\" font-size=\"10px\" fill=\"#000\" opacity=\"1\">33</text><text text-anchor=\"end\" transform=\"translate(-7,672.5)\" font-family=\"sans-serif\" font-size=\"10px\" fill=\"#000\" opacity=\"1\">34</text><text text-anchor=\"end\" transform=\"translate(-7,692.5)\" font-family=\"sans-serif\" font-size=\"10px\" fill=\"#000\" opacity=\"1\">35</text><text text-anchor=\"end\" transform=\"translate(-7,712.5)\" font-family=\"sans-serif\" font-size=\"10px\" fill=\"#000\" opacity=\"1\">36</text><text text-anchor=\"end\" transform=\"translate(-7,732.5)\" font-family=\"sans-serif\" font-size=\"10px\" fill=\"#000\" opacity=\"1\">37</text><text text-anchor=\"end\" transform=\"translate(-7,752.5)\" font-family=\"sans-serif\" font-size=\"10px\" fill=\"#000\" opacity=\"1\">38</text><text text-anchor=\"end\" transform=\"translate(-7,772.5)\" font-family=\"sans-serif\" font-size=\"10px\" fill=\"#000\" opacity=\"1\">39</text><text text-anchor=\"end\" transform=\"translate(-7,792.5)\" font-family=\"sans-serif\" font-size=\"10px\" fill=\"#000\" opacity=\"1\">40</text><text text-anchor=\"end\" transform=\"translate(-7,812.5)\" font-family=\"sans-serif\" font-size=\"10px\" fill=\"#000\" opacity=\"1\">41</text><text text-anchor=\"end\" transform=\"translate(-7,832.5)\" font-family=\"sans-serif\" font-size=\"10px\" fill=\"#000\" opacity=\"1\">42</text><text text-anchor=\"end\" transform=\"translate(-7,852.5)\" font-family=\"sans-serif\" font-size=\"10px\" fill=\"#000\" opacity=\"1\">43</text><text text-anchor=\"end\" transform=\"translate(-7,872.5)\" font-family=\"sans-serif\" font-size=\"10px\" fill=\"#000\" opacity=\"1\">44</text><text text-anchor=\"end\" transform=\"translate(-7,892.5)\" font-family=\"sans-serif\" font-size=\"10px\" fill=\"#000\" opacity=\"1\">45</text><text text-anchor=\"end\" transform=\"translate(-7,912.5)\" font-family=\"sans-serif\" font-size=\"10px\" fill=\"#000\" opacity=\"1\">46</text><text text-anchor=\"end\" transform=\"translate(-7,932.5)\" font-family=\"sans-serif\" font-size=\"10px\" fill=\"#000\" opacity=\"1\">47</text><text text-anchor=\"end\" transform=\"translate(-7,952.5)\" font-family=\"sans-serif\" font-size=\"10px\" fill=\"#000\" opacity=\"1\">48</text><text text-anchor=\"end\" transform=\"translate(-7,972.5)\" font-family=\"sans-serif\" font-size=\"10px\" fill=\"#000\" opacity=\"1\">49</text><text text-anchor=\"end\" transform=\"translate(-7,992.5)\" font-family=\"sans-serif\" font-size=\"10px\" fill=\"#000\" opacity=\"1\">50</text><text text-anchor=\"end\" transform=\"translate(-7,1012.5)\" font-family=\"sans-serif\" font-size=\"10px\" fill=\"#000\" opacity=\"1\">51</text><text text-anchor=\"end\" transform=\"translate(-7,1032.5)\" font-family=\"sans-serif\" font-size=\"10px\" fill=\"#000\" opacity=\"1\">52</text><text text-anchor=\"end\" transform=\"translate(-7,1052.5)\" font-family=\"sans-serif\" font-size=\"10px\" fill=\"#000\" opacity=\"1\">53</text><text text-anchor=\"end\" transform=\"translate(-7,1072.5)\" font-family=\"sans-serif\" font-size=\"10px\" fill=\"#000\" opacity=\"1\">54</text><text text-anchor=\"end\" transform=\"translate(-7,1092.5)\" font-family=\"sans-serif\" font-size=\"10px\" fill=\"#000\" opacity=\"1\">55</text><text text-anchor=\"end\" transform=\"translate(-7,1112.5)\" font-family=\"sans-serif\" font-size=\"10px\" fill=\"#000\" opacity=\"1\">56</text><text text-anchor=\"end\" transform=\"translate(-7,1132.5)\" font-family=\"sans-serif\" font-size=\"10px\" fill=\"#000\" opacity=\"1\">57</text><text text-anchor=\"end\" transform=\"translate(-7,1152.5)\" font-family=\"sans-serif\" font-size=\"10px\" fill=\"#000\" opacity=\"1\">58</text><text text-anchor=\"end\" transform=\"translate(-7,1172.5)\" font-family=\"sans-serif\" font-size=\"10px\" fill=\"#000\" opacity=\"1\">59</text><text text-anchor=\"end\" transform=\"translate(-7,1192.5)\" font-family=\"sans-serif\" font-size=\"10px\" fill=\"#000\" opacity=\"1\">60</text><text text-anchor=\"end\" transform=\"translate(-7,1212.5)\" font-family=\"sans-serif\" font-size=\"10px\" fill=\"#000\" opacity=\"1\">61</text><text text-anchor=\"end\" transform=\"translate(-7,1232.5)\" font-family=\"sans-serif\" font-size=\"10px\" fill=\"#000\" opacity=\"1\">62</text><text text-anchor=\"end\" transform=\"translate(-7,1252.5)\" font-family=\"sans-serif\" font-size=\"10px\" fill=\"#000\" opacity=\"1\">63</text><text text-anchor=\"end\" transform=\"translate(-7,1272.5)\" font-family=\"sans-serif\" font-size=\"10px\" fill=\"#000\" opacity=\"1\">64</text><text text-anchor=\"end\" transform=\"translate(-7,1292.5)\" font-family=\"sans-serif\" font-size=\"10px\" fill=\"#000\" opacity=\"1\">65</text><text text-anchor=\"end\" transform=\"translate(-7,1312.5)\" font-family=\"sans-serif\" font-size=\"10px\" fill=\"#000\" opacity=\"1\">66</text><text text-anchor=\"end\" transform=\"translate(-7,1332.5)\" font-family=\"sans-serif\" font-size=\"10px\" fill=\"#000\" opacity=\"1\">67</text><text text-anchor=\"end\" transform=\"translate(-7,1352.5)\" font-family=\"sans-serif\" font-size=\"10px\" fill=\"#000\" opacity=\"1\">68</text><text text-anchor=\"end\" transform=\"translate(-7,1372.5)\" font-family=\"sans-serif\" font-size=\"10px\" fill=\"#000\" opacity=\"1\">69</text><text text-anchor=\"end\" transform=\"translate(-7,1392.5)\" font-family=\"sans-serif\" font-size=\"10px\" fill=\"#000\" opacity=\"1\">70</text><text text-anchor=\"end\" transform=\"translate(-7,1412.5)\" font-family=\"sans-serif\" font-size=\"10px\" fill=\"#000\" opacity=\"1\">71</text><text text-anchor=\"end\" transform=\"translate(-7,1432.5)\" font-family=\"sans-serif\" font-size=\"10px\" fill=\"#000\" opacity=\"1\">72</text><text text-anchor=\"end\" transform=\"translate(-7,1452.5)\" font-family=\"sans-serif\" font-size=\"10px\" fill=\"#000\" opacity=\"1\">73</text><text text-anchor=\"end\" transform=\"translate(-7,1472.5)\" font-family=\"sans-serif\" font-size=\"10px\" fill=\"#000\" opacity=\"1\">74</text><text text-anchor=\"end\" transform=\"translate(-7,1492.5)\" font-family=\"sans-serif\" font-size=\"10px\" fill=\"#000\" opacity=\"1\">75</text><text text-anchor=\"end\" transform=\"translate(-7,1512.5)\" font-family=\"sans-serif\" font-size=\"10px\" fill=\"#000\" opacity=\"1\">76</text><text text-anchor=\"end\" transform=\"translate(-7,1532.5)\" font-family=\"sans-serif\" font-size=\"10px\" fill=\"#000\" opacity=\"1\">77</text><text text-anchor=\"end\" transform=\"translate(-7,1552.5)\" font-family=\"sans-serif\" font-size=\"10px\" fill=\"#000\" opacity=\"1\">78</text><text text-anchor=\"end\" transform=\"translate(-7,1572.5)\" font-family=\"sans-serif\" font-size=\"10px\" fill=\"#000\" opacity=\"1\">79</text><text text-anchor=\"end\" transform=\"translate(-7,1592.5)\" font-family=\"sans-serif\" font-size=\"10px\" fill=\"#000\" opacity=\"1\">80</text><text text-anchor=\"end\" transform=\"translate(-7,1612.5)\" font-family=\"sans-serif\" font-size=\"10px\" fill=\"#000\" opacity=\"1\">81</text><text text-anchor=\"end\" transform=\"translate(-7,1632.5)\" font-family=\"sans-serif\" font-size=\"10px\" fill=\"#000\" opacity=\"1\">82</text><text text-anchor=\"end\" transform=\"translate(-7,1652.5)\" font-family=\"sans-serif\" font-size=\"10px\" fill=\"#000\" opacity=\"1\">83</text><text text-anchor=\"end\" transform=\"translate(-7,1672.5)\" font-family=\"sans-serif\" font-size=\"10px\" fill=\"#000\" opacity=\"1\">84</text><text text-anchor=\"end\" transform=\"translate(-7,1692.5)\" font-family=\"sans-serif\" font-size=\"10px\" fill=\"#000\" opacity=\"1\">85</text><text text-anchor=\"end\" transform=\"translate(-7,1712.5)\" font-family=\"sans-serif\" font-size=\"10px\" fill=\"#000\" opacity=\"1\">86</text><text text-anchor=\"end\" transform=\"translate(-7,1732.5)\" font-family=\"sans-serif\" font-size=\"10px\" fill=\"#000\" opacity=\"1\">87</text><text text-anchor=\"end\" transform=\"translate(-7,1752.5)\" font-family=\"sans-serif\" font-size=\"10px\" fill=\"#000\" opacity=\"1\">88</text><text text-anchor=\"end\" transform=\"translate(-7,1772.5)\" font-family=\"sans-serif\" font-size=\"10px\" fill=\"#000\" opacity=\"1\">89</text><text text-anchor=\"end\" transform=\"translate(-7,1792.5)\" font-family=\"sans-serif\" font-size=\"10px\" fill=\"#000\" opacity=\"1\">90</text><text text-anchor=\"end\" transform=\"translate(-7,1812.5)\" font-family=\"sans-serif\" font-size=\"10px\" fill=\"#000\" opacity=\"1\">91</text><text text-anchor=\"end\" transform=\"translate(-7,1832.5)\" font-family=\"sans-serif\" font-size=\"10px\" fill=\"#000\" opacity=\"1\">92</text><text text-anchor=\"end\" transform=\"translate(-7,1852.5)\" font-family=\"sans-serif\" font-size=\"10px\" fill=\"#000\" opacity=\"1\">93</text><text text-anchor=\"end\" transform=\"translate(-7,1872.5)\" font-family=\"sans-serif\" font-size=\"10px\" fill=\"#000\" opacity=\"1\">94</text><text text-anchor=\"end\" transform=\"translate(-7,1892.5)\" font-family=\"sans-serif\" font-size=\"10px\" fill=\"#000\" opacity=\"1\">95</text><text text-anchor=\"end\" transform=\"translate(-7,1912.5)\" font-family=\"sans-serif\" font-size=\"10px\" fill=\"#000\" opacity=\"1\">96</text><text text-anchor=\"end\" transform=\"translate(-7,1932.5)\" font-family=\"sans-serif\" font-size=\"10px\" fill=\"#000\" opacity=\"1\">97</text><text text-anchor=\"end\" transform=\"translate(-7,1952.5)\" font-family=\"sans-serif\" font-size=\"10px\" fill=\"#000\" opacity=\"1\">98</text><text text-anchor=\"end\" transform=\"translate(-7,1972.5)\" font-family=\"sans-serif\" font-size=\"10px\" fill=\"#000\" opacity=\"1\">99</text><text text-anchor=\"end\" transform=\"translate(-7,1992.5)\" font-family=\"sans-serif\" font-size=\"10px\" fill=\"#000\" opacity=\"1\">100</text><text text-anchor=\"end\" transform=\"translate(-7,2012.5)\" font-family=\"sans-serif\" font-size=\"10px\" fill=\"#000\" opacity=\"1\">101</text><text text-anchor=\"end\" transform=\"translate(-7,2032.5)\" font-family=\"sans-serif\" font-size=\"10px\" fill=\"#000\" opacity=\"1\">102</text><text text-anchor=\"end\" transform=\"translate(-7,2052.5)\" font-family=\"sans-serif\" font-size=\"10px\" fill=\"#000\" opacity=\"1\">103</text></g><g class=\"mark-rule role-axis-domain\" pointer-events=\"none\"><line transform=\"translate(0,0)\" x2=\"0\" y2=\"2060\" stroke=\"#888\" stroke-width=\"1\" opacity=\"1\"/></g><g class=\"mark-text role-axis-title\" pointer-events=\"none\"><text text-anchor=\"middle\" transform=\"translate(-27.376953125,1030) rotate(-90) translate(0,-2)\" font-family=\"sans-serif\" font-size=\"11px\" font-weight=\"bold\" fill=\"#000\" opacity=\"1\">job</text></g></g><path class=\"foreground\" aria-hidden=\"true\" d=\"\" pointer-events=\"none\" display=\"none\"/></g></g><g class=\"mark-rect role-mark layer_0_marks\" role=\"graphics-object\" aria-roledescription=\"rect mark container\"><path aria-label=\"start: 6; job: 1; stop: 8; order: 1\" role=\"graphics-symbol\" aria-roledescription=\"bar\" d=\"M34.285714285714285,1h11.42857142857143v18h-11.42857142857143Z\" fill=\"#4c78a8\"/><path aria-label=\"start: 8; job: 2; stop: 10; order: 1\" role=\"graphics-symbol\" aria-roledescription=\"bar\" d=\"M45.714285714285715,21h11.428571428571423v18h-11.428571428571423Z\" fill=\"#4c78a8\"/><path aria-label=\"start: 10; job: 3; stop: 12; order: 1\" role=\"graphics-symbol\" aria-roledescription=\"bar\" d=\"M57.14285714285714,41h11.42857142857143v18h-11.42857142857143Z\" fill=\"#4c78a8\"/><path aria-label=\"start: 6; job: 4; stop: 10; order: 2\" role=\"graphics-symbol\" aria-roledescription=\"bar\" d=\"M34.285714285714285,61h22.857142857142854v18h-22.857142857142854Z\" fill=\"#f58518\"/><path aria-label=\"start: 10; job: 5; stop: 11; order: 2\" role=\"graphics-symbol\" aria-roledescription=\"bar\" d=\"M57.14285714285714,81h5.714285714285715v18h-5.714285714285715Z\" fill=\"#f58518\"/><path aria-label=\"start: 11; job: 6; stop: 13; order: 2\" role=\"graphics-symbol\" aria-roledescription=\"bar\" d=\"M62.857142857142854,101h11.428571428571438v18h-11.428571428571438Z\" fill=\"#f58518\"/><path aria-label=\"start: 5; job: 7; stop: 6; order: 3\" role=\"graphics-symbol\" aria-roledescription=\"bar\" d=\"M28.57142857142857,121h5.714285714285715v18h-5.714285714285715Z\" fill=\"#e45756\"/><path aria-label=\"start: 6; job: 8; stop: 8; order: 3\" role=\"graphics-symbol\" aria-roledescription=\"bar\" d=\"M34.285714285714285,141h11.42857142857143v18h-11.42857142857143Z\" fill=\"#e45756\"/><path aria-label=\"start: 8; job: 9; stop: 10; order: 3\" role=\"graphics-symbol\" aria-roledescription=\"bar\" d=\"M45.714285714285715,161h11.428571428571423v18h-11.428571428571423Z\" fill=\"#e45756\"/><path aria-label=\"start: 3; job: 10; stop: 5; order: 4\" role=\"graphics-symbol\" aria-roledescription=\"bar\" d=\"M17.142857142857142,181h11.428571428571427v18h-11.428571428571427Z\" fill=\"#72b7b2\"/><path aria-label=\"start: 5; job: 11; stop: 10; order: 4\" role=\"graphics-symbol\" aria-roledescription=\"bar\" d=\"M28.57142857142857,201h28.57142857142857v18h-28.57142857142857Z\" fill=\"#72b7b2\"/><path aria-label=\"start: 10; job: 12; stop: 12; order: 4\" role=\"graphics-symbol\" aria-roledescription=\"bar\" d=\"M57.14285714285714,221h11.42857142857143v18h-11.42857142857143Z\" fill=\"#72b7b2\"/><path aria-label=\"start: 1; job: 13; stop: 3; order: 5\" role=\"graphics-symbol\" aria-roledescription=\"bar\" d=\"M5.714285714285714,241h11.428571428571427v18h-11.428571428571427Z\" fill=\"#54a24b\"/><path aria-label=\"start: 3; job: 14; stop: 5; order: 5\" role=\"graphics-symbol\" aria-roledescription=\"bar\" d=\"M17.142857142857142,261h11.428571428571427v18h-11.428571428571427Z\" fill=\"#54a24b\"/><path aria-label=\"start: 5; job: 15; stop: 7; order: 5\" role=\"graphics-symbol\" aria-roledescription=\"bar\" d=\"M28.57142857142857,281h11.42857142857143v18h-11.42857142857143Z\" fill=\"#54a24b\"/><path aria-label=\"start: 6; job: 16; stop: 8; order: 6\" role=\"graphics-symbol\" aria-roledescription=\"bar\" d=\"M34.285714285714285,301h11.42857142857143v18h-11.42857142857143Z\" fill=\"#eeca3b\"/><path aria-label=\"start: 8; job: 17; stop: 9; order: 6\" role=\"graphics-symbol\" aria-roledescription=\"bar\" d=\"M45.714285714285715,321h5.714285714285708v18h-5.714285714285708Z\" fill=\"#eeca3b\"/><path aria-label=\"start: 9; job: 18; stop: 11; order: 6\" role=\"graphics-symbol\" aria-roledescription=\"bar\" d=\"M51.42857142857142,341h11.42857142857143v18h-11.42857142857143Z\" fill=\"#eeca3b\"/><path aria-label=\"start: 11; job: 19; stop: 13; order: 6\" role=\"graphics-symbol\" aria-roledescription=\"bar\" d=\"M62.857142857142854,361h11.428571428571438v18h-11.428571428571438Z\" fill=\"#eeca3b\"/><path aria-label=\"start: 3; job: 20; stop: 4; order: 7\" role=\"graphics-symbol\" aria-roledescription=\"bar\" d=\"M17.142857142857142,381h5.714285714285715v18h-5.714285714285715Z\" fill=\"#b279a2\"/><path aria-label=\"start: 4; job: 21; stop: 6; order: 7\" role=\"graphics-symbol\" aria-roledescription=\"bar\" d=\"M22.857142857142858,401h11.428571428571427v18h-11.428571428571427Z\" fill=\"#b279a2\"/><path aria-label=\"start: 6; job: 22; stop: 8; order: 7\" role=\"graphics-symbol\" aria-roledescription=\"bar\" d=\"M34.285714285714285,421h11.42857142857143v18h-11.42857142857143Z\" fill=\"#b279a2\"/><path aria-label=\"start: 5; job: 23; stop: 6; order: 8\" role=\"graphics-symbol\" aria-roledescription=\"bar\" d=\"M28.57142857142857,441h5.714285714285715v18h-5.714285714285715Z\" fill=\"#ff9da6\"/><path aria-label=\"start: 6; job: 24; stop: 9; order: 8\" role=\"graphics-symbol\" aria-roledescription=\"bar\" d=\"M34.285714285714285,461h17.14285714285714v18h-17.14285714285714Z\" fill=\"#ff9da6\"/><path aria-label=\"start: 9; job: 25; stop: 11; order: 8\" role=\"graphics-symbol\" aria-roledescription=\"bar\" d=\"M51.42857142857142,481h11.42857142857143v18h-11.42857142857143Z\" fill=\"#ff9da6\"/><path aria-label=\"start: 8; job: 26; stop: 11; order: 9\" role=\"graphics-symbol\" aria-roledescription=\"bar\" d=\"M45.714285714285715,501h17.14285714285714v18h-17.14285714285714Z\" fill=\"#9d755d\"/><path aria-label=\"start: 11; job: 27; stop: 13; order: 9\" role=\"graphics-symbol\" aria-roledescription=\"bar\" d=\"M62.857142857142854,521h11.428571428571438v18h-11.428571428571438Z\" fill=\"#9d755d\"/><path aria-label=\"start: 13; job: 28; stop: 15; order: 9\" role=\"graphics-symbol\" aria-roledescription=\"bar\" d=\"M74.28571428571429,541h11.428571428571416v18h-11.428571428571416Z\" fill=\"#9d755d\"/><path aria-label=\"start: 18; job: 29; stop: 21; order: 10\" role=\"graphics-symbol\" aria-roledescription=\"bar\" d=\"M102.85714285714285,561h17.142857142857153v18h-17.142857142857153Z\" fill=\"#bab0ac\"/><path aria-label=\"start: 21; job: 30; stop: 23; order: 10\" role=\"graphics-symbol\" aria-roledescription=\"bar\" d=\"M120,581h11.428571428571416v18h-11.428571428571416Z\" fill=\"#bab0ac\"/><path aria-label=\"start: 23; job: 31; stop: 26; order: 10\" role=\"graphics-symbol\" aria-roledescription=\"bar\" d=\"M131.42857142857142,601h17.142857142857167v18h-17.142857142857167Z\" fill=\"#bab0ac\"/><path aria-label=\"start: 26; job: 32; stop: 30; order: 10\" role=\"graphics-symbol\" aria-roledescription=\"bar\" d=\"M148.57142857142858,621h22.857142857142833v18h-22.857142857142833Z\" fill=\"#bab0ac\"/><path aria-label=\"start: 30; job: 33; stop: 32; order: 10\" role=\"graphics-symbol\" aria-roledescription=\"bar\" d=\"M171.42857142857142,641h11.428571428571445v18h-11.428571428571445Z\" fill=\"#bab0ac\"/><path aria-label=\"start: 9; job: 34; stop: 10; order: 11\" role=\"graphics-symbol\" aria-roledescription=\"bar\" d=\"M51.42857142857142,661h5.714285714285715v18h-5.714285714285715Z\" fill=\"#4c78a8\"/><path aria-label=\"start: 10; job: 35; stop: 16; order: 11\" role=\"graphics-symbol\" aria-roledescription=\"bar\" d=\"M57.14285714285714,681h34.28571428571429v18h-34.28571428571429Z\" fill=\"#4c78a8\"/><path aria-label=\"start: 16; job: 36; stop: 18; order: 11\" role=\"graphics-symbol\" aria-roledescription=\"bar\" d=\"M91.42857142857143,701h11.428571428571416v18h-11.428571428571416Z\" fill=\"#4c78a8\"/><path aria-label=\"start: 4; job: 37; stop: 5; order: 12\" role=\"graphics-symbol\" aria-roledescription=\"bar\" d=\"M22.857142857142858,721h5.714285714285712v18h-5.714285714285712Z\" fill=\"#f58518\"/><path aria-label=\"start: 5; job: 38; stop: 6; order: 12\" role=\"graphics-symbol\" aria-roledescription=\"bar\" d=\"M28.57142857142857,741h5.714285714285715v18h-5.714285714285715Z\" fill=\"#f58518\"/><path aria-label=\"start: 6; job: 39; stop: 8; order: 12\" role=\"graphics-symbol\" aria-roledescription=\"bar\" d=\"M34.285714285714285,761h11.42857142857143v18h-11.42857142857143Z\" fill=\"#f58518\"/><path aria-label=\"start: 12; job: 40; stop: 14; order: 13\" role=\"graphics-symbol\" aria-roledescription=\"bar\" d=\"M68.57142857142857,781h11.42857142857143v18h-11.42857142857143Z\" fill=\"#e45756\"/><path aria-label=\"start: 14; job: 41; stop: 16; order: 13\" role=\"graphics-symbol\" aria-roledescription=\"bar\" d=\"M80,801h11.42857142857143v18h-11.42857142857143Z\" fill=\"#e45756\"/><path aria-label=\"start: 16; job: 42; stop: 20; order: 13\" role=\"graphics-symbol\" aria-roledescription=\"bar\" d=\"M91.42857142857143,821h22.857142857142847v18h-22.857142857142847Z\" fill=\"#e45756\"/><path aria-label=\"start: 20; job: 43; stop: 22; order: 13\" role=\"graphics-symbol\" aria-roledescription=\"bar\" d=\"M114.28571428571428,841h11.42857142857143v18h-11.42857142857143Z\" fill=\"#e45756\"/><path aria-label=\"start: 16; job: 44; stop: 18; order: 14\" role=\"graphics-symbol\" aria-roledescription=\"bar\" d=\"M91.42857142857143,861h11.428571428571416v18h-11.428571428571416Z\" fill=\"#72b7b2\"/><path aria-label=\"start: 18; job: 45; stop: 20; order: 14\" role=\"graphics-symbol\" aria-roledescription=\"bar\" d=\"M102.85714285714285,881h11.42857142857143v18h-11.42857142857143Z\" fill=\"#72b7b2\"/><path aria-label=\"start: 20; job: 46; stop: 22; order: 14\" role=\"graphics-symbol\" aria-roledescription=\"bar\" d=\"M114.28571428571428,901h11.42857142857143v18h-11.42857142857143Z\" fill=\"#72b7b2\"/><path aria-label=\"start: 22; job: 47; stop: 28; order: 14\" role=\"graphics-symbol\" aria-roledescription=\"bar\" d=\"M125.71428571428571,921h34.28571428571429v18h-34.28571428571429Z\" fill=\"#72b7b2\"/><path aria-label=\"start: 28; job: 48; stop: 30; order: 14\" role=\"graphics-symbol\" aria-roledescription=\"bar\" d=\"M160,941h11.428571428571416v18h-11.428571428571416Z\" fill=\"#72b7b2\"/><path aria-label=\"start: 13; job: 49; stop: 14; order: 15\" role=\"graphics-symbol\" aria-roledescription=\"bar\" d=\"M74.28571428571429,961h5.714285714285708v18h-5.714285714285708Z\" fill=\"#54a24b\"/><path aria-label=\"start: 14; job: 50; stop: 16; order: 15\" role=\"graphics-symbol\" aria-roledescription=\"bar\" d=\"M80,981h11.42857142857143v18h-11.42857142857143Z\" fill=\"#54a24b\"/><path aria-label=\"start: 16; job: 51; stop: 22; order: 15\" role=\"graphics-symbol\" aria-roledescription=\"bar\" d=\"M91.42857142857143,1001h34.28571428571428v18h-34.28571428571428Z\" fill=\"#54a24b\"/><path aria-label=\"start: 22; job: 52; stop: 24; order: 15\" role=\"graphics-symbol\" aria-roledescription=\"bar\" d=\"M125.71428571428571,1021h11.42857142857143v18h-11.42857142857143Z\" fill=\"#54a24b\"/><path aria-label=\"start: 10; job: 53; stop: 14; order: 16\" role=\"graphics-symbol\" aria-roledescription=\"bar\" d=\"M57.14285714285714,1041h22.85714285714286v18h-22.85714285714286Z\" fill=\"#eeca3b\"/><path aria-label=\"start: 14; job: 54; stop: 16; order: 16\" role=\"graphics-symbol\" aria-roledescription=\"bar\" d=\"M80,1061h11.42857142857143v18h-11.42857142857143Z\" fill=\"#eeca3b\"/><path aria-label=\"start: 16; job: 55; stop: 17; order: 16\" role=\"graphics-symbol\" aria-roledescription=\"bar\" d=\"M91.42857142857143,1081h5.714285714285708v18h-5.714285714285708Z\" fill=\"#eeca3b\"/><path aria-label=\"start: 17; job: 56; stop: 19; order: 16\" role=\"graphics-symbol\" aria-roledescription=\"bar\" d=\"M97.14285714285714,1101h11.42857142857143v18h-11.42857142857143Z\" fill=\"#eeca3b\"/><path aria-label=\"start: 17; job: 57; stop: 20; order: 17\" role=\"graphics-symbol\" aria-roledescription=\"bar\" d=\"M97.14285714285714,1121h17.14285714285714v18h-17.14285714285714Z\" fill=\"#b279a2\"/><path aria-label=\"start: 20; job: 58; stop: 21; order: 17\" role=\"graphics-symbol\" aria-roledescription=\"bar\" d=\"M114.28571428571428,1141h5.714285714285722v18h-5.714285714285722Z\" fill=\"#b279a2\"/><path aria-label=\"start: 21; job: 59; stop: 25; order: 17\" role=\"graphics-symbol\" aria-roledescription=\"bar\" d=\"M120,1161h22.85714285714286v18h-22.85714285714286Z\" fill=\"#b279a2\"/><path aria-label=\"start: 25; job: 60; stop: 30; order: 17\" role=\"graphics-symbol\" aria-roledescription=\"bar\" d=\"M142.85714285714286,1181h28.571428571428555v18h-28.571428571428555Z\" fill=\"#b279a2\"/><path aria-label=\"start: 30; job: 61; stop: 32; order: 17\" role=\"graphics-symbol\" aria-roledescription=\"bar\" d=\"M171.42857142857142,1201h11.428571428571445v18h-11.428571428571445Z\" fill=\"#b279a2\"/><path aria-label=\"start: 14; job: 62; stop: 17; order: 18\" role=\"graphics-symbol\" aria-roledescription=\"bar\" d=\"M80,1221h17.14285714285714v18h-17.14285714285714Z\" fill=\"#ff9da6\"/><path aria-label=\"start: 17; job: 63; stop: 18; order: 18\" role=\"graphics-symbol\" aria-roledescription=\"bar\" d=\"M97.14285714285714,1241h5.714285714285708v18h-5.714285714285708Z\" fill=\"#ff9da6\"/><path aria-label=\"start: 18; job: 64; stop: 21; order: 18\" role=\"graphics-symbol\" aria-roledescription=\"bar\" d=\"M102.85714285714285,1261h17.142857142857153v18h-17.142857142857153Z\" fill=\"#ff9da6\"/><path aria-label=\"start: 21; job: 65; stop: 23; order: 18\" role=\"graphics-symbol\" aria-roledescription=\"bar\" d=\"M120,1281h11.428571428571416v18h-11.428571428571416Z\" fill=\"#ff9da6\"/><path aria-label=\"start: 26; job: 66; stop: 31; order: 19\" role=\"graphics-symbol\" aria-roledescription=\"bar\" d=\"M148.57142857142858,1301h28.571428571428555v18h-28.571428571428555Z\" fill=\"#9d755d\"/><path aria-label=\"start: 31; job: 67; stop: 33; order: 19\" role=\"graphics-symbol\" aria-roledescription=\"bar\" d=\"M177.14285714285714,1321h11.428571428571416v18h-11.428571428571416Z\" fill=\"#9d755d\"/><path aria-label=\"start: 33; job: 68; stop: 35; order: 19\" role=\"graphics-symbol\" aria-roledescription=\"bar\" d=\"M188.57142857142856,1341h11.428571428571445v18h-11.428571428571445Z\" fill=\"#9d755d\"/><path aria-label=\"start: 14; job: 69; stop: 16; order: 20\" role=\"graphics-symbol\" aria-roledescription=\"bar\" d=\"M80,1361h11.42857142857143v18h-11.42857142857143Z\" fill=\"#bab0ac\"/><path aria-label=\"start: 16; job: 70; stop: 18; order: 20\" role=\"graphics-symbol\" aria-roledescription=\"bar\" d=\"M91.42857142857143,1381h11.428571428571416v18h-11.428571428571416Z\" fill=\"#bab0ac\"/><path aria-label=\"start: 18; job: 71; stop: 20; order: 20\" role=\"graphics-symbol\" aria-roledescription=\"bar\" d=\"M102.85714285714285,1401h11.42857142857143v18h-11.42857142857143Z\" fill=\"#bab0ac\"/><path aria-label=\"start: 16; job: 72; stop: 18; order: 21\" role=\"graphics-symbol\" aria-roledescription=\"bar\" d=\"M91.42857142857143,1421h11.428571428571416v18h-11.428571428571416Z\" fill=\"#4c78a8\"/><path aria-label=\"start: 18; job: 73; stop: 20; order: 21\" role=\"graphics-symbol\" aria-roledescription=\"bar\" d=\"M102.85714285714285,1441h11.42857142857143v18h-11.42857142857143Z\" fill=\"#4c78a8\"/><path aria-label=\"start: 20; job: 74; stop: 22; order: 21\" role=\"graphics-symbol\" aria-roledescription=\"bar\" d=\"M114.28571428571428,1461h11.42857142857143v18h-11.42857142857143Z\" fill=\"#4c78a8\"/><path aria-label=\"start: 22; job: 75; stop: 24; order: 21\" role=\"graphics-symbol\" aria-roledescription=\"bar\" d=\"M125.71428571428571,1481h11.42857142857143v18h-11.42857142857143Z\" fill=\"#4c78a8\"/><path aria-label=\"start: 16; job: 76; stop: 17; order: 22\" role=\"graphics-symbol\" aria-roledescription=\"bar\" d=\"M91.42857142857143,1501h5.714285714285708v18h-5.714285714285708Z\" fill=\"#f58518\"/><path aria-label=\"start: 17; job: 77; stop: 20; order: 22\" role=\"graphics-symbol\" aria-roledescription=\"bar\" d=\"M97.14285714285714,1521h17.14285714285714v18h-17.14285714285714Z\" fill=\"#f58518\"/><path aria-label=\"start: 20; job: 78; stop: 22; order: 22\" role=\"graphics-symbol\" aria-roledescription=\"bar\" d=\"M114.28571428571428,1541h11.42857142857143v18h-11.42857142857143Z\" fill=\"#f58518\"/><path aria-label=\"start: 22; job: 79; stop: 24; order: 22\" role=\"graphics-symbol\" aria-roledescription=\"bar\" d=\"M125.71428571428571,1561h11.42857142857143v18h-11.42857142857143Z\" fill=\"#f58518\"/><path aria-label=\"start: 27; job: 80; stop: 29; order: 23\" role=\"graphics-symbol\" aria-roledescription=\"bar\" d=\"M154.2857142857143,1581h11.428571428571416v18h-11.428571428571416Z\" fill=\"#e45756\"/><path aria-label=\"start: 29; job: 81; stop: 31; order: 23\" role=\"graphics-symbol\" aria-roledescription=\"bar\" d=\"M165.71428571428572,1601h11.428571428571416v18h-11.428571428571416Z\" fill=\"#e45756\"/><path aria-label=\"start: 31; job: 82; stop: 33; order: 23\" role=\"graphics-symbol\" aria-roledescription=\"bar\" d=\"M177.14285714285714,1621h11.428571428571416v18h-11.428571428571416Z\" fill=\"#e45756\"/><path aria-label=\"start: 33; job: 83; stop: 35; order: 23\" role=\"graphics-symbol\" aria-roledescription=\"bar\" d=\"M188.57142857142856,1641h11.428571428571445v18h-11.428571428571445Z\" fill=\"#e45756\"/><path aria-label=\"start: 23; job: 84; stop: 24; order: 24\" role=\"graphics-symbol\" aria-roledescription=\"bar\" d=\"M131.42857142857142,1661h5.714285714285722v18h-5.714285714285722Z\" fill=\"#72b7b2\"/><path aria-label=\"start: 24; job: 85; stop: 27; order: 24\" role=\"graphics-symbol\" aria-roledescription=\"bar\" d=\"M137.14285714285714,1681h17.142857142857167v18h-17.142857142857167Z\" fill=\"#72b7b2\"/><path aria-label=\"start: 27; job: 86; stop: 29; order: 24\" role=\"graphics-symbol\" aria-roledescription=\"bar\" d=\"M154.2857142857143,1701h11.428571428571416v18h-11.428571428571416Z\" fill=\"#72b7b2\"/><path aria-label=\"start: 24; job: 87; stop: 27; order: 25\" role=\"graphics-symbol\" aria-roledescription=\"bar\" d=\"M137.14285714285714,1721h17.142857142857167v18h-17.142857142857167Z\" fill=\"#54a24b\"/><path aria-label=\"start: 27; job: 88; stop: 29; order: 25\" role=\"graphics-symbol\" aria-roledescription=\"bar\" d=\"M154.2857142857143,1741h11.428571428571416v18h-11.428571428571416Z\" fill=\"#54a24b\"/><path aria-label=\"start: 29; job: 89; stop: 31; order: 25\" role=\"graphics-symbol\" aria-roledescription=\"bar\" d=\"M165.71428571428572,1761h11.428571428571416v18h-11.428571428571416Z\" fill=\"#54a24b\"/><path aria-label=\"start: 21; job: 90; stop: 24; order: 26\" role=\"graphics-symbol\" aria-roledescription=\"bar\" d=\"M120,1781h17.14285714285714v18h-17.14285714285714Z\" fill=\"#eeca3b\"/><path aria-label=\"start: 24; job: 91; stop: 26; order: 26\" role=\"graphics-symbol\" aria-roledescription=\"bar\" d=\"M137.14285714285714,1801h11.428571428571445v18h-11.428571428571445Z\" fill=\"#eeca3b\"/><path aria-label=\"start: 26; job: 92; stop: 30; order: 26\" role=\"graphics-symbol\" aria-roledescription=\"bar\" d=\"M148.57142857142858,1821h22.857142857142833v18h-22.857142857142833Z\" fill=\"#eeca3b\"/><path aria-label=\"start: 30; job: 93; stop: 32; order: 26\" role=\"graphics-symbol\" aria-roledescription=\"bar\" d=\"M171.42857142857142,1841h11.428571428571445v18h-11.428571428571445Z\" fill=\"#eeca3b\"/><path aria-label=\"start: 24; job: 94; stop: 26; order: 27\" role=\"graphics-symbol\" aria-roledescription=\"bar\" d=\"M137.14285714285714,1861h11.428571428571445v18h-11.428571428571445Z\" fill=\"#b279a2\"/><path aria-label=\"start: 26; job: 95; stop: 27; order: 27\" role=\"graphics-symbol\" aria-roledescription=\"bar\" d=\"M148.57142857142858,1881h5.714285714285722v18h-5.714285714285722Z\" fill=\"#b279a2\"/><path aria-label=\"start: 27; job: 96; stop: 29; order: 27\" role=\"graphics-symbol\" aria-roledescription=\"bar\" d=\"M154.2857142857143,1901h11.428571428571416v18h-11.428571428571416Z\" fill=\"#b279a2\"/><path aria-label=\"start: 27; job: 97; stop: 28; order: 28\" role=\"graphics-symbol\" aria-roledescription=\"bar\" d=\"M154.2857142857143,1921h5.714285714285694v18h-5.714285714285694Z\" fill=\"#ff9da6\"/><path aria-label=\"start: 28; job: 98; stop: 33; order: 28\" role=\"graphics-symbol\" aria-roledescription=\"bar\" d=\"M160,1941h28.571428571428555v18h-28.571428571428555Z\" fill=\"#ff9da6\"/><path aria-label=\"start: 33; job: 99; stop: 35; order: 28\" role=\"graphics-symbol\" aria-roledescription=\"bar\" d=\"M188.57142857142856,1961h11.428571428571445v18h-11.428571428571445Z\" fill=\"#ff9da6\"/><path aria-label=\"start: 22; job: 100; stop: 24; order: 29\" role=\"graphics-symbol\" aria-roledescription=\"bar\" d=\"M125.71428571428571,1981h11.42857142857143v18h-11.42857142857143Z\" fill=\"#9d755d\"/><path aria-label=\"start: 24; job: 101; stop: 26; order: 29\" role=\"graphics-symbol\" aria-roledescription=\"bar\" d=\"M137.14285714285714,2001h11.428571428571445v18h-11.428571428571445Z\" fill=\"#9d755d\"/><path aria-label=\"start: 26; job: 102; stop: 31; order: 29\" role=\"graphics-symbol\" aria-roledescription=\"bar\" d=\"M148.57142857142858,2021h28.571428571428555v18h-28.571428571428555Z\" fill=\"#9d755d\"/><path aria-label=\"start: 31; job: 103; stop: 33; order: 29\" role=\"graphics-symbol\" aria-roledescription=\"bar\" d=\"M177.14285714285714,2041h11.428571428571416v18h-11.428571428571416Z\" fill=\"#9d755d\"/></g><g class=\"mark-rule role-mark layer_1_marks\" role=\"graphics-symbol\" aria-roledescription=\"rule mark container\"><line transform=\"translate(200,0)\" x2=\"0\" y2=\"2060\" stroke=\"black\" stroke-width=\"2\" stroke-dasharray=\"2,2\"/><line transform=\"translate(200,0)\" x2=\"0\" y2=\"2060\" stroke=\"black\" stroke-width=\"2\" stroke-dasharray=\"2,2\"/><line transform=\"translate(200,0)\" x2=\"0\" y2=\"2060\" stroke=\"black\" stroke-width=\"2\" stroke-dasharray=\"2,2\"/><line transform=\"translate(200,0)\" x2=\"0\" y2=\"2060\" stroke=\"black\" stroke-width=\"2\" stroke-dasharray=\"2,2\"/><line transform=\"translate(200,0)\" x2=\"0\" y2=\"2060\" stroke=\"black\" stroke-width=\"2\" stroke-dasharray=\"2,2\"/><line transform=\"translate(200,0)\" x2=\"0\" y2=\"2060\" stroke=\"black\" stroke-width=\"2\" stroke-dasharray=\"2,2\"/><line transform=\"translate(200,0)\" x2=\"0\" y2=\"2060\" stroke=\"black\" stroke-width=\"2\" stroke-dasharray=\"2,2\"/><line transform=\"translate(200,0)\" x2=\"0\" y2=\"2060\" stroke=\"black\" stroke-width=\"2\" stroke-dasharray=\"2,2\"/><line transform=\"translate(200,0)\" x2=\"0\" y2=\"2060\" stroke=\"black\" stroke-width=\"2\" stroke-dasharray=\"2,2\"/><line transform=\"translate(200,0)\" x2=\"0\" y2=\"2060\" stroke=\"black\" stroke-width=\"2\" stroke-dasharray=\"2,2\"/><line transform=\"translate(200,0)\" x2=\"0\" y2=\"2060\" stroke=\"black\" stroke-width=\"2\" stroke-dasharray=\"2,2\"/><line transform=\"translate(200,0)\" x2=\"0\" y2=\"2060\" stroke=\"black\" stroke-width=\"2\" stroke-dasharray=\"2,2\"/><line transform=\"translate(200,0)\" x2=\"0\" y2=\"2060\" stroke=\"black\" stroke-width=\"2\" stroke-dasharray=\"2,2\"/><line transform=\"translate(200,0)\" x2=\"0\" y2=\"2060\" stroke=\"black\" stroke-width=\"2\" stroke-dasharray=\"2,2\"/><line transform=\"translate(200,0)\" x2=\"0\" y2=\"2060\" stroke=\"black\" stroke-width=\"2\" stroke-dasharray=\"2,2\"/><line transform=\"translate(200,0)\" x2=\"0\" y2=\"2060\" stroke=\"black\" stroke-width=\"2\" stroke-dasharray=\"2,2\"/><line transform=\"translate(200,0)\" x2=\"0\" y2=\"2060\" stroke=\"black\" stroke-width=\"2\" stroke-dasharray=\"2,2\"/><line transform=\"translate(200,0)\" x2=\"0\" y2=\"2060\" stroke=\"black\" stroke-width=\"2\" stroke-dasharray=\"2,2\"/><line transform=\"translate(200,0)\" x2=\"0\" y2=\"2060\" stroke=\"black\" stroke-width=\"2\" stroke-dasharray=\"2,2\"/><line transform=\"translate(200,0)\" x2=\"0\" y2=\"2060\" stroke=\"black\" stroke-width=\"2\" stroke-dasharray=\"2,2\"/><line transform=\"translate(200,0)\" x2=\"0\" y2=\"2060\" stroke=\"black\" stroke-width=\"2\" stroke-dasharray=\"2,2\"/><line transform=\"translate(200,0)\" x2=\"0\" y2=\"2060\" stroke=\"black\" stroke-width=\"2\" stroke-dasharray=\"2,2\"/><line transform=\"translate(200,0)\" x2=\"0\" y2=\"2060\" stroke=\"black\" stroke-width=\"2\" stroke-dasharray=\"2,2\"/><line transform=\"translate(200,0)\" x2=\"0\" y2=\"2060\" stroke=\"black\" stroke-width=\"2\" stroke-dasharray=\"2,2\"/><line transform=\"translate(200,0)\" x2=\"0\" y2=\"2060\" stroke=\"black\" stroke-width=\"2\" stroke-dasharray=\"2,2\"/><line transform=\"translate(200,0)\" x2=\"0\" y2=\"2060\" stroke=\"black\" stroke-width=\"2\" stroke-dasharray=\"2,2\"/><line transform=\"translate(200,0)\" x2=\"0\" y2=\"2060\" stroke=\"black\" stroke-width=\"2\" stroke-dasharray=\"2,2\"/><line transform=\"translate(200,0)\" x2=\"0\" y2=\"2060\" stroke=\"black\" stroke-width=\"2\" stroke-dasharray=\"2,2\"/><line transform=\"translate(200,0)\" x2=\"0\" y2=\"2060\" stroke=\"black\" stroke-width=\"2\" stroke-dasharray=\"2,2\"/><line transform=\"translate(200,0)\" x2=\"0\" y2=\"2060\" stroke=\"black\" stroke-width=\"2\" stroke-dasharray=\"2,2\"/><line transform=\"translate(200,0)\" x2=\"0\" y2=\"2060\" stroke=\"black\" stroke-width=\"2\" stroke-dasharray=\"2,2\"/><line transform=\"translate(200,0)\" x2=\"0\" y2=\"2060\" stroke=\"black\" stroke-width=\"2\" stroke-dasharray=\"2,2\"/><line transform=\"translate(200,0)\" x2=\"0\" y2=\"2060\" stroke=\"black\" stroke-width=\"2\" stroke-dasharray=\"2,2\"/><line transform=\"translate(200,0)\" x2=\"0\" y2=\"2060\" stroke=\"black\" stroke-width=\"2\" stroke-dasharray=\"2,2\"/><line transform=\"translate(200,0)\" x2=\"0\" y2=\"2060\" stroke=\"black\" stroke-width=\"2\" stroke-dasharray=\"2,2\"/><line transform=\"translate(200,0)\" x2=\"0\" y2=\"2060\" stroke=\"black\" stroke-width=\"2\" stroke-dasharray=\"2,2\"/><line transform=\"translate(200,0)\" x2=\"0\" y2=\"2060\" stroke=\"black\" stroke-width=\"2\" stroke-dasharray=\"2,2\"/><line transform=\"translate(200,0)\" x2=\"0\" y2=\"2060\" stroke=\"black\" stroke-width=\"2\" stroke-dasharray=\"2,2\"/><line transform=\"translate(200,0)\" x2=\"0\" y2=\"2060\" stroke=\"black\" stroke-width=\"2\" stroke-dasharray=\"2,2\"/><line transform=\"translate(200,0)\" x2=\"0\" y2=\"2060\" stroke=\"black\" stroke-width=\"2\" stroke-dasharray=\"2,2\"/><line transform=\"translate(200,0)\" x2=\"0\" y2=\"2060\" stroke=\"black\" stroke-width=\"2\" stroke-dasharray=\"2,2\"/><line transform=\"translate(200,0)\" x2=\"0\" y2=\"2060\" stroke=\"black\" stroke-width=\"2\" stroke-dasharray=\"2,2\"/><line transform=\"translate(200,0)\" x2=\"0\" y2=\"2060\" stroke=\"black\" stroke-width=\"2\" stroke-dasharray=\"2,2\"/><line transform=\"translate(200,0)\" x2=\"0\" y2=\"2060\" stroke=\"black\" stroke-width=\"2\" stroke-dasharray=\"2,2\"/><line transform=\"translate(200,0)\" x2=\"0\" y2=\"2060\" stroke=\"black\" stroke-width=\"2\" stroke-dasharray=\"2,2\"/><line transform=\"translate(200,0)\" x2=\"0\" y2=\"2060\" stroke=\"black\" stroke-width=\"2\" stroke-dasharray=\"2,2\"/><line transform=\"translate(200,0)\" x2=\"0\" y2=\"2060\" stroke=\"black\" stroke-width=\"2\" stroke-dasharray=\"2,2\"/><line transform=\"translate(200,0)\" x2=\"0\" y2=\"2060\" stroke=\"black\" stroke-width=\"2\" stroke-dasharray=\"2,2\"/><line transform=\"translate(200,0)\" x2=\"0\" y2=\"2060\" stroke=\"black\" stroke-width=\"2\" stroke-dasharray=\"2,2\"/><line transform=\"translate(200,0)\" x2=\"0\" y2=\"2060\" stroke=\"black\" stroke-width=\"2\" stroke-dasharray=\"2,2\"/><line transform=\"translate(200,0)\" x2=\"0\" y2=\"2060\" stroke=\"black\" stroke-width=\"2\" stroke-dasharray=\"2,2\"/><line transform=\"translate(200,0)\" x2=\"0\" y2=\"2060\" stroke=\"black\" stroke-width=\"2\" stroke-dasharray=\"2,2\"/><line transform=\"translate(200,0)\" x2=\"0\" y2=\"2060\" stroke=\"black\" stroke-width=\"2\" stroke-dasharray=\"2,2\"/><line transform=\"translate(200,0)\" x2=\"0\" y2=\"2060\" stroke=\"black\" stroke-width=\"2\" stroke-dasharray=\"2,2\"/><line transform=\"translate(200,0)\" x2=\"0\" y2=\"2060\" stroke=\"black\" stroke-width=\"2\" stroke-dasharray=\"2,2\"/><line transform=\"translate(200,0)\" x2=\"0\" y2=\"2060\" stroke=\"black\" stroke-width=\"2\" stroke-dasharray=\"2,2\"/><line transform=\"translate(200,0)\" x2=\"0\" y2=\"2060\" stroke=\"black\" stroke-width=\"2\" stroke-dasharray=\"2,2\"/><line transform=\"translate(200,0)\" x2=\"0\" y2=\"2060\" stroke=\"black\" stroke-width=\"2\" stroke-dasharray=\"2,2\"/><line transform=\"translate(200,0)\" x2=\"0\" y2=\"2060\" stroke=\"black\" stroke-width=\"2\" stroke-dasharray=\"2,2\"/><line transform=\"translate(200,0)\" x2=\"0\" y2=\"2060\" stroke=\"black\" stroke-width=\"2\" stroke-dasharray=\"2,2\"/><line transform=\"translate(200,0)\" x2=\"0\" y2=\"2060\" stroke=\"black\" stroke-width=\"2\" stroke-dasharray=\"2,2\"/><line transform=\"translate(200,0)\" x2=\"0\" y2=\"2060\" stroke=\"black\" stroke-width=\"2\" stroke-dasharray=\"2,2\"/><line transform=\"translate(200,0)\" x2=\"0\" y2=\"2060\" stroke=\"black\" stroke-width=\"2\" stroke-dasharray=\"2,2\"/><line transform=\"translate(200,0)\" x2=\"0\" y2=\"2060\" stroke=\"black\" stroke-width=\"2\" stroke-dasharray=\"2,2\"/><line transform=\"translate(200,0)\" x2=\"0\" y2=\"2060\" stroke=\"black\" stroke-width=\"2\" stroke-dasharray=\"2,2\"/><line transform=\"translate(200,0)\" x2=\"0\" y2=\"2060\" stroke=\"black\" stroke-width=\"2\" stroke-dasharray=\"2,2\"/><line transform=\"translate(200,0)\" x2=\"0\" y2=\"2060\" stroke=\"black\" stroke-width=\"2\" stroke-dasharray=\"2,2\"/><line transform=\"translate(200,0)\" x2=\"0\" y2=\"2060\" stroke=\"black\" stroke-width=\"2\" stroke-dasharray=\"2,2\"/><line transform=\"translate(200,0)\" x2=\"0\" y2=\"2060\" stroke=\"black\" stroke-width=\"2\" stroke-dasharray=\"2,2\"/><line transform=\"translate(200,0)\" x2=\"0\" y2=\"2060\" stroke=\"black\" stroke-width=\"2\" stroke-dasharray=\"2,2\"/><line transform=\"translate(200,0)\" x2=\"0\" y2=\"2060\" stroke=\"black\" stroke-width=\"2\" stroke-dasharray=\"2,2\"/><line transform=\"translate(200,0)\" x2=\"0\" y2=\"2060\" stroke=\"black\" stroke-width=\"2\" stroke-dasharray=\"2,2\"/><line transform=\"translate(200,0)\" x2=\"0\" y2=\"2060\" stroke=\"black\" stroke-width=\"2\" stroke-dasharray=\"2,2\"/><line transform=\"translate(200,0)\" x2=\"0\" y2=\"2060\" stroke=\"black\" stroke-width=\"2\" stroke-dasharray=\"2,2\"/><line transform=\"translate(200,0)\" x2=\"0\" y2=\"2060\" stroke=\"black\" stroke-width=\"2\" stroke-dasharray=\"2,2\"/><line transform=\"translate(200,0)\" x2=\"0\" y2=\"2060\" stroke=\"black\" stroke-width=\"2\" stroke-dasharray=\"2,2\"/><line transform=\"translate(200,0)\" x2=\"0\" y2=\"2060\" stroke=\"black\" stroke-width=\"2\" stroke-dasharray=\"2,2\"/><line transform=\"translate(200,0)\" x2=\"0\" y2=\"2060\" stroke=\"black\" stroke-width=\"2\" stroke-dasharray=\"2,2\"/><line transform=\"translate(200,0)\" x2=\"0\" y2=\"2060\" stroke=\"black\" stroke-width=\"2\" stroke-dasharray=\"2,2\"/><line transform=\"translate(200,0)\" x2=\"0\" y2=\"2060\" stroke=\"black\" stroke-width=\"2\" stroke-dasharray=\"2,2\"/><line transform=\"translate(200,0)\" x2=\"0\" y2=\"2060\" stroke=\"black\" stroke-width=\"2\" stroke-dasharray=\"2,2\"/><line transform=\"translate(200,0)\" x2=\"0\" y2=\"2060\" stroke=\"black\" stroke-width=\"2\" stroke-dasharray=\"2,2\"/><line transform=\"translate(200,0)\" x2=\"0\" y2=\"2060\" stroke=\"black\" stroke-width=\"2\" stroke-dasharray=\"2,2\"/><line transform=\"translate(200,0)\" x2=\"0\" y2=\"2060\" stroke=\"black\" stroke-width=\"2\" stroke-dasharray=\"2,2\"/><line transform=\"translate(200,0)\" x2=\"0\" y2=\"2060\" stroke=\"black\" stroke-width=\"2\" stroke-dasharray=\"2,2\"/><line transform=\"translate(200,0)\" x2=\"0\" y2=\"2060\" stroke=\"black\" stroke-width=\"2\" stroke-dasharray=\"2,2\"/><line transform=\"translate(200,0)\" x2=\"0\" y2=\"2060\" stroke=\"black\" stroke-width=\"2\" stroke-dasharray=\"2,2\"/><line transform=\"translate(200,0)\" x2=\"0\" y2=\"2060\" stroke=\"black\" stroke-width=\"2\" stroke-dasharray=\"2,2\"/><line transform=\"translate(200,0)\" x2=\"0\" y2=\"2060\" stroke=\"black\" stroke-width=\"2\" stroke-dasharray=\"2,2\"/><line transform=\"translate(200,0)\" x2=\"0\" y2=\"2060\" stroke=\"black\" stroke-width=\"2\" stroke-dasharray=\"2,2\"/><line transform=\"translate(200,0)\" x2=\"0\" y2=\"2060\" stroke=\"black\" stroke-width=\"2\" stroke-dasharray=\"2,2\"/><line transform=\"translate(200,0)\" x2=\"0\" y2=\"2060\" stroke=\"black\" stroke-width=\"2\" stroke-dasharray=\"2,2\"/><line transform=\"translate(200,0)\" x2=\"0\" y2=\"2060\" stroke=\"black\" stroke-width=\"2\" stroke-dasharray=\"2,2\"/><line transform=\"translate(200,0)\" x2=\"0\" y2=\"2060\" stroke=\"black\" stroke-width=\"2\" stroke-dasharray=\"2,2\"/><line transform=\"translate(200,0)\" x2=\"0\" y2=\"2060\" stroke=\"black\" stroke-width=\"2\" stroke-dasharray=\"2,2\"/><line transform=\"translate(200,0)\" x2=\"0\" y2=\"2060\" stroke=\"black\" stroke-width=\"2\" stroke-dasharray=\"2,2\"/><line transform=\"translate(200,0)\" x2=\"0\" y2=\"2060\" stroke=\"black\" stroke-width=\"2\" stroke-dasharray=\"2,2\"/><line transform=\"translate(200,0)\" x2=\"0\" y2=\"2060\" stroke=\"black\" stroke-width=\"2\" stroke-dasharray=\"2,2\"/><line transform=\"translate(200,0)\" x2=\"0\" y2=\"2060\" stroke=\"black\" stroke-width=\"2\" stroke-dasharray=\"2,2\"/><line transform=\"translate(200,0)\" x2=\"0\" y2=\"2060\" stroke=\"black\" stroke-width=\"2\" stroke-dasharray=\"2,2\"/><line transform=\"translate(200,0)\" x2=\"0\" y2=\"2060\" stroke=\"black\" stroke-width=\"2\" stroke-dasharray=\"2,2\"/><line transform=\"translate(200,0)\" x2=\"0\" y2=\"2060\" stroke=\"black\" stroke-width=\"2\" stroke-dasharray=\"2,2\"/><line transform=\"translate(200,0)\" x2=\"0\" y2=\"2060\" stroke=\"black\" stroke-width=\"2\" stroke-dasharray=\"2,2\"/></g><g class=\"mark-group role-legend\" role=\"graphics-symbol\" aria-roledescription=\"legend\" aria-label=\"Symbol legend titled 'order' for fill color with 29 values: 1, 2, 3, 4, 5, ending with 29\"><g transform=\"translate(218,0)\"><path class=\"background\" aria-hidden=\"true\" d=\"M0,0h30v391h-30Z\" pointer-events=\"none\"/><g><g class=\"mark-group role-legend-entry\"><g transform=\"translate(0,16)\"><path class=\"background\" aria-hidden=\"true\" d=\"M0,0h0v0h0Z\" pointer-events=\"none\"/><g><g class=\"mark-group role-scope\" role=\"graphics-object\" aria-roledescription=\"group mark container\"><g transform=\"translate(0,0)\"><path class=\"background\" aria-hidden=\"true\" d=\"M0,0h26.91796875v11h-26.91796875Z\" pointer-events=\"none\" opacity=\"1\"/><g><g class=\"mark-symbol role-legend-symbol\" pointer-events=\"none\"><path transform=\"translate(6,6)\" d=\"M-5,-5h10v10h-10Z\" fill=\"#4c78a8\" stroke-width=\"1.5\" opacity=\"1\"/></g><g class=\"mark-text role-legend-label\" pointer-events=\"none\"><text text-anchor=\"start\" transform=\"translate(16,9)\" font-family=\"sans-serif\" font-size=\"10px\" fill=\"#000\" opacity=\"1\">1</text></g></g><path class=\"foreground\" aria-hidden=\"true\" d=\"\" pointer-events=\"none\" display=\"none\"/></g><g transform=\"translate(0,13)\"><path class=\"background\" aria-hidden=\"true\" d=\"M0,0h26.91796875v11h-26.91796875Z\" pointer-events=\"none\" opacity=\"1\"/><g><g class=\"mark-symbol role-legend-symbol\" pointer-events=\"none\"><path transform=\"translate(6,6)\" d=\"M-5,-5h10v10h-10Z\" fill=\"#f58518\" stroke-width=\"1.5\" opacity=\"1\"/></g><g class=\"mark-text role-legend-label\" pointer-events=\"none\"><text text-anchor=\"start\" transform=\"translate(16,9)\" font-family=\"sans-serif\" font-size=\"10px\" fill=\"#000\" opacity=\"1\">2</text></g></g><path class=\"foreground\" aria-hidden=\"true\" d=\"\" pointer-events=\"none\" display=\"none\"/></g><g transform=\"translate(0,26)\"><path class=\"background\" aria-hidden=\"true\" d=\"M0,0h26.91796875v11h-26.91796875Z\" pointer-events=\"none\" opacity=\"1\"/><g><g class=\"mark-symbol role-legend-symbol\" pointer-events=\"none\"><path transform=\"translate(6,6)\" d=\"M-5,-5h10v10h-10Z\" fill=\"#e45756\" stroke-width=\"1.5\" opacity=\"1\"/></g><g class=\"mark-text role-legend-label\" pointer-events=\"none\"><text text-anchor=\"start\" transform=\"translate(16,9)\" font-family=\"sans-serif\" font-size=\"10px\" fill=\"#000\" opacity=\"1\">3</text></g></g><path class=\"foreground\" aria-hidden=\"true\" d=\"\" pointer-events=\"none\" display=\"none\"/></g><g transform=\"translate(0,39)\"><path class=\"background\" aria-hidden=\"true\" d=\"M0,0h26.91796875v11h-26.91796875Z\" pointer-events=\"none\" opacity=\"1\"/><g><g class=\"mark-symbol role-legend-symbol\" pointer-events=\"none\"><path transform=\"translate(6,6)\" d=\"M-5,-5h10v10h-10Z\" fill=\"#72b7b2\" stroke-width=\"1.5\" opacity=\"1\"/></g><g class=\"mark-text role-legend-label\" pointer-events=\"none\"><text text-anchor=\"start\" transform=\"translate(16,9)\" font-family=\"sans-serif\" font-size=\"10px\" fill=\"#000\" opacity=\"1\">4</text></g></g><path class=\"foreground\" aria-hidden=\"true\" d=\"\" pointer-events=\"none\" display=\"none\"/></g><g transform=\"translate(0,52)\"><path class=\"background\" aria-hidden=\"true\" d=\"M0,0h26.91796875v11h-26.91796875Z\" pointer-events=\"none\" opacity=\"1\"/><g><g class=\"mark-symbol role-legend-symbol\" pointer-events=\"none\"><path transform=\"translate(6,6)\" d=\"M-5,-5h10v10h-10Z\" fill=\"#54a24b\" stroke-width=\"1.5\" opacity=\"1\"/></g><g class=\"mark-text role-legend-label\" pointer-events=\"none\"><text text-anchor=\"start\" transform=\"translate(16,9)\" font-family=\"sans-serif\" font-size=\"10px\" fill=\"#000\" opacity=\"1\">5</text></g></g><path class=\"foreground\" aria-hidden=\"true\" d=\"\" pointer-events=\"none\" display=\"none\"/></g><g transform=\"translate(0,65)\"><path class=\"background\" aria-hidden=\"true\" d=\"M0,0h26.91796875v11h-26.91796875Z\" pointer-events=\"none\" opacity=\"1\"/><g><g class=\"mark-symbol role-legend-symbol\" pointer-events=\"none\"><path transform=\"translate(6,6)\" d=\"M-5,-5h10v10h-10Z\" fill=\"#eeca3b\" stroke-width=\"1.5\" opacity=\"1\"/></g><g class=\"mark-text role-legend-label\" pointer-events=\"none\"><text text-anchor=\"start\" transform=\"translate(16,9)\" font-family=\"sans-serif\" font-size=\"10px\" fill=\"#000\" opacity=\"1\">6</text></g></g><path class=\"foreground\" aria-hidden=\"true\" d=\"\" pointer-events=\"none\" display=\"none\"/></g><g transform=\"translate(0,78)\"><path class=\"background\" aria-hidden=\"true\" d=\"M0,0h26.91796875v11h-26.91796875Z\" pointer-events=\"none\" opacity=\"1\"/><g><g class=\"mark-symbol role-legend-symbol\" pointer-events=\"none\"><path transform=\"translate(6,6)\" d=\"M-5,-5h10v10h-10Z\" fill=\"#b279a2\" stroke-width=\"1.5\" opacity=\"1\"/></g><g class=\"mark-text role-legend-label\" pointer-events=\"none\"><text text-anchor=\"start\" transform=\"translate(16,9)\" font-family=\"sans-serif\" font-size=\"10px\" fill=\"#000\" opacity=\"1\">7</text></g></g><path class=\"foreground\" aria-hidden=\"true\" d=\"\" pointer-events=\"none\" display=\"none\"/></g><g transform=\"translate(0,91)\"><path class=\"background\" aria-hidden=\"true\" d=\"M0,0h26.91796875v11h-26.91796875Z\" pointer-events=\"none\" opacity=\"1\"/><g><g class=\"mark-symbol role-legend-symbol\" pointer-events=\"none\"><path transform=\"translate(6,6)\" d=\"M-5,-5h10v10h-10Z\" fill=\"#ff9da6\" stroke-width=\"1.5\" opacity=\"1\"/></g><g class=\"mark-text role-legend-label\" pointer-events=\"none\"><text text-anchor=\"start\" transform=\"translate(16,9)\" font-family=\"sans-serif\" font-size=\"10px\" fill=\"#000\" opacity=\"1\">8</text></g></g><path class=\"foreground\" aria-hidden=\"true\" d=\"\" pointer-events=\"none\" display=\"none\"/></g><g transform=\"translate(0,104)\"><path class=\"background\" aria-hidden=\"true\" d=\"M0,0h26.91796875v11h-26.91796875Z\" pointer-events=\"none\" opacity=\"1\"/><g><g class=\"mark-symbol role-legend-symbol\" pointer-events=\"none\"><path transform=\"translate(6,6)\" d=\"M-5,-5h10v10h-10Z\" fill=\"#9d755d\" stroke-width=\"1.5\" opacity=\"1\"/></g><g class=\"mark-text role-legend-label\" pointer-events=\"none\"><text text-anchor=\"start\" transform=\"translate(16,9)\" font-family=\"sans-serif\" font-size=\"10px\" fill=\"#000\" opacity=\"1\">9</text></g></g><path class=\"foreground\" aria-hidden=\"true\" d=\"\" pointer-events=\"none\" display=\"none\"/></g><g transform=\"translate(0,117)\"><path class=\"background\" aria-hidden=\"true\" d=\"M0,0h26.91796875v11h-26.91796875Z\" pointer-events=\"none\" opacity=\"1\"/><g><g class=\"mark-symbol role-legend-symbol\" pointer-events=\"none\"><path transform=\"translate(6,6)\" d=\"M-5,-5h10v10h-10Z\" fill=\"#bab0ac\" stroke-width=\"1.5\" opacity=\"1\"/></g><g class=\"mark-text role-legend-label\" pointer-events=\"none\"><text text-anchor=\"start\" transform=\"translate(16,9)\" font-family=\"sans-serif\" font-size=\"10px\" fill=\"#000\" opacity=\"1\">10</text></g></g><path class=\"foreground\" aria-hidden=\"true\" d=\"\" pointer-events=\"none\" display=\"none\"/></g><g transform=\"translate(0,130)\"><path class=\"background\" aria-hidden=\"true\" d=\"M0,0h26.91796875v11h-26.91796875Z\" pointer-events=\"none\" opacity=\"1\"/><g><g class=\"mark-symbol role-legend-symbol\" pointer-events=\"none\"><path transform=\"translate(6,6)\" d=\"M-5,-5h10v10h-10Z\" fill=\"#4c78a8\" stroke-width=\"1.5\" opacity=\"1\"/></g><g class=\"mark-text role-legend-label\" pointer-events=\"none\"><text text-anchor=\"start\" transform=\"translate(16,9)\" font-family=\"sans-serif\" font-size=\"10px\" fill=\"#000\" opacity=\"1\">11</text></g></g><path class=\"foreground\" aria-hidden=\"true\" d=\"\" pointer-events=\"none\" display=\"none\"/></g><g transform=\"translate(0,143)\"><path class=\"background\" aria-hidden=\"true\" d=\"M0,0h26.91796875v11h-26.91796875Z\" pointer-events=\"none\" opacity=\"1\"/><g><g class=\"mark-symbol role-legend-symbol\" pointer-events=\"none\"><path transform=\"translate(6,6)\" d=\"M-5,-5h10v10h-10Z\" fill=\"#f58518\" stroke-width=\"1.5\" opacity=\"1\"/></g><g class=\"mark-text role-legend-label\" pointer-events=\"none\"><text text-anchor=\"start\" transform=\"translate(16,9)\" font-family=\"sans-serif\" font-size=\"10px\" fill=\"#000\" opacity=\"1\">12</text></g></g><path class=\"foreground\" aria-hidden=\"true\" d=\"\" pointer-events=\"none\" display=\"none\"/></g><g transform=\"translate(0,156)\"><path class=\"background\" aria-hidden=\"true\" d=\"M0,0h26.91796875v11h-26.91796875Z\" pointer-events=\"none\" opacity=\"1\"/><g><g class=\"mark-symbol role-legend-symbol\" pointer-events=\"none\"><path transform=\"translate(6,6)\" d=\"M-5,-5h10v10h-10Z\" fill=\"#e45756\" stroke-width=\"1.5\" opacity=\"1\"/></g><g class=\"mark-text role-legend-label\" pointer-events=\"none\"><text text-anchor=\"start\" transform=\"translate(16,9)\" font-family=\"sans-serif\" font-size=\"10px\" fill=\"#000\" opacity=\"1\">13</text></g></g><path class=\"foreground\" aria-hidden=\"true\" d=\"\" pointer-events=\"none\" display=\"none\"/></g><g transform=\"translate(0,169)\"><path class=\"background\" aria-hidden=\"true\" d=\"M0,0h26.91796875v11h-26.91796875Z\" pointer-events=\"none\" opacity=\"1\"/><g><g class=\"mark-symbol role-legend-symbol\" pointer-events=\"none\"><path transform=\"translate(6,6)\" d=\"M-5,-5h10v10h-10Z\" fill=\"#72b7b2\" stroke-width=\"1.5\" opacity=\"1\"/></g><g class=\"mark-text role-legend-label\" pointer-events=\"none\"><text text-anchor=\"start\" transform=\"translate(16,9)\" font-family=\"sans-serif\" font-size=\"10px\" fill=\"#000\" opacity=\"1\">14</text></g></g><path class=\"foreground\" aria-hidden=\"true\" d=\"\" pointer-events=\"none\" display=\"none\"/></g><g transform=\"translate(0,182)\"><path class=\"background\" aria-hidden=\"true\" d=\"M0,0h26.91796875v11h-26.91796875Z\" pointer-events=\"none\" opacity=\"1\"/><g><g class=\"mark-symbol role-legend-symbol\" pointer-events=\"none\"><path transform=\"translate(6,6)\" d=\"M-5,-5h10v10h-10Z\" fill=\"#54a24b\" stroke-width=\"1.5\" opacity=\"1\"/></g><g class=\"mark-text role-legend-label\" pointer-events=\"none\"><text text-anchor=\"start\" transform=\"translate(16,9)\" font-family=\"sans-serif\" font-size=\"10px\" fill=\"#000\" opacity=\"1\">15</text></g></g><path class=\"foreground\" aria-hidden=\"true\" d=\"\" pointer-events=\"none\" display=\"none\"/></g><g transform=\"translate(0,195)\"><path class=\"background\" aria-hidden=\"true\" d=\"M0,0h26.91796875v11h-26.91796875Z\" pointer-events=\"none\" opacity=\"1\"/><g><g class=\"mark-symbol role-legend-symbol\" pointer-events=\"none\"><path transform=\"translate(6,6)\" d=\"M-5,-5h10v10h-10Z\" fill=\"#eeca3b\" stroke-width=\"1.5\" opacity=\"1\"/></g><g class=\"mark-text role-legend-label\" pointer-events=\"none\"><text text-anchor=\"start\" transform=\"translate(16,9)\" font-family=\"sans-serif\" font-size=\"10px\" fill=\"#000\" opacity=\"1\">16</text></g></g><path class=\"foreground\" aria-hidden=\"true\" d=\"\" pointer-events=\"none\" display=\"none\"/></g><g transform=\"translate(0,208)\"><path class=\"background\" aria-hidden=\"true\" d=\"M0,0h26.91796875v11h-26.91796875Z\" pointer-events=\"none\" opacity=\"1\"/><g><g class=\"mark-symbol role-legend-symbol\" pointer-events=\"none\"><path transform=\"translate(6,6)\" d=\"M-5,-5h10v10h-10Z\" fill=\"#b279a2\" stroke-width=\"1.5\" opacity=\"1\"/></g><g class=\"mark-text role-legend-label\" pointer-events=\"none\"><text text-anchor=\"start\" transform=\"translate(16,9)\" font-family=\"sans-serif\" font-size=\"10px\" fill=\"#000\" opacity=\"1\">17</text></g></g><path class=\"foreground\" aria-hidden=\"true\" d=\"\" pointer-events=\"none\" display=\"none\"/></g><g transform=\"translate(0,221)\"><path class=\"background\" aria-hidden=\"true\" d=\"M0,0h26.91796875v11h-26.91796875Z\" pointer-events=\"none\" opacity=\"1\"/><g><g class=\"mark-symbol role-legend-symbol\" pointer-events=\"none\"><path transform=\"translate(6,6)\" d=\"M-5,-5h10v10h-10Z\" fill=\"#ff9da6\" stroke-width=\"1.5\" opacity=\"1\"/></g><g class=\"mark-text role-legend-label\" pointer-events=\"none\"><text text-anchor=\"start\" transform=\"translate(16,9)\" font-family=\"sans-serif\" font-size=\"10px\" fill=\"#000\" opacity=\"1\">18</text></g></g><path class=\"foreground\" aria-hidden=\"true\" d=\"\" pointer-events=\"none\" display=\"none\"/></g><g transform=\"translate(0,234)\"><path class=\"background\" aria-hidden=\"true\" d=\"M0,0h26.91796875v11h-26.91796875Z\" pointer-events=\"none\" opacity=\"1\"/><g><g class=\"mark-symbol role-legend-symbol\" pointer-events=\"none\"><path transform=\"translate(6,6)\" d=\"M-5,-5h10v10h-10Z\" fill=\"#9d755d\" stroke-width=\"1.5\" opacity=\"1\"/></g><g class=\"mark-text role-legend-label\" pointer-events=\"none\"><text text-anchor=\"start\" transform=\"translate(16,9)\" font-family=\"sans-serif\" font-size=\"10px\" fill=\"#000\" opacity=\"1\">19</text></g></g><path class=\"foreground\" aria-hidden=\"true\" d=\"\" pointer-events=\"none\" display=\"none\"/></g><g transform=\"translate(0,247)\"><path class=\"background\" aria-hidden=\"true\" d=\"M0,0h26.91796875v11h-26.91796875Z\" pointer-events=\"none\" opacity=\"1\"/><g><g class=\"mark-symbol role-legend-symbol\" pointer-events=\"none\"><path transform=\"translate(6,6)\" d=\"M-5,-5h10v10h-10Z\" fill=\"#bab0ac\" stroke-width=\"1.5\" opacity=\"1\"/></g><g class=\"mark-text role-legend-label\" pointer-events=\"none\"><text text-anchor=\"start\" transform=\"translate(16,9)\" font-family=\"sans-serif\" font-size=\"10px\" fill=\"#000\" opacity=\"1\">20</text></g></g><path class=\"foreground\" aria-hidden=\"true\" d=\"\" pointer-events=\"none\" display=\"none\"/></g><g transform=\"translate(0,260)\"><path class=\"background\" aria-hidden=\"true\" d=\"M0,0h26.91796875v11h-26.91796875Z\" pointer-events=\"none\" opacity=\"1\"/><g><g class=\"mark-symbol role-legend-symbol\" pointer-events=\"none\"><path transform=\"translate(6,6)\" d=\"M-5,-5h10v10h-10Z\" fill=\"#4c78a8\" stroke-width=\"1.5\" opacity=\"1\"/></g><g class=\"mark-text role-legend-label\" pointer-events=\"none\"><text text-anchor=\"start\" transform=\"translate(16,9)\" font-family=\"sans-serif\" font-size=\"10px\" fill=\"#000\" opacity=\"1\">21</text></g></g><path class=\"foreground\" aria-hidden=\"true\" d=\"\" pointer-events=\"none\" display=\"none\"/></g><g transform=\"translate(0,273)\"><path class=\"background\" aria-hidden=\"true\" d=\"M0,0h26.91796875v11h-26.91796875Z\" pointer-events=\"none\" opacity=\"1\"/><g><g class=\"mark-symbol role-legend-symbol\" pointer-events=\"none\"><path transform=\"translate(6,6)\" d=\"M-5,-5h10v10h-10Z\" fill=\"#f58518\" stroke-width=\"1.5\" opacity=\"1\"/></g><g class=\"mark-text role-legend-label\" pointer-events=\"none\"><text text-anchor=\"start\" transform=\"translate(16,9)\" font-family=\"sans-serif\" font-size=\"10px\" fill=\"#000\" opacity=\"1\">22</text></g></g><path class=\"foreground\" aria-hidden=\"true\" d=\"\" pointer-events=\"none\" display=\"none\"/></g><g transform=\"translate(0,286)\"><path class=\"background\" aria-hidden=\"true\" d=\"M0,0h26.91796875v11h-26.91796875Z\" pointer-events=\"none\" opacity=\"1\"/><g><g class=\"mark-symbol role-legend-symbol\" pointer-events=\"none\"><path transform=\"translate(6,6)\" d=\"M-5,-5h10v10h-10Z\" fill=\"#e45756\" stroke-width=\"1.5\" opacity=\"1\"/></g><g class=\"mark-text role-legend-label\" pointer-events=\"none\"><text text-anchor=\"start\" transform=\"translate(16,9)\" font-family=\"sans-serif\" font-size=\"10px\" fill=\"#000\" opacity=\"1\">23</text></g></g><path class=\"foreground\" aria-hidden=\"true\" d=\"\" pointer-events=\"none\" display=\"none\"/></g><g transform=\"translate(0,299)\"><path class=\"background\" aria-hidden=\"true\" d=\"M0,0h26.91796875v11h-26.91796875Z\" pointer-events=\"none\" opacity=\"1\"/><g><g class=\"mark-symbol role-legend-symbol\" pointer-events=\"none\"><path transform=\"translate(6,6)\" d=\"M-5,-5h10v10h-10Z\" fill=\"#72b7b2\" stroke-width=\"1.5\" opacity=\"1\"/></g><g class=\"mark-text role-legend-label\" pointer-events=\"none\"><text text-anchor=\"start\" transform=\"translate(16,9)\" font-family=\"sans-serif\" font-size=\"10px\" fill=\"#000\" opacity=\"1\">24</text></g></g><path class=\"foreground\" aria-hidden=\"true\" d=\"\" pointer-events=\"none\" display=\"none\"/></g><g transform=\"translate(0,312)\"><path class=\"background\" aria-hidden=\"true\" d=\"M0,0h26.91796875v11h-26.91796875Z\" pointer-events=\"none\" opacity=\"1\"/><g><g class=\"mark-symbol role-legend-symbol\" pointer-events=\"none\"><path transform=\"translate(6,6)\" d=\"M-5,-5h10v10h-10Z\" fill=\"#54a24b\" stroke-width=\"1.5\" opacity=\"1\"/></g><g class=\"mark-text role-legend-label\" pointer-events=\"none\"><text text-anchor=\"start\" transform=\"translate(16,9)\" font-family=\"sans-serif\" font-size=\"10px\" fill=\"#000\" opacity=\"1\">25</text></g></g><path class=\"foreground\" aria-hidden=\"true\" d=\"\" pointer-events=\"none\" display=\"none\"/></g><g transform=\"translate(0,325)\"><path class=\"background\" aria-hidden=\"true\" d=\"M0,0h26.91796875v11h-26.91796875Z\" pointer-events=\"none\" opacity=\"1\"/><g><g class=\"mark-symbol role-legend-symbol\" pointer-events=\"none\"><path transform=\"translate(6,6)\" d=\"M-5,-5h10v10h-10Z\" fill=\"#eeca3b\" stroke-width=\"1.5\" opacity=\"1\"/></g><g class=\"mark-text role-legend-label\" pointer-events=\"none\"><text text-anchor=\"start\" transform=\"translate(16,9)\" font-family=\"sans-serif\" font-size=\"10px\" fill=\"#000\" opacity=\"1\">26</text></g></g><path class=\"foreground\" aria-hidden=\"true\" d=\"\" pointer-events=\"none\" display=\"none\"/></g><g transform=\"translate(0,338)\"><path class=\"background\" aria-hidden=\"true\" d=\"M0,0h26.91796875v11h-26.91796875Z\" pointer-events=\"none\" opacity=\"1\"/><g><g class=\"mark-symbol role-legend-symbol\" pointer-events=\"none\"><path transform=\"translate(6,6)\" d=\"M-5,-5h10v10h-10Z\" fill=\"#b279a2\" stroke-width=\"1.5\" opacity=\"1\"/></g><g class=\"mark-text role-legend-label\" pointer-events=\"none\"><text text-anchor=\"start\" transform=\"translate(16,9)\" font-family=\"sans-serif\" font-size=\"10px\" fill=\"#000\" opacity=\"1\">27</text></g></g><path class=\"foreground\" aria-hidden=\"true\" d=\"\" pointer-events=\"none\" display=\"none\"/></g><g transform=\"translate(0,351)\"><path class=\"background\" aria-hidden=\"true\" d=\"M0,0h26.91796875v11h-26.91796875Z\" pointer-events=\"none\" opacity=\"1\"/><g><g class=\"mark-symbol role-legend-symbol\" pointer-events=\"none\"><path transform=\"translate(6,6)\" d=\"M-5,-5h10v10h-10Z\" fill=\"#ff9da6\" stroke-width=\"1.5\" opacity=\"1\"/></g><g class=\"mark-text role-legend-label\" pointer-events=\"none\"><text text-anchor=\"start\" transform=\"translate(16,9)\" font-family=\"sans-serif\" font-size=\"10px\" fill=\"#000\" opacity=\"1\">28</text></g></g><path class=\"foreground\" aria-hidden=\"true\" d=\"\" pointer-events=\"none\" display=\"none\"/></g><g transform=\"translate(0,364)\"><path class=\"background\" aria-hidden=\"true\" d=\"M0,0h26.91796875v11h-26.91796875Z\" pointer-events=\"none\" opacity=\"1\"/><g><g class=\"mark-symbol role-legend-symbol\" pointer-events=\"none\"><path transform=\"translate(6,6)\" d=\"M-5,-5h10v10h-10Z\" fill=\"#9d755d\" stroke-width=\"1.5\" opacity=\"1\"/></g><g class=\"mark-text role-legend-label\" pointer-events=\"none\"><text text-anchor=\"start\" transform=\"translate(16,9)\" font-family=\"sans-serif\" font-size=\"10px\" fill=\"#000\" opacity=\"1\">29</text></g></g><path class=\"foreground\" aria-hidden=\"true\" d=\"\" pointer-events=\"none\" display=\"none\"/></g></g></g><path class=\"foreground\" aria-hidden=\"true\" d=\"\" pointer-events=\"none\" display=\"none\"/></g></g><g class=\"mark-text role-legend-title\" pointer-events=\"none\"><text text-anchor=\"start\" transform=\"translate(0,9)\" font-family=\"sans-serif\" font-size=\"11px\" font-weight=\"bold\" fill=\"#000\" opacity=\"1\">order</text></g></g><path class=\"foreground\" aria-hidden=\"true\" d=\"\" pointer-events=\"none\" display=\"none\"/></g></g></g><path class=\"foreground\" aria-hidden=\"true\" d=\"\" display=\"none\"/></g></g></g></svg>"
      ],
      "text/plain": [
       "@vlplot(\n",
       "    layer=[\n",
       "        {\n",
       "            mark=\"bar\",\n",
       "            encoding={\n",
       "                y={\n",
       "                    field=\"job\",\n",
       "                    type=\"nominal\"\n",
       "                },\n",
       "                x={\n",
       "                    field=\"start\"\n",
       "                },\n",
       "                x2={\n",
       "                    field=\"stop\"\n",
       "                },\n",
       "                color={\n",
       "                    field=\"order\",\n",
       "                    type=\"nominal\"\n",
       "                }\n",
       "            }\n",
       "        },\n",
       "        {\n",
       "            mark={\n",
       "                strokeDash=[\n",
       "                    2,\n",
       "                    2\n",
       "                ],\n",
       "                size=2,\n",
       "                type=\"rule\"\n",
       "            },\n",
       "            encoding={\n",
       "                x={\n",
       "                    datum=35\n",
       "                }\n",
       "            }\n",
       "        }\n",
       "    ],\n",
       "    data={\n",
       "        values=...\n",
       "    }\n",
       ")"
      ]
     },
     "execution_count": 29,
     "metadata": {},
     "output_type": "execute_result"
    }
   ],
   "source": [
    "starts = state_at_time_t(starts_T, 35)\n",
    "finishes = state_at_time_t(finish_T, 35)\n",
    "O = newdata.Order\n",
    "create_dynamic_gantt_chart(starts, finishes, I, O, 35)"
   ]
  },
  {
   "cell_type": "code",
   "execution_count": 19,
   "id": "999de308-6b13-4b3c-b407-86177dd48b66",
   "metadata": {},
   "outputs": [
    {
     "data": {
      "text/plain": [
       "103-element Vector{Pair{Int64, Vector{Float64}}}:\n",
       "   1 => [0.0, 0.0, 0.0, 2.9916245908202366, 2.9916245908202366, 0.0, 0.0, 0.0, 0.0, 0.0  …  0.0, 0.0, 0.0, 0.0, 0.0, 0.0, 0.0, 0.0, 0.0, 0.0]\n",
       "   2 => [0.0, 0.0, 0.0, 0.0, 0.0, 1.9980029374240638, 1.9980029374240638, 0.0, 0.0, 0.0  …  0.0, 0.0, 0.0, 0.0, 0.0, 0.0, 0.0, 0.0, 0.0, 0.0]\n",
       "   3 => [0.0, 0.0, 0.0, 0.0, 0.0, 0.0, 0.0, 0.28889181823955523, 0.28889181823955523, 0.0  …  0.0, 0.0, 0.0, 0.0, 0.0, 0.0, 0.0, 0.0, 0.0, 0.0]\n",
       "   4 => [0.0, 0.0, 0.0, -1.215819979450425e-13, 2.032425981636328, 2.032425981636328, 2.032425981636053, 2.0324259816361745, -1.8319000476553412e-13, -8.599911488666146e-14  …  0.0, 0.0, 0.0, 0.0, 0.0, 0.0, 0.0, 0.0, 0.0, 0.0]\n",
       "   5 => [0.0, 0.0, 0.0, 0.0, 0.0, 0.0, 0.0, 0.0, 4.458474751765992, 0.0  …  0.0, 0.0, 0.0, 0.0, 0.0, 0.0, 0.0, 0.0, 0.0, 0.0]\n",
       "   6 => [0.0, 0.0, 0.0, 0.0, 0.0, 0.0, 0.0, 0.0, 0.0, 0.351086024826486  …  0.0, 0.0, 0.0, 0.0, 0.0, 0.0, 0.0, 0.0, 0.0, 0.0]\n",
       "   7 => [0.0, 0.0, 0.0, 0.0, 0.0, 0.0, 0.0, 0.0, 0.0, 0.0  …  0.0, 0.0, 0.0, 0.0, 0.0, 0.0, 0.0, 0.0, 0.0, 0.0]\n",
       "   8 => [0.0, 0.0, 0.0, 0.0, 0.0, 0.0, 0.0, 0.0, 0.0, 0.0  …  0.0, 0.0, 0.0, 0.0, 0.0, 0.0, 0.0, 0.0, 0.0, 0.0]\n",
       "   9 => [0.0, 0.0, 0.0, 0.0, 0.0, 0.0, 0.0, 0.0, 0.0, 0.0  …  0.0, 0.0, 0.0, 0.0, 0.0, 0.0, 0.0, 0.0, 0.0, 0.0]\n",
       "  10 => [0.0, 0.0, 2.494227587710535, 2.494227587710535, 0.0, 0.0, 0.0, 0.0, 0.0, 0.0  …  0.0, 0.0, 0.0, 0.0, 0.0, 0.0, 0.0, 0.0, 0.0, 0.0]\n",
       "  11 => [0.0, 0.0, 0.0, 0.0, 2.3525156085443557, 2.3525156085443557, 2.3525156085443557, 2.3525156085443557, 2.3525156085443557, 0.0  …  0.0, 0.0, 0.0, 0.0, 0.0, 0.0, 0.0, 0.0, 0.0, 0.0]\n",
       "  12 => [0.0, 0.0, 0.0, 0.0, 0.0, 0.0, 0.0, 0.0, 0.0, 0.30310636540391983  …  0.0, 0.0, 0.0, 0.0, 0.0, 0.0, 0.0, 0.0, 0.0, 0.0]\n",
       "  13 => [3.66488705145738, 3.66488705145738, 0.0, 0.0, 0.0, 0.0, 0.0, 0.0, 0.0, 0.0  …  0.0, 0.0, 0.0, 0.0, 0.0, 0.0, 0.0, 0.0, 0.0, 0.0]\n",
       "     ⋮\n",
       "  92 => [0.0, 0.0, 0.0, 0.0, 0.0, 0.0, 0.0, 0.0, 0.0, 0.0  …  0.0, 0.0, 0.0, 0.0, 0.0, 0.0, 0.0, 0.0, 0.0, 0.0]\n",
       "  93 => [0.0, 0.0, 0.0, 0.0, 0.0, 0.0, 0.0, 0.0, 0.0, 0.0  …  0.0, 0.0, 0.0, 0.0, 0.0, 0.0, 0.0, 0.0, 0.0, 0.0]\n",
       "  94 => [0.0, 0.0, 0.0, 0.0, 0.0, 0.0, 0.0, 0.0, 0.0, 0.0  …  0.0, 0.0, 0.0, 0.0, 0.0, 0.0, 0.0, 0.0, 0.0, 0.0]\n",
       "  95 => [0.0, 0.0, 0.0, 0.0, 0.0, 0.0, 0.0, 0.0, 0.0, 0.0  …  0.0, 0.0, 0.0, 0.0, 0.0, 0.0, 0.0, 0.0, 0.0, 0.0]\n",
       "  96 => [0.0, 0.0, 0.0, 0.0, 0.0, 0.0, 0.0, 0.0, 0.0, 0.0  …  0.0, 0.0, 0.0, 0.0, 0.0, 0.0, 0.0, 0.0, 0.0, 0.0]\n",
       "  97 => [0.0, 0.0, 0.0, 0.0, 0.0, 0.0, 0.0, 0.0, 0.0, 0.0  …  0.0, 0.0, 0.0, 0.0, 0.0, 0.0, 0.0, 0.0, 0.0, 0.0]\n",
       "  98 => [0.0, 0.0, 0.0, 0.0, 0.0, 0.0, 0.0, 0.0, 0.0, 0.0  …  0.0, 0.0, 0.0, 0.0, 0.0, 0.0, 0.0, 0.0, 0.0, 0.0]\n",
       "  99 => [0.0, 0.0, 0.0, 0.0, 0.0, 0.0, 0.0, 0.0, 0.0, 0.0  …  0.0, 0.0, 0.0, 0.0, 0.0, 0.0, 0.0, 0.0, 0.0, 0.0]\n",
       " 100 => [0.0, 0.0, 0.0, 0.0, 0.0, 0.0, 0.0, 0.0, 0.0, 0.0  …  0.0, 0.0, 0.0, 0.0, 0.0, 0.0, 0.0, 0.0, 0.0, 0.0]\n",
       " 101 => [0.0, 0.0, 0.0, 0.0, 0.0, 0.0, 0.0, 0.0, 0.0, 0.0  …  0.0, 0.0, 0.0, 0.0, 0.0, 0.0, 0.0, 0.0, 0.0, 0.0]\n",
       " 102 => [0.0, 0.0, 0.0, 0.0, 0.0, 0.0, 0.0, 0.0, 0.0, 0.0  …  0.0, 0.0, 0.0, 0.0, 0.0, 0.0, 0.0, 0.0, 0.0, 0.0]\n",
       " 103 => [0.0, 0.0, 0.0, 0.0, 0.0, 0.0, 0.0, 0.0, 0.0, 0.0  …  0.0, 0.0, 0.0, 0.0, 0.0, 0.0, 0.0, 0.0, 0.0, 0.0]"
      ]
     },
     "execution_count": 19,
     "metadata": {},
     "output_type": "execute_result"
    }
   ],
   "source": [
    "#Compute complete resource load (all jobs, all timesteps)\n",
    "load = workload_t(resource_load_T, RESCHEDULING_FREQ,T_F)"
   ]
  },
  {
   "cell_type": "code",
   "execution_count": 25,
   "id": "dc56dd60-b62e-4ac2-a1fd-327463bfccc1",
   "metadata": {},
   "outputs": [
    {
     "name": "stdout",
     "output_type": "stream",
     "text": [
      "[0.0 0.0 0.0 0.0 0.4662895390187175 0.8360063018887012 1.4704690267205829 1.3896440820901546 0.28889181823955523 1.8930851302686145 1.8930851302686145 0.7917043070693075 0.7917043070693075 1.93137442087071 1.93137442087071 0.5813547619774405 1.686289016980906 1.2476742021687452 0.2698967787544174 0.729968276263622 0.6028114446744844 0.0 1.5712197052385957 1.5712197052385957 0.4330164901930441 0.6530448188878889 0.22002832869484476 0.2901092422763574 0.2901092422763574 0.6652358460488155 0.6652358460488155 1.088009895325824 1.621853192308279 0.5338432969824553 0.342833501815945 0.342833501815945 0.0 0.0 0.0 0.0 0.0 0.0 0.0 0.0 0.0 0.0 0.0 0.0 0.0 0.0 0.0 0.0 0.0 0.0 0.0 0.0 0.0 0.0 0.0 0.0 0.0 0.0 0.0 0.0 0.0 0.0 0.0 0.0 0.0 0.0 0.0 0.0 0.0 0.0 0.0 0.0 0.0 0.0 0.0 0.0 0.0 0.0 0.0 0.0 0.0 0.0 0.0 0.0 0.0 0.0 0.0 0.0 0.0 0.0 0.0 0.0 0.0 0.0 0.0 0.0 0.0 0.0 0.0 0.0 0.0 0.0 0.0 0.0 0.0 0.0 0.0 0.0 0.0 0.0 0.0 0.0 0.0 0.0 0.0 0.0 0.0 0.0 0.0 0.0 0.0 0.0 0.0 0.0 0.0 0.0]\n"
     ]
    }
   ],
   "source": [
    "n_orders = N_order #Toimiii vielä kun jokaisessa tilauksessa on sama määrä (4) työtä...\n",
    "#HUOM! Resurssit eivät tule nyt suoraan työn järjestyksestä tilauksessa!!!\n",
    "\n",
    "res_nro1 = 7 #2-7\n",
    "@assert(res_nro1 >= 2 && res_nro1 <= 7)\n",
    "jobs_res1 = subset(newdata, :Resource_idx => ByRow(x -> x == res_nro1)).Job\n",
    "vectr = Vector{Vector{Float64}}(undef, length(jobs_res1))\n",
    "j = 1\n",
    "for job in jobs_res1\n",
    "    vectr[j] = load[job][2]\n",
    "    j += 1\n",
    "end\n",
    "matriisi = vcat([vectr[i]' for i in 1:length(jobs_res1)]...)\n",
    "load_sum = sum(matriisi, dims=1)\n",
    "println(load_sum)\n",
    "#capacity = [6, 6, 6, 8, 9, 2]"
   ]
  },
  {
   "cell_type": "code",
   "execution_count": 177,
   "id": "9151b4ed-5bdb-4809-9ec8-e1a1902a24b2",
   "metadata": {},
   "outputs": [
    {
     "data": {
      "text/plain": [
       "1×6 Matrix{Float64}:\n",
       " 102.059  142.701  27.9057  114.982  61.4578  29.0902"
      ]
     },
     "execution_count": 177,
     "metadata": {},
     "output_type": "execute_result"
    }
   ],
   "source": [
    "work_contents"
   ]
  },
  {
   "cell_type": "code",
   "execution_count": 178,
   "id": "0a4c724b-83f3-45a2-bdf6-8aa81bf2c4bf",
   "metadata": {},
   "outputs": [
    {
     "data": {
      "text/plain": [
       "true"
      ]
     },
     "execution_count": 178,
     "metadata": {},
     "output_type": "execute_result"
    }
   ],
   "source": [
    "#TODO: TARKISTA ETTÄ KAIKKI RESURSSIEN KUORMIEN SUMMA == WORK CONTENTIT\n",
    "work_contents = sum(WC, dims=1)\n",
    "isapprox(work_contents[res_nro1-1], sum(load_sum))"
   ]
  },
  {
   "cell_type": "code",
   "execution_count": 4,
   "id": "48432477-eeb9-42c4-95b3-a04b58978703",
   "metadata": {},
   "outputs": [
    {
     "data": {
      "text/plain": [
       "496-element Vector{Float64}:\n",
       "  8.129703926544698\n",
       "  1.7966583062413881\n",
       "  3.6640604415379543\n",
       "  5.6607442369420795\n",
       "  6.894431319531683\n",
       "  4.42703328816712\n",
       "  2.7612796875497234\n",
       " 10.556797495265474\n",
       "  7.911228299601271\n",
       "  6.709899709031979\n",
       " 10.984604515436136\n",
       "  3.1581016308990764\n",
       "  3.5301104412524227\n",
       "  ⋮\n",
       " 11.173673666896741\n",
       "  4.872872690850784\n",
       "  3.409143722870481\n",
       "  2.732367375188316\n",
       "  5.057013348765107\n",
       "  1.4696675638695205\n",
       "  5.528189180572673\n",
       "  8.41388812604016\n",
       "  7.382463982227955\n",
       "  5.466753525894979\n",
       "  7.216779545555905\n",
       "  9.259506983582384"
      ]
     },
     "execution_count": 4,
     "metadata": {},
     "output_type": "execute_result"
    }
   ],
   "source": [
    "#TODO: Calculate capacities based on data\n",
    "jobdurations_res2 = ((subset(newdata, :Resource_idx => ByRow(x -> x == 2))).Duration)\n",
    "\n",
    "max_dueduate_res2 = maximum((subset(newdata, :Resource_idx => ByRow(x -> x == 2))).Duedate)\n",
    "wc_res2 = ((subset(newdata, :Resource_idx => ByRow(x -> x == 2))).job_WC)\n",
    "durwc_dotprod = sum(jobdurations_res2 .* 24 .* wc_res2)\n",
    "capacityres2 = 1.1111 * durwc_dotprod /(max_dueduate_res2 * 24) \n",
    "wc_res2"
   ]
  },
  {
   "cell_type": "code",
   "execution_count": null,
   "id": "59ab8911-100e-4201-89c4-567fddd9fd7c",
   "metadata": {},
   "outputs": [],
   "source": []
  }
 ],
 "metadata": {
  "kernelspec": {
   "display_name": "Julia 1.11.0",
   "language": "julia",
   "name": "julia-1.11"
  },
  "language_info": {
   "file_extension": ".jl",
   "mimetype": "application/julia",
   "name": "julia",
   "version": "1.11.0"
  }
 },
 "nbformat": 4,
 "nbformat_minor": 5
}
